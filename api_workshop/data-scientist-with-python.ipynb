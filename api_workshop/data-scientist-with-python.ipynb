{
 "cells": [
  {
   "cell_type": "markdown",
   "metadata": {
    "slideshow": {
     "slide_type": "slide"
    }
   },
   "source": [
    "<h1 align='center'>From REST to data frame - interacting with REST APIs using Python </h1>\n",
    "\n",
    "<center><h4 align='center'>Laura Gutierrez Funderburk (@LGFunderburk) </h4></center>\n",
    "\n",
    "\n",
    "<center><img src=\"api.png\" alt=\"Drawing\" style=\"width: 400px;\"/></center>\n",
    "\n",
    "\n",
    "In this talk we will explore the Python libraries `requests`, `json`, `pandas` and `plotly` to interact with data from a REST API, format the data into a data frame and create interactive plots.\n"
   ]
  },
  {
   "cell_type": "markdown",
   "metadata": {
    "slideshow": {
     "slide_type": "slide"
    }
   },
   "source": [
    "<h2 align='center'> Overview </h2>\n",
    "\n",
    "- Introductions\n",
    "\n",
    "- What is an API?\n",
    "\n",
    "- What forms part of an API?\n",
    "\n",
    "- Why (and when) use an API?\n",
    "\n",
    "- What is REST API?\n",
    "\n",
    "- Where to find public APIs?\n",
    "\n",
    "- Time to code: the Internet Archive & Age of Empires II\n",
    "\n",
    "- Q&A"
   ]
  },
  {
   "cell_type": "markdown",
   "metadata": {
    "slideshow": {
     "slide_type": "slide"
    }
   },
   "source": [
    "<h2 align='center'> Introductions </h2>\n",
    "\n",
    "\n",
    "<center><img src=\"https://media1.giphy.com/media/j1soPQE95y0eXhMwKT/source.gif\" alt=\"Drawing\" style=\"width: 500px;\"/></center>\n",
    "\n"
   ]
  },
  {
   "cell_type": "markdown",
   "metadata": {
    "slideshow": {
     "slide_type": "slide"
    }
   },
   "source": [
    "<h2 align='center'> What is an API? </h2>\n",
    "\n",
    "An API (application programming interface) is a collection of programming code whose task is to facilitate data transmission between one software product and another. This transmission is bound to terms determined by the code.\n",
    "\n",
    "<center><img src=\"https://lh6.googleusercontent.com/_nYCLkTG8PO_Wx5-jkdIq3Wyo1PBGrh4wiincNkb5cnZijpxfzCclyxMJbNwYItS8T3Iao-Cqm5WphPy4d4Mlihszki6MBiqZA7NBwTnuFxU49ppZEZyv8v0QEEVAA9Ai3buwhG7\" alt=\"Drawing\" style=\"width: 1000px;\"/></center>\n",
    "\n",
    "<em>How API works. Source: Medium</em>\n"
   ]
  },
  {
   "cell_type": "markdown",
   "metadata": {
    "slideshow": {
     "slide_type": "subslide"
    }
   },
   "source": [
    "<h2 align='center'>What forms part of an API?</h2>\n",
    "\n",
    "APIs consist of two main components:\n",
    "\n",
    "- Technical specification: this component describes data exchange options between two actors -  request for processing and delivery protocols.\n",
    "\n",
    "- Software interface written to the specification that represents it (web browser + interface, for example)."
   ]
  },
  {
   "cell_type": "markdown",
   "metadata": {
    "slideshow": {
     "slide_type": "slide"
    }
   },
   "source": [
    "<h2 align='center'> Why (and when) use APIs? </h2>\n",
    "\n",
    "- When looking for data - there are millions of APIs online which provide access to data. \n",
    "- Data changes regularly (stock price data) - need mechanism that allows to update data as needed. CSV format can be cumbersome, takes a lot of bandwidth and it is slow.\n",
    "- You want a small subset of the data. \n",
    "- There is repeated computation involved.\n",
    "\n"
   ]
  },
  {
   "cell_type": "markdown",
   "metadata": {
    "slideshow": {
     "slide_type": "slide"
    }
   },
   "source": [
    "<h2 align='center'> What is a REST API?</h2>\n",
    "\n",
    "* A REST API (also referred to as a RESTful web service or RESTful API)  is an architectural style for an API that uses HTTP requests to access and use data (think url).\n",
    "\n",
    "* Based on representational state transfer (REST). This style and approach to communications often used in web services development.\n",
    "\n",
    "* REST uses less bandwidth $\\Rightarrow$ more suitable for efficient internet usage. \n",
    "\n",
    "* REST APIs can also be built with programming languages such as JavaScript or Python (though we won't explore how to do this in this meetup)."
   ]
  },
  {
   "cell_type": "markdown",
   "metadata": {
    "slideshow": {
     "slide_type": "slide"
    }
   },
   "source": [
    "<h2 align='center'>Commands a REST API uses</h2>\n",
    "\n",
    "A REST API uses commands to obtain resources. The state of a resource at any given timestamp is called a resource representation. A REST API uses existing HTTP methodologies defined by the RFC 2616 protocol, such as:\n",
    "\n",
    "* GET: retrieve a resource.\n",
    "* PUT: change the state of or update a resource, which can be an object, file or block.\n",
    "* POST: create that resource.\n",
    "* DELETE to remove it.\n",
    "\n",
    "<b>In this meetup, we will focus on using GET.</b>"
   ]
  },
  {
   "cell_type": "markdown",
   "metadata": {
    "slideshow": {
     "slide_type": "slide"
    }
   },
   "source": [
    "<h2 align='center'>API Status Codes</h2>\n",
    "\n",
    "Whenever we make a request to a web server, we get status codes. These codes encode information on the success of a request. Here are some codes that are relevant to GET requests:\n",
    "\n",
    "* 200: get request was successful. \n",
    "* 301: redirection to a different endpoint (new domain name, new endpoint name). \n",
    "* 400: a bad request (not sending right data, errors in request).\n",
    "* 401: Many APIs require login credentials, this code indicates right credentials have not been sent. \n",
    "* 403: Forbidden: you don’t have the right permissions to see it.\n",
    "* 404: The resource you tried to access wasn’t found on the server.\n",
    "* 503: The server is not ready to handle the request."
   ]
  },
  {
   "cell_type": "markdown",
   "metadata": {
    "slideshow": {
     "slide_type": "slide"
    }
   },
   "source": [
    "<h2 align='center'> Where to find public (REST) APIs? </h2>\n",
    "\n",
    "Many cities worldwide have a portal with open data - i.e. look up Ireland open data.\n",
    "\n",
    "GitHub has compiled a list of public APIs https://github.com/public-apis/public-apis"
   ]
  },
  {
   "cell_type": "markdown",
   "metadata": {
    "slideshow": {
     "slide_type": "slide"
    }
   },
   "source": [
    "<h2 align='center'>Code time</h2>\n",
    "\n",
    "We will explore two APIs from that list: the Internet Archive (PHP based) and an API hosted using Heroku that contains data on Age of Empires II. \n",
    "\n",
    "Both can be accessed via a URL, however \"queries\" have a different structure on each. You should expect you will need to spend time getting familiar with a database's API documentation before you can get started running queries. This holds true for REST APIs as well. "
   ]
  },
  {
   "cell_type": "markdown",
   "metadata": {
    "slideshow": {
     "slide_type": "slide"
    }
   },
   "source": [
    "<h2 align='center'>Python libraries we will use</h2>"
   ]
  },
  {
   "cell_type": "code",
   "execution_count": null,
   "metadata": {
    "slideshow": {
     "slide_type": "subslide"
    }
   },
   "outputs": [],
   "source": [
    "import requests\n",
    "from requests.exceptions import HTTPError\n",
    "import json\n",
    "import pandas as pd\n",
    "import plotly.express as px"
   ]
  },
  {
   "cell_type": "markdown",
   "metadata": {
    "slideshow": {
     "slide_type": "slide"
    }
   },
   "source": [
    "<h2 align='center'>Our query-performing function</h2>"
   ]
  },
  {
   "cell_type": "code",
   "execution_count": null,
   "metadata": {
    "slideshow": {
     "slide_type": "subslide"
    }
   },
   "outputs": [],
   "source": [
    "def query_entry_pt(url):\n",
    "    \"\"\"This function takes as input a URL entry point and returns the complete JSON response in a REST API\n",
    "    \n",
    "    Input:\n",
    "        - url(string): complete url (or entry point) pointing at server \n",
    "        \n",
    "    Output:\n",
    "        - jsonResponse(json object): JSON response associated wtih query\n",
    "    \n",
    "    \"\"\"\n",
    "    try:\n",
    "        # Using GET command \n",
    "        response = requests.get(url)\n",
    "        # Raise issues if response is different from 200\n",
    "        response.raise_for_status()\n",
    "        # access JSOn content\n",
    "        jsonResponse = response.json()\n",
    "        print(\"Success!\",response)\n",
    "        return jsonResponse\n",
    "\n",
    "    except HTTPError as http_err:\n",
    "        print(f'HTTP error occurred: {http_err}')\n",
    "    except Exception as err:\n",
    "        print(f'Other error occurred: {err}')"
   ]
  },
  {
   "cell_type": "markdown",
   "metadata": {
    "slideshow": {
     "slide_type": "slide"
    }
   },
   "source": [
    "<h2 align='center'>Let's try getting information from a non-existent API</h2>"
   ]
  },
  {
   "cell_type": "code",
   "execution_count": null,
   "metadata": {
    "slideshow": {
     "slide_type": "subslide"
    }
   },
   "outputs": [],
   "source": [
    "# API that does not exist\n",
    "url_no_api = \"http://api.open-notify.org/this-api-doesnt-exist\"\n",
    "query_entry_pt(url_no_api)"
   ]
  },
  {
   "cell_type": "code",
   "execution_count": null,
   "metadata": {
    "slideshow": {
     "slide_type": "subslide"
    }
   },
   "outputs": [],
   "source": [
    "# Web page that is NOT an API\n",
    "url_no_api = \"https://en.wikipedia.org/wiki/Main_Page\"\n",
    "query_entry_pt(url_no_api)"
   ]
  },
  {
   "cell_type": "markdown",
   "metadata": {
    "slideshow": {
     "slide_type": "slide"
    }
   },
   "source": [
    "## The Internet Archive\n",
    "\n",
    "About: Internet Archive is a non-profit library of millions of free books, movies, software, music, websites, and more.\n",
    "\n",
    "Source https://archive.org/advancedsearch.php "
   ]
  },
  {
   "cell_type": "code",
   "execution_count": null,
   "metadata": {
    "slideshow": {
     "slide_type": "subslide"
    }
   },
   "outputs": [],
   "source": [
    "# API (should) but we made a mistake in the query\n",
    "url_archive='https://archive.org/services/search/v1/scrape?fields=title,month,year,downloads&q=collection%nasa'\n",
    "query_entry_pt(url_archive)"
   ]
  },
  {
   "cell_type": "code",
   "execution_count": null,
   "metadata": {
    "slideshow": {
     "slide_type": "subslide"
    }
   },
   "outputs": [],
   "source": [
    "# API returns information\n",
    "url_nasa='https://archive.org/services/search/v1/scrape?fields=title,month,year,downloads,collection&q=collection%3Anasa'\n",
    "jsonResponse_nasa=query_entry_pt(url_nasa)"
   ]
  },
  {
   "cell_type": "code",
   "execution_count": null,
   "metadata": {
    "slideshow": {
     "slide_type": "subslide"
    }
   },
   "outputs": [],
   "source": [
    "# Keys \n",
    "jsonResponse_nasa.keys()"
   ]
  },
  {
   "cell_type": "markdown",
   "metadata": {
    "slideshow": {
     "slide_type": "slide"
    }
   },
   "source": [
    "<h2 align='center'>Formatting the data using pandas</h2>"
   ]
  },
  {
   "cell_type": "code",
   "execution_count": null,
   "metadata": {
    "slideshow": {
     "slide_type": "fragment"
    }
   },
   "outputs": [],
   "source": [
    "jsonResponse_nasa"
   ]
  },
  {
   "cell_type": "markdown",
   "metadata": {
    "slideshow": {
     "slide_type": "slide"
    }
   },
   "source": [
    "<h2 align='center'>Formatting the data using pandas</h2>\n"
   ]
  },
  {
   "cell_type": "code",
   "execution_count": null,
   "metadata": {
    "slideshow": {
     "slide_type": "fragment"
    }
   },
   "outputs": [],
   "source": [
    "# Format as a data frame\n",
    "pd.json_normalize(jsonResponse_nasa)"
   ]
  },
  {
   "cell_type": "code",
   "execution_count": null,
   "metadata": {
    "slideshow": {
     "slide_type": "fragment"
    }
   },
   "outputs": [],
   "source": [
    "# Format as a data frame\n",
    "flattened_nasa = pd.json_normalize(jsonResponse_nasa,record_path='items')\n",
    "\n",
    "flattened_nasa.head()"
   ]
  },
  {
   "cell_type": "markdown",
   "metadata": {
    "slideshow": {
     "slide_type": "slide"
    }
   },
   "source": [
    "<h2 align='center'>Cleaning the data using pandas</h2>\n"
   ]
  },
  {
   "cell_type": "code",
   "execution_count": null,
   "metadata": {
    "slideshow": {
     "slide_type": "fragment"
    }
   },
   "outputs": [],
   "source": [
    "#[item for item in flattened_nasa['collection'] if 'jsc-pao-video-collection' in item]\n",
    "flattened_nasa['collection']= flattened_nasa[\"collection\"].str[0]"
   ]
  },
  {
   "cell_type": "code",
   "execution_count": null,
   "metadata": {
    "scrolled": true,
    "slideshow": {
     "slide_type": "fragment"
    }
   },
   "outputs": [],
   "source": [
    "flattened_nasa.info()"
   ]
  },
  {
   "cell_type": "markdown",
   "metadata": {
    "slideshow": {
     "slide_type": "slide"
    }
   },
   "source": [
    "<h2 align='center'>Visualizing some data using Plotly</h2>\n"
   ]
  },
  {
   "cell_type": "code",
   "execution_count": null,
   "metadata": {
    "slideshow": {
     "slide_type": "subslide"
    }
   },
   "outputs": [],
   "source": [
    "# audiocollection, nasa, jsc-pao-video-collection\n",
    "subset = flattened_nasa[flattened_nasa['collection']=='langleyresearchcentermediaarchive']\n",
    "\n",
    "px.scatter(data_frame=subset,x='year',y='downloads',hover_name='title',title='Number of times an item was visited')"
   ]
  },
  {
   "cell_type": "markdown",
   "metadata": {
    "slideshow": {
     "slide_type": "slide"
    }
   },
   "source": [
    "### Learning about McDonnell Douglas Experimental Winglets on DC 10 \n",
    "\n",
    "\n",
    "See https://archive.org/details/1981-L-12090\n",
    "\n",
    "* [May 25, 1979]: the McDonnell Douglas DC-10-10 that operated the flight, took off from runway 32R only to crash after the left engine detached. \n",
    "\n",
    "* Crash resulted in the death of 258 passengers and 13 crew members on board, in addition to two people on the ground. \n",
    "\n",
    "* This is the deadliest aviation accident to have occurred in the United States.\n",
    "\n",
    "\n",
    "----> Downloads indicates the number of times an item has been viewed, and does not reflect number of visits at any given time, only the total up to date. "
   ]
  },
  {
   "cell_type": "markdown",
   "metadata": {
    "slideshow": {
     "slide_type": "slide"
    }
   },
   "source": [
    "### Learning about the most visited video produced by NASA"
   ]
  },
  {
   "cell_type": "code",
   "execution_count": null,
   "metadata": {
    "slideshow": {
     "slide_type": "subslide"
    }
   },
   "outputs": [],
   "source": [
    "subset = flattened_nasa[flattened_nasa['collection']=='jsc-pao-video-collection']\n",
    "\n",
    "px.scatter(data_frame=subset,x='year',y='downloads',hover_name='title',title='Number of times an item was visited')"
   ]
  },
  {
   "cell_type": "code",
   "execution_count": null,
   "metadata": {
    "slideshow": {
     "slide_type": "subslide"
    }
   },
   "outputs": [],
   "source": [
    "# Video posted Feb 27, 2015\n",
    "from IPython.display import YouTubeVideo\n",
    "\n",
    "YouTubeVideo('2AwUnkrqNyw', width=800, height=300)"
   ]
  },
  {
   "cell_type": "markdown",
   "metadata": {
    "slideshow": {
     "slide_type": "slide"
    }
   },
   "source": [
    "## Different APIs are structured differently\n",
    "\n",
    "#### Refer to the documentation!\n",
    "\n"
   ]
  },
  {
   "cell_type": "markdown",
   "metadata": {
    "slideshow": {
     "slide_type": "slide"
    }
   },
   "source": [
    "## Age Of Empires II API\n",
    "\n",
    "Simple API to retrieve resources related to Age of Empires II. The base URL for retrieving the resources is /api/v1\n",
    "\n",
    "Source https://age-of-empires-2-api.herokuapp.com/docs/#/ "
   ]
  },
  {
   "cell_type": "code",
   "execution_count": null,
   "metadata": {
    "slideshow": {
     "slide_type": "subslide"
    }
   },
   "outputs": [],
   "source": [
    "# Age of Empires entry points\n",
    "entry_point = 'https://age-of-empires-2-api.herokuapp.com/api/v1/'\n",
    "aoe_civ=entry_point + 'civilizations'\n",
    "\n",
    "# Perform queries\n",
    "jsonResponse_civ=query_entry_pt(aoe_civ)\n",
    "\n",
    "# Flaten JSON response\n",
    "flattened_civ = pd.json_normalize(jsonResponse_civ,record_path='civilizations')\n",
    "\n"
   ]
  },
  {
   "cell_type": "code",
   "execution_count": null,
   "metadata": {
    "slideshow": {
     "slide_type": "subslide"
    }
   },
   "outputs": [],
   "source": [
    "print(\"Civilizations\")\n",
    "display(flattened_civ.head())"
   ]
  },
  {
   "cell_type": "markdown",
   "metadata": {
    "slideshow": {
     "slide_type": "slide"
    }
   },
   "source": [
    "## Let's take a look at technologies\n"
   ]
  },
  {
   "cell_type": "code",
   "execution_count": null,
   "metadata": {
    "slideshow": {
     "slide_type": "subslide"
    }
   },
   "outputs": [],
   "source": [
    "print(\"Technologies\")\n",
    "# Perform queries\n",
    "aoe_tech = entry_point +  'technologies'\n",
    "jsonResponse_tech=query_entry_pt(aoe_tech)\n",
    "# Normalize \n",
    "flattened_tech = pd.json_normalize(jsonResponse_tech,record_path='technologies')\n",
    "\n",
    "display(flattened_tech.head())"
   ]
  },
  {
   "cell_type": "code",
   "execution_count": null,
   "metadata": {
    "slideshow": {
     "slide_type": "subslide"
    }
   },
   "outputs": [],
   "source": [
    "px.scatter(data_frame=flattened_tech,x='build_time',y='cost.Food',color='age',hover_name='name',\n",
    "          labels={\"build_time\":\"Build time\",\"cost.Food\":\"Food cost\"},\n",
    "          title='Cost vs build time of technologies (colored by age)')"
   ]
  },
  {
   "cell_type": "code",
   "execution_count": null,
   "metadata": {
    "slideshow": {
     "slide_type": "subslide"
    }
   },
   "outputs": [],
   "source": [
    "px.scatter_3d(data_frame=flattened_tech,x='build_time',y='cost.Wood',z='cost.Food',color='age',hover_name='name',\n",
    "          labels={\"build_time\":\"Build time\",\"cost.Wood\":\"Wood cost\",\"cost.Food\":\"Food cost\"},\n",
    "          title='Cost vs build time of technologies (colored by age)')"
   ]
  },
  {
   "cell_type": "code",
   "execution_count": null,
   "metadata": {
    "slideshow": {
     "slide_type": "subslide"
    }
   },
   "outputs": [],
   "source": [
    "px.violin(data_frame=flattened_tech,x='age',y='build_time',points='all',hover_name='name',\n",
    "         labels={\"age\":\"Age\",\"build_time\":\"Build time\"}, title=\"Violin plot: Built time per age\")"
   ]
  },
  {
   "cell_type": "markdown",
   "metadata": {
    "slideshow": {
     "slide_type": "slide"
    }
   },
   "source": [
    "## Let's take a look at structures"
   ]
  },
  {
   "cell_type": "code",
   "execution_count": null,
   "metadata": {
    "slideshow": {
     "slide_type": "subslide"
    }
   },
   "outputs": [],
   "source": [
    "print(\"Structures\")\n",
    "# Perform query\n",
    "aoe_stru = entry_point + 'structures'\n",
    "jsonResponse_stru=query_entry_pt(aoe_stru)\n",
    "# Normalize \n",
    "flattened_stru = pd.json_normalize(jsonResponse_stru,record_path='structures')\n",
    "display(flattened_stru.head())"
   ]
  },
  {
   "cell_type": "code",
   "execution_count": null,
   "metadata": {
    "slideshow": {
     "slide_type": "subslide"
    }
   },
   "outputs": [],
   "source": [
    "# array(['Dark', 'Feudal', 'Castle', 'Imperial'], dtype=object)\n",
    "subset_dat = flattened_stru[flattened_stru['age']=='Dark']\n",
    "px.bar(data_frame=subset_dat,y='build_time',x='name',\n",
    "            title='Build time per age',\n",
    "       labels={\"age\":\"Age\",\"build_time\":\"total build time\"}).update_xaxes(categoryorder='total descending')"
   ]
  },
  {
   "cell_type": "code",
   "execution_count": null,
   "metadata": {
    "slideshow": {
     "slide_type": "subslide"
    }
   },
   "outputs": [],
   "source": [
    "px.box(data_frame=flattened_stru,y='hit_points',x='age',points='all',hover_name='name',\n",
    "            title='Hit points per age',labels={\"age\":\"Age\",\"hit_points\":\"Hit points\"})"
   ]
  },
  {
   "cell_type": "markdown",
   "metadata": {
    "slideshow": {
     "slide_type": "slide"
    }
   },
   "source": [
    "<h2 align='center'>What did we explore?</h2>\n",
    "\n",
    "* We learned about APIs, and in particular REST APIs - this interface allows us to interact with the data on a server, via a URL  \n",
    "\n",
    "* We learned about different status codes returned based on the response \n",
    "\n",
    "* Although REST API base their architecture on HTTP, structure of queries differs across different entry points and servers\n",
    "\n",
    "* We learned how we can use the requests library to GET data\n",
    "\n",
    "* We parsed JSON response using pandas \n",
    "\n",
    "* We visualized data using Plotly\n",
    "\n"
   ]
  },
  {
   "cell_type": "markdown",
   "metadata": {
    "slideshow": {
     "slide_type": "slide"
    }
   },
   "source": [
    "<h2 align='center'>Q & A</h2>\n",
    "\n",
    "\n",
    "<center><img src=\"https://lh6.googleusercontent.com/_nYCLkTG8PO_Wx5-jkdIq3Wyo1PBGrh4wiincNkb5cnZijpxfzCclyxMJbNwYItS8T3Iao-Cqm5WphPy4d4Mlihszki6MBiqZA7NBwTnuFxU49ppZEZyv8v0QEEVAA9Ai3buwhG7\" alt=\"Drawing\" style=\"width: 1000px;\"/></center>"
   ]
  },
  {
   "cell_type": "markdown",
   "metadata": {
    "slideshow": {
     "slide_type": "slide"
    }
   },
   "source": [
    "<h1 align='center'>Thank you! </h1>\n",
    "\n",
    "\n",
    "<center><img src=\"api.png\" alt=\"Drawing\" style=\"width: 400px;\"/> </center>\n",
    "\n",
    "<h4 align='center'>If you'd like to chat after the meetup, you can send me message on Twitter @LGFunderburk </h4>"
   ]
  }
 ],
 "metadata": {
  "celltoolbar": "Slideshow",
  "kernelspec": {
   "display_name": "Python 3",
   "language": "python",
   "name": "python3"
  },
  "language_info": {
   "codemirror_mode": {
    "name": "ipython",
    "version": 3
   },
   "file_extension": ".py",
   "mimetype": "text/x-python",
   "name": "python",
   "nbconvert_exporter": "python",
   "pygments_lexer": "ipython3",
   "version": "3.8.6"
  }
 },
 "nbformat": 4,
 "nbformat_minor": 4
}
