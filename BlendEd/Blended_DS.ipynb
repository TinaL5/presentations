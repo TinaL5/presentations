{
 "cells": [
  {
   "cell_type": "markdown",
   "metadata": {
    "slideshow": {
     "slide_type": "slide"
    }
   },
   "source": [
    "![Callysto.ca Banner](https://github.com/callysto/curriculum-notebooks/blob/master/callysto-notebook-banner-top.jpg?raw=true)\n",
    "\n",
    "<h1 align='center'>Blended Digital Ed Conference 2020</h1>\n",
    "\n",
    "<h2 align='center'> Introduction to Data Science and Big Data for Educators</h2>\n",
    "\n",
    "<h3 align='center'>Laura G. Funderburk </h3>\n",
    "\n",
    "<h5 align='center'>On Twitter: @LGFunderburk, @callysto_canada </h5>"
   ]
  },
  {
   "cell_type": "markdown",
   "metadata": {
    "slideshow": {
     "slide_type": "slide"
    }
   },
   "source": [
    "<h2 align='center'>About the Callysto Program</h2>\n",
    "\n",
    "- Provide open educational infrastructure and learning resources\n",
    "- Focus on computational thinking and data science/literacy available \n",
    "- Use Jupyter notebooks as main platform\n",
    "- Host teacher and student training workshops\n",
    "\n",
    "<h3 align='center'>Brought to you by</h3>\n",
    "\n",
    "\n",
    "| | | |\n",
    "|-|-|-|\n",
    "|<img src=\"Cybera_Logo_RBG_Colour.png\" alt=\"Drawing\" style=\"width: 300px;\"/>|<img src=\"PIMS_Logos_Web_PIMS_Logo_Colour.png\" alt=\"Drawing\" style=\"width: 400px;\"/>| <img src=\"With_Funding_Canada_Wordmark-colour_BIL-EN.png\" alt=\"Drawing\" style=\"width: 400px;\"/>|"
   ]
  },
  {
   "cell_type": "markdown",
   "metadata": {
    "slideshow": {
     "slide_type": "slide"
    }
   },
   "source": [
    "<h2 align='center'>What is a Jupyter notebook?</h2>\n",
    "\n",
    "A Jupyter notebook is an online document that can include both text and (Python) code in different “cells” or parts of the document.\n",
    "\n",
    "These documents run on Callysto Hub as well as Google Colab, IBM Watson Studio, Microsoft Azure Notebooks, and other places.\n",
    "\n",
    "Links in this slideshow (and on Callysto.ca) create copies of Jupyter notebooks in your (and your students’) Callysto Hub accounts.\n"
   ]
  },
  {
   "cell_type": "markdown",
   "metadata": {
    "slideshow": {
     "slide_type": "slide"
    }
   },
   "source": [
    "<h2 align='center'>Objectives</h2>\n",
    "\n",
    "Investigate how you can incorporate data science into your teaching in various subjects via the Callysto program.\n",
    "\n",
    "We’ll look specifically at how this can work in online asynchronous and synchronous environments.\n"
   ]
  },
  {
   "cell_type": "markdown",
   "metadata": {
    "slideshow": {
     "slide_type": "slide"
    }
   },
   "source": [
    "<h2 align='center'>Why Data Science?</h2>\n",
    "\n",
    "- The ability to process information in an analytical way is becoming increasingly important.\n",
    "\n",
    "- Educators are encouraged or expected to incorporate more coding and data analytics into their teaching. \n",
    "\n",
    "- Callysto is a free online platform designed for students in Grades 5 to 12. It is capable of engaging data visualizations, data processing, coding, and text formatting.\n",
    "\n",
    "- Data science processing skills are highly sought after. \n"
   ]
  },
  {
   "cell_type": "markdown",
   "metadata": {
    "slideshow": {
     "slide_type": "slide"
    }
   },
   "source": [
    "<h2 align='center'>What is Data?</h2>\n",
    "\n",
    "Data is a collection of information. Usually obtained (or collected) to address a specific issue. \n",
    "\n",
    "Examples of data:\n",
    "\n",
    "- Daily number of COVID-19 cases in Canada.\n",
    "- The grades of your class. \n",
    "- Census. "
   ]
  },
  {
   "cell_type": "markdown",
   "metadata": {
    "slideshow": {
     "slide_type": "slide"
    }
   },
   "source": [
    "<h2 align='center'>What is Data Science?</h2>\n",
    "\n",
    "Data science involves <b>obtaining</b> and <b>communicating</b> information from (usually large) sets of observations.\n",
    "\n",
    "It entails:\n",
    "\n",
    "1. collecting, \n",
    "2. cleaning, \n",
    "3. manipulating, \n",
    "4. visualizing, \n",
    "5. synthesizing\n",
    "\n"
   ]
  },
  {
   "cell_type": "markdown",
   "metadata": {
    "slideshow": {
     "slide_type": "subslide"
    }
   },
   "source": [
    "<h2 align='center'>What is Data Science?</h2>\n",
    "\n",
    "Data science focuses on 4 major areas:\n",
    "\n",
    "\n",
    " - <h4>Describing </h4>\n",
    "\n",
    " - <h4>Diagnosing</h4>\n",
    "\n",
    " - <h4>Predicting</h4>\n",
    "\n",
    " - <h4>Prescribing</h4>\n"
   ]
  },
  {
   "cell_type": "markdown",
   "metadata": {
    "slideshow": {
     "slide_type": "slide"
    }
   },
   "source": [
    "<h2 align='center'> Data Literacy </h2>\n",
    "\n",
    "- We used available data to look for trends\n",
    "- We used computational tools to put a number to it\n",
    "- We can argue, with data, as to the significance of that number"
   ]
  },
  {
   "cell_type": "markdown",
   "metadata": {
    "slideshow": {
     "slide_type": "slide"
    }
   },
   "source": [
    "<h2 align='center'>Callysto and Data Literacy</h2>\n",
    "\n",
    "- Visualizations of data help with analysis and storytelling. Usually includes tables and graphs\n",
    "- Providing the tools and training to access, transform, visualize, and interpret (open) data\n",
    "- Using Python\n",
    "- Popular, free, and open source programming language\n",
    "- Active contributor community to popular data science libraries\n"
   ]
  },
  {
   "cell_type": "markdown",
   "metadata": {
    "slideshow": {
     "slide_type": "slide"
    }
   },
   "source": [
    "<h2 align='center'>An example</h2>"
   ]
  },
  {
   "cell_type": "code",
   "execution_count": 5,
   "metadata": {
    "slideshow": {
     "slide_type": "fragment"
    }
   },
   "outputs": [
    {
     "data": {
      "application/vnd.plotly.v1+json": {
       "config": {
        "plotlyServerURL": "https://plot.ly"
       },
       "data": [
        {
         "hovertemplate": "x=%{x}<br>2**x=%{y}<extra></extra>",
         "legendgroup": "",
         "line": {
          "color": "#636efa",
          "dash": "solid"
         },
         "mode": "lines",
         "name": "",
         "orientation": "v",
         "showlegend": false,
         "type": "scatter",
         "x": [
          0,
          1,
          2,
          3,
          4,
          5,
          6,
          7,
          8
         ],
         "xaxis": "x",
         "y": [
          1,
          2,
          4,
          8,
          16,
          32,
          64,
          128,
          256
         ],
         "yaxis": "y"
        }
       ],
       "layout": {
        "legend": {
         "tracegroupgap": 0
        },
        "template": {
         "data": {
          "bar": [
           {
            "error_x": {
             "color": "#2a3f5f"
            },
            "error_y": {
             "color": "#2a3f5f"
            },
            "marker": {
             "line": {
              "color": "#E5ECF6",
              "width": 0.5
             }
            },
            "type": "bar"
           }
          ],
          "barpolar": [
           {
            "marker": {
             "line": {
              "color": "#E5ECF6",
              "width": 0.5
             }
            },
            "type": "barpolar"
           }
          ],
          "carpet": [
           {
            "aaxis": {
             "endlinecolor": "#2a3f5f",
             "gridcolor": "white",
             "linecolor": "white",
             "minorgridcolor": "white",
             "startlinecolor": "#2a3f5f"
            },
            "baxis": {
             "endlinecolor": "#2a3f5f",
             "gridcolor": "white",
             "linecolor": "white",
             "minorgridcolor": "white",
             "startlinecolor": "#2a3f5f"
            },
            "type": "carpet"
           }
          ],
          "choropleth": [
           {
            "colorbar": {
             "outlinewidth": 0,
             "ticks": ""
            },
            "type": "choropleth"
           }
          ],
          "contour": [
           {
            "colorbar": {
             "outlinewidth": 0,
             "ticks": ""
            },
            "colorscale": [
             [
              0,
              "#0d0887"
             ],
             [
              0.1111111111111111,
              "#46039f"
             ],
             [
              0.2222222222222222,
              "#7201a8"
             ],
             [
              0.3333333333333333,
              "#9c179e"
             ],
             [
              0.4444444444444444,
              "#bd3786"
             ],
             [
              0.5555555555555556,
              "#d8576b"
             ],
             [
              0.6666666666666666,
              "#ed7953"
             ],
             [
              0.7777777777777778,
              "#fb9f3a"
             ],
             [
              0.8888888888888888,
              "#fdca26"
             ],
             [
              1,
              "#f0f921"
             ]
            ],
            "type": "contour"
           }
          ],
          "contourcarpet": [
           {
            "colorbar": {
             "outlinewidth": 0,
             "ticks": ""
            },
            "type": "contourcarpet"
           }
          ],
          "heatmap": [
           {
            "colorbar": {
             "outlinewidth": 0,
             "ticks": ""
            },
            "colorscale": [
             [
              0,
              "#0d0887"
             ],
             [
              0.1111111111111111,
              "#46039f"
             ],
             [
              0.2222222222222222,
              "#7201a8"
             ],
             [
              0.3333333333333333,
              "#9c179e"
             ],
             [
              0.4444444444444444,
              "#bd3786"
             ],
             [
              0.5555555555555556,
              "#d8576b"
             ],
             [
              0.6666666666666666,
              "#ed7953"
             ],
             [
              0.7777777777777778,
              "#fb9f3a"
             ],
             [
              0.8888888888888888,
              "#fdca26"
             ],
             [
              1,
              "#f0f921"
             ]
            ],
            "type": "heatmap"
           }
          ],
          "heatmapgl": [
           {
            "colorbar": {
             "outlinewidth": 0,
             "ticks": ""
            },
            "colorscale": [
             [
              0,
              "#0d0887"
             ],
             [
              0.1111111111111111,
              "#46039f"
             ],
             [
              0.2222222222222222,
              "#7201a8"
             ],
             [
              0.3333333333333333,
              "#9c179e"
             ],
             [
              0.4444444444444444,
              "#bd3786"
             ],
             [
              0.5555555555555556,
              "#d8576b"
             ],
             [
              0.6666666666666666,
              "#ed7953"
             ],
             [
              0.7777777777777778,
              "#fb9f3a"
             ],
             [
              0.8888888888888888,
              "#fdca26"
             ],
             [
              1,
              "#f0f921"
             ]
            ],
            "type": "heatmapgl"
           }
          ],
          "histogram": [
           {
            "marker": {
             "colorbar": {
              "outlinewidth": 0,
              "ticks": ""
             }
            },
            "type": "histogram"
           }
          ],
          "histogram2d": [
           {
            "colorbar": {
             "outlinewidth": 0,
             "ticks": ""
            },
            "colorscale": [
             [
              0,
              "#0d0887"
             ],
             [
              0.1111111111111111,
              "#46039f"
             ],
             [
              0.2222222222222222,
              "#7201a8"
             ],
             [
              0.3333333333333333,
              "#9c179e"
             ],
             [
              0.4444444444444444,
              "#bd3786"
             ],
             [
              0.5555555555555556,
              "#d8576b"
             ],
             [
              0.6666666666666666,
              "#ed7953"
             ],
             [
              0.7777777777777778,
              "#fb9f3a"
             ],
             [
              0.8888888888888888,
              "#fdca26"
             ],
             [
              1,
              "#f0f921"
             ]
            ],
            "type": "histogram2d"
           }
          ],
          "histogram2dcontour": [
           {
            "colorbar": {
             "outlinewidth": 0,
             "ticks": ""
            },
            "colorscale": [
             [
              0,
              "#0d0887"
             ],
             [
              0.1111111111111111,
              "#46039f"
             ],
             [
              0.2222222222222222,
              "#7201a8"
             ],
             [
              0.3333333333333333,
              "#9c179e"
             ],
             [
              0.4444444444444444,
              "#bd3786"
             ],
             [
              0.5555555555555556,
              "#d8576b"
             ],
             [
              0.6666666666666666,
              "#ed7953"
             ],
             [
              0.7777777777777778,
              "#fb9f3a"
             ],
             [
              0.8888888888888888,
              "#fdca26"
             ],
             [
              1,
              "#f0f921"
             ]
            ],
            "type": "histogram2dcontour"
           }
          ],
          "mesh3d": [
           {
            "colorbar": {
             "outlinewidth": 0,
             "ticks": ""
            },
            "type": "mesh3d"
           }
          ],
          "parcoords": [
           {
            "line": {
             "colorbar": {
              "outlinewidth": 0,
              "ticks": ""
             }
            },
            "type": "parcoords"
           }
          ],
          "pie": [
           {
            "automargin": true,
            "type": "pie"
           }
          ],
          "scatter": [
           {
            "marker": {
             "colorbar": {
              "outlinewidth": 0,
              "ticks": ""
             }
            },
            "type": "scatter"
           }
          ],
          "scatter3d": [
           {
            "line": {
             "colorbar": {
              "outlinewidth": 0,
              "ticks": ""
             }
            },
            "marker": {
             "colorbar": {
              "outlinewidth": 0,
              "ticks": ""
             }
            },
            "type": "scatter3d"
           }
          ],
          "scattercarpet": [
           {
            "marker": {
             "colorbar": {
              "outlinewidth": 0,
              "ticks": ""
             }
            },
            "type": "scattercarpet"
           }
          ],
          "scattergeo": [
           {
            "marker": {
             "colorbar": {
              "outlinewidth": 0,
              "ticks": ""
             }
            },
            "type": "scattergeo"
           }
          ],
          "scattergl": [
           {
            "marker": {
             "colorbar": {
              "outlinewidth": 0,
              "ticks": ""
             }
            },
            "type": "scattergl"
           }
          ],
          "scattermapbox": [
           {
            "marker": {
             "colorbar": {
              "outlinewidth": 0,
              "ticks": ""
             }
            },
            "type": "scattermapbox"
           }
          ],
          "scatterpolar": [
           {
            "marker": {
             "colorbar": {
              "outlinewidth": 0,
              "ticks": ""
             }
            },
            "type": "scatterpolar"
           }
          ],
          "scatterpolargl": [
           {
            "marker": {
             "colorbar": {
              "outlinewidth": 0,
              "ticks": ""
             }
            },
            "type": "scatterpolargl"
           }
          ],
          "scatterternary": [
           {
            "marker": {
             "colorbar": {
              "outlinewidth": 0,
              "ticks": ""
             }
            },
            "type": "scatterternary"
           }
          ],
          "surface": [
           {
            "colorbar": {
             "outlinewidth": 0,
             "ticks": ""
            },
            "colorscale": [
             [
              0,
              "#0d0887"
             ],
             [
              0.1111111111111111,
              "#46039f"
             ],
             [
              0.2222222222222222,
              "#7201a8"
             ],
             [
              0.3333333333333333,
              "#9c179e"
             ],
             [
              0.4444444444444444,
              "#bd3786"
             ],
             [
              0.5555555555555556,
              "#d8576b"
             ],
             [
              0.6666666666666666,
              "#ed7953"
             ],
             [
              0.7777777777777778,
              "#fb9f3a"
             ],
             [
              0.8888888888888888,
              "#fdca26"
             ],
             [
              1,
              "#f0f921"
             ]
            ],
            "type": "surface"
           }
          ],
          "table": [
           {
            "cells": {
             "fill": {
              "color": "#EBF0F8"
             },
             "line": {
              "color": "white"
             }
            },
            "header": {
             "fill": {
              "color": "#C8D4E3"
             },
             "line": {
              "color": "white"
             }
            },
            "type": "table"
           }
          ]
         },
         "layout": {
          "annotationdefaults": {
           "arrowcolor": "#2a3f5f",
           "arrowhead": 0,
           "arrowwidth": 1
          },
          "coloraxis": {
           "colorbar": {
            "outlinewidth": 0,
            "ticks": ""
           }
          },
          "colorscale": {
           "diverging": [
            [
             0,
             "#8e0152"
            ],
            [
             0.1,
             "#c51b7d"
            ],
            [
             0.2,
             "#de77ae"
            ],
            [
             0.3,
             "#f1b6da"
            ],
            [
             0.4,
             "#fde0ef"
            ],
            [
             0.5,
             "#f7f7f7"
            ],
            [
             0.6,
             "#e6f5d0"
            ],
            [
             0.7,
             "#b8e186"
            ],
            [
             0.8,
             "#7fbc41"
            ],
            [
             0.9,
             "#4d9221"
            ],
            [
             1,
             "#276419"
            ]
           ],
           "sequential": [
            [
             0,
             "#0d0887"
            ],
            [
             0.1111111111111111,
             "#46039f"
            ],
            [
             0.2222222222222222,
             "#7201a8"
            ],
            [
             0.3333333333333333,
             "#9c179e"
            ],
            [
             0.4444444444444444,
             "#bd3786"
            ],
            [
             0.5555555555555556,
             "#d8576b"
            ],
            [
             0.6666666666666666,
             "#ed7953"
            ],
            [
             0.7777777777777778,
             "#fb9f3a"
            ],
            [
             0.8888888888888888,
             "#fdca26"
            ],
            [
             1,
             "#f0f921"
            ]
           ],
           "sequentialminus": [
            [
             0,
             "#0d0887"
            ],
            [
             0.1111111111111111,
             "#46039f"
            ],
            [
             0.2222222222222222,
             "#7201a8"
            ],
            [
             0.3333333333333333,
             "#9c179e"
            ],
            [
             0.4444444444444444,
             "#bd3786"
            ],
            [
             0.5555555555555556,
             "#d8576b"
            ],
            [
             0.6666666666666666,
             "#ed7953"
            ],
            [
             0.7777777777777778,
             "#fb9f3a"
            ],
            [
             0.8888888888888888,
             "#fdca26"
            ],
            [
             1,
             "#f0f921"
            ]
           ]
          },
          "colorway": [
           "#636efa",
           "#EF553B",
           "#00cc96",
           "#ab63fa",
           "#FFA15A",
           "#19d3f3",
           "#FF6692",
           "#B6E880",
           "#FF97FF",
           "#FECB52"
          ],
          "font": {
           "color": "#2a3f5f"
          },
          "geo": {
           "bgcolor": "white",
           "lakecolor": "white",
           "landcolor": "#E5ECF6",
           "showlakes": true,
           "showland": true,
           "subunitcolor": "white"
          },
          "hoverlabel": {
           "align": "left"
          },
          "hovermode": "closest",
          "mapbox": {
           "style": "light"
          },
          "paper_bgcolor": "white",
          "plot_bgcolor": "#E5ECF6",
          "polar": {
           "angularaxis": {
            "gridcolor": "white",
            "linecolor": "white",
            "ticks": ""
           },
           "bgcolor": "#E5ECF6",
           "radialaxis": {
            "gridcolor": "white",
            "linecolor": "white",
            "ticks": ""
           }
          },
          "scene": {
           "xaxis": {
            "backgroundcolor": "#E5ECF6",
            "gridcolor": "white",
            "gridwidth": 2,
            "linecolor": "white",
            "showbackground": true,
            "ticks": "",
            "zerolinecolor": "white"
           },
           "yaxis": {
            "backgroundcolor": "#E5ECF6",
            "gridcolor": "white",
            "gridwidth": 2,
            "linecolor": "white",
            "showbackground": true,
            "ticks": "",
            "zerolinecolor": "white"
           },
           "zaxis": {
            "backgroundcolor": "#E5ECF6",
            "gridcolor": "white",
            "gridwidth": 2,
            "linecolor": "white",
            "showbackground": true,
            "ticks": "",
            "zerolinecolor": "white"
           }
          },
          "shapedefaults": {
           "line": {
            "color": "#2a3f5f"
           }
          },
          "ternary": {
           "aaxis": {
            "gridcolor": "white",
            "linecolor": "white",
            "ticks": ""
           },
           "baxis": {
            "gridcolor": "white",
            "linecolor": "white",
            "ticks": ""
           },
           "bgcolor": "#E5ECF6",
           "caxis": {
            "gridcolor": "white",
            "linecolor": "white",
            "ticks": ""
           }
          },
          "title": {
           "x": 0.05
          },
          "xaxis": {
           "automargin": true,
           "gridcolor": "white",
           "linecolor": "white",
           "ticks": "",
           "title": {
            "standoff": 15
           },
           "zerolinecolor": "white",
           "zerolinewidth": 2
          },
          "yaxis": {
           "automargin": true,
           "gridcolor": "white",
           "linecolor": "white",
           "ticks": "",
           "title": {
            "standoff": 15
           },
           "zerolinecolor": "white",
           "zerolinewidth": 2
          }
         }
        },
        "title": {
         "text": "Exponential curve for 2**x"
        },
        "xaxis": {
         "anchor": "y",
         "domain": [
          0,
          1
         ],
         "title": {
          "text": "x"
         }
        },
        "yaxis": {
         "anchor": "x",
         "domain": [
          0,
          1
         ],
         "title": {
          "text": "2**x"
         }
        }
       }
      },
      "text/html": [
       "<div>\n",
       "        \n",
       "        \n",
       "            <div id=\"326c8f3d-ff55-409a-9166-45ea282a7d6c\" class=\"plotly-graph-div\" style=\"height:525px; width:100%;\"></div>\n",
       "            <script type=\"text/javascript\">\n",
       "                require([\"plotly\"], function(Plotly) {\n",
       "                    window.PLOTLYENV=window.PLOTLYENV || {};\n",
       "                    \n",
       "                if (document.getElementById(\"326c8f3d-ff55-409a-9166-45ea282a7d6c\")) {\n",
       "                    Plotly.newPlot(\n",
       "                        '326c8f3d-ff55-409a-9166-45ea282a7d6c',\n",
       "                        [{\"hovertemplate\": \"x=%{x}<br>2**x=%{y}<extra></extra>\", \"legendgroup\": \"\", \"line\": {\"color\": \"#636efa\", \"dash\": \"solid\"}, \"mode\": \"lines\", \"name\": \"\", \"orientation\": \"v\", \"showlegend\": false, \"type\": \"scatter\", \"x\": [0, 1, 2, 3, 4, 5, 6, 7, 8], \"xaxis\": \"x\", \"y\": [1, 2, 4, 8, 16, 32, 64, 128, 256], \"yaxis\": \"y\"}],\n",
       "                        {\"legend\": {\"tracegroupgap\": 0}, \"template\": {\"data\": {\"bar\": [{\"error_x\": {\"color\": \"#2a3f5f\"}, \"error_y\": {\"color\": \"#2a3f5f\"}, \"marker\": {\"line\": {\"color\": \"#E5ECF6\", \"width\": 0.5}}, \"type\": \"bar\"}], \"barpolar\": [{\"marker\": {\"line\": {\"color\": \"#E5ECF6\", \"width\": 0.5}}, \"type\": \"barpolar\"}], \"carpet\": [{\"aaxis\": {\"endlinecolor\": \"#2a3f5f\", \"gridcolor\": \"white\", \"linecolor\": \"white\", \"minorgridcolor\": \"white\", \"startlinecolor\": \"#2a3f5f\"}, \"baxis\": {\"endlinecolor\": \"#2a3f5f\", \"gridcolor\": \"white\", \"linecolor\": \"white\", \"minorgridcolor\": \"white\", \"startlinecolor\": \"#2a3f5f\"}, \"type\": \"carpet\"}], \"choropleth\": [{\"colorbar\": {\"outlinewidth\": 0, \"ticks\": \"\"}, \"type\": \"choropleth\"}], \"contour\": [{\"colorbar\": {\"outlinewidth\": 0, \"ticks\": \"\"}, \"colorscale\": [[0.0, \"#0d0887\"], [0.1111111111111111, \"#46039f\"], [0.2222222222222222, \"#7201a8\"], [0.3333333333333333, \"#9c179e\"], [0.4444444444444444, \"#bd3786\"], [0.5555555555555556, \"#d8576b\"], [0.6666666666666666, \"#ed7953\"], [0.7777777777777778, \"#fb9f3a\"], [0.8888888888888888, \"#fdca26\"], [1.0, \"#f0f921\"]], \"type\": \"contour\"}], \"contourcarpet\": [{\"colorbar\": {\"outlinewidth\": 0, \"ticks\": \"\"}, \"type\": \"contourcarpet\"}], \"heatmap\": [{\"colorbar\": {\"outlinewidth\": 0, \"ticks\": \"\"}, \"colorscale\": [[0.0, \"#0d0887\"], [0.1111111111111111, \"#46039f\"], [0.2222222222222222, \"#7201a8\"], [0.3333333333333333, \"#9c179e\"], [0.4444444444444444, \"#bd3786\"], [0.5555555555555556, \"#d8576b\"], [0.6666666666666666, \"#ed7953\"], [0.7777777777777778, \"#fb9f3a\"], [0.8888888888888888, \"#fdca26\"], [1.0, \"#f0f921\"]], \"type\": \"heatmap\"}], \"heatmapgl\": [{\"colorbar\": {\"outlinewidth\": 0, \"ticks\": \"\"}, \"colorscale\": [[0.0, \"#0d0887\"], [0.1111111111111111, \"#46039f\"], [0.2222222222222222, \"#7201a8\"], [0.3333333333333333, \"#9c179e\"], [0.4444444444444444, \"#bd3786\"], [0.5555555555555556, \"#d8576b\"], [0.6666666666666666, \"#ed7953\"], [0.7777777777777778, \"#fb9f3a\"], [0.8888888888888888, \"#fdca26\"], [1.0, \"#f0f921\"]], \"type\": \"heatmapgl\"}], \"histogram\": [{\"marker\": {\"colorbar\": {\"outlinewidth\": 0, \"ticks\": \"\"}}, \"type\": \"histogram\"}], \"histogram2d\": [{\"colorbar\": {\"outlinewidth\": 0, \"ticks\": \"\"}, \"colorscale\": [[0.0, \"#0d0887\"], [0.1111111111111111, \"#46039f\"], [0.2222222222222222, \"#7201a8\"], [0.3333333333333333, \"#9c179e\"], [0.4444444444444444, \"#bd3786\"], [0.5555555555555556, \"#d8576b\"], [0.6666666666666666, \"#ed7953\"], [0.7777777777777778, \"#fb9f3a\"], [0.8888888888888888, \"#fdca26\"], [1.0, \"#f0f921\"]], \"type\": \"histogram2d\"}], \"histogram2dcontour\": [{\"colorbar\": {\"outlinewidth\": 0, \"ticks\": \"\"}, \"colorscale\": [[0.0, \"#0d0887\"], [0.1111111111111111, \"#46039f\"], [0.2222222222222222, \"#7201a8\"], [0.3333333333333333, \"#9c179e\"], [0.4444444444444444, \"#bd3786\"], [0.5555555555555556, \"#d8576b\"], [0.6666666666666666, \"#ed7953\"], [0.7777777777777778, \"#fb9f3a\"], [0.8888888888888888, \"#fdca26\"], [1.0, \"#f0f921\"]], \"type\": \"histogram2dcontour\"}], \"mesh3d\": [{\"colorbar\": {\"outlinewidth\": 0, \"ticks\": \"\"}, \"type\": \"mesh3d\"}], \"parcoords\": [{\"line\": {\"colorbar\": {\"outlinewidth\": 0, \"ticks\": \"\"}}, \"type\": \"parcoords\"}], \"pie\": [{\"automargin\": true, \"type\": \"pie\"}], \"scatter\": [{\"marker\": {\"colorbar\": {\"outlinewidth\": 0, \"ticks\": \"\"}}, \"type\": \"scatter\"}], \"scatter3d\": [{\"line\": {\"colorbar\": {\"outlinewidth\": 0, \"ticks\": \"\"}}, \"marker\": {\"colorbar\": {\"outlinewidth\": 0, \"ticks\": \"\"}}, \"type\": \"scatter3d\"}], \"scattercarpet\": [{\"marker\": {\"colorbar\": {\"outlinewidth\": 0, \"ticks\": \"\"}}, \"type\": \"scattercarpet\"}], \"scattergeo\": [{\"marker\": {\"colorbar\": {\"outlinewidth\": 0, \"ticks\": \"\"}}, \"type\": \"scattergeo\"}], \"scattergl\": [{\"marker\": {\"colorbar\": {\"outlinewidth\": 0, \"ticks\": \"\"}}, \"type\": \"scattergl\"}], \"scattermapbox\": [{\"marker\": {\"colorbar\": {\"outlinewidth\": 0, \"ticks\": \"\"}}, \"type\": \"scattermapbox\"}], \"scatterpolar\": [{\"marker\": {\"colorbar\": {\"outlinewidth\": 0, \"ticks\": \"\"}}, \"type\": \"scatterpolar\"}], \"scatterpolargl\": [{\"marker\": {\"colorbar\": {\"outlinewidth\": 0, \"ticks\": \"\"}}, \"type\": \"scatterpolargl\"}], \"scatterternary\": [{\"marker\": {\"colorbar\": {\"outlinewidth\": 0, \"ticks\": \"\"}}, \"type\": \"scatterternary\"}], \"surface\": [{\"colorbar\": {\"outlinewidth\": 0, \"ticks\": \"\"}, \"colorscale\": [[0.0, \"#0d0887\"], [0.1111111111111111, \"#46039f\"], [0.2222222222222222, \"#7201a8\"], [0.3333333333333333, \"#9c179e\"], [0.4444444444444444, \"#bd3786\"], [0.5555555555555556, \"#d8576b\"], [0.6666666666666666, \"#ed7953\"], [0.7777777777777778, \"#fb9f3a\"], [0.8888888888888888, \"#fdca26\"], [1.0, \"#f0f921\"]], \"type\": \"surface\"}], \"table\": [{\"cells\": {\"fill\": {\"color\": \"#EBF0F8\"}, \"line\": {\"color\": \"white\"}}, \"header\": {\"fill\": {\"color\": \"#C8D4E3\"}, \"line\": {\"color\": \"white\"}}, \"type\": \"table\"}]}, \"layout\": {\"annotationdefaults\": {\"arrowcolor\": \"#2a3f5f\", \"arrowhead\": 0, \"arrowwidth\": 1}, \"coloraxis\": {\"colorbar\": {\"outlinewidth\": 0, \"ticks\": \"\"}}, \"colorscale\": {\"diverging\": [[0, \"#8e0152\"], [0.1, \"#c51b7d\"], [0.2, \"#de77ae\"], [0.3, \"#f1b6da\"], [0.4, \"#fde0ef\"], [0.5, \"#f7f7f7\"], [0.6, \"#e6f5d0\"], [0.7, \"#b8e186\"], [0.8, \"#7fbc41\"], [0.9, \"#4d9221\"], [1, \"#276419\"]], \"sequential\": [[0.0, \"#0d0887\"], [0.1111111111111111, \"#46039f\"], [0.2222222222222222, \"#7201a8\"], [0.3333333333333333, \"#9c179e\"], [0.4444444444444444, \"#bd3786\"], [0.5555555555555556, \"#d8576b\"], [0.6666666666666666, \"#ed7953\"], [0.7777777777777778, \"#fb9f3a\"], [0.8888888888888888, \"#fdca26\"], [1.0, \"#f0f921\"]], \"sequentialminus\": [[0.0, \"#0d0887\"], [0.1111111111111111, \"#46039f\"], [0.2222222222222222, \"#7201a8\"], [0.3333333333333333, \"#9c179e\"], [0.4444444444444444, \"#bd3786\"], [0.5555555555555556, \"#d8576b\"], [0.6666666666666666, \"#ed7953\"], [0.7777777777777778, \"#fb9f3a\"], [0.8888888888888888, \"#fdca26\"], [1.0, \"#f0f921\"]]}, \"colorway\": [\"#636efa\", \"#EF553B\", \"#00cc96\", \"#ab63fa\", \"#FFA15A\", \"#19d3f3\", \"#FF6692\", \"#B6E880\", \"#FF97FF\", \"#FECB52\"], \"font\": {\"color\": \"#2a3f5f\"}, \"geo\": {\"bgcolor\": \"white\", \"lakecolor\": \"white\", \"landcolor\": \"#E5ECF6\", \"showlakes\": true, \"showland\": true, \"subunitcolor\": \"white\"}, \"hoverlabel\": {\"align\": \"left\"}, \"hovermode\": \"closest\", \"mapbox\": {\"style\": \"light\"}, \"paper_bgcolor\": \"white\", \"plot_bgcolor\": \"#E5ECF6\", \"polar\": {\"angularaxis\": {\"gridcolor\": \"white\", \"linecolor\": \"white\", \"ticks\": \"\"}, \"bgcolor\": \"#E5ECF6\", \"radialaxis\": {\"gridcolor\": \"white\", \"linecolor\": \"white\", \"ticks\": \"\"}}, \"scene\": {\"xaxis\": {\"backgroundcolor\": \"#E5ECF6\", \"gridcolor\": \"white\", \"gridwidth\": 2, \"linecolor\": \"white\", \"showbackground\": true, \"ticks\": \"\", \"zerolinecolor\": \"white\"}, \"yaxis\": {\"backgroundcolor\": \"#E5ECF6\", \"gridcolor\": \"white\", \"gridwidth\": 2, \"linecolor\": \"white\", \"showbackground\": true, \"ticks\": \"\", \"zerolinecolor\": \"white\"}, \"zaxis\": {\"backgroundcolor\": \"#E5ECF6\", \"gridcolor\": \"white\", \"gridwidth\": 2, \"linecolor\": \"white\", \"showbackground\": true, \"ticks\": \"\", \"zerolinecolor\": \"white\"}}, \"shapedefaults\": {\"line\": {\"color\": \"#2a3f5f\"}}, \"ternary\": {\"aaxis\": {\"gridcolor\": \"white\", \"linecolor\": \"white\", \"ticks\": \"\"}, \"baxis\": {\"gridcolor\": \"white\", \"linecolor\": \"white\", \"ticks\": \"\"}, \"bgcolor\": \"#E5ECF6\", \"caxis\": {\"gridcolor\": \"white\", \"linecolor\": \"white\", \"ticks\": \"\"}}, \"title\": {\"x\": 0.05}, \"xaxis\": {\"automargin\": true, \"gridcolor\": \"white\", \"linecolor\": \"white\", \"ticks\": \"\", \"title\": {\"standoff\": 15}, \"zerolinecolor\": \"white\", \"zerolinewidth\": 2}, \"yaxis\": {\"automargin\": true, \"gridcolor\": \"white\", \"linecolor\": \"white\", \"ticks\": \"\", \"title\": {\"standoff\": 15}, \"zerolinecolor\": \"white\", \"zerolinewidth\": 2}}}, \"title\": {\"text\": \"Exponential curve for 2**x\"}, \"xaxis\": {\"anchor\": \"y\", \"domain\": [0.0, 1.0], \"title\": {\"text\": \"x\"}}, \"yaxis\": {\"anchor\": \"x\", \"domain\": [0.0, 1.0], \"title\": {\"text\": \"2**x\"}}},\n",
       "                        {\"responsive\": true}\n",
       "                    ).then(function(){\n",
       "                            \n",
       "var gd = document.getElementById('326c8f3d-ff55-409a-9166-45ea282a7d6c');\n",
       "var x = new MutationObserver(function (mutations, observer) {{\n",
       "        var display = window.getComputedStyle(gd).display;\n",
       "        if (!display || display === 'none') {{\n",
       "            console.log([gd, 'removed!']);\n",
       "            Plotly.purge(gd);\n",
       "            observer.disconnect();\n",
       "        }}\n",
       "}});\n",
       "\n",
       "// Listen for the removal of the full notebook cells\n",
       "var notebookContainer = gd.closest('#notebook-container');\n",
       "if (notebookContainer) {{\n",
       "    x.observe(notebookContainer, {childList: true});\n",
       "}}\n",
       "\n",
       "// Listen for the clearing of the current output cell\n",
       "var outputEl = gd.closest('.output');\n",
       "if (outputEl) {{\n",
       "    x.observe(outputEl, {childList: true});\n",
       "}}\n",
       "\n",
       "                        })\n",
       "                };\n",
       "                });\n",
       "            </script>\n",
       "        </div>"
      ]
     },
     "metadata": {},
     "output_type": "display_data"
    }
   ],
   "source": [
    "import plotly.express as px\n",
    "vals = [1,2,4,8,16,32,64,128,256]\n",
    "px.line(x= [i for i in range(9)],y=vals,title='Exponential curve for 2**x',labels={\"x\":\"x\",\"y\":\"2**x\"})"
   ]
  },
  {
   "cell_type": "markdown",
   "metadata": {
    "slideshow": {
     "slide_type": "slide"
    }
   },
   "source": [
    "<h2 align='center'>What is this graph telling us?</h2>\n",
    "\n",
    "- Every time the independent variable increases by x, the dependent variable increases by $2^x$\n",
    "\n",
    "- We can summarize this as a function:\n",
    "\n",
    "| Independent variable $x$| Dependent variable $y$|\n",
    "|-|-|\n",
    "|1| 2|\n",
    "|2|4|\n",
    "|3|8|\n",
    "|4|16|\n",
    "\n",
    "- The relationship we are studying is $y(x) = 2^x\n",
    "\n",
    "- This is also known as \"exponential growth\""
   ]
  },
  {
   "cell_type": "markdown",
   "metadata": {
    "slideshow": {
     "slide_type": "slide"
    }
   },
   "source": [
    "<h2 align='center'>How can you approach data in your classroom?</h2>\n",
    "\n",
    "Example -- Global warming\n",
    "\n",
    "- Where do we get data? (e.g. Vancouver temp data)\n",
    "\n",
    "- How do we analyze it? (e.g. Spread sheet. Plot it)\n",
    "\n",
    "- Deeper analysis? (e.g. linear trend in temperature)\n",
    "\n",
    "- Go further (Other cities? Other sources of data?)"
   ]
  },
  {
   "cell_type": "markdown",
   "metadata": {
    "slideshow": {
     "slide_type": "subslide"
    }
   },
   "source": [
    "Vancouver data source: \n",
    "- https://vancouver.weatherstats.ca/charts/temperature-wyearly.html\n",
    "\n",
    "\n",
    "|Visualizing Temperature during July (1935 - 2020)|\n",
    "|-|\n",
    "|<img src=\"Temps.png\" alt=\"Drawing\" style=\"width: 1000px;\"/>|"
   ]
  },
  {
   "cell_type": "markdown",
   "metadata": {
    "slideshow": {
     "slide_type": "slide"
    }
   },
   "source": [
    "<h2 align='center'>Look at the numbers on a table</h2>\n",
    "Monthly temperature (date descending)          \n",
    "\n",
    "<img src=\"ShowNumbers.png\" alt=\"Drawing\" style=\"width: 768px;\"/>   "
   ]
  },
  {
   "cell_type": "markdown",
   "metadata": {
    "slideshow": {
     "slide_type": "slide"
    }
   },
   "source": [
    "## Trend line  \n",
    "\n",
    "Using Excel, we can use those numbers to obtain a trend line: \n",
    "\n",
    "$$y = 0.00123 x + 6.778$$\n",
    "\n",
    "\n",
    "- $x$ is measured in months, so temperature is rising at .00123 degrees per month\n",
    "\n",
    "- $ .00123 * 12 * 100 = 1.5 $ degrees per century.\n",
    "\n",
    "#### Looks like a significant rise over a long period!"
   ]
  },
  {
   "cell_type": "markdown",
   "metadata": {
    "slideshow": {
     "slide_type": "slide"
    }
   },
   "source": [
    "## Using Python we can visualize this relationship\n",
    "\n",
    "$$y = 0.00123 x + 6.778$$\n"
   ]
  },
  {
   "cell_type": "code",
   "execution_count": 8,
   "metadata": {
    "slideshow": {
     "slide_type": "fragment"
    }
   },
   "outputs": [],
   "source": [
    "import pandas as pd\n",
    "import numpy as np\n",
    "\n",
    "x  = np.linspace(0,12*10,num=12*10)\n",
    "y = 0.00123*x+6.778 + 10*np.sin(2*np.pi*x/12)\n",
    "data = pd.DataFrame({\"Temperature\":y, \"Time (months)\": x})\n",
    "rolling_mean = data.Temperature.rolling(window=10).mean()\n",
    "data['rollingAVG'] = rolling_mean"
   ]
  },
  {
   "cell_type": "markdown",
   "metadata": {
    "slideshow": {
     "slide_type": "slide"
    }
   },
   "source": [
    "<h2 align='center'>Visualizing the trend-line</h2>\n"
   ]
  },
  {
   "cell_type": "code",
   "execution_count": 9,
   "metadata": {
    "slideshow": {
     "slide_type": "fragment"
    }
   },
   "outputs": [
    {
     "data": {
      "application/vnd.plotly.v1+json": {
       "config": {
        "plotlyServerURL": "https://plot.ly"
       },
       "data": [
        {
         "hovertemplate": "Time (months)=%{x}<br>Temperature=%{y}<extra></extra>",
         "legendgroup": "",
         "line": {
          "color": "#636efa",
          "dash": "solid"
         },
         "mode": "lines",
         "name": "",
         "orientation": "v",
         "showlegend": false,
         "type": "scatter",
         "x": [
          0,
          1.0084033613445378,
          2.0168067226890756,
          3.0252100840336134,
          4.033613445378151,
          5.042016806722689,
          6.050420168067227,
          7.0588235294117645,
          8.067226890756302,
          9.07563025210084,
          10.084033613445378,
          11.092436974789916,
          12.100840336134453,
          13.109243697478991,
          14.117647058823529,
          15.126050420168067,
          16.134453781512605,
          17.142857142857142,
          18.15126050420168,
          19.159663865546218,
          20.168067226890756,
          21.176470588235293,
          22.18487394957983,
          23.19327731092437,
          24.201680672268907,
          25.210084033613445,
          26.218487394957982,
          27.22689075630252,
          28.235294117647058,
          29.243697478991596,
          30.252100840336134,
          31.26050420168067,
          32.26890756302521,
          33.27731092436974,
          34.285714285714285,
          35.294117647058826,
          36.30252100840336,
          37.310924369747895,
          38.319327731092436,
          39.32773109243698,
          40.33613445378151,
          41.344537815126046,
          42.35294117647059,
          43.36134453781513,
          44.36974789915966,
          45.3781512605042,
          46.38655462184874,
          47.39495798319328,
          48.403361344537814,
          49.41176470588235,
          50.42016806722689,
          51.42857142857143,
          52.436974789915965,
          53.4453781512605,
          54.45378151260504,
          55.46218487394958,
          56.470588235294116,
          57.47899159663865,
          58.48739495798319,
          59.49579831932773,
          60.50420168067227,
          61.5126050420168,
          62.52100840336134,
          63.529411764705884,
          64.53781512605042,
          65.54621848739495,
          66.55462184873949,
          67.56302521008404,
          68.57142857142857,
          69.5798319327731,
          70.58823529411765,
          71.59663865546219,
          72.60504201680672,
          73.61344537815125,
          74.62184873949579,
          75.63025210084034,
          76.63865546218487,
          77.6470588235294,
          78.65546218487395,
          79.66386554621849,
          80.67226890756302,
          81.68067226890756,
          82.68907563025209,
          83.69747899159664,
          84.70588235294117,
          85.71428571428571,
          86.72268907563026,
          87.73109243697479,
          88.73949579831933,
          89.74789915966386,
          90.7563025210084,
          91.76470588235294,
          92.77310924369748,
          93.78151260504201,
          94.78991596638656,
          95.7983193277311,
          96.80672268907563,
          97.81512605042016,
          98.8235294117647,
          99.83193277310924,
          100.84033613445378,
          101.84873949579831,
          102.85714285714286,
          103.8655462184874,
          104.87394957983193,
          105.88235294117646,
          106.890756302521,
          107.89915966386555,
          108.90756302521008,
          109.91596638655462,
          110.92436974789916,
          111.9327731092437,
          112.94117647058823,
          113.94957983193277,
          114.9579831932773,
          115.96638655462185,
          116.97478991596638,
          117.98319327731092,
          118.99159663865547,
          120
         ],
         "xaxis": "x",
         "y": [
          6.778,
          11.817296842147748,
          15.484398718031102,
          16.78084982512747,
          15.353878871958859,
          11.592481960415864,
          6.521473299108363,
          1.522360724167621,
          -2.0429299729958776,
          -3.202997236032793,
          -1.6415404359276504,
          2.2164906127257584,
          7.320637504918059,
          12.28104232992863,
          15.746997619432973,
          16.77483304879686,
          15.084939086519444,
          11.137923105461297,
          6.009155625485933,
          1.0958760173230715,
          -2.263367903789046,
          -3.153294704126817,
          -1.3311808141336225,
          2.707029839831889,
          7.861804066255347,
          12.729494793237716,
          15.984646714367353,
          16.74100516134699,
          14.79290168456711,
          10.671271132496962,
          5.4990430857396735,
          0.6852940928926987,
          -2.458536779816961,
          -3.0758392748092227,
          -0.9981433961088744,
          3.2089951028343555,
          8.400032840214688,
          13.161445799097915,
          16.196725116653898,
          16.67950193163867,
          14.478622111191243,
          10.193868168740035,
          4.992598939481386,
          0.2918008008118207,
          -2.6278511459459777,
          -2.9708053457824537,
          -0.6433149323987886,
          3.7210288189853964,
          8.933865171139207,
          13.575732907053759,
          16.382683210218914,
          16.590536264675382,
          14.143017804402323,
          9.707086306347236,
          4.491276221852129,
          -0.08346563806750673,
          -2.7707976081987713,
          -2.838444180974025,
          -0.2676429091013981,
          4.241745342952571,
          9.461854657047404,
          13.971242909101356,
          16.542044180974017,
          16.474397608198768,
          13.787065638067498,
          9.21232377814793,
          3.996513693652855,
          -0.4394178044023054,
          -2.8869362646753762,
          -2.6790832102189306,
          0.1278670929461967,
          4.769734828860734,
          9.982571181014546,
          14.346914932398725,
          16.67440534578243,
          16.331451145945973,
          13.41179919918817,
          8.711001060518672,
          3.5097318312599857,
          -0.7750221111912285,
          -2.975901931638666,
          -2.4931251166539194,
          0.5421542009019822,
          5.303567159785251,
          10.494604897165587,
          14.701743396108814,
          16.779439274809224,
          16.162136779816954,
          13.01830590710732,
          8.204556914260369,
          3.0323288675031113,
          -1.0893016845670846,
          -3.0374051613469817,
          -2.281046714367391,
          0.9741052067622471,
          5.841795933744574,
          10.996570160168023,
          15.034780814133555,
          16.856894704126802,
          15.966967903789058,
          12.607723982676962,
          7.694444374514143,
          2.565676894538723,
          -1.3813390865194224,
          -3.0712330487968558,
          -2.0433976194330192,
          1.42255767007126,
          6.382962495081855,
          11.487109387274149,
          15.34514043592758,
          16.90659723603279,
          15.746529972995893,
          12.181239275832432,
          7.182126700891655,
          2.1111180395841718,
          -1.6502788719588288,
          -3.077249825127468,
          -1.7807987180311269,
          1.886303157852189,
          6.925599999999903
         ],
         "yaxis": "y"
        },
        {
         "name": "Rolling average",
         "text": [
          "<b>Day</b>: 0.0<br><b>Rolling AVG</b>: nan",
          "<b>Day</b>: 1.0084033613445378<br><b>Rolling AVG</b>: nan",
          "<b>Day</b>: 2.0168067226890756<br><b>Rolling AVG</b>: nan",
          "<b>Day</b>: 3.0252100840336134<br><b>Rolling AVG</b>: nan",
          "<b>Day</b>: 4.033613445378151<br><b>Rolling AVG</b>: nan",
          "<b>Day</b>: 5.042016806722689<br><b>Rolling AVG</b>: nan",
          "<b>Day</b>: 6.050420168067227<br><b>Rolling AVG</b>: nan",
          "<b>Day</b>: 7.0588235294117645<br><b>Rolling AVG</b>: nan",
          "<b>Day</b>: 8.067226890756302<br><b>Rolling AVG</b>: nan",
          "<b>Day</b>: 9.07563025210084<br><b>Rolling AVG</b>: 8.060481303192836",
          "<b>Day</b>: 10.084033613445378<br><b>Rolling AVG</b>: 7.21852725960007",
          "<b>Day</b>: 11.092436974789916<br><b>Rolling AVG</b>: 6.2584466366578715",
          "<b>Day</b>: 12.100840336134453<br><b>Rolling AVG</b>: 5.442070515346567",
          "<b>Day</b>: 13.109243697478991<br><b>Rolling AVG</b>: 4.992089765826683",
          "<b>Day</b>: 14.117647058823529<br><b>Rolling AVG</b>: 5.031401640574094",
          "<b>Day</b>: 15.126050420168067<br><b>Rolling AVG</b>: 5.549636749412194",
          "<b>Day</b>: 16.134453781512605<br><b>Rolling AVG</b>: 6.405983328153302",
          "<b>Day</b>: 17.142857142857142<br><b>Rolling AVG</b>: 7.367539566282669",
          "<b>Day</b>: 18.15126050420168<br><b>Rolling AVG</b>: 8.17274812613085",
          "<b>Day</b>: 19.159663865546218<br><b>Rolling AVG</b>: 8.602635451466435",
          "<b>Day</b>: 20.168067226890756<br><b>Rolling AVG</b>: 8.540452704680295",
          "<b>Day</b>: 21.176470588235293<br><b>Rolling AVG</b>: 8.003474172995038",
          "<b>Day</b>: 22.18487394957983<br><b>Rolling AVG</b>: 7.13829234108987",
          "<b>Day</b>: 23.19327731092437<br><b>Rolling AVG</b>: 6.180891092080196",
          "<b>Day</b>: 24.201680672268907<br><b>Rolling AVG</b>: 5.392371736762433",
          "<b>Day</b>: 25.210084033613445<br><b>Rolling AVG</b>: 4.987837911206519",
          "<b>Day</b>: 26.218487394957982<br><b>Rolling AVG</b>: 5.077808673991311",
          "<b>Day</b>: 27.22689075630252<br><b>Rolling AVG</b>: 5.63811687957988",
          "<b>Day</b>: 28.235294117647058<br><b>Rolling AVG</b>: 6.5164914854879985",
          "<b>Day</b>: 29.243697478991596<br><b>Rolling AVG</b>: 7.474030997005388",
          "<b>Day</b>: 30.252100840336134<br><b>Rolling AVG</b>: 8.25027209595826",
          "<b>Day</b>: 31.26050420168067<br><b>Rolling AVG</b>: 8.634130975660213",
          "<b>Day</b>: 32.26890756302521<br><b>Rolling AVG</b>: 8.521395379091878",
          "<b>Day</b>: 33.27731092436974<br><b>Rolling AVG</b>: 7.943108467627766",
          "<b>Day</b>: 34.285714285714285<br><b>Rolling AVG</b>: 7.057113721391344",
          "<b>Day</b>: 35.294117647058826<br><b>Rolling AVG</b>: 6.105063752351008",
          "<b>Day</b>: 36.30252100840336<br><b>Rolling AVG</b>: 5.346602364935742",
          "<b>Day</b>: 37.310924369747895<br><b>Rolling AVG</b>: 4.988646428710834",
          "<b>Day</b>: 38.319327731092436<br><b>Rolling AVG</b>: 5.129028771919512",
          "<b>Day</b>: 39.32773109243698<br><b>Rolling AVG</b>: 5.729851851833683",
          "<b>Day</b>: 40.33613445378151<br><b>Rolling AVG</b>: 6.62780975437884",
          "<b>Day</b>: 41.344537815126046<br><b>Rolling AVG</b>: 7.578667161963574",
          "<b>Day</b>: 42.35294117647059<br><b>Rolling AVG</b>: 8.32378073389341",
          "<b>Day</b>: 43.36134453781513<br><b>Rolling AVG</b>: 8.660544741455514",
          "<b>Day</b>: 44.36974789915966<br><b>Rolling AVG</b>: 8.497573966471801",
          "<b>Day</b>: 45.3781512605042<br><b>Rolling AVG</b>: 7.879593921610121",
          "<b>Day</b>: 46.38655462184874<br><b>Rolling AVG</b>: 6.975259144348773",
          "<b>Day</b>: 47.39495798319328<br><b>Rolling AVG</b>: 6.031217446337521",
          "<b>Day</b>: 48.403361344537814<br><b>Rolling AVG</b>: 5.304931451786052",
          "<b>Day</b>: 49.41176470588235<br><b>Rolling AVG</b>: 4.994554549327562",
          "<b>Day</b>: 50.42016806722689<br><b>Rolling AVG</b>: 5.184960659230329",
          "<b>Day</b>: 51.42857142857143<br><b>Rolling AVG</b>: 5.824627468823863",
          "<b>Day</b>: 52.436974789915965<br><b>Rolling AVG</b>: 6.739669355315956",
          "<b>Day</b>: 53.4453781512605<br><b>Rolling AVG</b>: 7.681197905869499",
          "<b>Day</b>: 54.45378151260504<br><b>Rolling AVG</b>: 8.39311064264931",
          "<b>Day</b>: 55.46218487394958<br><b>Rolling AVG</b>: 8.681844613420804",
          "<b>Day</b>: 56.470588235294116<br><b>Rolling AVG</b>: 8.469096345840807",
          "<b>Day</b>: 57.47899159663865<br><b>Rolling AVG</b>: 7.813149045844864",
          "<b>Day</b>: 58.48739495798319<br><b>Rolling AVG</b>: 6.8929982378208035",
          "<b>Day</b>: 59.49579831932773<br><b>Rolling AVG</b>: 5.9595994814106845",
          "<b>Day</b>: 60.50420168067227<br><b>Rolling AVG</b>: 5.267516626093533",
          "<b>Day</b>: 61.5126050420168<br><b>Rolling AVG</b>: 5.005587290536131",
          "<b>Day</b>: 62.52100840336134<br><b>Rolling AVG</b>: 5.245489928193301",
          "<b>Day</b>: 63.529411764705884<br><b>Rolling AVG</b>: 5.9222210583784545",
          "<b>Day</b>: 64.53781512605042<br><b>Rolling AVG</b>: 6.851799999999992",
          "<b>Day</b>: 65.54621848739495<br><b>Rolling AVG</b>: 7.7813789416215355",
          "<b>Day</b>: 66.55462184873949<br><b>Rolling AVG</b>: 8.458110071806699",
          "<b>Day</b>: 67.56302521008404<br><b>Rolling AVG</b>: 8.698012709463871",
          "<b>Day</b>: 68.57142857142857<br><b>Rolling AVG</b>: 8.436083373906474",
          "<b>Day</b>: 69.5798319327731<br><b>Rolling AVG</b>: 7.744000518589322",
          "<b>Day</b>: 70.58823529411765<br><b>Rolling AVG</b>: 6.810601762179201",
          "<b>Day</b>: 71.59663865546219<br><b>Rolling AVG</b>: 5.890450954155138",
          "<b>Day</b>: 72.60504201680672<br><b>Rolling AVG</b>: 5.234503654159191",
          "<b>Day</b>: 73.61344537815125<br><b>Rolling AVG</b>: 5.021755386579185",
          "<b>Day</b>: 74.62184873949579<br><b>Rolling AVG</b>: 5.310489357350679",
          "<b>Day</b>: 75.63025210084034<br><b>Rolling AVG</b>: 6.0224020941304826",
          "<b>Day</b>: 76.63865546218487<br><b>Rolling AVG</b>: 6.963930644684014",
          "<b>Day</b>: 77.6470588235294<br><b>Rolling AVG</b>: 7.878972531176112",
          "<b>Day</b>: 78.65546218487395<br><b>Rolling AVG</b>: 8.518639340769647",
          "<b>Day</b>: 79.66386554621849<br><b>Rolling AVG</b>: 8.709045450672416",
          "<b>Day</b>: 80.67226890756302<br><b>Rolling AVG</b>: 8.39866854821393",
          "<b>Day</b>: 81.68067226890756<br><b>Rolling AVG</b>: 7.672382553662466",
          "<b>Day</b>: 82.68907563025209<br><b>Rolling AVG</b>: 6.728340855651209",
          "<b>Day</b>: 83.69747899159664<br><b>Rolling AVG</b>: 5.824006078389861",
          "<b>Day</b>: 84.70588235294117<br><b>Rolling AVG</b>: 5.206026033528177",
          "<b>Day</b>: 85.71428571428571<br><b>Rolling AVG</b>: 5.04305525854446",
          "<b>Day</b>: 86.72268907563026<br><b>Rolling AVG</b>: 5.379819266106566",
          "<b>Day</b>: 87.73109243697479<br><b>Rolling AVG</b>: 6.124932838036395",
          "<b>Day</b>: 88.73949579831933<br><b>Rolling AVG</b>: 7.075790245621128",
          "<b>Day</b>: 89.74789915966386<br><b>Rolling AVG</b>: 7.973748148166289",
          "<b>Day</b>: 90.7563025210084<br><b>Rolling AVG</b>: 8.574571228080465",
          "<b>Day</b>: 91.76470588235294<br><b>Rolling AVG</b>: 8.714953571289147",
          "<b>Day</b>: 92.77310924369748<br><b>Rolling AVG</b>: 8.356997635064252",
          "<b>Day</b>: 93.78151260504201<br><b>Rolling AVG</b>: 7.598536247648989",
          "<b>Day</b>: 94.78991596638656<br><b>Rolling AVG</b>: 6.646486278608654",
          "<b>Day</b>: 95.7983193277311<br><b>Rolling AVG</b>: 5.760491532372231",
          "<b>Day</b>: 96.80672268907563<br><b>Rolling AVG</b>: 5.182204620908111",
          "<b>Day</b>: 97.81512605042016<br><b>Rolling AVG</b>: 5.069469024339771",
          "<b>Day</b>: 98.8235294117647<br><b>Rolling AVG</b>: 5.453327904041719",
          "<b>Day</b>: 99.83193277310924<br><b>Rolling AVG</b>: 6.229569002994587",
          "<b>Day</b>: 100.84033613445378<br><b>Rolling AVG</b>: 7.187108514511972",
          "<b>Day</b>: 101.84873949579831<br><b>Rolling AVG</b>: 8.065483120420096",
          "<b>Day</b>: 102.85714285714286<br><b>Rolling AVG</b>: 8.625791326008667",
          "<b>Day</b>: 103.8655462184874<br><b>Rolling AVG</b>: 8.715762088793465",
          "<b>Day</b>: 104.87394957983193<br><b>Rolling AVG</b>: 8.311228263237554",
          "<b>Day</b>: 105.88235294117646<br><b>Rolling AVG</b>: 7.522708907919794",
          "<b>Day</b>: 106.890756302521<br><b>Rolling AVG</b>: 6.565307658910117",
          "<b>Day</b>: 107.89915966386555<br><b>Rolling AVG</b>: 5.700125827004948",
          "<b>Day</b>: 108.90756302521008<br><b>Rolling AVG</b>: 5.163147295319682",
          "<b>Day</b>: 109.91596638655462<br><b>Rolling AVG</b>: 5.100964548533534",
          "<b>Day</b>: 110.92436974789916<br><b>Rolling AVG</b>: 5.530851873869118",
          "<b>Day</b>: 111.9327731092437<br><b>Rolling AVG</b>: 6.336060433717292",
          "<b>Day</b>: 112.94117647058823<br><b>Rolling AVG</b>: 7.297616671846663",
          "<b>Day</b>: 113.94957983193277<br><b>Rolling AVG</b>: 8.15396325058777",
          "<b>Day</b>: 114.9579831932773<br><b>Rolling AVG</b>: 8.672198359425874",
          "<b>Day</b>: 115.96638655462185<br><b>Rolling AVG</b>: 8.711510234173293",
          "<b>Day</b>: 116.97478991596638<br><b>Rolling AVG</b>: 8.261529484653419",
          "<b>Day</b>: 117.98319327731092<br><b>Rolling AVG</b>: 7.445153363342122",
          "<b>Day</b>: 118.99159663865547<br><b>Rolling AVG</b>: 6.485072740399926",
          "<b>Day</b>: 120.0<br><b>Rolling AVG</b>: 5.643118696807159"
         ],
         "type": "scatter",
         "x": [
          0,
          1.0084033613445378,
          2.0168067226890756,
          3.0252100840336134,
          4.033613445378151,
          5.042016806722689,
          6.050420168067227,
          7.0588235294117645,
          8.067226890756302,
          9.07563025210084,
          10.084033613445378,
          11.092436974789916,
          12.100840336134453,
          13.109243697478991,
          14.117647058823529,
          15.126050420168067,
          16.134453781512605,
          17.142857142857142,
          18.15126050420168,
          19.159663865546218,
          20.168067226890756,
          21.176470588235293,
          22.18487394957983,
          23.19327731092437,
          24.201680672268907,
          25.210084033613445,
          26.218487394957982,
          27.22689075630252,
          28.235294117647058,
          29.243697478991596,
          30.252100840336134,
          31.26050420168067,
          32.26890756302521,
          33.27731092436974,
          34.285714285714285,
          35.294117647058826,
          36.30252100840336,
          37.310924369747895,
          38.319327731092436,
          39.32773109243698,
          40.33613445378151,
          41.344537815126046,
          42.35294117647059,
          43.36134453781513,
          44.36974789915966,
          45.3781512605042,
          46.38655462184874,
          47.39495798319328,
          48.403361344537814,
          49.41176470588235,
          50.42016806722689,
          51.42857142857143,
          52.436974789915965,
          53.4453781512605,
          54.45378151260504,
          55.46218487394958,
          56.470588235294116,
          57.47899159663865,
          58.48739495798319,
          59.49579831932773,
          60.50420168067227,
          61.5126050420168,
          62.52100840336134,
          63.529411764705884,
          64.53781512605042,
          65.54621848739495,
          66.55462184873949,
          67.56302521008404,
          68.57142857142857,
          69.5798319327731,
          70.58823529411765,
          71.59663865546219,
          72.60504201680672,
          73.61344537815125,
          74.62184873949579,
          75.63025210084034,
          76.63865546218487,
          77.6470588235294,
          78.65546218487395,
          79.66386554621849,
          80.67226890756302,
          81.68067226890756,
          82.68907563025209,
          83.69747899159664,
          84.70588235294117,
          85.71428571428571,
          86.72268907563026,
          87.73109243697479,
          88.73949579831933,
          89.74789915966386,
          90.7563025210084,
          91.76470588235294,
          92.77310924369748,
          93.78151260504201,
          94.78991596638656,
          95.7983193277311,
          96.80672268907563,
          97.81512605042016,
          98.8235294117647,
          99.83193277310924,
          100.84033613445378,
          101.84873949579831,
          102.85714285714286,
          103.8655462184874,
          104.87394957983193,
          105.88235294117646,
          106.890756302521,
          107.89915966386555,
          108.90756302521008,
          109.91596638655462,
          110.92436974789916,
          111.9327731092437,
          112.94117647058823,
          113.94957983193277,
          114.9579831932773,
          115.96638655462185,
          116.97478991596638,
          117.98319327731092,
          118.99159663865547,
          120
         ],
         "y": [
          null,
          null,
          null,
          null,
          null,
          null,
          null,
          null,
          null,
          8.060481303192836,
          7.21852725960007,
          6.2584466366578715,
          5.442070515346567,
          4.992089765826683,
          5.031401640574094,
          5.549636749412194,
          6.405983328153302,
          7.367539566282669,
          8.17274812613085,
          8.602635451466435,
          8.540452704680295,
          8.003474172995038,
          7.13829234108987,
          6.180891092080196,
          5.392371736762433,
          4.987837911206519,
          5.077808673991311,
          5.63811687957988,
          6.5164914854879985,
          7.474030997005388,
          8.25027209595826,
          8.634130975660213,
          8.521395379091878,
          7.943108467627766,
          7.057113721391344,
          6.105063752351008,
          5.346602364935742,
          4.988646428710834,
          5.129028771919512,
          5.729851851833683,
          6.62780975437884,
          7.578667161963574,
          8.32378073389341,
          8.660544741455514,
          8.497573966471801,
          7.879593921610121,
          6.975259144348773,
          6.031217446337521,
          5.304931451786052,
          4.994554549327562,
          5.184960659230329,
          5.824627468823863,
          6.739669355315956,
          7.681197905869499,
          8.39311064264931,
          8.681844613420804,
          8.469096345840807,
          7.813149045844864,
          6.8929982378208035,
          5.9595994814106845,
          5.267516626093533,
          5.005587290536131,
          5.245489928193301,
          5.9222210583784545,
          6.851799999999992,
          7.7813789416215355,
          8.458110071806699,
          8.698012709463871,
          8.436083373906474,
          7.744000518589322,
          6.810601762179201,
          5.890450954155138,
          5.234503654159191,
          5.021755386579185,
          5.310489357350679,
          6.0224020941304826,
          6.963930644684014,
          7.878972531176112,
          8.518639340769647,
          8.709045450672416,
          8.39866854821393,
          7.672382553662466,
          6.728340855651209,
          5.824006078389861,
          5.206026033528177,
          5.04305525854446,
          5.379819266106566,
          6.124932838036395,
          7.075790245621128,
          7.973748148166289,
          8.574571228080465,
          8.714953571289147,
          8.356997635064252,
          7.598536247648989,
          6.646486278608654,
          5.760491532372231,
          5.182204620908111,
          5.069469024339771,
          5.453327904041719,
          6.229569002994587,
          7.187108514511972,
          8.065483120420096,
          8.625791326008667,
          8.715762088793465,
          8.311228263237554,
          7.522708907919794,
          6.565307658910117,
          5.700125827004948,
          5.163147295319682,
          5.100964548533534,
          5.530851873869118,
          6.336060433717292,
          7.297616671846663,
          8.15396325058777,
          8.672198359425874,
          8.711510234173293,
          8.261529484653419,
          7.445153363342122,
          6.485072740399926,
          5.643118696807159
         ]
        }
       ],
       "layout": {
        "legend": {
         "tracegroupgap": 0
        },
        "template": {
         "data": {
          "bar": [
           {
            "error_x": {
             "color": "#2a3f5f"
            },
            "error_y": {
             "color": "#2a3f5f"
            },
            "marker": {
             "line": {
              "color": "#E5ECF6",
              "width": 0.5
             }
            },
            "type": "bar"
           }
          ],
          "barpolar": [
           {
            "marker": {
             "line": {
              "color": "#E5ECF6",
              "width": 0.5
             }
            },
            "type": "barpolar"
           }
          ],
          "carpet": [
           {
            "aaxis": {
             "endlinecolor": "#2a3f5f",
             "gridcolor": "white",
             "linecolor": "white",
             "minorgridcolor": "white",
             "startlinecolor": "#2a3f5f"
            },
            "baxis": {
             "endlinecolor": "#2a3f5f",
             "gridcolor": "white",
             "linecolor": "white",
             "minorgridcolor": "white",
             "startlinecolor": "#2a3f5f"
            },
            "type": "carpet"
           }
          ],
          "choropleth": [
           {
            "colorbar": {
             "outlinewidth": 0,
             "ticks": ""
            },
            "type": "choropleth"
           }
          ],
          "contour": [
           {
            "colorbar": {
             "outlinewidth": 0,
             "ticks": ""
            },
            "colorscale": [
             [
              0,
              "#0d0887"
             ],
             [
              0.1111111111111111,
              "#46039f"
             ],
             [
              0.2222222222222222,
              "#7201a8"
             ],
             [
              0.3333333333333333,
              "#9c179e"
             ],
             [
              0.4444444444444444,
              "#bd3786"
             ],
             [
              0.5555555555555556,
              "#d8576b"
             ],
             [
              0.6666666666666666,
              "#ed7953"
             ],
             [
              0.7777777777777778,
              "#fb9f3a"
             ],
             [
              0.8888888888888888,
              "#fdca26"
             ],
             [
              1,
              "#f0f921"
             ]
            ],
            "type": "contour"
           }
          ],
          "contourcarpet": [
           {
            "colorbar": {
             "outlinewidth": 0,
             "ticks": ""
            },
            "type": "contourcarpet"
           }
          ],
          "heatmap": [
           {
            "colorbar": {
             "outlinewidth": 0,
             "ticks": ""
            },
            "colorscale": [
             [
              0,
              "#0d0887"
             ],
             [
              0.1111111111111111,
              "#46039f"
             ],
             [
              0.2222222222222222,
              "#7201a8"
             ],
             [
              0.3333333333333333,
              "#9c179e"
             ],
             [
              0.4444444444444444,
              "#bd3786"
             ],
             [
              0.5555555555555556,
              "#d8576b"
             ],
             [
              0.6666666666666666,
              "#ed7953"
             ],
             [
              0.7777777777777778,
              "#fb9f3a"
             ],
             [
              0.8888888888888888,
              "#fdca26"
             ],
             [
              1,
              "#f0f921"
             ]
            ],
            "type": "heatmap"
           }
          ],
          "heatmapgl": [
           {
            "colorbar": {
             "outlinewidth": 0,
             "ticks": ""
            },
            "colorscale": [
             [
              0,
              "#0d0887"
             ],
             [
              0.1111111111111111,
              "#46039f"
             ],
             [
              0.2222222222222222,
              "#7201a8"
             ],
             [
              0.3333333333333333,
              "#9c179e"
             ],
             [
              0.4444444444444444,
              "#bd3786"
             ],
             [
              0.5555555555555556,
              "#d8576b"
             ],
             [
              0.6666666666666666,
              "#ed7953"
             ],
             [
              0.7777777777777778,
              "#fb9f3a"
             ],
             [
              0.8888888888888888,
              "#fdca26"
             ],
             [
              1,
              "#f0f921"
             ]
            ],
            "type": "heatmapgl"
           }
          ],
          "histogram": [
           {
            "marker": {
             "colorbar": {
              "outlinewidth": 0,
              "ticks": ""
             }
            },
            "type": "histogram"
           }
          ],
          "histogram2d": [
           {
            "colorbar": {
             "outlinewidth": 0,
             "ticks": ""
            },
            "colorscale": [
             [
              0,
              "#0d0887"
             ],
             [
              0.1111111111111111,
              "#46039f"
             ],
             [
              0.2222222222222222,
              "#7201a8"
             ],
             [
              0.3333333333333333,
              "#9c179e"
             ],
             [
              0.4444444444444444,
              "#bd3786"
             ],
             [
              0.5555555555555556,
              "#d8576b"
             ],
             [
              0.6666666666666666,
              "#ed7953"
             ],
             [
              0.7777777777777778,
              "#fb9f3a"
             ],
             [
              0.8888888888888888,
              "#fdca26"
             ],
             [
              1,
              "#f0f921"
             ]
            ],
            "type": "histogram2d"
           }
          ],
          "histogram2dcontour": [
           {
            "colorbar": {
             "outlinewidth": 0,
             "ticks": ""
            },
            "colorscale": [
             [
              0,
              "#0d0887"
             ],
             [
              0.1111111111111111,
              "#46039f"
             ],
             [
              0.2222222222222222,
              "#7201a8"
             ],
             [
              0.3333333333333333,
              "#9c179e"
             ],
             [
              0.4444444444444444,
              "#bd3786"
             ],
             [
              0.5555555555555556,
              "#d8576b"
             ],
             [
              0.6666666666666666,
              "#ed7953"
             ],
             [
              0.7777777777777778,
              "#fb9f3a"
             ],
             [
              0.8888888888888888,
              "#fdca26"
             ],
             [
              1,
              "#f0f921"
             ]
            ],
            "type": "histogram2dcontour"
           }
          ],
          "mesh3d": [
           {
            "colorbar": {
             "outlinewidth": 0,
             "ticks": ""
            },
            "type": "mesh3d"
           }
          ],
          "parcoords": [
           {
            "line": {
             "colorbar": {
              "outlinewidth": 0,
              "ticks": ""
             }
            },
            "type": "parcoords"
           }
          ],
          "pie": [
           {
            "automargin": true,
            "type": "pie"
           }
          ],
          "scatter": [
           {
            "marker": {
             "colorbar": {
              "outlinewidth": 0,
              "ticks": ""
             }
            },
            "type": "scatter"
           }
          ],
          "scatter3d": [
           {
            "line": {
             "colorbar": {
              "outlinewidth": 0,
              "ticks": ""
             }
            },
            "marker": {
             "colorbar": {
              "outlinewidth": 0,
              "ticks": ""
             }
            },
            "type": "scatter3d"
           }
          ],
          "scattercarpet": [
           {
            "marker": {
             "colorbar": {
              "outlinewidth": 0,
              "ticks": ""
             }
            },
            "type": "scattercarpet"
           }
          ],
          "scattergeo": [
           {
            "marker": {
             "colorbar": {
              "outlinewidth": 0,
              "ticks": ""
             }
            },
            "type": "scattergeo"
           }
          ],
          "scattergl": [
           {
            "marker": {
             "colorbar": {
              "outlinewidth": 0,
              "ticks": ""
             }
            },
            "type": "scattergl"
           }
          ],
          "scattermapbox": [
           {
            "marker": {
             "colorbar": {
              "outlinewidth": 0,
              "ticks": ""
             }
            },
            "type": "scattermapbox"
           }
          ],
          "scatterpolar": [
           {
            "marker": {
             "colorbar": {
              "outlinewidth": 0,
              "ticks": ""
             }
            },
            "type": "scatterpolar"
           }
          ],
          "scatterpolargl": [
           {
            "marker": {
             "colorbar": {
              "outlinewidth": 0,
              "ticks": ""
             }
            },
            "type": "scatterpolargl"
           }
          ],
          "scatterternary": [
           {
            "marker": {
             "colorbar": {
              "outlinewidth": 0,
              "ticks": ""
             }
            },
            "type": "scatterternary"
           }
          ],
          "surface": [
           {
            "colorbar": {
             "outlinewidth": 0,
             "ticks": ""
            },
            "colorscale": [
             [
              0,
              "#0d0887"
             ],
             [
              0.1111111111111111,
              "#46039f"
             ],
             [
              0.2222222222222222,
              "#7201a8"
             ],
             [
              0.3333333333333333,
              "#9c179e"
             ],
             [
              0.4444444444444444,
              "#bd3786"
             ],
             [
              0.5555555555555556,
              "#d8576b"
             ],
             [
              0.6666666666666666,
              "#ed7953"
             ],
             [
              0.7777777777777778,
              "#fb9f3a"
             ],
             [
              0.8888888888888888,
              "#fdca26"
             ],
             [
              1,
              "#f0f921"
             ]
            ],
            "type": "surface"
           }
          ],
          "table": [
           {
            "cells": {
             "fill": {
              "color": "#EBF0F8"
             },
             "line": {
              "color": "white"
             }
            },
            "header": {
             "fill": {
              "color": "#C8D4E3"
             },
             "line": {
              "color": "white"
             }
            },
            "type": "table"
           }
          ]
         },
         "layout": {
          "annotationdefaults": {
           "arrowcolor": "#2a3f5f",
           "arrowhead": 0,
           "arrowwidth": 1
          },
          "coloraxis": {
           "colorbar": {
            "outlinewidth": 0,
            "ticks": ""
           }
          },
          "colorscale": {
           "diverging": [
            [
             0,
             "#8e0152"
            ],
            [
             0.1,
             "#c51b7d"
            ],
            [
             0.2,
             "#de77ae"
            ],
            [
             0.3,
             "#f1b6da"
            ],
            [
             0.4,
             "#fde0ef"
            ],
            [
             0.5,
             "#f7f7f7"
            ],
            [
             0.6,
             "#e6f5d0"
            ],
            [
             0.7,
             "#b8e186"
            ],
            [
             0.8,
             "#7fbc41"
            ],
            [
             0.9,
             "#4d9221"
            ],
            [
             1,
             "#276419"
            ]
           ],
           "sequential": [
            [
             0,
             "#0d0887"
            ],
            [
             0.1111111111111111,
             "#46039f"
            ],
            [
             0.2222222222222222,
             "#7201a8"
            ],
            [
             0.3333333333333333,
             "#9c179e"
            ],
            [
             0.4444444444444444,
             "#bd3786"
            ],
            [
             0.5555555555555556,
             "#d8576b"
            ],
            [
             0.6666666666666666,
             "#ed7953"
            ],
            [
             0.7777777777777778,
             "#fb9f3a"
            ],
            [
             0.8888888888888888,
             "#fdca26"
            ],
            [
             1,
             "#f0f921"
            ]
           ],
           "sequentialminus": [
            [
             0,
             "#0d0887"
            ],
            [
             0.1111111111111111,
             "#46039f"
            ],
            [
             0.2222222222222222,
             "#7201a8"
            ],
            [
             0.3333333333333333,
             "#9c179e"
            ],
            [
             0.4444444444444444,
             "#bd3786"
            ],
            [
             0.5555555555555556,
             "#d8576b"
            ],
            [
             0.6666666666666666,
             "#ed7953"
            ],
            [
             0.7777777777777778,
             "#fb9f3a"
            ],
            [
             0.8888888888888888,
             "#fdca26"
            ],
            [
             1,
             "#f0f921"
            ]
           ]
          },
          "colorway": [
           "#636efa",
           "#EF553B",
           "#00cc96",
           "#ab63fa",
           "#FFA15A",
           "#19d3f3",
           "#FF6692",
           "#B6E880",
           "#FF97FF",
           "#FECB52"
          ],
          "font": {
           "color": "#2a3f5f"
          },
          "geo": {
           "bgcolor": "white",
           "lakecolor": "white",
           "landcolor": "#E5ECF6",
           "showlakes": true,
           "showland": true,
           "subunitcolor": "white"
          },
          "hoverlabel": {
           "align": "left"
          },
          "hovermode": "closest",
          "mapbox": {
           "style": "light"
          },
          "paper_bgcolor": "white",
          "plot_bgcolor": "#E5ECF6",
          "polar": {
           "angularaxis": {
            "gridcolor": "white",
            "linecolor": "white",
            "ticks": ""
           },
           "bgcolor": "#E5ECF6",
           "radialaxis": {
            "gridcolor": "white",
            "linecolor": "white",
            "ticks": ""
           }
          },
          "scene": {
           "xaxis": {
            "backgroundcolor": "#E5ECF6",
            "gridcolor": "white",
            "gridwidth": 2,
            "linecolor": "white",
            "showbackground": true,
            "ticks": "",
            "zerolinecolor": "white"
           },
           "yaxis": {
            "backgroundcolor": "#E5ECF6",
            "gridcolor": "white",
            "gridwidth": 2,
            "linecolor": "white",
            "showbackground": true,
            "ticks": "",
            "zerolinecolor": "white"
           },
           "zaxis": {
            "backgroundcolor": "#E5ECF6",
            "gridcolor": "white",
            "gridwidth": 2,
            "linecolor": "white",
            "showbackground": true,
            "ticks": "",
            "zerolinecolor": "white"
           }
          },
          "shapedefaults": {
           "line": {
            "color": "#2a3f5f"
           }
          },
          "ternary": {
           "aaxis": {
            "gridcolor": "white",
            "linecolor": "white",
            "ticks": ""
           },
           "baxis": {
            "gridcolor": "white",
            "linecolor": "white",
            "ticks": ""
           },
           "bgcolor": "#E5ECF6",
           "caxis": {
            "gridcolor": "white",
            "linecolor": "white",
            "ticks": ""
           }
          },
          "title": {
           "x": 0.05
          },
          "xaxis": {
           "automargin": true,
           "gridcolor": "white",
           "linecolor": "white",
           "ticks": "",
           "title": {
            "standoff": 15
           },
           "zerolinecolor": "white",
           "zerolinewidth": 2
          },
          "yaxis": {
           "automargin": true,
           "gridcolor": "white",
           "linecolor": "white",
           "ticks": "",
           "title": {
            "standoff": 15
           },
           "zerolinecolor": "white",
           "zerolinewidth": 2
          }
         }
        },
        "title": {
         "text": "Plotting the trendline y=0.00123x+6.778"
        },
        "xaxis": {
         "anchor": "y",
         "domain": [
          0,
          1
         ],
         "title": {
          "text": "Time (months)"
         }
        },
        "yaxis": {
         "anchor": "x",
         "domain": [
          0,
          1
         ],
         "title": {
          "text": "Temperature"
         }
        }
       }
      },
      "text/html": [
       "<div>\n",
       "        \n",
       "        \n",
       "            <div id=\"343d299b-a3ea-4d88-a705-36108db0c785\" class=\"plotly-graph-div\" style=\"height:525px; width:100%;\"></div>\n",
       "            <script type=\"text/javascript\">\n",
       "                require([\"plotly\"], function(Plotly) {\n",
       "                    window.PLOTLYENV=window.PLOTLYENV || {};\n",
       "                    \n",
       "                if (document.getElementById(\"343d299b-a3ea-4d88-a705-36108db0c785\")) {\n",
       "                    Plotly.newPlot(\n",
       "                        '343d299b-a3ea-4d88-a705-36108db0c785',\n",
       "                        [{\"hovertemplate\": \"Time (months)=%{x}<br>Temperature=%{y}<extra></extra>\", \"legendgroup\": \"\", \"line\": {\"color\": \"#636efa\", \"dash\": \"solid\"}, \"mode\": \"lines\", \"name\": \"\", \"orientation\": \"v\", \"showlegend\": false, \"type\": \"scatter\", \"x\": [0.0, 1.0084033613445378, 2.0168067226890756, 3.0252100840336134, 4.033613445378151, 5.042016806722689, 6.050420168067227, 7.0588235294117645, 8.067226890756302, 9.07563025210084, 10.084033613445378, 11.092436974789916, 12.100840336134453, 13.109243697478991, 14.117647058823529, 15.126050420168067, 16.134453781512605, 17.142857142857142, 18.15126050420168, 19.159663865546218, 20.168067226890756, 21.176470588235293, 22.18487394957983, 23.19327731092437, 24.201680672268907, 25.210084033613445, 26.218487394957982, 27.22689075630252, 28.235294117647058, 29.243697478991596, 30.252100840336134, 31.26050420168067, 32.26890756302521, 33.27731092436974, 34.285714285714285, 35.294117647058826, 36.30252100840336, 37.310924369747895, 38.319327731092436, 39.32773109243698, 40.33613445378151, 41.344537815126046, 42.35294117647059, 43.36134453781513, 44.36974789915966, 45.3781512605042, 46.38655462184874, 47.39495798319328, 48.403361344537814, 49.41176470588235, 50.42016806722689, 51.42857142857143, 52.436974789915965, 53.4453781512605, 54.45378151260504, 55.46218487394958, 56.470588235294116, 57.47899159663865, 58.48739495798319, 59.49579831932773, 60.50420168067227, 61.5126050420168, 62.52100840336134, 63.529411764705884, 64.53781512605042, 65.54621848739495, 66.55462184873949, 67.56302521008404, 68.57142857142857, 69.5798319327731, 70.58823529411765, 71.59663865546219, 72.60504201680672, 73.61344537815125, 74.62184873949579, 75.63025210084034, 76.63865546218487, 77.6470588235294, 78.65546218487395, 79.66386554621849, 80.67226890756302, 81.68067226890756, 82.68907563025209, 83.69747899159664, 84.70588235294117, 85.71428571428571, 86.72268907563026, 87.73109243697479, 88.73949579831933, 89.74789915966386, 90.7563025210084, 91.76470588235294, 92.77310924369748, 93.78151260504201, 94.78991596638656, 95.7983193277311, 96.80672268907563, 97.81512605042016, 98.8235294117647, 99.83193277310924, 100.84033613445378, 101.84873949579831, 102.85714285714286, 103.8655462184874, 104.87394957983193, 105.88235294117646, 106.890756302521, 107.89915966386555, 108.90756302521008, 109.91596638655462, 110.92436974789916, 111.9327731092437, 112.94117647058823, 113.94957983193277, 114.9579831932773, 115.96638655462185, 116.97478991596638, 117.98319327731092, 118.99159663865547, 120.0], \"xaxis\": \"x\", \"y\": [6.778, 11.817296842147748, 15.484398718031102, 16.78084982512747, 15.353878871958859, 11.592481960415864, 6.521473299108363, 1.522360724167621, -2.0429299729958776, -3.202997236032793, -1.6415404359276504, 2.2164906127257584, 7.320637504918059, 12.28104232992863, 15.746997619432973, 16.77483304879686, 15.084939086519444, 11.137923105461297, 6.009155625485933, 1.0958760173230715, -2.263367903789046, -3.153294704126817, -1.3311808141336225, 2.707029839831889, 7.861804066255347, 12.729494793237716, 15.984646714367353, 16.74100516134699, 14.79290168456711, 10.671271132496962, 5.4990430857396735, 0.6852940928926987, -2.458536779816961, -3.0758392748092227, -0.9981433961088744, 3.2089951028343555, 8.400032840214688, 13.161445799097915, 16.196725116653898, 16.67950193163867, 14.478622111191243, 10.193868168740035, 4.992598939481386, 0.2918008008118207, -2.6278511459459777, -2.9708053457824537, -0.6433149323987886, 3.7210288189853964, 8.933865171139207, 13.575732907053759, 16.382683210218914, 16.590536264675382, 14.143017804402323, 9.707086306347236, 4.491276221852129, -0.08346563806750673, -2.7707976081987713, -2.838444180974025, -0.2676429091013981, 4.241745342952571, 9.461854657047404, 13.971242909101356, 16.542044180974017, 16.474397608198768, 13.787065638067498, 9.21232377814793, 3.996513693652855, -0.4394178044023054, -2.8869362646753762, -2.6790832102189306, 0.1278670929461967, 4.769734828860734, 9.982571181014546, 14.346914932398725, 16.67440534578243, 16.331451145945973, 13.41179919918817, 8.711001060518672, 3.5097318312599857, -0.7750221111912285, -2.975901931638666, -2.4931251166539194, 0.5421542009019822, 5.303567159785251, 10.494604897165587, 14.701743396108814, 16.779439274809224, 16.162136779816954, 13.01830590710732, 8.204556914260369, 3.0323288675031113, -1.0893016845670846, -3.0374051613469817, -2.281046714367391, 0.9741052067622471, 5.841795933744574, 10.996570160168023, 15.034780814133555, 16.856894704126802, 15.966967903789058, 12.607723982676962, 7.694444374514143, 2.565676894538723, -1.3813390865194224, -3.0712330487968558, -2.0433976194330192, 1.42255767007126, 6.382962495081855, 11.487109387274149, 15.34514043592758, 16.90659723603279, 15.746529972995893, 12.181239275832432, 7.182126700891655, 2.1111180395841718, -1.6502788719588288, -3.077249825127468, -1.7807987180311269, 1.886303157852189, 6.925599999999903], \"yaxis\": \"y\"}, {\"name\": \"Rolling average\", \"text\": [\"<b>Day</b>: 0.0<br><b>Rolling AVG</b>: nan\", \"<b>Day</b>: 1.0084033613445378<br><b>Rolling AVG</b>: nan\", \"<b>Day</b>: 2.0168067226890756<br><b>Rolling AVG</b>: nan\", \"<b>Day</b>: 3.0252100840336134<br><b>Rolling AVG</b>: nan\", \"<b>Day</b>: 4.033613445378151<br><b>Rolling AVG</b>: nan\", \"<b>Day</b>: 5.042016806722689<br><b>Rolling AVG</b>: nan\", \"<b>Day</b>: 6.050420168067227<br><b>Rolling AVG</b>: nan\", \"<b>Day</b>: 7.0588235294117645<br><b>Rolling AVG</b>: nan\", \"<b>Day</b>: 8.067226890756302<br><b>Rolling AVG</b>: nan\", \"<b>Day</b>: 9.07563025210084<br><b>Rolling AVG</b>: 8.060481303192836\", \"<b>Day</b>: 10.084033613445378<br><b>Rolling AVG</b>: 7.21852725960007\", \"<b>Day</b>: 11.092436974789916<br><b>Rolling AVG</b>: 6.2584466366578715\", \"<b>Day</b>: 12.100840336134453<br><b>Rolling AVG</b>: 5.442070515346567\", \"<b>Day</b>: 13.109243697478991<br><b>Rolling AVG</b>: 4.992089765826683\", \"<b>Day</b>: 14.117647058823529<br><b>Rolling AVG</b>: 5.031401640574094\", \"<b>Day</b>: 15.126050420168067<br><b>Rolling AVG</b>: 5.549636749412194\", \"<b>Day</b>: 16.134453781512605<br><b>Rolling AVG</b>: 6.405983328153302\", \"<b>Day</b>: 17.142857142857142<br><b>Rolling AVG</b>: 7.367539566282669\", \"<b>Day</b>: 18.15126050420168<br><b>Rolling AVG</b>: 8.17274812613085\", \"<b>Day</b>: 19.159663865546218<br><b>Rolling AVG</b>: 8.602635451466435\", \"<b>Day</b>: 20.168067226890756<br><b>Rolling AVG</b>: 8.540452704680295\", \"<b>Day</b>: 21.176470588235293<br><b>Rolling AVG</b>: 8.003474172995038\", \"<b>Day</b>: 22.18487394957983<br><b>Rolling AVG</b>: 7.13829234108987\", \"<b>Day</b>: 23.19327731092437<br><b>Rolling AVG</b>: 6.180891092080196\", \"<b>Day</b>: 24.201680672268907<br><b>Rolling AVG</b>: 5.392371736762433\", \"<b>Day</b>: 25.210084033613445<br><b>Rolling AVG</b>: 4.987837911206519\", \"<b>Day</b>: 26.218487394957982<br><b>Rolling AVG</b>: 5.077808673991311\", \"<b>Day</b>: 27.22689075630252<br><b>Rolling AVG</b>: 5.63811687957988\", \"<b>Day</b>: 28.235294117647058<br><b>Rolling AVG</b>: 6.5164914854879985\", \"<b>Day</b>: 29.243697478991596<br><b>Rolling AVG</b>: 7.474030997005388\", \"<b>Day</b>: 30.252100840336134<br><b>Rolling AVG</b>: 8.25027209595826\", \"<b>Day</b>: 31.26050420168067<br><b>Rolling AVG</b>: 8.634130975660213\", \"<b>Day</b>: 32.26890756302521<br><b>Rolling AVG</b>: 8.521395379091878\", \"<b>Day</b>: 33.27731092436974<br><b>Rolling AVG</b>: 7.943108467627766\", \"<b>Day</b>: 34.285714285714285<br><b>Rolling AVG</b>: 7.057113721391344\", \"<b>Day</b>: 35.294117647058826<br><b>Rolling AVG</b>: 6.105063752351008\", \"<b>Day</b>: 36.30252100840336<br><b>Rolling AVG</b>: 5.346602364935742\", \"<b>Day</b>: 37.310924369747895<br><b>Rolling AVG</b>: 4.988646428710834\", \"<b>Day</b>: 38.319327731092436<br><b>Rolling AVG</b>: 5.129028771919512\", \"<b>Day</b>: 39.32773109243698<br><b>Rolling AVG</b>: 5.729851851833683\", \"<b>Day</b>: 40.33613445378151<br><b>Rolling AVG</b>: 6.62780975437884\", \"<b>Day</b>: 41.344537815126046<br><b>Rolling AVG</b>: 7.578667161963574\", \"<b>Day</b>: 42.35294117647059<br><b>Rolling AVG</b>: 8.32378073389341\", \"<b>Day</b>: 43.36134453781513<br><b>Rolling AVG</b>: 8.660544741455514\", \"<b>Day</b>: 44.36974789915966<br><b>Rolling AVG</b>: 8.497573966471801\", \"<b>Day</b>: 45.3781512605042<br><b>Rolling AVG</b>: 7.879593921610121\", \"<b>Day</b>: 46.38655462184874<br><b>Rolling AVG</b>: 6.975259144348773\", \"<b>Day</b>: 47.39495798319328<br><b>Rolling AVG</b>: 6.031217446337521\", \"<b>Day</b>: 48.403361344537814<br><b>Rolling AVG</b>: 5.304931451786052\", \"<b>Day</b>: 49.41176470588235<br><b>Rolling AVG</b>: 4.994554549327562\", \"<b>Day</b>: 50.42016806722689<br><b>Rolling AVG</b>: 5.184960659230329\", \"<b>Day</b>: 51.42857142857143<br><b>Rolling AVG</b>: 5.824627468823863\", \"<b>Day</b>: 52.436974789915965<br><b>Rolling AVG</b>: 6.739669355315956\", \"<b>Day</b>: 53.4453781512605<br><b>Rolling AVG</b>: 7.681197905869499\", \"<b>Day</b>: 54.45378151260504<br><b>Rolling AVG</b>: 8.39311064264931\", \"<b>Day</b>: 55.46218487394958<br><b>Rolling AVG</b>: 8.681844613420804\", \"<b>Day</b>: 56.470588235294116<br><b>Rolling AVG</b>: 8.469096345840807\", \"<b>Day</b>: 57.47899159663865<br><b>Rolling AVG</b>: 7.813149045844864\", \"<b>Day</b>: 58.48739495798319<br><b>Rolling AVG</b>: 6.8929982378208035\", \"<b>Day</b>: 59.49579831932773<br><b>Rolling AVG</b>: 5.9595994814106845\", \"<b>Day</b>: 60.50420168067227<br><b>Rolling AVG</b>: 5.267516626093533\", \"<b>Day</b>: 61.5126050420168<br><b>Rolling AVG</b>: 5.005587290536131\", \"<b>Day</b>: 62.52100840336134<br><b>Rolling AVG</b>: 5.245489928193301\", \"<b>Day</b>: 63.529411764705884<br><b>Rolling AVG</b>: 5.9222210583784545\", \"<b>Day</b>: 64.53781512605042<br><b>Rolling AVG</b>: 6.851799999999992\", \"<b>Day</b>: 65.54621848739495<br><b>Rolling AVG</b>: 7.7813789416215355\", \"<b>Day</b>: 66.55462184873949<br><b>Rolling AVG</b>: 8.458110071806699\", \"<b>Day</b>: 67.56302521008404<br><b>Rolling AVG</b>: 8.698012709463871\", \"<b>Day</b>: 68.57142857142857<br><b>Rolling AVG</b>: 8.436083373906474\", \"<b>Day</b>: 69.5798319327731<br><b>Rolling AVG</b>: 7.744000518589322\", \"<b>Day</b>: 70.58823529411765<br><b>Rolling AVG</b>: 6.810601762179201\", \"<b>Day</b>: 71.59663865546219<br><b>Rolling AVG</b>: 5.890450954155138\", \"<b>Day</b>: 72.60504201680672<br><b>Rolling AVG</b>: 5.234503654159191\", \"<b>Day</b>: 73.61344537815125<br><b>Rolling AVG</b>: 5.021755386579185\", \"<b>Day</b>: 74.62184873949579<br><b>Rolling AVG</b>: 5.310489357350679\", \"<b>Day</b>: 75.63025210084034<br><b>Rolling AVG</b>: 6.0224020941304826\", \"<b>Day</b>: 76.63865546218487<br><b>Rolling AVG</b>: 6.963930644684014\", \"<b>Day</b>: 77.6470588235294<br><b>Rolling AVG</b>: 7.878972531176112\", \"<b>Day</b>: 78.65546218487395<br><b>Rolling AVG</b>: 8.518639340769647\", \"<b>Day</b>: 79.66386554621849<br><b>Rolling AVG</b>: 8.709045450672416\", \"<b>Day</b>: 80.67226890756302<br><b>Rolling AVG</b>: 8.39866854821393\", \"<b>Day</b>: 81.68067226890756<br><b>Rolling AVG</b>: 7.672382553662466\", \"<b>Day</b>: 82.68907563025209<br><b>Rolling AVG</b>: 6.728340855651209\", \"<b>Day</b>: 83.69747899159664<br><b>Rolling AVG</b>: 5.824006078389861\", \"<b>Day</b>: 84.70588235294117<br><b>Rolling AVG</b>: 5.206026033528177\", \"<b>Day</b>: 85.71428571428571<br><b>Rolling AVG</b>: 5.04305525854446\", \"<b>Day</b>: 86.72268907563026<br><b>Rolling AVG</b>: 5.379819266106566\", \"<b>Day</b>: 87.73109243697479<br><b>Rolling AVG</b>: 6.124932838036395\", \"<b>Day</b>: 88.73949579831933<br><b>Rolling AVG</b>: 7.075790245621128\", \"<b>Day</b>: 89.74789915966386<br><b>Rolling AVG</b>: 7.973748148166289\", \"<b>Day</b>: 90.7563025210084<br><b>Rolling AVG</b>: 8.574571228080465\", \"<b>Day</b>: 91.76470588235294<br><b>Rolling AVG</b>: 8.714953571289147\", \"<b>Day</b>: 92.77310924369748<br><b>Rolling AVG</b>: 8.356997635064252\", \"<b>Day</b>: 93.78151260504201<br><b>Rolling AVG</b>: 7.598536247648989\", \"<b>Day</b>: 94.78991596638656<br><b>Rolling AVG</b>: 6.646486278608654\", \"<b>Day</b>: 95.7983193277311<br><b>Rolling AVG</b>: 5.760491532372231\", \"<b>Day</b>: 96.80672268907563<br><b>Rolling AVG</b>: 5.182204620908111\", \"<b>Day</b>: 97.81512605042016<br><b>Rolling AVG</b>: 5.069469024339771\", \"<b>Day</b>: 98.8235294117647<br><b>Rolling AVG</b>: 5.453327904041719\", \"<b>Day</b>: 99.83193277310924<br><b>Rolling AVG</b>: 6.229569002994587\", \"<b>Day</b>: 100.84033613445378<br><b>Rolling AVG</b>: 7.187108514511972\", \"<b>Day</b>: 101.84873949579831<br><b>Rolling AVG</b>: 8.065483120420096\", \"<b>Day</b>: 102.85714285714286<br><b>Rolling AVG</b>: 8.625791326008667\", \"<b>Day</b>: 103.8655462184874<br><b>Rolling AVG</b>: 8.715762088793465\", \"<b>Day</b>: 104.87394957983193<br><b>Rolling AVG</b>: 8.311228263237554\", \"<b>Day</b>: 105.88235294117646<br><b>Rolling AVG</b>: 7.522708907919794\", \"<b>Day</b>: 106.890756302521<br><b>Rolling AVG</b>: 6.565307658910117\", \"<b>Day</b>: 107.89915966386555<br><b>Rolling AVG</b>: 5.700125827004948\", \"<b>Day</b>: 108.90756302521008<br><b>Rolling AVG</b>: 5.163147295319682\", \"<b>Day</b>: 109.91596638655462<br><b>Rolling AVG</b>: 5.100964548533534\", \"<b>Day</b>: 110.92436974789916<br><b>Rolling AVG</b>: 5.530851873869118\", \"<b>Day</b>: 111.9327731092437<br><b>Rolling AVG</b>: 6.336060433717292\", \"<b>Day</b>: 112.94117647058823<br><b>Rolling AVG</b>: 7.297616671846663\", \"<b>Day</b>: 113.94957983193277<br><b>Rolling AVG</b>: 8.15396325058777\", \"<b>Day</b>: 114.9579831932773<br><b>Rolling AVG</b>: 8.672198359425874\", \"<b>Day</b>: 115.96638655462185<br><b>Rolling AVG</b>: 8.711510234173293\", \"<b>Day</b>: 116.97478991596638<br><b>Rolling AVG</b>: 8.261529484653419\", \"<b>Day</b>: 117.98319327731092<br><b>Rolling AVG</b>: 7.445153363342122\", \"<b>Day</b>: 118.99159663865547<br><b>Rolling AVG</b>: 6.485072740399926\", \"<b>Day</b>: 120.0<br><b>Rolling AVG</b>: 5.643118696807159\"], \"type\": \"scatter\", \"x\": [0.0, 1.0084033613445378, 2.0168067226890756, 3.0252100840336134, 4.033613445378151, 5.042016806722689, 6.050420168067227, 7.0588235294117645, 8.067226890756302, 9.07563025210084, 10.084033613445378, 11.092436974789916, 12.100840336134453, 13.109243697478991, 14.117647058823529, 15.126050420168067, 16.134453781512605, 17.142857142857142, 18.15126050420168, 19.159663865546218, 20.168067226890756, 21.176470588235293, 22.18487394957983, 23.19327731092437, 24.201680672268907, 25.210084033613445, 26.218487394957982, 27.22689075630252, 28.235294117647058, 29.243697478991596, 30.252100840336134, 31.26050420168067, 32.26890756302521, 33.27731092436974, 34.285714285714285, 35.294117647058826, 36.30252100840336, 37.310924369747895, 38.319327731092436, 39.32773109243698, 40.33613445378151, 41.344537815126046, 42.35294117647059, 43.36134453781513, 44.36974789915966, 45.3781512605042, 46.38655462184874, 47.39495798319328, 48.403361344537814, 49.41176470588235, 50.42016806722689, 51.42857142857143, 52.436974789915965, 53.4453781512605, 54.45378151260504, 55.46218487394958, 56.470588235294116, 57.47899159663865, 58.48739495798319, 59.49579831932773, 60.50420168067227, 61.5126050420168, 62.52100840336134, 63.529411764705884, 64.53781512605042, 65.54621848739495, 66.55462184873949, 67.56302521008404, 68.57142857142857, 69.5798319327731, 70.58823529411765, 71.59663865546219, 72.60504201680672, 73.61344537815125, 74.62184873949579, 75.63025210084034, 76.63865546218487, 77.6470588235294, 78.65546218487395, 79.66386554621849, 80.67226890756302, 81.68067226890756, 82.68907563025209, 83.69747899159664, 84.70588235294117, 85.71428571428571, 86.72268907563026, 87.73109243697479, 88.73949579831933, 89.74789915966386, 90.7563025210084, 91.76470588235294, 92.77310924369748, 93.78151260504201, 94.78991596638656, 95.7983193277311, 96.80672268907563, 97.81512605042016, 98.8235294117647, 99.83193277310924, 100.84033613445378, 101.84873949579831, 102.85714285714286, 103.8655462184874, 104.87394957983193, 105.88235294117646, 106.890756302521, 107.89915966386555, 108.90756302521008, 109.91596638655462, 110.92436974789916, 111.9327731092437, 112.94117647058823, 113.94957983193277, 114.9579831932773, 115.96638655462185, 116.97478991596638, 117.98319327731092, 118.99159663865547, 120.0], \"y\": [null, null, null, null, null, null, null, null, null, 8.060481303192836, 7.21852725960007, 6.2584466366578715, 5.442070515346567, 4.992089765826683, 5.031401640574094, 5.549636749412194, 6.405983328153302, 7.367539566282669, 8.17274812613085, 8.602635451466435, 8.540452704680295, 8.003474172995038, 7.13829234108987, 6.180891092080196, 5.392371736762433, 4.987837911206519, 5.077808673991311, 5.63811687957988, 6.5164914854879985, 7.474030997005388, 8.25027209595826, 8.634130975660213, 8.521395379091878, 7.943108467627766, 7.057113721391344, 6.105063752351008, 5.346602364935742, 4.988646428710834, 5.129028771919512, 5.729851851833683, 6.62780975437884, 7.578667161963574, 8.32378073389341, 8.660544741455514, 8.497573966471801, 7.879593921610121, 6.975259144348773, 6.031217446337521, 5.304931451786052, 4.994554549327562, 5.184960659230329, 5.824627468823863, 6.739669355315956, 7.681197905869499, 8.39311064264931, 8.681844613420804, 8.469096345840807, 7.813149045844864, 6.8929982378208035, 5.9595994814106845, 5.267516626093533, 5.005587290536131, 5.245489928193301, 5.9222210583784545, 6.851799999999992, 7.7813789416215355, 8.458110071806699, 8.698012709463871, 8.436083373906474, 7.744000518589322, 6.810601762179201, 5.890450954155138, 5.234503654159191, 5.021755386579185, 5.310489357350679, 6.0224020941304826, 6.963930644684014, 7.878972531176112, 8.518639340769647, 8.709045450672416, 8.39866854821393, 7.672382553662466, 6.728340855651209, 5.824006078389861, 5.206026033528177, 5.04305525854446, 5.379819266106566, 6.124932838036395, 7.075790245621128, 7.973748148166289, 8.574571228080465, 8.714953571289147, 8.356997635064252, 7.598536247648989, 6.646486278608654, 5.760491532372231, 5.182204620908111, 5.069469024339771, 5.453327904041719, 6.229569002994587, 7.187108514511972, 8.065483120420096, 8.625791326008667, 8.715762088793465, 8.311228263237554, 7.522708907919794, 6.565307658910117, 5.700125827004948, 5.163147295319682, 5.100964548533534, 5.530851873869118, 6.336060433717292, 7.297616671846663, 8.15396325058777, 8.672198359425874, 8.711510234173293, 8.261529484653419, 7.445153363342122, 6.485072740399926, 5.643118696807159]}],\n",
       "                        {\"legend\": {\"tracegroupgap\": 0}, \"template\": {\"data\": {\"bar\": [{\"error_x\": {\"color\": \"#2a3f5f\"}, \"error_y\": {\"color\": \"#2a3f5f\"}, \"marker\": {\"line\": {\"color\": \"#E5ECF6\", \"width\": 0.5}}, \"type\": \"bar\"}], \"barpolar\": [{\"marker\": {\"line\": {\"color\": \"#E5ECF6\", \"width\": 0.5}}, \"type\": \"barpolar\"}], \"carpet\": [{\"aaxis\": {\"endlinecolor\": \"#2a3f5f\", \"gridcolor\": \"white\", \"linecolor\": \"white\", \"minorgridcolor\": \"white\", \"startlinecolor\": \"#2a3f5f\"}, \"baxis\": {\"endlinecolor\": \"#2a3f5f\", \"gridcolor\": \"white\", \"linecolor\": \"white\", \"minorgridcolor\": \"white\", \"startlinecolor\": \"#2a3f5f\"}, \"type\": \"carpet\"}], \"choropleth\": [{\"colorbar\": {\"outlinewidth\": 0, \"ticks\": \"\"}, \"type\": \"choropleth\"}], \"contour\": [{\"colorbar\": {\"outlinewidth\": 0, \"ticks\": \"\"}, \"colorscale\": [[0.0, \"#0d0887\"], [0.1111111111111111, \"#46039f\"], [0.2222222222222222, \"#7201a8\"], [0.3333333333333333, \"#9c179e\"], [0.4444444444444444, \"#bd3786\"], [0.5555555555555556, \"#d8576b\"], [0.6666666666666666, \"#ed7953\"], [0.7777777777777778, \"#fb9f3a\"], [0.8888888888888888, \"#fdca26\"], [1.0, \"#f0f921\"]], \"type\": \"contour\"}], \"contourcarpet\": [{\"colorbar\": {\"outlinewidth\": 0, \"ticks\": \"\"}, \"type\": \"contourcarpet\"}], \"heatmap\": [{\"colorbar\": {\"outlinewidth\": 0, \"ticks\": \"\"}, \"colorscale\": [[0.0, \"#0d0887\"], [0.1111111111111111, \"#46039f\"], [0.2222222222222222, \"#7201a8\"], [0.3333333333333333, \"#9c179e\"], [0.4444444444444444, \"#bd3786\"], [0.5555555555555556, \"#d8576b\"], [0.6666666666666666, \"#ed7953\"], [0.7777777777777778, \"#fb9f3a\"], [0.8888888888888888, \"#fdca26\"], [1.0, \"#f0f921\"]], \"type\": \"heatmap\"}], \"heatmapgl\": [{\"colorbar\": {\"outlinewidth\": 0, \"ticks\": \"\"}, \"colorscale\": [[0.0, \"#0d0887\"], [0.1111111111111111, \"#46039f\"], [0.2222222222222222, \"#7201a8\"], [0.3333333333333333, \"#9c179e\"], [0.4444444444444444, \"#bd3786\"], [0.5555555555555556, \"#d8576b\"], [0.6666666666666666, \"#ed7953\"], [0.7777777777777778, \"#fb9f3a\"], [0.8888888888888888, \"#fdca26\"], [1.0, \"#f0f921\"]], \"type\": \"heatmapgl\"}], \"histogram\": [{\"marker\": {\"colorbar\": {\"outlinewidth\": 0, \"ticks\": \"\"}}, \"type\": \"histogram\"}], \"histogram2d\": [{\"colorbar\": {\"outlinewidth\": 0, \"ticks\": \"\"}, \"colorscale\": [[0.0, \"#0d0887\"], [0.1111111111111111, \"#46039f\"], [0.2222222222222222, \"#7201a8\"], [0.3333333333333333, \"#9c179e\"], [0.4444444444444444, \"#bd3786\"], [0.5555555555555556, \"#d8576b\"], [0.6666666666666666, \"#ed7953\"], [0.7777777777777778, \"#fb9f3a\"], [0.8888888888888888, \"#fdca26\"], [1.0, \"#f0f921\"]], \"type\": \"histogram2d\"}], \"histogram2dcontour\": [{\"colorbar\": {\"outlinewidth\": 0, \"ticks\": \"\"}, \"colorscale\": [[0.0, \"#0d0887\"], [0.1111111111111111, \"#46039f\"], [0.2222222222222222, \"#7201a8\"], [0.3333333333333333, \"#9c179e\"], [0.4444444444444444, \"#bd3786\"], [0.5555555555555556, \"#d8576b\"], [0.6666666666666666, \"#ed7953\"], [0.7777777777777778, \"#fb9f3a\"], [0.8888888888888888, \"#fdca26\"], [1.0, \"#f0f921\"]], \"type\": \"histogram2dcontour\"}], \"mesh3d\": [{\"colorbar\": {\"outlinewidth\": 0, \"ticks\": \"\"}, \"type\": \"mesh3d\"}], \"parcoords\": [{\"line\": {\"colorbar\": {\"outlinewidth\": 0, \"ticks\": \"\"}}, \"type\": \"parcoords\"}], \"pie\": [{\"automargin\": true, \"type\": \"pie\"}], \"scatter\": [{\"marker\": {\"colorbar\": {\"outlinewidth\": 0, \"ticks\": \"\"}}, \"type\": \"scatter\"}], \"scatter3d\": [{\"line\": {\"colorbar\": {\"outlinewidth\": 0, \"ticks\": \"\"}}, \"marker\": {\"colorbar\": {\"outlinewidth\": 0, \"ticks\": \"\"}}, \"type\": \"scatter3d\"}], \"scattercarpet\": [{\"marker\": {\"colorbar\": {\"outlinewidth\": 0, \"ticks\": \"\"}}, \"type\": \"scattercarpet\"}], \"scattergeo\": [{\"marker\": {\"colorbar\": {\"outlinewidth\": 0, \"ticks\": \"\"}}, \"type\": \"scattergeo\"}], \"scattergl\": [{\"marker\": {\"colorbar\": {\"outlinewidth\": 0, \"ticks\": \"\"}}, \"type\": \"scattergl\"}], \"scattermapbox\": [{\"marker\": {\"colorbar\": {\"outlinewidth\": 0, \"ticks\": \"\"}}, \"type\": \"scattermapbox\"}], \"scatterpolar\": [{\"marker\": {\"colorbar\": {\"outlinewidth\": 0, \"ticks\": \"\"}}, \"type\": \"scatterpolar\"}], \"scatterpolargl\": [{\"marker\": {\"colorbar\": {\"outlinewidth\": 0, \"ticks\": \"\"}}, \"type\": \"scatterpolargl\"}], \"scatterternary\": [{\"marker\": {\"colorbar\": {\"outlinewidth\": 0, \"ticks\": \"\"}}, \"type\": \"scatterternary\"}], \"surface\": [{\"colorbar\": {\"outlinewidth\": 0, \"ticks\": \"\"}, \"colorscale\": [[0.0, \"#0d0887\"], [0.1111111111111111, \"#46039f\"], [0.2222222222222222, \"#7201a8\"], [0.3333333333333333, \"#9c179e\"], [0.4444444444444444, \"#bd3786\"], [0.5555555555555556, \"#d8576b\"], [0.6666666666666666, \"#ed7953\"], [0.7777777777777778, \"#fb9f3a\"], [0.8888888888888888, \"#fdca26\"], [1.0, \"#f0f921\"]], \"type\": \"surface\"}], \"table\": [{\"cells\": {\"fill\": {\"color\": \"#EBF0F8\"}, \"line\": {\"color\": \"white\"}}, \"header\": {\"fill\": {\"color\": \"#C8D4E3\"}, \"line\": {\"color\": \"white\"}}, \"type\": \"table\"}]}, \"layout\": {\"annotationdefaults\": {\"arrowcolor\": \"#2a3f5f\", \"arrowhead\": 0, \"arrowwidth\": 1}, \"coloraxis\": {\"colorbar\": {\"outlinewidth\": 0, \"ticks\": \"\"}}, \"colorscale\": {\"diverging\": [[0, \"#8e0152\"], [0.1, \"#c51b7d\"], [0.2, \"#de77ae\"], [0.3, \"#f1b6da\"], [0.4, \"#fde0ef\"], [0.5, \"#f7f7f7\"], [0.6, \"#e6f5d0\"], [0.7, \"#b8e186\"], [0.8, \"#7fbc41\"], [0.9, \"#4d9221\"], [1, \"#276419\"]], \"sequential\": [[0.0, \"#0d0887\"], [0.1111111111111111, \"#46039f\"], [0.2222222222222222, \"#7201a8\"], [0.3333333333333333, \"#9c179e\"], [0.4444444444444444, \"#bd3786\"], [0.5555555555555556, \"#d8576b\"], [0.6666666666666666, \"#ed7953\"], [0.7777777777777778, \"#fb9f3a\"], [0.8888888888888888, \"#fdca26\"], [1.0, \"#f0f921\"]], \"sequentialminus\": [[0.0, \"#0d0887\"], [0.1111111111111111, \"#46039f\"], [0.2222222222222222, \"#7201a8\"], [0.3333333333333333, \"#9c179e\"], [0.4444444444444444, \"#bd3786\"], [0.5555555555555556, \"#d8576b\"], [0.6666666666666666, \"#ed7953\"], [0.7777777777777778, \"#fb9f3a\"], [0.8888888888888888, \"#fdca26\"], [1.0, \"#f0f921\"]]}, \"colorway\": [\"#636efa\", \"#EF553B\", \"#00cc96\", \"#ab63fa\", \"#FFA15A\", \"#19d3f3\", \"#FF6692\", \"#B6E880\", \"#FF97FF\", \"#FECB52\"], \"font\": {\"color\": \"#2a3f5f\"}, \"geo\": {\"bgcolor\": \"white\", \"lakecolor\": \"white\", \"landcolor\": \"#E5ECF6\", \"showlakes\": true, \"showland\": true, \"subunitcolor\": \"white\"}, \"hoverlabel\": {\"align\": \"left\"}, \"hovermode\": \"closest\", \"mapbox\": {\"style\": \"light\"}, \"paper_bgcolor\": \"white\", \"plot_bgcolor\": \"#E5ECF6\", \"polar\": {\"angularaxis\": {\"gridcolor\": \"white\", \"linecolor\": \"white\", \"ticks\": \"\"}, \"bgcolor\": \"#E5ECF6\", \"radialaxis\": {\"gridcolor\": \"white\", \"linecolor\": \"white\", \"ticks\": \"\"}}, \"scene\": {\"xaxis\": {\"backgroundcolor\": \"#E5ECF6\", \"gridcolor\": \"white\", \"gridwidth\": 2, \"linecolor\": \"white\", \"showbackground\": true, \"ticks\": \"\", \"zerolinecolor\": \"white\"}, \"yaxis\": {\"backgroundcolor\": \"#E5ECF6\", \"gridcolor\": \"white\", \"gridwidth\": 2, \"linecolor\": \"white\", \"showbackground\": true, \"ticks\": \"\", \"zerolinecolor\": \"white\"}, \"zaxis\": {\"backgroundcolor\": \"#E5ECF6\", \"gridcolor\": \"white\", \"gridwidth\": 2, \"linecolor\": \"white\", \"showbackground\": true, \"ticks\": \"\", \"zerolinecolor\": \"white\"}}, \"shapedefaults\": {\"line\": {\"color\": \"#2a3f5f\"}}, \"ternary\": {\"aaxis\": {\"gridcolor\": \"white\", \"linecolor\": \"white\", \"ticks\": \"\"}, \"baxis\": {\"gridcolor\": \"white\", \"linecolor\": \"white\", \"ticks\": \"\"}, \"bgcolor\": \"#E5ECF6\", \"caxis\": {\"gridcolor\": \"white\", \"linecolor\": \"white\", \"ticks\": \"\"}}, \"title\": {\"x\": 0.05}, \"xaxis\": {\"automargin\": true, \"gridcolor\": \"white\", \"linecolor\": \"white\", \"ticks\": \"\", \"title\": {\"standoff\": 15}, \"zerolinecolor\": \"white\", \"zerolinewidth\": 2}, \"yaxis\": {\"automargin\": true, \"gridcolor\": \"white\", \"linecolor\": \"white\", \"ticks\": \"\", \"title\": {\"standoff\": 15}, \"zerolinecolor\": \"white\", \"zerolinewidth\": 2}}}, \"title\": {\"text\": \"Plotting the trendline y=0.00123x+6.778\"}, \"xaxis\": {\"anchor\": \"y\", \"domain\": [0.0, 1.0], \"title\": {\"text\": \"Time (months)\"}}, \"yaxis\": {\"anchor\": \"x\", \"domain\": [0.0, 1.0], \"title\": {\"text\": \"Temperature\"}}},\n",
       "                        {\"responsive\": true}\n",
       "                    ).then(function(){\n",
       "                            \n",
       "var gd = document.getElementById('343d299b-a3ea-4d88-a705-36108db0c785');\n",
       "var x = new MutationObserver(function (mutations, observer) {{\n",
       "        var display = window.getComputedStyle(gd).display;\n",
       "        if (!display || display === 'none') {{\n",
       "            console.log([gd, 'removed!']);\n",
       "            Plotly.purge(gd);\n",
       "            observer.disconnect();\n",
       "        }}\n",
       "}});\n",
       "\n",
       "// Listen for the removal of the full notebook cells\n",
       "var notebookContainer = gd.closest('#notebook-container');\n",
       "if (notebookContainer) {{\n",
       "    x.observe(notebookContainer, {childList: true});\n",
       "}}\n",
       "\n",
       "// Listen for the clearing of the current output cell\n",
       "var outputEl = gd.closest('.output');\n",
       "if (outputEl) {{\n",
       "    x.observe(outputEl, {childList: true});\n",
       "}}\n",
       "\n",
       "                        })\n",
       "                };\n",
       "                });\n",
       "            </script>\n",
       "        </div>"
      ]
     },
     "metadata": {},
     "output_type": "display_data"
    }
   ],
   "source": [
    "import plotly.express as px\n",
    "fig = px.line(data,'Time (months)',\"Temperature\",title=\"Plotting the trendline y=0.00123x+6.778\")\n",
    "fig.add_scatter(x=data['Time (months)'],y=data['rollingAVG'],name='Rolling average',\n",
    "                text= [f'<b>Day</b>: {x}<br><b>Rolling AVG</b>: {y}'for x,y in list(zip(data['Time (months)'].values, data['rollingAVG'].values))])\n",
    "fig.show()"
   ]
  },
  {
   "cell_type": "markdown",
   "metadata": {
    "slideshow": {
     "slide_type": "slide"
    }
   },
   "source": [
    "<h2 align='center'>But what if I don't know how to code?</h2>"
   ]
  },
  {
   "cell_type": "markdown",
   "metadata": {
    "slideshow": {
     "slide_type": "subslide"
    }
   },
   "source": [
    "![Callysto.ca Banner](https://github.com/callysto/curriculum-notebooks/blob/master/callysto-notebook-banner-top.jpg?raw=true)\n",
    "\n",
    "<h2 align='center'>Getting Started</h2>\n",
    "\n",
    "Getting started with Callysto: callysto.ca/get-started \n",
    "\n",
    "Find complete lesson plans here: https://callysto.ca/lesson-plans/ \n",
    "\n",
    "Find learning modules on statistics and math here: https://callysto.ca/learning_modules/\n",
    "\n",
    "Follow us to get updates on workshops, hackathons and webinars: @callysto_canada"
   ]
  }
 ],
 "metadata": {
  "celltoolbar": "Slideshow",
  "kernelspec": {
   "display_name": "Python 3",
   "language": "python",
   "name": "python3"
  },
  "language_info": {
   "codemirror_mode": {
    "name": "ipython",
    "version": 3
   },
   "file_extension": ".py",
   "mimetype": "text/x-python",
   "name": "python",
   "nbconvert_exporter": "python",
   "pygments_lexer": "ipython3",
   "version": "3.8.5"
  },
  "rise": {
   "autolaunch": false,
   "backimage": "Bgnd.jpg",
   "enable_chalkboard": true
  }
 },
 "nbformat": 4,
 "nbformat_minor": 4
}
