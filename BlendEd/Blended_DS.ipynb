{
 "cells": [
  {
   "cell_type": "markdown",
   "metadata": {
    "slideshow": {
     "slide_type": "slide"
    }
   },
   "source": [
    "![Callysto.ca Banner](https://github.com/callysto/curriculum-notebooks/blob/master/callysto-notebook-banner-top.jpg?raw=true)\n",
    "\n",
    "<h1 align='center'>Blended Digital Ed Conference 2020</h1>\n",
    "\n",
    "<h2 align='center'> Introduction to Data Science and Big Data for Educators</h2>\n",
    "\n",
    "<h3 align='center'>Laura G. Funderburk </h3>\n",
    "\n",
    "<h5 align='center'>On Twitter: @LGFunderburk, @callysto_canada </h5>"
   ]
  },
  {
   "cell_type": "markdown",
   "metadata": {
    "slideshow": {
     "slide_type": "slide"
    }
   },
   "source": [
    "<h2 align='center'>About the Callysto Program</h2>\n",
    "\n",
    "- Provide open educational infrastructure and learning resources\n",
    "- Focus on computational thinking and data science/literacy available \n",
    "- Use Jupyter notebooks as main platform\n",
    "- Host teacher and student training workshops\n",
    "\n",
    "<h3 align='center'>Brought to you by</h3>\n",
    "\n",
    "\n",
    "| | | |\n",
    "|-|-|-|\n",
    "|<img src=\"./images/Cybera_Logo_RBG_Colour.png\" alt=\"Drawing\" style=\"width: 300px;\"/>|<img src=\"./images/PIMS_Logos_Web_PIMS_Logo_Colour.png\" alt=\"Drawing\" style=\"width: 400px;\"/>| <img src=\"./images/With_Funding_Canada_Wordmark-colour_BIL-EN.png\" alt=\"Drawing\" style=\"width: 400px;\"/>|"
   ]
  },
  {
   "cell_type": "markdown",
   "metadata": {
    "slideshow": {
     "slide_type": "slide"
    }
   },
   "source": [
    "<h2 align='center'>What is a Jupyter notebook?</h2>\n",
    "\n",
    "A Jupyter notebook is an online document that can include both text and (Python) code in different “cells” or parts of the document.\n",
    "\n",
    "These documents run on Callysto Hub as well as Google Colab, IBM Watson Studio, Microsoft Azure Notebooks, and other places.\n",
    "\n",
    "Links in this slideshow (and on Callysto.ca) create copies of Jupyter notebooks in your (and your students’) Callysto Hub accounts.\n"
   ]
  },
  {
   "cell_type": "markdown",
   "metadata": {
    "slideshow": {
     "slide_type": "slide"
    }
   },
   "source": [
    "<h2 align='center'>Objectives</h2>\n",
    "\n",
    "Investigate how you can incorporate data science into your teaching in various subjects via the Callysto program.\n",
    "\n",
    "We’ll look specifically at how this can work in online asynchronous and synchronous environments.\n"
   ]
  },
  {
   "cell_type": "markdown",
   "metadata": {
    "slideshow": {
     "slide_type": "slide"
    }
   },
   "source": [
    "<h2 align='center'>Why Data Science?</h2>\n",
    "\n",
    "- The ability to process information in an analytical way is becoming increasingly important.\n",
    "\n",
    "- Educators are encouraged or expected to incorporate more coding and data analytics into their teaching. \n",
    "\n",
    "- Callysto is a free online platform designed for students in Grades 5 to 12. It is capable of engaging data visualizations, data processing, coding, and text formatting.\n",
    "\n",
    "- Data science processing skills are highly sought after. \n"
   ]
  },
  {
   "cell_type": "markdown",
   "metadata": {
    "slideshow": {
     "slide_type": "slide"
    }
   },
   "source": [
    "<h2 align='center'>What is Data?</h2>\n",
    "\n",
    "Data is a collection of information. Usually obtained (or collected) to address a specific issue. \n",
    "\n",
    "Examples of data:\n",
    "\n",
    "- Daily number of COVID-19 cases in Canada.\n",
    "- The grades of your class. \n",
    "- Census. \n",
    "\n",
    "| |\n",
    "|-|\n",
    "|<img src=\"./images/COVIDCanada.png\" alt=\"Drawing\" style=\"width: 500px;\"/>|"
   ]
  },
  {
   "cell_type": "markdown",
   "metadata": {
    "slideshow": {
     "slide_type": "slide"
    }
   },
   "source": [
    "<h2 align='center'>What is Data Science?</h2>\n",
    "\n",
    "Data science involves <b>obtaining</b> and <b>communicating</b> information from (usually large) sets of observations.\n",
    "\n",
    "\n",
    "| |\n",
    "|-|\n",
    "| <img src=\"./images/what-is-data-science-workflow.jpg\" alt=\"Drawing\" style=\"width:800px;\"/> |\n",
    "\n"
   ]
  },
  {
   "cell_type": "markdown",
   "metadata": {
    "slideshow": {
     "slide_type": "subslide"
    }
   },
   "source": [
    "<h2 align='center'>What is Data Science?</h2>\n",
    "\n",
    "Data science focuses on 4 major areas:\n",
    "\n",
    "\n",
    " - <h4>Describing </h4>\n",
    "\n",
    " - <h4>Diagnosing</h4>\n",
    "\n",
    " - <h4>Predicting</h4>\n",
    "\n",
    " - <h4>Prescribing</h4>\n",
    "\n",
    "\n",
    "Callysto is focused on <b>describing</b>, i.e. interpreting results. "
   ]
  },
  {
   "cell_type": "markdown",
   "metadata": {
    "slideshow": {
     "slide_type": "slide"
    }
   },
   "source": [
    "<h2 align='center'> Data Literacy </h2>\n",
    "\n",
    "- We used available data to look for trends\n",
    "- We used computational tools to put a number to it\n",
    "- We can argue, with data, as to the significance of that number"
   ]
  },
  {
   "cell_type": "markdown",
   "metadata": {
    "slideshow": {
     "slide_type": "slide"
    }
   },
   "source": [
    "<h2 align='center'>Callysto and Data Literacy</h2>\n",
    "\n",
    "- Visualizations of data help with analysis and storytelling. Usually includes tables and graphs\n",
    "- Providing the tools and training to access, transform, visualize, and interpret (open) data\n",
    "- Using Python\n",
    "- Popular, free, and open source programming language\n",
    "- Active contributor community to popular data science libraries\n"
   ]
  },
  {
   "cell_type": "markdown",
   "metadata": {
    "slideshow": {
     "slide_type": "slide"
    }
   },
   "source": [
    "<h2 align='center'>Examples of visualization</h2>"
   ]
  },
  {
   "cell_type": "code",
   "execution_count": null,
   "metadata": {
    "slideshow": {
     "slide_type": "skip"
    }
   },
   "outputs": [],
   "source": [
    "import plotly.express as px\n",
    "import pandas as pd"
   ]
  },
  {
   "cell_type": "code",
   "execution_count": null,
   "metadata": {
    "slideshow": {
     "slide_type": "fragment"
    }
   },
   "outputs": [],
   "source": [
    "blended_participant_preferences = ['pie','chocolate','chips','peanuts','other']\n",
    "numbers = [10,20,100,1,20]\n",
    "# Plot it\n",
    "px.bar(y= numbers,x = blended_participant_preferences,\n",
    "      labels={'x':\"Preference\",'y':'Frequency'}, title='Most popular snack')"
   ]
  },
  {
   "cell_type": "code",
   "execution_count": null,
   "metadata": {
    "slideshow": {
     "slide_type": "subslide"
    }
   },
   "outputs": [],
   "source": [
    "preferences = pd.DataFrame({\"Snack\":blended_participant_preferences,\"Count\":numbers})\n",
    "px.pie(preferences,values='Count',names='Snack',title='Most popular snack')"
   ]
  },
  {
   "cell_type": "markdown",
   "metadata": {
    "slideshow": {
     "slide_type": "slide"
    }
   },
   "source": [
    "<h2 align='center'>Another example</h2>"
   ]
  },
  {
   "cell_type": "code",
   "execution_count": null,
   "metadata": {
    "slideshow": {
     "slide_type": "fragment"
    }
   },
   "outputs": [],
   "source": [
    "import plotly.express as px\n",
    "vals = [1,2,4,8,16,32,64,128,256]\n",
    "px.line(x= [i for i in range(9)],y=vals,title='Exponential curve for 2**x',labels={\"x\":\"x\",\"y\":\"2**x\"})"
   ]
  },
  {
   "cell_type": "markdown",
   "metadata": {
    "slideshow": {
     "slide_type": "slide"
    }
   },
   "source": [
    "<h2 align='center'>What is this graph telling us?</h2>\n",
    "\n",
    "- Every time the independent variable increases by x, the dependent variable increases by $2^x$\n",
    "\n",
    "- We can summarize this as a function:\n",
    "\n",
    "| Independent variable $x$| Dependent variable $y$|\n",
    "|-|-|\n",
    "|1| 2|\n",
    "|2|4|\n",
    "|3|8|\n",
    "|4|16|\n",
    "\n",
    "- The relationship we are studying is $y(x) = 2^x$\n",
    "\n",
    "- This is also known as \"exponential growth\""
   ]
  },
  {
   "cell_type": "markdown",
   "metadata": {
    "slideshow": {
     "slide_type": "slide"
    }
   },
   "source": [
    "<h2 align='center'>How can you approach data in your classroom?</h2>\n",
    "\n",
    "Example -- Global warming\n",
    "\n",
    "- Where do we get data? (e.g. Vancouver temp data)\n",
    "\n",
    "- How do we analyze it? (e.g. Spread sheet. Plot it)\n",
    "\n",
    "- Deeper analysis? (e.g. linear trend in temperature)\n",
    "\n",
    "- Go further (Other cities? Other sources of data?)"
   ]
  },
  {
   "cell_type": "markdown",
   "metadata": {
    "slideshow": {
     "slide_type": "subslide"
    }
   },
   "source": [
    "Vancouver data source: \n",
    "- https://vancouver.weatherstats.ca/charts/temperature-wyearly.html\n",
    "\n",
    "\n",
    "|Visualizing Temperature during July (1935 - 2020)|\n",
    "|-|\n",
    "|<img src=\"./images/Temps.png\" alt=\"Drawing\" style=\"width: 1000px;\"/>|"
   ]
  },
  {
   "cell_type": "markdown",
   "metadata": {
    "slideshow": {
     "slide_type": "slide"
    }
   },
   "source": [
    "<h2 align='center'>Look at the numbers on a table</h2>"
   ]
  },
  {
   "cell_type": "code",
   "execution_count": null,
   "metadata": {
    "slideshow": {
     "slide_type": "fragment"
    }
   },
   "outputs": [],
   "source": [
    "weather_data = pd.read_csv(\"./data/weatherstats_vancouver_extreme_monthly.csv\")\n",
    "\n",
    "weather_data.head()"
   ]
  },
  {
   "cell_type": "markdown",
   "metadata": {
    "slideshow": {
     "slide_type": "slide"
    }
   },
   "source": [
    "<h2 align='center'>Let's visualize</h2>"
   ]
  },
  {
   "cell_type": "code",
   "execution_count": null,
   "metadata": {
    "slideshow": {
     "slide_type": "subslide"
    }
   },
   "outputs": [],
   "source": [
    "px.line(weather_data[0:200],x='date',y='max_temperature_v',\n",
    "       title='Max temperature',\n",
    "        labels={\"max_temperature_v\":\"Maximum temperature\"}\n",
    "       )"
   ]
  },
  {
   "cell_type": "markdown",
   "metadata": {
    "slideshow": {
     "slide_type": "slide"
    }
   },
   "source": [
    "<h2 align='center'> Can we find a trend line?  </h2>\n",
    "\n",
    "Using Excel, we can use those numbers to obtain a trend line: \n",
    "\n",
    "$$y = 0.00123 x + 6.778$$\n",
    "\n",
    "\n",
    "- $x$ is measured in months, so temperature is rising at .00123 degrees per month\n",
    "\n",
    "- $ .00123 * 12 * 100 = 1.5 $ degrees per century.\n",
    "\n",
    "#### Looks like a significant rise over a long period!"
   ]
  },
  {
   "cell_type": "markdown",
   "metadata": {
    "slideshow": {
     "slide_type": "slide"
    }
   },
   "source": [
    "## Using Python we can visualize this relationship\n",
    "\n",
    "$$y = 0.00123 x + 6.778$$\n"
   ]
  },
  {
   "cell_type": "code",
   "execution_count": null,
   "metadata": {
    "slideshow": {
     "slide_type": "fragment"
    }
   },
   "outputs": [],
   "source": [
    "import pandas as pd\n",
    "import numpy as np\n",
    "\n",
    "x  = np.linspace(0,12*10,num=12*10)\n",
    "y = 0.00123*x+6.778 + 10*np.sin(2*np.pi*x/12)\n",
    "data = pd.DataFrame({\"Temperature\":y, \"Time (months)\": x})\n",
    "rolling_mean = data.Temperature.rolling(window=10).mean()\n",
    "data['rollingAVG'] = rolling_mean"
   ]
  },
  {
   "cell_type": "markdown",
   "metadata": {
    "slideshow": {
     "slide_type": "slide"
    }
   },
   "source": [
    "<h2 align='center'>Visualizing the trend-line</h2>\n"
   ]
  },
  {
   "cell_type": "code",
   "execution_count": null,
   "metadata": {
    "slideshow": {
     "slide_type": "fragment"
    }
   },
   "outputs": [],
   "source": [
    "import plotly.express as px\n",
    "fig = px.line(data,'Time (months)',\"Temperature\",title=\"Plotting the trendline y=0.00123x+6.778\")\n",
    "fig.add_scatter(x=data['Time (months)'],y=data['rollingAVG'],name='Rolling average',\n",
    "                text= [f'<b>Day</b>: {x}<br><b>Rolling AVG</b>: {y}'for x,y in list(zip(data['Time (months)'].values, data['rollingAVG'].values))])\n",
    "fig.show()"
   ]
  },
  {
   "cell_type": "markdown",
   "metadata": {
    "slideshow": {
     "slide_type": "slide"
    }
   },
   "source": [
    "<h2 align='center'>What does the graph tell us?</h2>\n",
    "\n",
    "This is a great opportunity to exercise data literacy. Being able to derive meaning from a graph is a crucial skill to have when handling data. \n",
    "\n",
    "Our Callysto program will soon launch a \"Data Viz of the Week\" (posted on our Twitter), where we explore different topics and guide you through the process of interpreting a graph."
   ]
  },
  {
   "cell_type": "markdown",
   "metadata": {
    "slideshow": {
     "slide_type": "slide"
    }
   },
   "source": [
    "![Callysto.ca Banner](https://github.com/callysto/curriculum-notebooks/blob/master/callysto-notebook-banner-top.jpg?raw=true)\n",
    "\n",
    "<h2 align='center'>Getting Started</h2>\n",
    "\n",
    "- Feedback form https://tinyurl.com/y2a3uhdt\n",
    "- Online self-paced courses (courses.callysto.ca)  \n",
    "- Preview our learning modules https://callysto.github.io/curriculum-jbook/intro.html\n",
    "- Contact us for “in-class” workshops, teacher PD, virtual hackathons, and more\n",
    "\n",
    "Email: contact@callysto.ca\n",
    "\n",
    "On Twitter: @callysto_canada\n",
    "\n",
    "Site: https://www.callysto.ca\n",
    "\n",
    "YouTube https://tinyurl.com/y6c7a3ke"
   ]
  }
 ],
 "metadata": {
  "celltoolbar": "Slideshow",
  "kernelspec": {
   "display_name": "Python 3",
   "language": "python",
   "name": "python3"
  },
  "language_info": {
   "codemirror_mode": {
    "name": "ipython",
    "version": 3
   },
   "file_extension": ".py",
   "mimetype": "text/x-python",
   "name": "python",
   "nbconvert_exporter": "python",
   "pygments_lexer": "ipython3",
   "version": "3.8.5"
  },
  "rise": {
   "autolaunch": false,
   "backimage": "Bgnd.jpg",
   "enable_chalkboard": true
  }
 },
 "nbformat": 4,
 "nbformat_minor": 4
}
