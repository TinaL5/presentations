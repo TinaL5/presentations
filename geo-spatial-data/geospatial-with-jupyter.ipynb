{
 "cells": [
  {
   "cell_type": "markdown",
   "metadata": {
    "slideshow": {
     "slide_type": "skip"
    }
   },
   "source": [
    "## To use this slideshow:\n",
    "- Run All, using the menu item: Kernel/Restart & Run All\n",
    "- Return to this top cell\n",
    "- click on \"Slideshow\" menu item above, that looks like this:\n",
    "![](images/SlideIcon.png)"
   ]
  },
  {
   "cell_type": "markdown",
   "metadata": {
    "slideshow": {
     "slide_type": "skip"
    }
   },
   "source": [
    "![](https://github.com/callysto/callysto-sample-notebooks/blob/master/notebooks/images/Callysto_Notebook-Banner_Top_06.06.18.jpg?raw=true)\n"
   ]
  },
  {
   "cell_type": "markdown",
   "metadata": {
    "slideshow": {
     "slide_type": "slide"
    }
   },
   "source": [
    "![](NotebookBanner_Usinggeospatialclassrooms.jpg)\n",
    "#### link here http://tinyurl.com/y9b474gd \n",
    "    \n",
    "### June 25, 2020 with LG Funderburk  "
   ]
  },
  {
   "cell_type": "markdown",
   "metadata": {
    "slideshow": {
     "slide_type": "slide"
    }
   },
   "source": [
    "## Overview\n",
    "\n",
    "1. What is geospatial data?\n",
    "2. What are the main components in geospatial data?\n",
    "3. Main types of geospatial data\n",
    "4. Why geospatial data?\n",
    "5. An example using open data: Public Art in Vancouver"
   ]
  },
  {
   "cell_type": "markdown",
   "metadata": {
    "slideshow": {
     "slide_type": "slide"
    }
   },
   "source": [
    "## What is geospatial data\n",
    "\n",
    "Geospatial data is data about objects, events, or phenomena that have a location on the surface of the earth. \n",
    "\n",
    "The location can be static in the short-term \n",
    "\n",
    "* examples: location of a road, impact of a natural disaster event.\n",
    "\n",
    "Or dynamic \n",
    "\n",
    "* examples: a moving vehicle or pedestrian, the spread of an infectious disease. \n",
    "\n"
   ]
  },
  {
   "cell_type": "markdown",
   "metadata": {
    "slideshow": {
     "slide_type": "slide"
    }
   },
   "source": [
    "## What does geospatial data look like?\n",
    "\n",
    "\n",
    "<center><img src=\"./images/Geographical-distribution-of-sampling-sites-Soil-sampling-locations-across-Britain-are.png\" alt=\"Drawing\" style=\"width: 360px;\"/></center>\n",
    "\n",
    "Source: Malik et al. (2018). Land use driven change in soil pH affects microbial carbon cycling processes. Nature Communications. 9. 10.1038/s41467-018-05980-1. "
   ]
  },
  {
   "cell_type": "markdown",
   "metadata": {
    "slideshow": {
     "slide_type": "slide"
    }
   },
   "source": [
    "## What is geospatial data composed of?\n",
    "\n",
    "Geospatial data combines:\n",
    "\n",
    "1. Location information (usually coordinates), \n",
    "\n",
    "2. Attribute information (the characteristics of the object, event, or phenomena), \n",
    "\n",
    "3. Temporal information (the time or life span at which the location and attributes exist)."
   ]
  },
  {
   "cell_type": "markdown",
   "metadata": {
    "slideshow": {
     "slide_type": "slide"
    }
   },
   "source": [
    "## Types of geospatial data\n",
    "\n",
    "The two primary types of geospatial data are raster and vector data. \n",
    "\n",
    "Raster data is stored as a grid of values which are rendered on a map as pixels. Each pixel value represents an area on the Earth’s surface. \n",
    "\n",
    "<center><img src=\"./images/raster.png\" alt=\"Drawing\" style=\"width: 300px;\"/></center>\n",
    "\n",
    "\n",
    "Vector data is stored as a collection of `x,y` pairs (each pair represents an individual location). The pairs `(x,y)` are points - which can be joined to form lines or polygons. In this workshop we will work with vector data. \n",
    "\n",
    "<center><img src=\"./images/VR.png\" alt=\"Drawing\" style=\"width: 300px;\"/></center>\n"
   ]
  },
  {
   "cell_type": "markdown",
   "metadata": {
    "slideshow": {
     "slide_type": "slide"
    }
   },
   "source": [
    "## Why geospatial data?\n",
    "\n",
    "A lot of geospatial data can be useful when studying roads, localities, water bodies, public amenities, and even diseases. \n"
   ]
  },
  {
   "cell_type": "code",
   "execution_count": null,
   "metadata": {
    "scrolled": false,
    "slideshow": {
     "slide_type": "skip"
    }
   },
   "outputs": [],
   "source": [
    "%%capture\n",
    "!pip install folium "
   ]
  },
  {
   "cell_type": "code",
   "execution_count": null,
   "metadata": {
    "slideshow": {
     "slide_type": "skip"
    }
   },
   "outputs": [],
   "source": [
    "import requests as r\n",
    "import pandas as pd\n",
    "from folium.plugins import MarkerCluster\n",
    "import plotly.express as px\n",
    "import plotly.graph_objects as go\n",
    "# Plot the data on map (map location is provided) using folium and for loop for plotting all the points\n",
    "import folium"
   ]
  },
  {
   "cell_type": "code",
   "execution_count": null,
   "metadata": {
    "slideshow": {
     "slide_type": "skip"
    }
   },
   "outputs": [],
   "source": [
    "# Reading in the data\n",
    "deaths = pd.read_csv(\"datasets/deaths.csv\")\n",
    "\n",
    "\n",
    "# Define the new names of your columns\n",
    "newcols = {\n",
    "    'Death': 'death_count',\n",
    "    'X coordinate': 'x_latitude', \n",
    "    'Y coordinate': 'y_longitude' \n",
    "    }\n",
    "\n",
    "# Rename your columns\n",
    "deaths.rename(columns = newcols,inplace = True)\n",
    "\n",
    "# Create `locations` by subsetting only Latitude and Longitude from the dataset \n",
    "locations = deaths[['x_latitude','y_longitude']]\n",
    "\n",
    "# Create `deaths_list` by transforming the DataFrame to list of lists \n",
    "deaths_list = locations.values.tolist()\n",
    "\n",
    "# Import the data\n",
    "pumps = pd.read_csv(\"datasets/pumps.csv\")\n",
    "\n",
    "# Subset the DataFrame and select just ['X coordinate', 'Y coordinate'] columns\n",
    "locations_pumps = pumps[['X coordinate', 'Y coordinate']]\n",
    "\n",
    "# Transform the DataFrame to list of lists in form of ['X coordinate', 'Y coordinate'] pairs\n",
    "pumps_list = locations_pumps.values.tolist()\n",
    "\n",
    "# Create a for loop and plot the data using folium (use previous map + add another layer)\n",
    "\n",
    "map0 = folium.Map(location=[51.5132119,-0.13666], tiles='stamenterrain', zoom_start=17)\n",
    "# Provide initial coordinates\n",
    "for point in range(0, len(deaths_list)):\n",
    "    folium.CircleMarker(deaths_list[point], \n",
    "                        radius=8, color='red', fill=True, fill_color='red', opacity = 0.4).add_to(map0)"
   ]
  },
  {
   "cell_type": "markdown",
   "metadata": {
    "slideshow": {
     "slide_type": "slide"
    }
   },
   "source": [
    "### Example: 1854 Cholera Outbreak in Soho, London\n",
    "\n",
    "* In 1854 Soho was hit hard by a terrible outbreak of cholera. \n",
    "* At the time it was believed that cholera was caused by \"bad air\", however Dr. John Snow, who lived near Soho, was skeptical of this theory. \n",
    "* Dr. Snow used what we now know as geospatial data to argue that the disease was spread by drinking contaminated water.\n",
    "* He found the source of the outbreak.\n",
    "\n",
    "\n",
    "|death_count|\tx_latitude\t|y_longitude|\n",
    "|-|-|-|\n",
    "|\t1\t|51.513418\t|-0.137930|\n",
    "|\t1\t|51.513418\t|-0.137930|\n",
    "|\t1\t|51.513418\t|-0.137930|\n",
    "\n",
    "Dataset obtained from Datacamp's Project: Recreating John Snow's Ghost Map\n",
    "\n",
    "Visit https://learn.datacamp.com/projects/132 to learn more. "
   ]
  },
  {
   "cell_type": "code",
   "execution_count": null,
   "metadata": {
    "slideshow": {
     "slide_type": "slide"
    }
   },
   "outputs": [],
   "source": [
    "# Add pumps\n",
    "map1 = map0\n",
    "for point in range(0, len(pumps_list)):\n",
    "    folium.Marker(pumps_list[point], popup=pumps['Pump Name'][point]).add_to(map1)\n",
    "    \n",
    "map1"
   ]
  },
  {
   "cell_type": "markdown",
   "metadata": {
    "slideshow": {
     "slide_type": "slide"
    }
   },
   "source": [
    "### Sept 8 1854 - bye bye Broad St. pump handle\n",
    "\n",
    "Although people were skeptical of Dr. Snow's theory, they removed the handle of the pump located on Broad St. \n",
    "\n",
    "Later it was found that the pump was contaminated with sewage.Here is a picture of the pump in Broad Street. \n",
    "\n",
    "<center><img src=\"./images/900px-John_Snow_memorial_and_pub.jpg\" alt=\"Drawing\" style=\"width: 280px;\"/></center>\n",
    "\n",
    "Source: https://commons.wikimedia.org/wiki/File:John_Snow_memorial_and_pub.jpg\n"
   ]
  },
  {
   "cell_type": "markdown",
   "metadata": {
    "slideshow": {
     "slide_type": "slide"
    }
   },
   "source": [
    "### Visualizing an open data set: Vancouver Public Art\n",
    "\n",
    "Let's download Open Data from Vancouver using its API\n",
    "\n",
    "Website: https://opendata.vancouver.ca/explore/dataset/public-art/information/?location=14,49.264,-123.15047\n",
    "\n",
    "Raw data\n",
    "\n",
    "https://opendata.vancouver.ca/api/records/1.0/search/?dataset=public-art&q=&rows=500&facet=type&facet=status&facet=sitename&facet=siteaddress&facet=primarymaterial&facet=ownership&facet=neighbourhood&facet=artists&facet=photocredits"
   ]
  },
  {
   "cell_type": "code",
   "execution_count": null,
   "metadata": {
    "slideshow": {
     "slide_type": "slide"
    }
   },
   "outputs": [],
   "source": [
    "import requests as r\n",
    "import pandas as pd\n",
    "art_url = 'https://opendata.vancouver.ca/api/records/1.0/search/?dataset=public-art&q=&rows=500&facet=type&facet=status&facet=sitename&facet=siteaddress&facet=primarymaterial&facet=ownership&facet=neighbourhood&facet=artists&facet=photocredits'\n",
    "API_response_art =r.get(art_url)\n",
    "art_data = API_response_art.json()\n",
    "\n",
    "art_df = pd.json_normalize(art_data,record_path='records')\n",
    "\n",
    "art_df.head()"
   ]
  },
  {
   "cell_type": "markdown",
   "metadata": {
    "slideshow": {
     "slide_type": "slide"
    }
   },
   "source": [
    "Notice that the coordinates are in a single pair [-123.113918, 49.261185]\t\n",
    "\n",
    "We will need to split these into two columns, Latitude and Longitude. "
   ]
  },
  {
   "cell_type": "code",
   "execution_count": null,
   "metadata": {
    "slideshow": {
     "slide_type": "slide"
    }
   },
   "outputs": [],
   "source": [
    "SC_COORDINATES = [49.2827, -123.1207]\n",
    "lon = []\n",
    "lat = []\n",
    "for item in art_df['fields.geom.coordinates'].to_list():\n",
    "    if type(item) !=float:\n",
    "        lon.append(item[0])\n",
    "        lat.append(item[1])\n",
    "    else:\n",
    "        lon.append(SC_COORDINATES[1])\n",
    "        lat.append(SC_COORDINATES[0])\n",
    "        \n",
    "art_df['longitude'] = lon\n",
    "art_df['latitude'] = lat\n",
    "art_df.head()"
   ]
  },
  {
   "cell_type": "markdown",
   "metadata": {},
   "source": [
    "Let's plot our coordinates as a scatter plot."
   ]
  },
  {
   "cell_type": "code",
   "execution_count": null,
   "metadata": {
    "slideshow": {
     "slide_type": "slide"
    }
   },
   "outputs": [],
   "source": [
    "# Attention! IN PYTHON WE USE LON, LAT not LAT, LON\n",
    "# LON -180 to 180, LAT -90 to 90\n",
    "px.scatter(art_df,x=\"longitude\",y='latitude',title='Locations of public art as a scatterplot')"
   ]
  },
  {
   "cell_type": "markdown",
   "metadata": {
    "slideshow": {
     "slide_type": "slide"
    }
   },
   "source": [
    "Let's add a background map. \n",
    "\n",
    "First, let's locate Vancouver. Its coordinates are given by \n",
    "\n",
    "49.2827° N, 123.1207° W\n",
    "\n",
    "These coordinates are given in EPSG 4326 - we will transform into EPSF 3857 and plot. Note: coordinate systems are outside the scope of this workshop. \n",
    "\n",
    "The transformation can be computed using Python as follows:"
   ]
  },
  {
   "cell_type": "code",
   "execution_count": null,
   "metadata": {
    "slideshow": {
     "slide_type": "skip"
    }
   },
   "outputs": [],
   "source": [
    "%%capture\n",
    "!pip install contextily\n",
    "print(\"Success!\")"
   ]
  },
  {
   "cell_type": "code",
   "execution_count": null,
   "metadata": {
    "slideshow": {
     "slide_type": "slide"
    }
   },
   "outputs": [],
   "source": [
    "# Transforming the data \n",
    "from pyproj import Proj, transform\n",
    "outProj = Proj(init='epsg:3857')\n",
    "inProj = Proj(init='epsg:4326')\n",
    "x1,y1 = SC_COORDINATES[0],SC_COORDINATES[1]\n",
    "x2,y2 = transform(inProj,outProj,y1,x1)\n",
    "\n",
    "print(\"Original coordinates: \",SC_COORDINATES[1],\", \",SC_COORDINATES[0])\n",
    "print(\"Transformed coordinates: \",x2,\", \",y2)"
   ]
  },
  {
   "cell_type": "code",
   "execution_count": null,
   "metadata": {
    "slideshow": {
     "slide_type": "slide"
    }
   },
   "outputs": [],
   "source": [
    "import contextily \n",
    "import matplotlib.pyplot as plt\n",
    "# A figure of all restaurants with background\n",
    "fig, ax = plt.subplots(figsize=(15,15))\n",
    "ax.plot(x2, y2, 'o', markersize=1)\n",
    "contextily.add_basemap(ax)\n",
    "plt.show()"
   ]
  },
  {
   "cell_type": "markdown",
   "metadata": {
    "slideshow": {
     "slide_type": "slide"
    }
   },
   "source": [
    "We can apply this transformation to the remaining coordinates in the scatter plot using a for loop.\n",
    "\n",
    "If you are curious ask and I can show you at the end of this workshop."
   ]
  },
  {
   "cell_type": "code",
   "execution_count": null,
   "metadata": {
    "slideshow": {
     "slide_type": "skip"
    }
   },
   "outputs": [],
   "source": [
    "transformedLat = []\n",
    "transformedLng = []\n",
    "for lat,lng in zip(art_df['latitude'].to_list(),art_df['longitude'].to_list()):\n",
    "    x2,y2 = transform(inProj,outProj,lng,lat)\n",
    "    transformedLat.append(y2)\n",
    "    transformedLng.append(x2)\n"
   ]
  },
  {
   "cell_type": "markdown",
   "metadata": {},
   "source": [
    "The result is a static map with the location of art."
   ]
  },
  {
   "cell_type": "code",
   "execution_count": null,
   "metadata": {
    "slideshow": {
     "slide_type": "slide"
    }
   },
   "outputs": [],
   "source": [
    "fig, ax = plt.subplots(figsize=(15,15))\n",
    "ax.plot(transformedLng, transformedLat, 'o', markersize=5)\n",
    "contextily.add_basemap(ax)\n",
    "plt.show()"
   ]
  },
  {
   "cell_type": "markdown",
   "metadata": {
    "slideshow": {
     "slide_type": "slide"
    }
   },
   "source": [
    "#### Can we make this interactive? \n",
    "\n",
    "Yes!!!"
   ]
  },
  {
   "cell_type": "code",
   "execution_count": null,
   "metadata": {
    "slideshow": {
     "slide_type": "skip"
    }
   },
   "outputs": [],
   "source": [
    "map_osm=folium.Map(location=SC_COORDINATES, zoom_start=10, tiles='Stamen Terrain')\n",
    "marker_cluster = MarkerCluster().add_to(map_osm) \n",
    "MAX_rec = len(art_df)"
   ]
  },
  {
   "cell_type": "code",
   "execution_count": null,
   "metadata": {
    "scrolled": false,
    "slideshow": {
     "slide_type": "slide"
    }
   },
   "outputs": [],
   "source": [
    "for each in art_df[0:MAX_rec].iterrows():\n",
    "    location = [each[1]['latitude'],each[1]['longitude']]\n",
    "    popup = (str(each[1]['fields.url']) + \":\" + str(each[1]['fields.artistprojectstatement']))\n",
    "    marker = folium.Marker(location=location, popup= popup)\n",
    "    marker.add_to(marker_cluster)\n",
    "display(map_osm)"
   ]
  },
  {
   "cell_type": "markdown",
   "metadata": {
    "slideshow": {
     "slide_type": "slide"
    }
   },
   "source": [
    "![](https://github.com/callysto/callysto-sample-notebooks/blob/master/notebooks/images/Callysto_Notebook-Banners_Bottom_06.06.18.jpg?raw=true)"
   ]
  }
 ],
 "metadata": {
  "celltoolbar": "Slideshow",
  "kernelspec": {
   "display_name": "Python 3",
   "language": "python",
   "name": "python3"
  },
  "language_info": {
   "codemirror_mode": {
    "name": "ipython",
    "version": 3
   },
   "file_extension": ".py",
   "mimetype": "text/x-python",
   "name": "python",
   "nbconvert_exporter": "python",
   "pygments_lexer": "ipython3",
   "version": "3.7.4"
  },
  "rise": {
   "autolaunch": false,
   "backimage": "Bgnd0.jpg"
  }
 },
 "nbformat": 4,
 "nbformat_minor": 4
}
