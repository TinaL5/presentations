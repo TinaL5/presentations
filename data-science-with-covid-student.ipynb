{
 "cells": [
  {
   "cell_type": "markdown",
   "metadata": {},
   "source": [
    "![Callysto.ca Banner](https://github.com/callysto/curriculum-notebooks/blob/master/callysto-notebook-banner-top.jpg?raw=true)\n",
    "\n",
    "<a href=\"https://hub.callysto.ca/jupyter/hub/user-redirect/git-pull?repo=https%3A%2F%2Fgithub.com%2Fcallysto%2Fpresentations&branch=master&subPath=data-science-with-covid-student.ipynb&depth=1\" target=\"_parent\"><img src=\"https://raw.githubusercontent.com/callysto/presentations/master/open-in-callysto-button.svg?sanitize=true\" width=\"123\" height=\"24\" alt=\"Open in Callysto\"/></a>"
   ]
  },
  {
   "cell_type": "markdown",
   "metadata": {},
   "source": [
    "# Introduction to Data Science with COVID-19 Data\n",
    "\n",
    "This Jupyter notebook uses [COVID-19 statistics from Johns Hopkins CSSE](https://github.com/CSSEGISandData/COVID-19).\n",
    "\n",
    "First, `▶Run` the next cell to import the data. Once the data set has been downloaded and imported into a [DataFrame](https://www.tutorialspoint.com/python_pandas/python_pandas_dataframe.htm), it will be displayed.\n",
    "\n",
    "You can change the date, but make sure you use the format `'MM-DD-YYYY'` as they do in the CSSE data set."
   ]
  },
  {
   "cell_type": "code",
   "execution_count": null,
   "metadata": {},
   "outputs": [],
   "source": [
    "date = '04-06-2020'\n",
    "\n",
    "import pandas as pd\n",
    "\n",
    "csv_url = 'https://raw.githubusercontent.com/CSSEGISandData/COVID-19/master/csse_covid_19_data/csse_covid_19_daily_reports/'+date+'.csv'\n",
    "covid_stats = pd.read_csv(csv_url)\n",
    "covid_stats"
   ]
  },
  {
   "cell_type": "markdown",
   "metadata": {},
   "source": [
    "## Data Cleaning\n",
    "\n",
    "`Run` the next cell to clean up the data. We'll add up values for each country and create a new dataframe."
   ]
  },
  {
   "cell_type": "code",
   "execution_count": null,
   "metadata": {},
   "outputs": [],
   "source": [
    "# If you prefer specific countries, put a # in front of the next line and remove the six ' marks around the next list\n",
    "country_list = covid_stats['Country_Region'].unique()\n",
    "'''\n",
    "country_list = ['Italy', 'Spain', 'Germany', 'France', \n",
    "                'Israel', 'US', 'United Kingdom',\n",
    "                'Singapore', 'Australia', 'Canada',\n",
    "                'China', 'Argentina', 'Russia', 'India']\n",
    "'''\n",
    "\n",
    "df = pd.DataFrame(columns=['Country', 'Confirmed', 'Recovered', 'Deaths'])\n",
    "\n",
    "for country in country_list:\n",
    "    confirmed = covid_stats[covid_stats['Country_Region']==country]['Confirmed'].sum()\n",
    "    recovered = covid_stats[covid_stats['Country_Region']==country]['Recovered'].sum()\n",
    "    deaths = covid_stats[covid_stats['Country_Region']==country]['Deaths'].sum()\n",
    "    data_row = {'Country':country,'Confirmed':confirmed,'Recovered':recovered,'Deaths':deaths}\n",
    "    df = df.append(data_row, ignore_index=True)\n",
    "\n",
    "df.sort_values('Confirmed',ascending=False)"
   ]
  },
  {
   "cell_type": "markdown",
   "metadata": {},
   "source": [
    "## Add World Data\n",
    "\n",
    "We can also add up all of the values in the data set to get worldwide totals."
   ]
  },
  {
   "cell_type": "code",
   "execution_count": null,
   "metadata": {},
   "outputs": [],
   "source": [
    "confirmed = covid_stats['Confirmed'].sum()\n",
    "recovered = covid_stats['Recovered'].sum()\n",
    "deaths = covid_stats['Deaths'].sum()\n",
    "world_values = {'Country':'World','Confirmed':confirmed,'Recovered':recovered,'Deaths':deaths}\n",
    "df = df.append(world_values, ignore_index=True)\n",
    "df.tail()"
   ]
  },
  {
   "cell_type": "markdown",
   "metadata": {},
   "source": [
    "## Sorting Data\n",
    "\n",
    "`Run` the next cell to sort the data by a particular column using the code:\n",
    "\n",
    "```python\n",
    "df.sort_values('Confirmed', ascending=False).head(16)\n",
    "```\n",
    "\n",
    "The `ascending=False` is optional (the default is `True`), and `.head(16)` shows just the first 16 rows."
   ]
  },
  {
   "cell_type": "code",
   "execution_count": null,
   "metadata": {},
   "outputs": [],
   "source": []
  },
  {
   "cell_type": "markdown",
   "metadata": {},
   "source": [
    "## Selecting Specific Countries\n",
    "\n",
    "To see a DataFrame of specific countries, use either of the following two options:\n",
    "\n",
    "```python\n",
    "df[df['Country']=='Canada']\n",
    "```\n",
    "\n",
    "or\n",
    "\n",
    "```python\n",
    "list_of_countries = ['Canada', 'China', 'Italy']\n",
    "df[df['Country'].isin(list_of_countries)]\n",
    "```"
   ]
  },
  {
   "cell_type": "code",
   "execution_count": null,
   "metadata": {},
   "outputs": [],
   "source": []
  },
  {
   "cell_type": "markdown",
   "metadata": {},
   "source": [
    "## Graphing Data\n",
    "\n",
    "We will use the `cufflinks` library to create a graph of our data set.\n",
    "\n",
    "```python\n",
    "import cufflinks as cf\n",
    "cf.go_offline()\n",
    "df.sort_values('Confirmed').iplot(kind='bar',x='Country',y='Confirmed')\n",
    "```\n",
    "\n",
    "Another option:\n",
    "\n",
    "```python\n",
    "import cufflinks as cf\n",
    "cf.go_offline()\n",
    "df.sort_values('Confirmed',ascending=False).head(20).iplot(kind='bar',x='Country',y='Confirmed',title='COVID Cases')\n",
    "```\n",
    "\n",
    "To exclude the `World` row, you can `.drop(184)`."
   ]
  },
  {
   "cell_type": "code",
   "execution_count": null,
   "metadata": {},
   "outputs": [],
   "source": []
  },
  {
   "cell_type": "markdown",
   "metadata": {},
   "source": [
    "**Hopefully that's an interesting introduction to data science using online COVID-19 data.**"
   ]
  },
  {
   "cell_type": "markdown",
   "metadata": {},
   "source": [
    "[![Callysto.ca License](https://github.com/callysto/curriculum-notebooks/blob/master/callysto-notebook-banner-bottom.jpg?raw=true)](https://github.com/callysto/curriculum-notebooks/blob/master/LICENSE.md)"
   ]
  }
 ],
 "metadata": {
  "kernelspec": {
   "display_name": "Python 3",
   "language": "python",
   "name": "python3"
  },
  "language_info": {
   "codemirror_mode": {
    "name": "ipython",
    "version": 3
   },
   "file_extension": ".py",
   "mimetype": "text/x-python",
   "name": "python",
   "nbconvert_exporter": "python",
   "pygments_lexer": "ipython3",
   "version": "3.7.3"
  }
 },
 "nbformat": 4,
 "nbformat_minor": 2
}
