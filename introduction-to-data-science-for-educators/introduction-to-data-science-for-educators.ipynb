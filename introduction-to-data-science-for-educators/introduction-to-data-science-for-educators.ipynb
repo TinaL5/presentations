{
 "cells": [
  {
   "cell_type": "markdown",
   "metadata": {
    "slideshow": {
     "slide_type": "slide"
    }
   },
   "source": [
    "![Callysto.ca Banner](https://github.com/callysto/curriculum-notebooks/blob/master/callysto-notebook-banner-top.jpg?raw=true)\n",
    "\n",
    "## Introduction to Data Science and Big Data For Educators\n",
    "\n",
    "David Hay | [@misterhay](https://twitter.com/misterhay)\n",
    "\n",
    "[Callysto.ca](https://callysto.ca) | [@callysto_canada](https://twitter.com/callysto_canada)\n",
    "\n",
    "<a href='https://creativecommons.org/licenses/by/4.0/'><img src='images/ccby.png' alt='CC BY' width='100'></a>"
   ]
  },
  {
   "cell_type": "markdown",
   "metadata": {
    "slideshow": {
     "slide_type": "subslide"
    }
   },
   "source": [
    "## Introduction to Data Science and Big Data For Educators\n",
    "\n",
    "The ability to critically analyse large sets of data is becoming increasingly important, and there are many applications in education. We will introduce participants to the fundamentals of data science, and look at how you can incorporate data science into your teaching. You will come away with an increased understanding of this topic as well as some practical activities to use in your learning environment."
   ]
  },
  {
   "cell_type": "markdown",
   "metadata": {
    "slideshow": {
     "slide_type": "slide"
    }
   },
   "source": [
    "# Data Science\n",
    "\n",
    "Data science involves obtaining and **communicating** information from (usually large) sets of observations.\n",
    "* collecting, cleaning, manipulating, visualizing, synthesizing\n",
    "* describing, diagnosing, predicting, prescribing"
   ]
  },
  {
   "cell_type": "markdown",
   "metadata": {
    "slideshow": {
     "slide_type": "slide"
    }
   },
   "source": [
    "## Why is Data Science Important?\n",
    "\n"
   ]
  },
  {
   "cell_type": "markdown",
   "metadata": {
    "slideshow": {
     "slide_type": "slide"
    }
   },
   "source": [
    "## What Does Data Science Look Like?\n",
    "\n",
    "e.g. Gapminder animation"
   ]
  },
  {
   "cell_type": "markdown",
   "metadata": {
    "slideshow": {
     "slide_type": "slide"
    }
   },
   "source": [
    "## How Can We Introduce Data Science?\n",
    "\n"
   ]
  },
  {
   "cell_type": "markdown",
   "metadata": {
    "slideshow": {
     "slide_type": "slide"
    }
   },
   "source": [
    "# Jupyter Notebooks\n",
    "\n",
    "A Jupyter notebook is an online document that can include both **formatted text** and (Python) `code` in different “cells” or parts of the document.\n",
    "\n",
    "These documents run on [Callysto Hub](https://hub.callysto.ca/) as well as [Google Colab](https://colab.research.google.com/), [IBM Watson Studio](https://dataplatform.cloud.ibm.com/docs/content/wsj/analyze-data/notebooks-parent.html), and other places.\n",
    "\n",
    "We'll be using Python code in Jupyter notebooks for data science and computational thinking.\n",
    "\n",
    "Links in this slideshow (and on Callysto.ca) create copies of Jupyter notebooks in your (and your students’) Callysto Hub accounts. This slideshow is also a Jupyter notebook."
   ]
  },
  {
   "cell_type": "markdown",
   "metadata": {
    "slideshow": {
     "slide_type": "slide"
    }
   },
   "source": [
    "## Visualizing Data\n",
    "\n",
    "Visualizations of data help with analysis and storytelling.\n",
    "* Usually include tables and graphs\n",
    "\n",
    "In a Jupyter notebook with Python code, a graph can be as easy as:"
   ]
  },
  {
   "cell_type": "code",
   "execution_count": null,
   "metadata": {
    "slideshow": {
     "slide_type": "subslide"
    }
   },
   "outputs": [],
   "source": [
    "import plotly.express as px\n",
    "px.pie(names=['left-handed', 'right-handed'], values=[3, 21], title='Handedness of People in our Class')"
   ]
  },
  {
   "cell_type": "code",
   "execution_count": null,
   "metadata": {
    "slideshow": {
     "slide_type": "subslide"
    }
   },
   "outputs": [],
   "source": [
    "px.scatter(x=[1, 2, 3, 4], y=[1, 4, 9, 16])"
   ]
  },
  {
   "cell_type": "code",
   "execution_count": null,
   "metadata": {
    "slideshow": {
     "slide_type": "subslide"
    }
   },
   "outputs": [],
   "source": [
    "labels = ['English','French','Aboriginal Languages','Other']\n",
    "values = [56.9,21.3,0.6,21.2]\n",
    "px.bar(x=labels, y=values, title='First Languages Spoken in Canada')"
   ]
  },
  {
   "cell_type": "markdown",
   "metadata": {
    "slideshow": {
     "slide_type": "slide"
    }
   },
   "source": [
    "## Using Online Data\n",
    "\n",
    "We can import data from webpages or other files hosted online.\n",
    "\n",
    "### Examples of Data Sources\n",
    "\n",
    "* Wikipedia\n",
    "* Gapminder\n",
    "* Statistics Canada\n",
    "* Canada Open Data\n",
    "* Alberta Open Data\n",
    " * Many cities and municipalities have open data portals"
   ]
  },
  {
   "cell_type": "code",
   "execution_count": null,
   "metadata": {
    "scrolled": true,
    "slideshow": {
     "slide_type": "subslide"
    }
   },
   "outputs": [],
   "source": [
    "url = 'https://en.wikipedia.org/wiki/List_of_Alberta_general_elections'\n",
    "import pandas as pd\n",
    "df = pd.read_html(url)[2]\n",
    "df"
   ]
  },
  {
   "cell_type": "code",
   "execution_count": null,
   "metadata": {
    "slideshow": {
     "slide_type": "subslide"
    }
   },
   "outputs": [],
   "source": [
    "px.histogram(df, x='Winner', title='Political Parties Elected in Alberta')"
   ]
  },
  {
   "cell_type": "markdown",
   "metadata": {
    "slideshow": {
     "slide_type": "subslide"
    }
   },
   "source": [
    "### CSV Data Online"
   ]
  },
  {
   "cell_type": "code",
   "execution_count": null,
   "metadata": {
    "slideshow": {
     "slide_type": "subslide"
    }
   },
   "outputs": [],
   "source": [
    "from geopy.geocoders import Nominatim\n",
    "geolocator = Nominatim(user_agent='Callysto Demonstration')\n",
    "coordinates = geolocator.geocode('Grande Prairie, AB')\n",
    "temperature_url = 'https://climateknowledgeportal.worldbank.org/api/data/get-download-data/historical/tas/1901-2016/'+str(coordinates.latitude)+'$cckp$'+str(coordinates.longitude)+'/'+str(coordinates.latitude)+'$cckp$'+str(coordinates.longitude)\n",
    "temperatures = pd.read_csv(temperature_url)\n",
    "temperatures"
   ]
  },
  {
   "cell_type": "code",
   "execution_count": null,
   "metadata": {
    "slideshow": {
     "slide_type": "subslide"
    }
   },
   "outputs": [],
   "source": [
    "px.scatter(temperatures, x=' Statistics', y='Temperature - (Celsius)', color=' Year', \n",
    "           title='Monthy Average Temperatures in Grande Prairie from 1901-2016')"
   ]
  },
  {
   "cell_type": "code",
   "execution_count": null,
   "metadata": {
    "slideshow": {
     "slide_type": "subslide"
    }
   },
   "outputs": [],
   "source": [
    "px.line(temperatures, x=' Year', y='Temperature - (Celsius)', color=' Statistics', \n",
    "       title='Monthy Average Temperatures in Grande Prairie from 1901-2016')"
   ]
  },
  {
   "cell_type": "code",
   "execution_count": null,
   "metadata": {
    "slideshow": {
     "slide_type": "subslide"
    }
   },
   "outputs": [],
   "source": [
    "px.bar(temperatures, x=' Statistics', y='Temperature - (Celsius)', animation_frame=' Year', \n",
    "      title='Temperatures in Grande Prairie').update_layout(yaxis_range=[-30, 30])"
   ]
  },
  {
   "cell_type": "markdown",
   "metadata": {
    "slideshow": {
     "slide_type": "slide"
    }
   },
   "source": [
    "## Data Formatting\n",
    "\n",
    "You may find data in \"tidy\" or \"wide\" format.\n",
    "\n",
    "### Tidy (Long) Data\n",
    "\n",
    "One observation per row.\n",
    "\n",
    "Name|Assignment|Mark\n",
    "-|-|-\n",
    "Marie|Radium Report|88\n",
    "Marie|Polonium Lab|84\n",
    "Jane|Primate Report|94\n",
    "Jane|Institute Project|77\n",
    "Mae|Endeavour Launch|92\n",
    "Jennifer|Genetics Project|87\n",
    "\n",
    "### Wide Data\n",
    "\n",
    "Multiple columns for variables.\n",
    "\n",
    "Name|Science Lab|Science Report|Spelling Test|Math Worksheet|Discussion Questions\n",
    "-|-|-|-|-|-\n",
    "Ryder|80|60|90|70|80\n",
    "Marshall|60|70|70|80|90\n",
    "Skye|90|80|90|90|80\n",
    "Everest|80|90|80|70|90\n",
    "\n",
    "Data can be converted from one format to another, depending on how it is going to be visualized."
   ]
  },
  {
   "cell_type": "markdown",
   "metadata": {
    "slideshow": {
     "slide_type": "slide"
    }
   },
   "source": [
    "# Markdown\n",
    "\n",
    "For formatting text in notebooks, e.g. **bold** and *italics*.\n",
    "\n",
    "[Markdown Cheatsheet](https://www.ibm.com/support/knowledgecenter/SSHGWL_1.2.3/analyze-data/markd-jupyter.html)\n",
    "\n",
    "## LaTeX\n",
    "\n",
    "Mathematical and scientific formatting, e.g. \n",
    "\n",
    "$m = \\frac{E}{c^2}$\n",
    "\n",
    "$6 CO_2 + 6H_2O → C_6H_12O_6 + 6 O_2$\n",
    "\n",
    "[LaTeX Cheatsheet](https://davidhamann.de/2017/06/12/latex-cheat-sheet)"
   ]
  },
  {
   "cell_type": "markdown",
   "metadata": {
    "slideshow": {
     "slide_type": "slide"
    }
   },
   "source": [
    "# Curriculum Notebooks\n",
    "\n",
    "The [Callysto](https://www.callysto.ca) project has been developing free curriculum-aligned notebooks and other resources."
   ]
  },
  {
   "cell_type": "markdown",
   "metadata": {
    "slideshow": {
     "slide_type": "subslide"
    }
   },
   "source": [
    "<a href='https://www.callysto.ca/learning-modules/'><img src='images/learning_modules.png' target='_blank' alt=\"Callysto learning modules\" width='90%' /></a>"
   ]
  },
  {
   "cell_type": "markdown",
   "metadata": {
    "slideshow": {
     "slide_type": "subslide"
    }
   },
   "source": [
    "## Some of my Favorite Notebooks\n",
    "\n",
    "* [Statistics Project](https://github.com/callysto/curriculum-notebooks/tree/master/Mathematics/StatisticsProject)\n",
    "* [Orphan Wells](https://github.com/callysto/curriculum-notebooks/blob/master/SocialStudies/OrphanWells/orphan-wells.ipynb)\n",
    "* [Survive the Middle Ages](https://github.com/callysto/curriculum-notebooks/blob/master/SocialStudies/SurviveTheMiddleAges/survive-the-middle-ages.ipynb)\n",
    "* [Asthma Rates](https://github.com/callysto/curriculum-notebooks/blob/master/Health/AsthmaRates/asthma-rates.ipynb)\n",
    "* [Climate Graphs](https://github.com/callysto/curriculum-notebooks/blob/master/Science/Climatograph/climatograph.ipynb)\n",
    "* [Shakespeare and Statistics](https://github.com/callysto/curriculum-notebooks/blob/master/EnglishLanguageArts/ShakespeareStatistics/shakespeare-and-statistics.ipynb)\n",
    "* [Word Clouds](https://github.com/callysto/curriculum-notebooks/blob/master/EnglishLanguageArts/WordClouds/word-clouds.ipynb)"
   ]
  },
  {
   "cell_type": "markdown",
   "metadata": {
    "slideshow": {
     "slide_type": "slide"
    }
   },
   "source": [
    "# Data Visualizations and Interesting Problems\n",
    "\n",
    "[Weekly Data Visualizations](https://www.callysto.ca/weekly-data-visualization) are pre-made, introductory data science lessons. They are a way for students to develop critical thinking and problem solving skills. We start with a question, find an open dataset to answer the question, and then ask students to reflect.\n",
    "\n",
    "[Interesting Problems](https://www.callysto.ca/interesting-problems/) are notebooks and often videos series that demonstrate critical thinking skills, and use programming code to solve interesting problems."
   ]
  },
  {
   "cell_type": "markdown",
   "metadata": {
    "slideshow": {
     "slide_type": "slide"
    }
   },
   "source": [
    "# Hackathons\n",
    "\n",
    "Online hackathons, either facilitated or [planned yourself](https://docs.google.com/document/d/1tnHhiE554xAmMRbU9REiJZ0rkJmxtNlkkQVCFfCoowE), enable students and educators to collaborate intensely to explore data and solve problems."
   ]
  },
  {
   "cell_type": "markdown",
   "metadata": {
    "slideshow": {
     "slide_type": "slide"
    }
   },
   "source": [
    "# Introducing Data Science to Students\n",
    "\n",
    "Visualizations: [explore](https://www.youcubed.org/resource/data-talks), modify, [create](http://bit.ly/2RXTLz8)\n",
    "* Can start with Callysto resources\n",
    "* Consider \"ask three then me\"\n",
    "\n",
    "[Educator Starter Kit](https://www.callysto.ca/starter-kit)\n",
    "\n",
    "[Online courses](https://www.callysto.ca/distance-learning)\n",
    "\n",
    "[Basics of Python and Jupyter](https://hub.callysto.ca/jupyter/hub/user-redirect/git-pull?repo=https%3A%2F%2Fgithub.com%2Fcallysto%2Fpresentations&branch=master&subPath=IntroductionToJupyterAndPython/callysto-introduction-to-jupyter-and-python-1.ipynb&depth=1)\n",
    "\n",
    "[Troubleshooting](https://www.callysto.ca/troubleshooting)"
   ]
  },
  {
   "cell_type": "markdown",
   "metadata": {
    "slideshow": {
     "slide_type": "slide"
    }
   },
   "source": [
    "# Turtles\n",
    "\n",
    "Another way to introduce students to Python, Jupyter, and data science.\n",
    "\n",
    "Start with Python turtles:\n",
    "* [Python Turtles student version](https://hub.callysto.ca/jupyter/hub/user-redirect/git-pull?repo=https%3A%2F%2Fgithub.com%2Fcallysto%2FTMTeachingTurtles&branch=master&subPath=TMPythonTurtles/turtles-and-python-intro-student.ipynb&depth=1)\n",
    "* [Python Turtles instructor version (key)](https://hub.callysto.ca/jupyter/hub/user-redirect/git-pull?repo=https%3A%2F%2Fgithub.com%2Fcallysto%2FTMTeachingTurtles&branch=master&subPath=TMPythonTurtles/turtles-and-python-intro-instructor.ipynb&depth=1)"
   ]
  },
  {
   "cell_type": "code",
   "execution_count": null,
   "metadata": {
    "slideshow": {
     "slide_type": "subslide"
    }
   },
   "outputs": [],
   "source": [
    "from mobilechelonian import Turtle\n",
    "t = Turtle()\n",
    "t.forward(50)\n",
    "t.right(90)\n",
    "t.penup()\n",
    "t.forward(30)"
   ]
  },
  {
   "cell_type": "markdown",
   "metadata": {
    "slideshow": {
     "slide_type": "slide"
    }
   },
   "source": [
    "### Enter to win an Amazon gift card by completing a Callysto feedback survey: [bit.ly/callysto-feedback](http://bit.ly/callysto-feedback)\n",
    "\n",
    "## Contact\n",
    "\n",
    "[contact@callysto.ca](mailto:contact@callysto.ca) or [@callysto_canada](https://twitter.com/callysto_canada) for in-class workshops, virtual hackathons, questions, etc.\n",
    "\n",
    "Also check out [Callysto.ca](https://www.callysto.ca) and the [YouTube channel](https://www.youtube.com/channel/UCPdq1SYKA42EZBvUlNQUAng)."
   ]
  },
  {
   "cell_type": "markdown",
   "metadata": {
    "slideshow": {
     "slide_type": "slide"
    }
   },
   "source": [
    "<img src='images/callysto_logo.png' alt='Callysto Logo' width='80%'>\n",
    "<img src='images/callysto_partners2.png' alt='Callysto Partners' width='80%'>\n",
    "\n",
    "[![Callysto.ca License](https://github.com/callysto/curriculum-notebooks/blob/master/callysto-notebook-banner-bottom.jpg?raw=true)](https://github.com/callysto/curriculum-notebooks/blob/master/LICENSE.md)"
   ]
  }
 ],
 "metadata": {
  "celltoolbar": "Slideshow",
  "kernelspec": {
   "display_name": "Python 3",
   "language": "python",
   "name": "python3"
  },
  "language_info": {
   "codemirror_mode": {
    "name": "ipython",
    "version": 3
   },
   "file_extension": ".py",
   "mimetype": "text/x-python",
   "name": "python",
   "nbconvert_exporter": "python",
   "pygments_lexer": "ipython3",
   "version": "3.8.3"
  }
 },
 "nbformat": 4,
 "nbformat_minor": 4
}
