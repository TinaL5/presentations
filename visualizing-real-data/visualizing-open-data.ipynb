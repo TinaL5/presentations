{
 "cells": [
  {
   "cell_type": "markdown",
   "metadata": {
    "slideshow": {
     "slide_type": "skip"
    }
   },
   "source": [
    "## To use this slideshow:\n",
    "- Run all of the cells, using the menu item: **Kernel** then **Restart & Run All**\n",
    "- Return to this top cell\n",
    "- click on \"Slideshow\" menu item above, that looks like this:\n",
    "![](images/SlideIcon.png)"
   ]
  },
  {
   "cell_type": "markdown",
   "metadata": {
    "slideshow": {
     "slide_type": "skip"
    }
   },
   "source": [
    "![](https://github.com/callysto/callysto-sample-notebooks/blob/master/notebooks/images/Callysto_Notebook-Banner_Top_06.06.18.jpg?raw=true)\n"
   ]
  },
  {
   "cell_type": "markdown",
   "metadata": {
    "slideshow": {
     "slide_type": "slide"
    }
   },
   "source": [
    "\n",
    "<img src=\"Graphing-real-world data_Notebook-Banner.jpg\" alt=\"Drawing\" style=\"width: 1600px;\"/>\n",
    "\n",
    "#### http://tinyurl.com/yd8q2lk6\n",
    "    \n",
    "May 14, 2020 with Laura G. Funderburk\n",
    "\n",
    "\n"
   ]
  },
  {
   "cell_type": "code",
   "execution_count": null,
   "metadata": {
    "slideshow": {
     "slide_type": "skip"
    }
   },
   "outputs": [],
   "source": [
    "import requests\n",
    "import json\n",
    "url = 'https://health.canada.ca/en/epathogen/search'\n",
    "\n",
    "resp = requests.get(url)\n",
    "data = resp.json()"
   ]
  },
  {
   "cell_type": "code",
   "execution_count": null,
   "metadata": {
    "slideshow": {
     "slide_type": "skip"
    }
   },
   "outputs": [],
   "source": [
    "import pandas as pd\n",
    "pathogen_cont_level = []\n",
    "pathogen_name = []\n",
    "pathogen_type = []\n",
    "human_risk_group = []\n",
    "animal_risk_group = []\n",
    "containtment_considerations = []\n",
    "for key in data['results'].keys():\n",
    "    pathogen_cont_level.append(data['results'][key]['ContainmentLevel'])\n",
    "    pathogen_name.append(data['results'][key]['name'])\n",
    "    pathogen_type.append(data['results'][key]['type'])\n",
    "    human_risk_group.append(data['results'][key]['HumanRiskGroup'])\n",
    "    animal_risk_group.append(data['results'][key]['AnimalRiskGroup'])\n",
    "    containtment_considerations.append(data['results'][key]['ConsiderationsForContainment'])\n",
    "    \n",
    "dictionary_struc = {\n",
    "                    \"Pathogen-Containment-Level\":pathogen_cont_level,\n",
    "                    \"Pathogen-Considerations-For-Containment\":containtment_considerations,\n",
    "                    \"Pathogen-Name\":pathogen_name,\n",
    "                    \"Pathogen-Type\":pathogen_type,\n",
    "                    \"Human-Risk-Group\":human_risk_group,\n",
    "                    \"Animal-Risk-Group\":animal_risk_group\n",
    "}\n",
    "pathogen_df = pd.DataFrame(dictionary_struc)\n",
    "unique_pathogen_name = pathogen_df.drop_duplicates(subset=[\"Pathogen-Name\"])"
   ]
  },
  {
   "cell_type": "markdown",
   "metadata": {
    "slideshow": {
     "slide_type": "slide"
    }
   },
   "source": [
    "## Overview\n",
    "- What is data?\n",
    "- What is data visualization and what makes it useful?\n",
    "- Examples of data visualization\n",
    "- An example using open data: ePATHogen Risk Group Dataset "
   ]
  },
  {
   "cell_type": "markdown",
   "metadata": {
    "slideshow": {
     "slide_type": "slide"
    }
   },
   "source": [
    "## What is data?\n",
    "\n",
    "- We refer to \"data\" as a given collection of information\n",
    "\n",
    "- Information can be numeric or categorical\n",
    "\n",
    "- For example: collecting information on the total number of people of age 30 or older in a city has both numberical data (number of people) and categorical (age 30 or older, in a city)\n"
   ]
  },
  {
   "cell_type": "markdown",
   "metadata": {
    "slideshow": {
     "slide_type": "slide"
    }
   },
   "source": [
    "## What is data visualization?\n",
    "\n",
    "- The process of representing data in a graphical or pictorial format\n",
    "\n",
    "\n",
    "<center><img src=\"SinglePlot.png\" alt=\"Drawing\" style=\"width: 500px;\"/></center>\n"
   ]
  },
  {
   "cell_type": "markdown",
   "metadata": {
    "slideshow": {
     "slide_type": "slide"
    }
   },
   "source": [
    "## What makes data visualization useful?\n",
    "\n",
    "- Data visualizations can be helpful when dealing with large amounts of data \n",
    "\n",
    "- Data visualizations can reveal patterns \n",
    "\n",
    "- Application in multiple areas of interest:\n",
    "\n",
    "    - Census data (key population metrics)\n",
    "    \n",
    "    - Grade distribution of a class\n",
    "    \n",
    "    - Economics\n",
    "    \n",
    "    - Biology (phylogenetics for example)"
   ]
  },
  {
   "cell_type": "markdown",
   "metadata": {
    "slideshow": {
     "slide_type": "slide"
    }
   },
   "source": [
    "## An example using Python and Jupyter notebooks\n",
    "\n",
    "Let's take class grades and plot frequency of grades. \n",
    "\n",
    "Suppose we have 20 students and we want to know how the group did overall.  Staring at the table is not necessarily the best way to identify a pattern. Let's plot. \n",
    "\n",
    "| Student Number | Final Grade for course | Student Number | Final Grade for course | \n",
    "| -| -| -| -|\n",
    "| 100| A |110| A |\n",
    "| 101| B |111| B |\n",
    "| 102| C |112| C |\n",
    "| 103| C |113| F |\n",
    "| 104| C |114| F |\n",
    "| 105| B |115| B |\n",
    "| 106| B |116| C |\n",
    "| 107| B |117| F |\n",
    "| 108| B |118| B |\n",
    "| 109| B |119| A |\n"
   ]
  },
  {
   "cell_type": "code",
   "execution_count": null,
   "metadata": {
    "slideshow": {
     "slide_type": "slide"
    }
   },
   "outputs": [],
   "source": [
    "import matplotlib.pyplot as plt\n",
    "%matplotlib inline\n",
    "student_number = [str(100 +i) for i in range(20)]\n",
    "grade = [\"A\",\"B\",\"C\",\"C\",\"C\",\"B\",\"B\",\"B\",\"B\",\"B\",\"A\",\"B\",\"C\",\"F\",\"F\",\"B\",\"C\",\"F\",\"B\",\"A\"]\n",
    "\n",
    "plt.title(\"Grade frequency for class\")\n",
    "plt.xlabel(\"Grade\")\n",
    "plt.ylabel(\"Frequency\")\n",
    "plt.hist(grade);\n",
    "\n",
    "plt.show()"
   ]
  },
  {
   "cell_type": "markdown",
   "metadata": {
    "slideshow": {
     "slide_type": "slide"
    }
   },
   "source": [
    "## An example using open data: ePATHogen Risk Group Dataset\n",
    "\n",
    "Publisher - Current Organization Name: Public Health Agency of Canada\n",
    "\n",
    "#### Questions: \n",
    "\n",
    "1. We want to understand what pathogens are being studied by Canadian researchers\n",
    "\n",
    "2. We want to understand how these pathogenes are classified using the following metrics: \n",
    "\n",
    "    2.1 Pathogen Containment Level\n",
    "    \n",
    "    2.2 Human Risk Group\n",
    "    \n",
    "###### Source https://health.canada.ca/en/epathogen \n",
    "###### Licence https://open.canada.ca/en/open-government-licence-canada "
   ]
  },
  {
   "cell_type": "markdown",
   "metadata": {
    "slideshow": {
     "slide_type": "slide"
    }
   },
   "source": [
    "## Disclaimer: \n",
    "\n",
    "The exercises in this notebook are purely for exploratory and educational purposes. The information here should not be taken as official advice or recommendations at the individual, provincial, national, or international level. "
   ]
  },
  {
   "cell_type": "markdown",
   "metadata": {
    "slideshow": {
     "slide_type": "slide"
    }
   },
   "source": [
    "## Human Risk Group (RG)\n",
    "\n",
    "Classification of biological material based on:\n",
    "\n",
    "- pathogenicity (does it cause disease)\n",
    "- virulence (how severe is the disease)\n",
    "- risk of spread\n",
    "- availability of effective treatments\n",
    "\n",
    "It describes, among other things, the risk to the health of individuals and the public. \n",
    "\n",
    "Source: https://www.canada.ca/en/public-health/services/canadian-biosafety-standards-guidelines/second-edition.html#a2.2 "
   ]
  },
  {
   "cell_type": "markdown",
   "metadata": {
    "slideshow": {
     "slide_type": "slide"
    }
   },
   "source": [
    "## Containment Level (CL) \n",
    "\n",
    "In order to study and handle pathogens, researchers developed standards for handling infectious material safely in a laboratory. \n",
    "\n",
    "There are four containment levels ranging from a basic laboratory (containment level CL1), to the highest level of containment (containment level CL4).\n",
    "\n",
    "\n",
    "Source: https://www.canada.ca/en/public-health/services/canadian-biosafety-standards-guidelines/second-edition.html#a2.2 "
   ]
  },
  {
   "cell_type": "markdown",
   "metadata": {
    "slideshow": {
     "slide_type": "notes"
    }
   },
   "source": [
    "### Containment Level (CL)\n",
    "\n",
    "Minimum physical containment and operational practice requirements for handling infectious material or toxins safely in laboratory, large scale production, and animal work environments. There are four containment levels ranging from a basic laboratory (CL1) to the highest level of containment (CL4). \n",
    "\n",
    "The Canadian Biosafety Standard (CBS) describes three containment levels regulated by the Public Health Agency of Canada (PHAC) and the Canadian Food Inspection Agency (CFIA), ranging from the lowest level permitted to work with pathogens, toxins, and other regulated infectious material (CL2) to the highest level of containment (CL4). A containment zone itself is a physical area that meets the requirements for a specified containment level. \n",
    "\n",
    "### Risk group (RG)\n",
    "\n",
    "The classification of biological material based on its inherent characteristics, including pathogenicity, virulence, risk of spread, and availability of effective prophylactic or therapeutic treatments, that describes the risk to the health of individuals and the public as well as the health of animals and the animal population."
   ]
  },
  {
   "cell_type": "markdown",
   "metadata": {
    "slideshow": {
     "slide_type": "slide"
    }
   },
   "source": [
    "## Categorizing Risk Groups and Containment Levels\n",
    "\n",
    "| Risk Group| Containment Level | Risk to Individual | Risk to Community |\n",
    "| -| - | - | -| \n",
    "| RG1 | CL1|Low | Low |\n",
    "| RG2| CL2 | Moderate | Low |\n",
    "| RG3| CL3 | High | Low |\n",
    "| RG4| CL4 | High | High |\n",
    "\n",
    "In general, the containment level and risk group of the pathogen are the same (e.g., RG2 pathogens are handled at CL2); however, there are exceptions. \n",
    "\n",
    "Let's explore data!"
   ]
  },
  {
   "cell_type": "markdown",
   "metadata": {
    "slideshow": {
     "slide_type": "notes"
    }
   },
   "source": [
    "2.3.1.1 Risk Group 1 (RG1; low individual and community risk)\n",
    "A microorganism, nucleic acid, or protein that is either a) not capable of causing human or animal disease; or b) capable of causing human or animal disease, but unlikely to do so. RG1 organisms capable of causing disease are considered pathogens that pose a low risk to the health of individuals or animals, and a low risk to public health and the animal population. RG1 pathogens can be opportunistic and may pose a threat to immunocompromised individuals. Neither of the RG1 subsets is regulated by the PHAC or the CFIA due to the low risk to public health and the animal population.\n",
    "\n",
    "2.3.1.2 Risk Group 2 (RG2; moderate individual risk, low community risk)\n",
    "A pathogen or toxin that poses a moderate risk to the health of individuals or animals, and a low risk to public health and the animal population. These pathogens are able to cause serious disease in a human or animal but are unlikely to do so. Effective treatment and preventive measures are available and the risk of spread of diseases caused by these pathogens is low. Examples of RG2 human pathogens are included in Schedule 2 of the HPTA.\n",
    "\n",
    "2.3.1.3 Risk Group 3 (RG3; high individual risk, low community risk)\n",
    "A pathogen that poses a high risk to the health of individuals or animals, and a low risk to public health. These pathogens are likely to cause serious disease in a human or animal. Effective treatment and preventive measures are usually available and the risk of spread of disease caused by these pathogens is low for the public. The risk of spread to the animal population, however, can range from low to high depending on the pathogen. Examples of RG3 human pathogens are included in Schedule 3 of the HPTA.\n",
    "\n",
    "2.3.1.4 Risk Group 4 (RG4; high individual risk, high community risk)\n",
    "A pathogen that poses a high risk to the health of individuals or animals and a high risk to public health. These pathogens are likely to cause serious disease in a human or animal which can often lead to death. Effective treatment and preventive measures are not usually available and the risk of spread of disease caused by these pathogens is high for the public. The risk of spread of disease to the animal population, however, ranges from low to high depending on the pathogen. Examples of RG4 human pathogens are included in Schedule 4 of the HPTA."
   ]
  },
  {
   "cell_type": "code",
   "execution_count": null,
   "metadata": {
    "slideshow": {
     "slide_type": "slide"
    }
   },
   "outputs": [],
   "source": [
    "import requests\n",
    "import json\n",
    "url = 'https://health.canada.ca/en/epathogen/search'\n",
    "\n",
    "resp = requests.get(url)\n",
    "data = resp.json()\n",
    "\n",
    "# ... plus a tiny bit of manipulation \n",
    "\n",
    "unique_pathogen_name.head()"
   ]
  },
  {
   "cell_type": "markdown",
   "metadata": {
    "slideshow": {
     "slide_type": "slide"
    }
   },
   "source": [
    "### Time for a quick poll.... \n",
    "\n",
    "What human risk group do you think the SARS-CoV-2, the virus responsible for causing COVID-19 in humans, belongs to?"
   ]
  },
  {
   "cell_type": "code",
   "execution_count": null,
   "metadata": {
    "scrolled": true,
    "slideshow": {
     "slide_type": "slide"
    }
   },
   "outputs": [],
   "source": [
    "# Let's find SARS-CoV-2\n",
    "print(\"Finding SARS-CoV-2\")\n",
    "display(unique_pathogen_name[unique_pathogen_name[\"Pathogen-Name\"].str.contains(\"SARS-CoV-2\")])\n",
    "\n",
    "# Display pathogens in different risk levels\n",
    "#print(\"Finding Pathogens in RG4\")\n",
    "#display(unique_pathogen_name[unique_pathogen_name[\"Human-Risk-Group\"]==\"RG4\"].head())"
   ]
  },
  {
   "cell_type": "markdown",
   "metadata": {
    "slideshow": {
     "slide_type": "slide"
    }
   },
   "source": [
    "## Activity: \n",
    "Pick a pathogen and find a picture - share something of interest with the group\n",
    "\n",
    "<center><img src=\"./images/Zika-Virus-20-M-1.jpg\" alt=\"Drawing\" style=\"width: 200px;\"/></center>\n",
    "<center>Tick-borne encephalitis virus</center>\n",
    "\n",
    "Human viral infectious disease involving the central nervous system. Transmitted by the bite of infected ticks, found in woodland habitats. \n",
    "No specific antiviral therapy for TBE. Treatment relies on supportive management. Meningitis, encephalitis or meningomyelitis require hospitalisation and supportive care based on syndrome severity. Classified as RG4 and CL4. "
   ]
  },
  {
   "cell_type": "markdown",
   "metadata": {
    "slideshow": {
     "slide_type": "slide"
    }
   },
   "source": [
    "## Reflect: \n",
    "\n",
    "Why do you think SARS-CoV-2 was categorized as RG3 and not RG4? \n",
    "\n",
    "\n",
    "| Risk Group| Containment Level | Risk to Individual | Risk to Community |\n",
    "| -| - | - | -| \n",
    "| RG1 | CL1|Low | Low |\n",
    "| RG2| CL2 | Moderate | Low |\n",
    "| RG3| CL3 | High | Low |\n",
    "| RG4| CL4 | High | High |"
   ]
  },
  {
   "cell_type": "markdown",
   "metadata": {
    "slideshow": {
     "slide_type": "slide"
    }
   },
   "source": [
    "## Questions of interest\n",
    "\n",
    "- What else can we learn about the data? \n",
    "- How many different kinds of pathogens are there?\n",
    "- How are they classified according to RG and CL?"
   ]
  },
  {
   "cell_type": "code",
   "execution_count": null,
   "metadata": {
    "scrolled": false,
    "slideshow": {
     "slide_type": "slide"
    }
   },
   "outputs": [],
   "source": [
    "#!pip install plotly==4.4.1 --user\n",
    "import plotly_express as px\n",
    "category = \"Pathogen-Type\"\n",
    "#display(unique_pathogen_name[category].value_counts())\n",
    "display(unique_pathogen_name.head(0))\n",
    "px.histogram(unique_pathogen_name,category,\n",
    "            title=\"Distribution of data points in dataset\").update_xaxes(categoryorder= \"total ascending\")"
   ]
  },
  {
   "cell_type": "markdown",
   "metadata": {
    "slideshow": {
     "slide_type": "slide"
    }
   },
   "source": [
    "## RG/CL Classification for each Pathogen\n",
    "\n",
    "Most pathogens are classified as RG1 and RG2. \n",
    "\n",
    "Can we identify how are different pathogens classified? \n",
    "\n",
    "How do bacteria differentiate from viruses in the way they are classified? \n",
    "\n",
    "We will use a heatmap. Heatmaps allow us to visualize magnitude of a phenomenon as color in two dimensions."
   ]
  },
  {
   "cell_type": "code",
   "execution_count": null,
   "metadata": {
    "slideshow": {
     "slide_type": "slide"
    }
   },
   "outputs": [],
   "source": [
    "# Use a density heatmap\n",
    "# Pathogen-Containment-Level\n",
    "px.density_heatmap(unique_pathogen_name,'Human-Risk-Group','Pathogen-Type', \n",
    "                   color_continuous_scale=px.colors.sequential.Viridis,\n",
    "                  title=\"Density Heatmap: Human Risk Group vs Pathogen Type\")\\\n",
    ".update_xaxes(categoryorder= \"total ascending\").update_yaxes(categoryorder= \"total ascending\")"
   ]
  },
  {
   "cell_type": "code",
   "execution_count": null,
   "metadata": {
    "slideshow": {
     "slide_type": "slide"
    }
   },
   "outputs": [],
   "source": [
    "# Use pandas to remove bacteria from the data set\n",
    "# Pathogen-Containment-Level\n",
    "all_but_bacteria = unique_pathogen_name[unique_pathogen_name[\"Pathogen-Type\"]!=\"Bacteria\"]\n",
    "# Plot density heatmap\n",
    "px.density_heatmap(all_but_bacteria,'Human-Risk-Group','Pathogen-Type', \n",
    "                   color_continuous_scale=px.colors.sequential.Viridis,\n",
    "                   title=\"Density Heatmap: Human Risk Group vs Pathogen Type\")\\\n",
    ".update_xaxes(categoryorder= \"total ascending\").update_yaxes(categoryorder= \"total ascending\")"
   ]
  },
  {
   "cell_type": "markdown",
   "metadata": {
    "slideshow": {
     "slide_type": "slide"
    }
   },
   "source": [
    "## Visualizing the relationship between containment level (CL) and human risk group (RG) for each pathogen\n",
    "\n",
    "Let's create a plot that lets us compare both simultaneously using a contour map. A contour map is a plane section of the three-dimensional graph of the function f parallel to the-plane. \n",
    "\n",
    "In this case, we are representing 3 variables: pathogen type, CL and RG.\n",
    "\n",
    "\n",
    "<center><img src=\"./images/1920px-Courbe_niveau.svg.png\" alt=\"Drawing\" style=\"width: 400px;\"/></center>\n"
   ]
  },
  {
   "cell_type": "code",
   "execution_count": null,
   "metadata": {
    "slideshow": {
     "slide_type": "slide"
    }
   },
   "outputs": [],
   "source": [
    "print(unique_pathogen_name[\"Pathogen-Type\"].unique())\n",
    "pat_type = \"Virus\"\n",
    "category = unique_pathogen_name[unique_pathogen_name[\"Pathogen-Type\"]==pat_type]\n",
    "px.density_contour(category,\n",
    "                   'Human-Risk-Group','Pathogen-Containment-Level'\n",
    "                   ,title=\"Density contour plot for \" + pat_type + \" displaying containment level and human risk group\")\\\n",
    "#.update_yaxes(categoryorder= \"total ascending\").update_xaxes(categoryorder= \"total ascending\")"
   ]
  },
  {
   "cell_type": "markdown",
   "metadata": {
    "slideshow": {
     "slide_type": "slide"
    }
   },
   "source": [
    "## Categorizing Risk Groups and Containment Levels\n",
    "\n",
    "| Risk Group| Containment Level | Risk to Individual | Risk to Community |\n",
    "| -| - | - | -| \n",
    "| RG1 | CL1|Low | Low |\n",
    "| RG2| CL2 | Moderate | Low |\n",
    "| RG3| CL3 | High | Low |\n",
    "| RG4| CL4 | High | High |\n",
    "\n",
    "In general, the containment level and risk group of the pathogen are the same (e.g., RG2 pathogens are handled at CL2); however, there are exceptions. \n",
    "\n",
    "We saw from the contour maps that indeed, most of the times the relationship above holds, but it is not a clear-cut rule. "
   ]
  },
  {
   "cell_type": "markdown",
   "metadata": {
    "slideshow": {
     "slide_type": "slide"
    }
   },
   "source": [
    "## Summary\n",
    "\n",
    "This notebook was a brief introduction to visualizing data using Python and Jupyter notebooks. \n",
    "\n",
    "We explored the ePATHogen Risk Group Database, and learned more about how each of the pathogens are classified according to Human Risk Group and Containment Levels. \n",
    "\n",
    "We learned that SARS-CoV-2 (the pathogen responsible for causing COVID-19) is a virus with Human Risk RG3 and containment level CL3. \n",
    "\n",
    "\n"
   ]
  },
  {
   "cell_type": "markdown",
   "metadata": {
    "slideshow": {
     "slide_type": "slide"
    }
   },
   "source": [
    "![](https://github.com/callysto/callysto-sample-notebooks/blob/master/notebooks/images/Callysto_Notebook-Banners_Bottom_06.06.18.jpg?raw=true)"
   ]
  }
 ],
 "metadata": {
  "celltoolbar": "Slideshow",
  "kernelspec": {
   "display_name": "Python 3",
   "language": "python",
   "name": "python3"
  },
  "language_info": {
   "codemirror_mode": {
    "name": "ipython",
    "version": 3
   },
   "file_extension": ".py",
   "mimetype": "text/x-python",
   "name": "python",
   "nbconvert_exporter": "python",
   "pygments_lexer": "ipython3",
   "version": "3.7.6"
  },
  "rise": {
   "autolaunch": false,
   "backimage": "Bgnd0.jpg"
  }
 },
 "nbformat": 4,
 "nbformat_minor": 4
}
