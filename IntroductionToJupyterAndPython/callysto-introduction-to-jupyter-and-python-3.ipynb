{
 "cells": [
  {
   "cell_type": "markdown",
   "metadata": {},
   "source": [
    "![Callysto.ca Banner](https://github.com/callysto/curriculum-notebooks/blob/master/callysto-notebook-banner-top.jpg?raw=true)"
   ]
  },
  {
   "cell_type": "markdown",
   "metadata": {},
   "source": [
    "# Callysto: Introduction to Jupyter and Python\n",
    "## Part 3\n",
    "\n",
    "This Jupyter notebook is all about graphing and data."
   ]
  },
  {
   "cell_type": "markdown",
   "metadata": {},
   "source": [
    "## Graphing\n",
    "\n",
    "To make graphs, we will use some Python libraries (libraries are code written by other people that you can import and use)."
   ]
  },
  {
   "cell_type": "code",
   "execution_count": null,
   "metadata": {},
   "outputs": [],
   "source": [
    "# import libraries\n",
    "import matplotlib.pyplot as plt\n",
    "%matplotlib inline\n",
    "print('Successfully imported the matplotlib library.')"
   ]
  },
  {
   "cell_type": "code",
   "execution_count": null,
   "metadata": {},
   "outputs": [],
   "source": [
    "x = [1, 2, 3, 4]\n",
    "y = [5, 6, 7, 8]\n",
    "\n",
    "# scatter plot\n",
    "plt.scatter(x, y)\n",
    "plt.show()"
   ]
  },
  {
   "cell_type": "code",
   "execution_count": null,
   "metadata": {},
   "outputs": [],
   "source": [
    "# line graph of the same data\n",
    "plt.plot(x, y)\n",
    "plt.show()"
   ]
  },
  {
   "cell_type": "code",
   "execution_count": null,
   "metadata": {},
   "outputs": [],
   "source": [
    "# bar graph\n",
    "labels = ['English', 'French', 'Aboriginal Language', 'Other']\n",
    "sizes = [56.9, 21.3, 0.6, 21.2]\n",
    "plt.title('First Languages Spoken in Canada')\n",
    "plt.bar(labels, sizes)\n",
    "plt.show()"
   ]
  },
  {
   "cell_type": "code",
   "execution_count": null,
   "metadata": {},
   "outputs": [],
   "source": [
    "# pie chart\n",
    "labels = ['left-handed', 'right-handed']\n",
    "sizes = [3, 21]\n",
    "plt.title('Handedness of People in our Class')\n",
    "plt.pie(sizes, labels=labels)\n",
    "plt.axis('equal')\n",
    "plt.show()"
   ]
  },
  {
   "cell_type": "markdown",
   "metadata": {},
   "source": [
    "## Graphing Online Data\n",
    "\n",
    "We can use some libraries to graph data from websites, for example [hourly tide data](https://www.waterlevels.gc.ca/eng/station?sid=215)."
   ]
  },
  {
   "cell_type": "code",
   "execution_count": null,
   "metadata": {},
   "outputs": [],
   "source": [
    "import requests\n",
    "import pandas as pd\n",
    "import plotly.express as px\n",
    "print('Libraries imported')"
   ]
  },
  {
   "cell_type": "code",
   "execution_count": null,
   "metadata": {},
   "outputs": [],
   "source": [
    "# Get tide data from Fisheries and Oceans Canada for Joggins Wharf (hourly for the next 7 days)\n",
    "url = 'https://www.waterlevels.gc.ca/eng/station?sid=215'\n",
    "response = requests.get(url)\n",
    "\n",
    "dfs = pd.read_html(response.text) # construct dataframe\n",
    "tideHeight = dfs[7]['Hour'].transpose() # select the 7th frame and transpose columns and rows\n",
    "\n",
    "tideList = [] # construct a list from the tideHeight data\n",
    "for key in tideHeight.keys():\n",
    "    tideList.extend(tideHeight[key].tolist())\n",
    "\n",
    "df = pd.DataFrame(tideList) # turn the list into a dataframe\n",
    "df.columns = ['Height (m)'] # label the height column\n",
    "df['Time (h)'] = range(0,len(tideList)) # add a time (in hours) column\n",
    "\n",
    "fig = px.line(df, x='Time (h)', y='Height (m)', title='Joggins Wharf Tide Data') # create graph\n",
    "fig.show()"
   ]
  },
  {
   "cell_type": "markdown",
   "metadata": {},
   "source": [
    "## Data Sources\n",
    "\n",
    "Here are some data sources if you are interested in exploring them.\n",
    "\n",
    "### Canadian Open Data\n",
    "1. [Statistics Canada](https://www150.statcan.gc.ca/n1/en/type/data?MM=1)\n",
    "1. [Canada Open Data](https://open.canada.ca/en) (Contains many data sets for provinces or territories without their own open data portal)\n",
    "1. [Alberta Open Data](https://open.alberta.ca/opendata)\n",
    "1. [BC Open Data](https://data.gov.bc.ca/)\n",
    "1. [Saskatchewan Open Data](http://www.opendatask.ca/)\n",
    "1. [Northwest Territories Open Data](https://www.opennwt.ca/)\n",
    "1. [Ontario Open Data](https://www.ontario.ca/search/data-catalogue)\n",
    "1. [Quebec Open Data](http://donnees.ville.quebec.qc.ca/catalogue.aspx) (French only)\n",
    "1. [Nova Scotia Open Data](https://data.novascotia.ca/)\n",
    "1. [PEI Open Data](https://data.princeedwardisland.ca/)\n",
    "1. [Calgary Open Data Portal](https://data.calgary.ca/)\n",
    "1. [Edmonton Open Data Portal](https://data.edmonton.ca/)\n",
    "1. [Vancouver Open Data Portal](https://vancouver.ca/your-government/open-data-catalogue.aspx)\n",
    "1. [Toronto Open Data Portal](https://www.toronto.ca/city-government/data-research-maps/open-data/)\n",
    "1. [Winnipeg Open Data Portal](https://data.winnipeg.ca/)\n",
    "1. [Whitehorse Open Data](http://data.whitehorse.ca)\n",
    "\n",
    "*Many cities, provinces, and territories offer their own open data portals, and can often be found through a Google search for \"CITY NAME open data portal\"*\n",
    "\n",
    "### Data Aggregators \n",
    "1. [GapMinder](https://www.gapminder.org/)\n",
    "1. [Billion Prices](http://www.thebillionpricesproject.com/)\n",
    "1. [Kaggle](https://www.kaggle.com/datasets)\n",
    "1. [Open Data Soft](https://data.opendatasoft.com/pages/home/)\n",
    "1. [Open Africa](https://africaopendata.org/)\n",
    "1. [List of interesting data sets](https://github.com/awesomedata/awesome-public-datasets)\n",
    "1. [Open Data Network](https://www.opendatanetwork.com/) (Technically speaking, this is a data set search engine)\n",
    "1. [Google Public Data](https://www.google.com/publicdata/directory)"
   ]
  },
  {
   "cell_type": "markdown",
   "metadata": {},
   "source": [
    "## Summary\n",
    "\n",
    "This series of three notebooks introduced [Python](https://www.python.org/) and [Jupyter](https://jupyter.org/). For more information and examples, check out the resources at [Callysto.ca](https://callysto.ca/)."
   ]
  },
  {
   "cell_type": "markdown",
   "metadata": {},
   "source": [
    "[![Callysto.ca License](https://github.com/callysto/curriculum-notebooks/blob/master/callysto-notebook-banner-bottom.jpg?raw=true)](https://github.com/callysto/curriculum-notebooks/blob/master/LICENSE.md)"
   ]
  }
 ],
 "metadata": {
  "kernelspec": {
   "display_name": "Python 3",
   "language": "python",
   "name": "python3"
  },
  "language_info": {
   "codemirror_mode": {
    "name": "ipython",
    "version": 3
   },
   "file_extension": ".py",
   "mimetype": "text/x-python",
   "name": "python",
   "nbconvert_exporter": "python",
   "pygments_lexer": "ipython3",
   "version": "3.7.3"
  }
 },
 "nbformat": 4,
 "nbformat_minor": 2
}
