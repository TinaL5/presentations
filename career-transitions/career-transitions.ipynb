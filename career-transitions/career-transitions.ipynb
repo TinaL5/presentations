{
 "cells": [
  {
   "cell_type": "markdown",
   "metadata": {
    "slideshow": {
     "slide_type": "slide"
    }
   },
   "source": [
    "![Callysto.ca Banner](https://github.com/callysto/curriculum-notebooks/blob/master/callysto-notebook-banner-top.jpg?raw=true)\n",
    "\n",
    "\n",
    "<h1 align='center'>Working as a data scientist</h1>\n",
    "\n",
    "<h2 align='center'> Laura Gutierrez Funderburk (@LGFunderburk)</h2>\n",
    "\n",
    "\n",
    "![Callysto.ca License](https://github.com/callysto/curriculum-notebooks/blob/master/callysto-notebook-banner-bottom.jpg?raw=true)"
   ]
  },
  {
   "cell_type": "markdown",
   "metadata": {
    "slideshow": {
     "slide_type": "slide"
    }
   },
   "source": [
    "<h2 align='center'> Introductions </h2>\n",
    "\n",
    "\n",
    "<center><img src=\"https://media1.giphy.com/media/j1soPQE95y0eXhMwKT/source.gif\" alt=\"Drawing\" style=\"width: 500px;\"/></center>\n"
   ]
  },
  {
   "cell_type": "markdown",
   "metadata": {
    "slideshow": {
     "slide_type": "slide"
    }
   },
   "source": [
    "<h2 align='center'> About the Callysto Program </h2>\n",
    "\n",
    "- Provide open educational infrastructure and learning resources\n",
    "- Focus on making computational thinking and data science/literacy available\n",
    "- Use Jupyter notebooks as main platform\n",
    "- Host teacher and student training workshops\n",
    "\n",
    "<h3 align='center'>Brought to you by</h3>\n",
    "\n",
    "\n",
    "| | | |\n",
    "|-|-|-|\n",
    "|<img src=\"./images/Cybera_Logo_RBG_Colour.png\" alt=\"Drawing\" style=\"width: 300px;\"/>|<img src=\"./images/PIMS_Logos_Web_PIMS_Logo_Colour.png\" alt=\"Drawing\" style=\"width: 400px;\"/>| <img src=\"./images/With_Funding_Canada_Wordmark-colour_BIL-EN.png\" alt=\"Drawing\" style=\"width: 400px;\"/>|"
   ]
  },
  {
   "cell_type": "markdown",
   "metadata": {
    "slideshow": {
     "slide_type": "slide"
    }
   },
   "source": [
    "<h3 align='center'> What is Callysto?</h3>\n",
    "\n",
    "Callysto is a free, online learning tool that helps students and teachers learn and apply in-demand data science skills including data analysis, visualization, coding, and computational thinking. The online tool’s interactive learning modules are available in a variety of subjects – from math to history – and are aligned with existing curriculum.\n",
    "\n",
    "Callysto’s learning modules are built using Jupyter notebooks."
   ]
  },
  {
   "cell_type": "markdown",
   "metadata": {
    "slideshow": {
     "slide_type": "slide"
    }
   },
   "source": [
    "<h3 align='center'>Main responsibilities</h3>\n",
    "\n",
    "* Develop Jupyter notebook applications that explore several concepts in the K-12 curriculum, incorporating coding and open data sets. \n",
    "\n",
    "* Facilitate workshops, training events, hackathons and online events for teachers and students on how to use Python programming language to interact with data. \n",
    "\n",
    "* Implement mathematical models, interpret results, communicate findings to non-technical audiences. \n",
    "\n"
   ]
  },
  {
   "cell_type": "markdown",
   "metadata": {
    "slideshow": {
     "slide_type": "slide"
    }
   },
   "source": [
    "<h2 align='center'>Qualities, skills, experiences, traits</h2>\n",
    "\n",
    "\n",
    "<center><img src=\"https://i.gifer.com/CxrL.gif\" alt=\"Drawing\" style=\"width: 1000px;\"/></center>"
   ]
  },
  {
   "cell_type": "markdown",
   "metadata": {
    "slideshow": {
     "slide_type": "subslide"
    }
   },
   "source": [
    "<h3 align='center'>What skills/experiences are necessary for success in this occupation?</h3>\n",
    "\n",
    "* Programming languages such as Python, R, JavaScript\n",
    "\n",
    "* Experience working with databases\n",
    "\n",
    "* Ability to communicate technical results to a non-technical audience\n",
    "\n",
    "* Background in mathematics, computer science or statistics\n",
    "\n",
    "* Experience working with data\n"
   ]
  },
  {
   "cell_type": "markdown",
   "metadata": {
    "slideshow": {
     "slide_type": "subslide"
    }
   },
   "source": [
    "<h3 align='center'>What personality traits are an asset? </h3>\n",
    "\n",
    "* Comfort with ambiguity\n",
    "\n",
    "* Perseverance\n",
    "\n",
    "* Curiosity\n",
    "\n",
    "* Creativity \n",
    "\n",
    "* Interpersonal skills, i.e. knowing how to work with others\n",
    "\n",
    "* Ability to question and evaluate results critically\n",
    "\n",
    "* Strong communication skills\n"
   ]
  },
  {
   "cell_type": "markdown",
   "metadata": {
    "slideshow": {
     "slide_type": "subslide"
    }
   },
   "source": [
    "<h3 align='center'>What are some challenges in your field of work?</h3>\n",
    "\n",
    "* Some problems require domain expertise \n",
    "\n",
    "* Vocabulary used to describe similar objects using different words\n",
    "\n",
    "* Data is often times incomplete \n",
    "\n",
    "* Lots of cleaning up before visualizing\n",
    "\n",
    "* Models often assume data needs to have certain properties, which in practice does not always happen \n",
    "\n",
    "* Bugs can introduce errors in analysis"
   ]
  },
  {
   "cell_type": "markdown",
   "metadata": {
    "slideshow": {
     "slide_type": "slide"
    }
   },
   "source": [
    "<h2 align='center'>High school considerations</h2>\n",
    "\n",
    "\n",
    "<center><img src=\"https://i.kym-cdn.com/photos/images/original/000/866/303/f23.gif\" alt=\"Drawing\" style=\"width: 600px;\"/></center>\n"
   ]
  },
  {
   "cell_type": "markdown",
   "metadata": {
    "slideshow": {
     "slide_type": "subslide"
    }
   },
   "source": [
    "<h3 align='center'>If I was in high school and wanted to be a data scientist, what can I do?</h3>\n",
    "\n",
    "* Take your math classes seriously! Before you can get to the more complex and exciting content, you need to understand the basics. A solid math base goes a long way\n",
    "\n",
    "* Ask for help: seek a mentor, work with your classmates\n",
    "\n",
    "* Join a programming club, join hackathons (coding events)\n",
    "\n",
    "* Document your learning experiences - build a portfolio"
   ]
  },
  {
   "cell_type": "markdown",
   "metadata": {
    "slideshow": {
     "slide_type": "subslide"
    }
   },
   "source": [
    "<h3 align='center'>How do I find work opportunities in data science?</h3>\n",
    "\n",
    "- Talk to people about your interest in programming\n",
    "\n",
    "- Find out what groups offer online hackathons and coding events\n",
    "\n",
    "- Join meet ups, conferences and events, there are people happy to support you in your journey\n",
    "\n",
    "- Eventually, you'll find someone in one of these events looking for someone with your skills"
   ]
  },
  {
   "cell_type": "markdown",
   "metadata": {
    "slideshow": {
     "slide_type": "slide"
    }
   },
   "source": [
    "<h2 align='center'>Work Life</h2>\n",
    "\n",
    "\n",
    "<center><img src=\"https://i.pinimg.com/originals/f0/f0/d9/f0f0d932d6e39c7af5aa305cbd8da735.gif\" alt=\"Drawing\" style=\"width: 500px;\"/></center>\n"
   ]
  },
  {
   "cell_type": "markdown",
   "metadata": {
    "slideshow": {
     "slide_type": "subslide"
    }
   },
   "source": [
    "<h3 align='center'>Tools I work with</h3>\n",
    "\n",
    "I work with a tool called Jupyter notebooks, and the Python and Bash programming languages. \n",
    "\n",
    "My focus is on accessing open data sets, cleaning them, creating visualizations and communicating results.\n",
    "\n",
    "This requires me to work using a computer for several hours during the day. \n",
    "\n",
    "It is important to incorporate exercise and rest!\n"
   ]
  },
  {
   "cell_type": "markdown",
   "metadata": {
    "slideshow": {
     "slide_type": "subslide"
    }
   },
   "source": [
    "<h3 align='center'>What is a Jupyter notebook? </h3>\n",
    "\n",
    "A Jupyter notebook is an online document that can include both text and (Python) code in different “cells” or parts of the document.\n",
    "\n",
    "These documents run on Callysto Hub as well as Google Colab, IBM Watson Studio, and other places.\n",
    "\n",
    "\n",
    "This presentation is a Jupyter notebook!"
   ]
  },
  {
   "cell_type": "markdown",
   "metadata": {
    "slideshow": {
     "slide_type": "slide"
    }
   },
   "source": [
    "<h2 align='center'>PPE & Safety</h2>\n",
    "\n",
    "<center><img src=\"https://media0.giphy.com/media/6Gay5G6CKxu21BrTJ9/giphy.gif\" alt=\"Drawing\" style=\"width: 500px;\"/></center>\n",
    "\n",
    "This role does not require safety training nor protective personal equipment. However, it does not hurt to practice having a good posture during the day.\n",
    "\n"
   ]
  },
  {
   "cell_type": "markdown",
   "metadata": {
    "slideshow": {
     "slide_type": "subslide"
    }
   },
   "source": [
    "<h3 align='center'>How to remain healthy as a data scientist?</h3>\n",
    "\n",
    "Working as a data scientist can sometimes require spending hours sitting in front of the computer. Here is what data scientists can do to support their health:\n",
    "\n",
    "1. Exercise several times a week (walking, running, yoga, among other forms of physical activities help)\n",
    "\n",
    "2. Get proper rest every night\n",
    "\n",
    "3. Eat meals away from desk\n",
    "\n",
    "4. Find hobbies that do not involve using the computer"
   ]
  },
  {
   "cell_type": "markdown",
   "metadata": {
    "slideshow": {
     "slide_type": "slide"
    }
   },
   "source": [
    "<h2 align='center'>Education & Training</h2>\n",
    "\n",
    "\n",
    "<center><img src=\"https://discovertemplate.com/wp-content/uploads/2020/07/School-essentials-and-Education.gif\" alt=\"Drawing\" style=\"width: 800px;\"/></center>\n",
    "\n"
   ]
  },
  {
   "cell_type": "markdown",
   "metadata": {
    "slideshow": {
     "slide_type": "subslide"
    }
   },
   "source": [
    "<h3 align='center'>What education is needed for this occupation? </h3>\n",
    "\n",
    "Employers seeking data scientists typically seek a person whose education ranges from a B.Sc. to a PhD in Mathematics, Statistics, Computer Science, Physics or related field. \n",
    "\n",
    "Other ways to gain skills/opportunities:\n",
    "\n",
    "* boot camps \n",
    "* online courses\n",
    "* diplomas\n",
    "* internships"
   ]
  },
  {
   "cell_type": "markdown",
   "metadata": {
    "slideshow": {
     "slide_type": "subslide"
    }
   },
   "source": [
    "<h3 align='center'>Where to get the training necessary for this occupation?</h3>\n",
    "\n",
    "Many universities offer bachelors, master and doctorates in the fields mentioned above. \n",
    "\n",
    "You can find information about local boot camps and courses by searching online. \n",
    "\n",
    "Get involved with the programming community to find job opportunities and internships."
   ]
  },
  {
   "cell_type": "markdown",
   "metadata": {
    "slideshow": {
     "slide_type": "subslide"
    }
   },
   "source": [
    "<h3 align='center'>What different opportunities are there once the training is completed?</h3>\n",
    "\n",
    "#### Data Science Internships\n",
    "\n",
    "These roles open up opportunities to help you gain relevant experience. Often an internship can evolve into a full time position. \n",
    "\n",
    "#### Data scientist\n",
    "\n",
    "#### Data analyst\n",
    "\n",
    "#### Data science/analytics manager\n",
    "\n",
    "#### Big data engineer\n"
   ]
  },
  {
   "cell_type": "markdown",
   "metadata": {
    "slideshow": {
     "slide_type": "slide"
    }
   },
   "source": [
    "<h2 align='center'>Opportunities</h2>\n",
    "\n",
    "\n",
    "<center><img src=\"https://art.pixilart.com/a614c8b5eeb1b75.gif\" alt=\"Drawing\" style=\"width: 800px; height:500px;\"/></center>\n"
   ]
  },
  {
   "cell_type": "markdown",
   "metadata": {
    "slideshow": {
     "slide_type": "subslide"
    }
   },
   "source": [
    "<h3 align='center'>What kind of advancement is possible?</h3>\n",
    "\n",
    "There are many areas of expertise, each of which can develop into managerial roles.\n",
    "\n",
    "* Machine learning \n",
    "\n",
    "* Business Intelligence Analyst\n",
    "\n",
    "* Statistician\n",
    "\n",
    "* Business/Systems/Marketing Analyst\n"
   ]
  },
  {
   "cell_type": "markdown",
   "metadata": {
    "slideshow": {
     "slide_type": "subslide"
    }
   },
   "source": [
    "<h3 align='center'>Are jobs easy to find in your field?</h3>\n",
    "\n",
    "There are many job postings seeking data scientists, but there is also a lot of competition. \n",
    "\n",
    "Finding work in this area takes dedication, excellent work ethic, initiative, perseverance and a solid network.\n",
    "\n",
    "<b>Networking is crucial to come across job opportunities. Taking initiative is important to get involved with projects. </b>\n",
    "\n"
   ]
  },
  {
   "cell_type": "markdown",
   "metadata": {
    "slideshow": {
     "slide_type": "subslide"
    }
   },
   "source": [
    "<h3 align='center'>Are jobs readily available locally, or would leaving the area be required to start and then advance in the field?</h3>\n",
    "\n",
    "It depends on the area within industry you are seeking to gain employment. In some industries it is necessary to relocate. Some companies offer remote working in addition to in person ones."
   ]
  },
  {
   "cell_type": "markdown",
   "metadata": {
    "slideshow": {
     "slide_type": "slide"
    }
   },
   "source": [
    "<h2 align='center'>Remuneration</h2>\n",
    "\n",
    "<center><img src=\"https://media1.giphy.com/media/l44QkcgKIwjdIBvs4/source.gif\" alt=\"Drawing\" style=\"width: 800px;\"/></center>\n",
    "\n",
    "\n"
   ]
  },
  {
   "cell_type": "markdown",
   "metadata": {
    "slideshow": {
     "slide_type": "subslide"
    }
   },
   "source": [
    "<h3 align='center'>What is the typical pay range?</h3>\n",
    "\n",
    "![](./images/salaries.png)\n",
    "\n",
    "Source: Neuvoo https://neuvoo.ca/salary/?job=Data%20Scientist "
   ]
  },
  {
   "cell_type": "markdown",
   "metadata": {
    "slideshow": {
     "slide_type": "slide"
    }
   },
   "source": [
    "<h2 align='center'>General Information</h2>\n",
    "\n",
    "\n",
    "<center><img src=\"https://thumbs.gfycat.com/MemorableQueasyBuck-small.gif\" alt=\"Drawing\" style=\"width: 500px;\"/></center>\n",
    "\n",
    "\n"
   ]
  },
  {
   "cell_type": "markdown",
   "metadata": {
    "slideshow": {
     "slide_type": "subslide"
    }
   },
   "source": [
    "<h3 align='center'>What is something about your career/occupation that students should know about but likely don’t know?</h3>\n",
    "\n",
    "Although technically challenging, working as a data scientist is a rewarding career. \n",
    "\n",
    "If you choose this career path, there will be opportunities to present your work with the community and to collaborate on conferences and projects at national and international levels. \n",
    "\n",
    "All of the above make this path a rewarding and exciting career path!\n"
   ]
  },
  {
   "cell_type": "markdown",
   "metadata": {
    "slideshow": {
     "slide_type": "subslide"
    }
   },
   "source": [
    "<h3 align='center'>What is something about your career/occupation that students should know about but likely don’t know?</h3>\n",
    "\n",
    "* Community of developers actively involved in improving R and Python code\n",
    "\n",
    "* There are plenty of opportunities to develop yourself, and to find mentors\n",
    "\n",
    "* Important to put yourself out there!"
   ]
  },
  {
   "cell_type": "markdown",
   "metadata": {
    "slideshow": {
     "slide_type": "slide"
    }
   },
   "source": [
    "<h2 align='center'>Top 3 Tasks</h2>\n",
    "\n",
    "<center><img src=\"https://i.makeagif.com/media/7-14-2016/f1VOdT.gif\" alt=\"Drawing\" style=\"width: 600px;\"/></center>\n",
    "\n"
   ]
  },
  {
   "cell_type": "markdown",
   "metadata": {
    "slideshow": {
     "slide_type": "subslide"
    }
   },
   "source": [
    "<h3 align='center'>Top 3 tasks</h3>\n",
    "\n",
    "1. Identify a question of interest and select a data set relevant to the question\n",
    "\n",
    "2. Clean and format the data using programming languages\n",
    "\n",
    "3. Present and communicate findings\n"
   ]
  },
  {
   "cell_type": "markdown",
   "metadata": {
    "slideshow": {
     "slide_type": "subslide"
    }
   },
   "source": [
    "<h2 align='center'>Demo</h2>\n",
    "\n",
    "<h3 align='center'>What do each of these tasks look like in practice?</h3>\n"
   ]
  },
  {
   "cell_type": "markdown",
   "metadata": {
    "slideshow": {
     "slide_type": "subslide"
    }
   },
   "source": [
    "<h3 align='center'>About Age of Empires II (get familiar with the problem)</h3>\n",
    "\n",
    "* Age of Empires II: The Age of Kings is a real-time strategy video game \n",
    "\n",
    "* Developed by Ensemble Studios and published by Microsoft\n",
    "\n",
    "* Second game in the Age of Empires series\n",
    "\n",
    "* Set in the Middle Ages and contains thirteen playable civilizations\n",
    "\n",
    "* Goal: gather resources (build towns, create armies, and defeat their enemies)\n"
   ]
  },
  {
   "cell_type": "markdown",
   "metadata": {
    "slideshow": {
     "slide_type": "subslide"
    }
   },
   "source": [
    "<h3 align='center'>About Age of Empires II (get familiar with the problem)</h3>\n",
    "\n",
    "* Players conquer rival towns and empires \n",
    "\n",
    "* Advance one of 13 civilizations through four \"Ages\": the Dark Age, the Feudal Age, the Castle Age, and the Imperial Age.\n",
    "\n",
    "* Advancing to a new Age unlocks new units, structures, and technologies, but players must first build certain buildings from their current age and then pay a sum of resources (typically food and gold)"
   ]
  },
  {
   "cell_type": "markdown",
   "metadata": {
    "slideshow": {
     "slide_type": "subslide"
    }
   },
   "source": [
    "<h3 align='center'>Task 1: Identifying a question of interest</h3>\n",
    "\n",
    "<h5 align='center'>How expensive is it to build resources in each of the ages?</h5>\n"
   ]
  },
  {
   "cell_type": "markdown",
   "metadata": {
    "slideshow": {
     "slide_type": "subslide"
    }
   },
   "source": [
    "<h3 align='center'>Task 2:  Clean and format the data using programming languages.</h3>"
   ]
  },
  {
   "cell_type": "code",
   "execution_count": null,
   "metadata": {
    "slideshow": {
     "slide_type": "subslide"
    }
   },
   "outputs": [],
   "source": [
    "import requests\n",
    "from requests.exceptions import HTTPError\n",
    "import json\n",
    "import pandas as pd\n",
    "import plotly.express as px"
   ]
  },
  {
   "cell_type": "code",
   "execution_count": null,
   "metadata": {
    "slideshow": {
     "slide_type": "subslide"
    }
   },
   "outputs": [],
   "source": [
    "def query_entry_pt(url):\n",
    "    \"\"\"This function takes as input a URL entry point and returns the complete JSON response in a REST API\n",
    "    \n",
    "    Input:\n",
    "        - url(string): complete url (or entry point) pointing at server \n",
    "        \n",
    "    Output:\n",
    "        - jsonResponse(json object): JSON response associated wtih query\n",
    "    \n",
    "    \"\"\"\n",
    "    try:\n",
    "        # Using GET command \n",
    "        response = requests.get(url)\n",
    "        # Raise issues if response is different from 200\n",
    "        response.raise_for_status()\n",
    "        # access JSOn content\n",
    "        jsonResponse = response.json()\n",
    "        print(\"Success!\",response)\n",
    "        return jsonResponse\n",
    "\n",
    "    except HTTPError as http_err:\n",
    "        print(f'HTTP error occurred: {http_err}')\n",
    "    except Exception as err:\n",
    "        print(f'Other error occurred: {err}')"
   ]
  },
  {
   "cell_type": "code",
   "execution_count": null,
   "metadata": {
    "slideshow": {
     "slide_type": "subslide"
    }
   },
   "outputs": [],
   "source": [
    "# Age of Empires entry points\n",
    "entry_point = 'https://age-of-empires-2-api.herokuapp.com/api/v1/'\n",
    "\n",
    "print(\"Structures\")\n",
    "# Perform query\n",
    "aoe_stru = entry_point + 'structures'\n",
    "jsonResponse_stru=query_entry_pt(aoe_stru)\n",
    "# Normalize \n",
    "flattened_stru = pd.json_normalize(jsonResponse_stru,record_path='structures')\n",
    "display(flattened_stru.head())"
   ]
  },
  {
   "cell_type": "markdown",
   "metadata": {
    "slideshow": {
     "slide_type": "subslide"
    }
   },
   "source": [
    "<h3 align='center'>Task 3:  Present and communicate findings</h3>"
   ]
  },
  {
   "cell_type": "code",
   "execution_count": null,
   "metadata": {
    "slideshow": {
     "slide_type": "subslide"
    }
   },
   "outputs": [],
   "source": [
    "# array(['Dark', 'Feudal', 'Castle', 'Imperial'], dtype=object)\n",
    "subset_dat = flattened_stru[flattened_stru['age']=='Castle']\n",
    "px.bar(data_frame=subset_dat,y='build_time',x='name',\n",
    "            title='Build time per age',\n",
    "       labels={\"age\":\"Age\",\"build_time\":\"total build time\"}).update_xaxes(categoryorder='total descending')"
   ]
  },
  {
   "cell_type": "code",
   "execution_count": null,
   "metadata": {
    "slideshow": {
     "slide_type": "subslide"
    }
   },
   "outputs": [],
   "source": [
    "px.box(data_frame=flattened_stru,y='cost.Stone',x='age',points='all',hover_name='name',\n",
    "            title='Cost per age',labels={\"age\":\"Age\",\"cost.Stone\":\"Stone cost\"})"
   ]
  },
  {
   "cell_type": "markdown",
   "metadata": {
    "slideshow": {
     "slide_type": "slide"
    }
   },
   "source": [
    "![Callysto.ca Banner](https://github.com/callysto/curriculum-notebooks/blob/master/callysto-notebook-banner-top.jpg?raw=true)\n",
    "\n",
    "<h2 align='center'>Interested to learn more?</h2>\n",
    "\n",
    "Try our Turtles notebook to practice your Python: \n",
    "\n",
    "1. Turtle Python Programming http://tinyurl.com/tzby7za \n",
    "\n",
    "2. Turtles and Python Dictionaries http://tinyurl.com/rdpjv29\n",
    "\n",
    "3. Turtles and Python Data Science http://tinyurl.com/wxvpvqd"
   ]
  }
 ],
 "metadata": {
  "celltoolbar": "Slideshow",
  "kernelspec": {
   "display_name": "Python 3",
   "language": "python",
   "name": "python3"
  },
  "language_info": {
   "codemirror_mode": {
    "name": "ipython",
    "version": 3
   },
   "file_extension": ".py",
   "mimetype": "text/x-python",
   "name": "python",
   "nbconvert_exporter": "python",
   "pygments_lexer": "ipython3",
   "version": "3.8.6"
  },
  "rise": {
   "autolaunch": false,
   "backimage": "Bgnd0.jpg"
  }
 },
 "nbformat": 4,
 "nbformat_minor": 4
}
