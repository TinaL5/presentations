{
 "cells": [
  {
   "cell_type": "markdown",
   "metadata": {
    "slideshow": {
     "slide_type": "slide"
    }
   },
   "source": [
    "![Callysto.ca Banner](https://github.com/callysto/curriculum-notebooks/blob/master/callysto-notebook-banner-top.jpg?raw=true)\n",
    "\n",
    "\n",
    "<h1 align='center'>Working as a data scientist</h1>\n",
    "\n",
    "<h2 align='center'> Laura Gutierrez Funderburk (@LGFunderburk)</h2>\n",
    "\n",
    "\n",
    "![Callysto.ca License](https://github.com/callysto/curriculum-notebooks/blob/master/callysto-notebook-banner-bottom.jpg?raw=true)"
   ]
  },
  {
   "cell_type": "markdown",
   "metadata": {
    "slideshow": {
     "slide_type": "slide"
    }
   },
   "source": [
    "<h2 align='center'> Introductions </h2>\n",
    "\n",
    "\n",
    "<center><img src=\"https://media1.giphy.com/media/j1soPQE95y0eXhMwKT/source.gif\" alt=\"Drawing\" style=\"width: 500px;\"/></center>\n"
   ]
  },
  {
   "cell_type": "markdown",
   "metadata": {
    "slideshow": {
     "slide_type": "slide"
    }
   },
   "source": [
    "<h2 align='center'> About the Callysto Program </h2>\n",
    "\n",
    "- Provide open educational infrastructure and learning resources\n",
    "- Focus on making computational thinking and data science/literacy available\n",
    "- Use Jupyter notebooks as main platform\n",
    "- Host teacher and student training workshops\n",
    "\n",
    "<h3 align='center'>Brought to you by</h3>\n",
    "\n",
    "\n",
    "| | | |\n",
    "|-|-|-|\n",
    "|<img src=\"./images/Cybera_Logo_RBG_Colour.png\" alt=\"Drawing\" style=\"width: 300px;\"/>|<img src=\"./images/PIMS_Logos_Web_PIMS_Logo_Colour.png\" alt=\"Drawing\" style=\"width: 400px;\"/>| <img src=\"./images/With_Funding_Canada_Wordmark-colour_BIL-EN.png\" alt=\"Drawing\" style=\"width: 400px;\"/>|"
   ]
  },
  {
   "cell_type": "markdown",
   "metadata": {
    "slideshow": {
     "slide_type": "slide"
    }
   },
   "source": [
    "<h3 align='center'> What is Callysto?</h3>\n",
    "\n",
    "Callysto is a free, online learning tool that helps students and teachers learn and apply in-demand data science skills including data analysis, visualization, coding, and computational thinking. The online tool’s interactive learning modules are available in a variety of subjects – from math to history – and are aligned with existing curriculum.\n",
    "\n",
    "Callysto’s learning modules are built using Jupyter notebooks."
   ]
  },
  {
   "cell_type": "markdown",
   "metadata": {
    "slideshow": {
     "slide_type": "slide"
    }
   },
   "source": [
    "<h3 align='center'>Main responsibilities</h3>\n",
    "\n",
    "* Develop Jupyter notebook applications that explore several concepts in the K-12 curriculum, incorporating coding and open data sets. \n",
    "\n",
    "* Facilitate workshops, training events, hackathons and online events for teachers and students on how to use Python programming language to interact with data. \n",
    "\n",
    "* Implement mathematical models, interpret results, communicate findings to non-technical audiences. \n",
    "\n"
   ]
  },
  {
   "cell_type": "markdown",
   "metadata": {
    "slideshow": {
     "slide_type": "slide"
    }
   },
   "source": [
    "<h2 align='center'>Qualities, skills, experiences, traits</h2>\n",
    "\n",
    "\n",
    "<center><img src=\"https://i.gifer.com/CxrL.gif\" alt=\"Drawing\" style=\"width: 1000px;\"/></center>"
   ]
  },
  {
   "cell_type": "markdown",
   "metadata": {
    "slideshow": {
     "slide_type": "subslide"
    }
   },
   "source": [
    "<h3 align='center'>What skills/experiences are necessary for success in this occupation?</h3>\n",
    "\n",
    "* Programming languages such as Python, R, JavaScript\n",
    "\n",
    "* Experience working with databases\n",
    "\n",
    "* Ability to communicate technical results to a non-technical audience\n",
    "\n",
    "* Background in mathematics, computer science or statistics\n",
    "\n",
    "* Experience working with data\n"
   ]
  },
  {
   "cell_type": "markdown",
   "metadata": {
    "slideshow": {
     "slide_type": "subslide"
    }
   },
   "source": [
    "<h3 align='center'>What personality traits are an asset? </h3>\n",
    "\n",
    "* Comfort with ambiguity\n",
    "\n",
    "* Perseverance\n",
    "\n",
    "* Curiosity\n",
    "\n",
    "* Creativity \n",
    "\n",
    "* Interpersonal skills, i.e. knowing how to work with others\n",
    "\n",
    "* Ability to question and evaluate results critically\n",
    "\n",
    "* Strong communication skills\n"
   ]
  },
  {
   "cell_type": "markdown",
   "metadata": {
    "slideshow": {
     "slide_type": "subslide"
    }
   },
   "source": [
    "<h3 align='center'>What are some challenges in your field of work?</h3>\n",
    "\n",
    "* Some problems require domain expertise \n",
    "\n",
    "* Vocabulary used to describe similar objects using different words\n",
    "\n",
    "* Data is often times incomplete \n",
    "\n",
    "* Lots of cleaning up before visualizing\n",
    "\n",
    "* Models often assume data needs to have certain properties, which in practice does not always happen \n",
    "\n",
    "* Bugs can introduce errors in analysis"
   ]
  },
  {
   "cell_type": "markdown",
   "metadata": {
    "slideshow": {
     "slide_type": "slide"
    }
   },
   "source": [
    "<h2 align='center'>High school considerations</h2>\n",
    "\n",
    "\n",
    "<center><img src=\"https://i.kym-cdn.com/photos/images/original/000/866/303/f23.gif\" alt=\"Drawing\" style=\"width: 600px;\"/></center>\n"
   ]
  },
  {
   "cell_type": "markdown",
   "metadata": {
    "slideshow": {
     "slide_type": "subslide"
    }
   },
   "source": [
    "<h3 align='center'>If I was in high school and wanted to be a data scientist, what can I do?</h3>\n",
    "\n",
    "* Take your math classes seriously! Before you can get to the more complex and exciting content, you need to understand the basics. A solid math base goes a long way\n",
    "\n",
    "* Ask for help: seek a mentor, work with your classmates\n",
    "\n",
    "* Join a programming club, join hackathons (coding events)\n",
    "\n",
    "* Document your learning experiences - build a portfolio"
   ]
  },
  {
   "cell_type": "markdown",
   "metadata": {
    "slideshow": {
     "slide_type": "subslide"
    }
   },
   "source": [
    "<h3 align='center'>How do I find work opportunities in data science?</h3>\n",
    "\n",
    "- Talk to people about your interest in programming\n",
    "\n",
    "- Find out what groups offer online hackathons and coding events\n",
    "\n",
    "- Join meet ups, conferences and events, there are people happy to support you in your journey\n",
    "\n",
    "- Eventually, you'll find someone in one of these events looking for someone with your skills"
   ]
  },
  {
   "cell_type": "markdown",
   "metadata": {
    "slideshow": {
     "slide_type": "slide"
    }
   },
   "source": [
    "<h2 align='center'>Work Life</h2>\n",
    "\n",
    "\n",
    "<center><img src=\"https://i.pinimg.com/originals/f0/f0/d9/f0f0d932d6e39c7af5aa305cbd8da735.gif\" alt=\"Drawing\" style=\"width: 500px;\"/></center>\n"
   ]
  },
  {
   "cell_type": "markdown",
   "metadata": {
    "slideshow": {
     "slide_type": "subslide"
    }
   },
   "source": [
    "<h3 align='center'>Tools I work with</h3>\n",
    "\n",
    "I work with a tool called Jupyter notebooks, and the Python and Bash programming languages. \n",
    "\n",
    "My focus is on accessing open data sets, cleaning them, creating visualizations and communicating results.\n",
    "\n",
    "This requires me to work using a computer for several hours during the day. \n",
    "\n",
    "It is important to incorporate exercise and rest!\n"
   ]
  },
  {
   "cell_type": "markdown",
   "metadata": {
    "slideshow": {
     "slide_type": "subslide"
    }
   },
   "source": [
    "<h3 align='center'>What is a Jupyter notebook? </h3>\n",
    "\n",
    "A Jupyter notebook is an online document that can include both text and (Python) code in different “cells” or parts of the document.\n",
    "\n",
    "These documents run on Callysto Hub as well as Google Colab, IBM Watson Studio, and other places.\n",
    "\n",
    "\n",
    "This presentation is a Jupyter notebook!"
   ]
  },
  {
   "cell_type": "code",
   "execution_count": 4,
   "metadata": {
    "slideshow": {
     "slide_type": "skip"
    }
   },
   "outputs": [
    {
     "name": "stdout",
     "output_type": "stream",
     "text": [
      "Hello World!\n",
      "How much is 3+5? 8\n"
     ]
    }
   ],
   "source": [
    "print(\"Hello World!\")\n",
    "print(\"How much is 3+5?\" ,3+5)"
   ]
  },
  {
   "cell_type": "markdown",
   "metadata": {
    "slideshow": {
     "slide_type": "slide"
    }
   },
   "source": [
    "<h2 align='center'>PPE & Safety</h2>\n",
    "\n",
    "<center><img src=\"https://media0.giphy.com/media/6Gay5G6CKxu21BrTJ9/giphy.gif\" alt=\"Drawing\" style=\"width: 500px;\"/></center>\n",
    "\n",
    "This role does not require safety training nor protective personal equipment. However, it does not hurt to practice having a good posture during the day.\n",
    "\n"
   ]
  },
  {
   "cell_type": "markdown",
   "metadata": {
    "slideshow": {
     "slide_type": "subslide"
    }
   },
   "source": [
    "<h3 align='center'>How to remain healthy as a data scientist?</h3>\n",
    "\n",
    "Working as a data scientist can sometimes require spending hours sitting in front of the computer. Here is what data scientists can do to support their health:\n",
    "\n",
    "1. Exercise several times a week (walking, running, yoga, among other forms of physical activities help)\n",
    "\n",
    "2. Get proper rest every night\n",
    "\n",
    "3. Eat meals away from desk\n",
    "\n",
    "4. Find hobbies that do not involve using the computer"
   ]
  },
  {
   "cell_type": "markdown",
   "metadata": {
    "slideshow": {
     "slide_type": "slide"
    }
   },
   "source": [
    "<h2 align='center'>Education & Training</h2>\n",
    "\n",
    "\n",
    "<center><img src=\"https://discovertemplate.com/wp-content/uploads/2020/07/School-essentials-and-Education.gif\" alt=\"Drawing\" style=\"width: 800px;\"/></center>\n",
    "\n"
   ]
  },
  {
   "cell_type": "markdown",
   "metadata": {
    "slideshow": {
     "slide_type": "subslide"
    }
   },
   "source": [
    "<h3 align='center'>What education is needed for this occupation? </h3>\n",
    "\n",
    "Employers seeking data scientists typically seek a person whose education ranges from a B.Sc. to a PhD in Mathematics, Statistics, Computer Science, Physics or related field. \n",
    "\n",
    "Other ways to gain skills/opportunities:\n",
    "\n",
    "* boot camps \n",
    "* online courses\n",
    "* diplomas\n",
    "* internships"
   ]
  },
  {
   "cell_type": "markdown",
   "metadata": {
    "slideshow": {
     "slide_type": "subslide"
    }
   },
   "source": [
    "<h3 align='center'>Where to get the training necessary for this occupation?</h3>\n",
    "\n",
    "Many universities offer bachelors, master and doctorates in the fields mentioned above. \n",
    "\n",
    "You can find information about local boot camps and courses by searching online. \n",
    "\n",
    "Get involved with the programming community to find job opportunities and internships."
   ]
  },
  {
   "cell_type": "markdown",
   "metadata": {
    "slideshow": {
     "slide_type": "subslide"
    }
   },
   "source": [
    "<h3 align='center'>What different opportunities are there once the training is completed?</h3>\n",
    "\n",
    "#### Data Science Internships\n",
    "\n",
    "These roles open up opportunities to help you gain relevant experience. Often an internship can evolve into a full time position. \n",
    "\n",
    "#### Data scientist\n",
    "\n",
    "#### Data analyst\n",
    "\n",
    "#### Data science/analytics manager\n",
    "\n",
    "#### Big data engineer\n"
   ]
  },
  {
   "cell_type": "markdown",
   "metadata": {
    "slideshow": {
     "slide_type": "slide"
    }
   },
   "source": [
    "<h2 align='center'>Opportunities</h2>\n",
    "\n",
    "\n",
    "<center><img src=\"https://art.pixilart.com/a614c8b5eeb1b75.gif\" alt=\"Drawing\" style=\"width: 800px; height:500px;\"/></center>\n"
   ]
  },
  {
   "cell_type": "markdown",
   "metadata": {
    "slideshow": {
     "slide_type": "subslide"
    }
   },
   "source": [
    "<h3 align='center'>What kind of advancement is possible?</h3>\n",
    "\n",
    "There are many areas of expertise, each of which can develop into managerial roles.\n",
    "\n",
    "* Machine learning \n",
    "\n",
    "* Business Intelligence Analyst\n",
    "\n",
    "* Statistician\n",
    "\n",
    "* Business/Systems/Marketing Analyst\n"
   ]
  },
  {
   "cell_type": "markdown",
   "metadata": {
    "slideshow": {
     "slide_type": "subslide"
    }
   },
   "source": [
    "<h3 align='center'>Are jobs easy to find in your field?</h3>\n",
    "\n",
    "There are many job postings seeking data scientists, but there is also a lot of competition. \n",
    "\n",
    "Finding work in this area takes dedication, excellent work ethic, initiative, perseverance and a solid network.\n",
    "\n",
    "<b>Networking is crucial to come across job opportunities. Taking initiative is important to get involved with projects. </b>\n",
    "\n"
   ]
  },
  {
   "cell_type": "markdown",
   "metadata": {
    "slideshow": {
     "slide_type": "subslide"
    }
   },
   "source": [
    "<h3 align='center'>Are jobs readily available locally, or would leaving the area be required to start and then advance in the field?</h3>\n",
    "\n",
    "It depends on the area within industry you are seeking to gain employment. In some industries it is necessary to relocate. Some companies offer remote working in addition to in person ones."
   ]
  },
  {
   "cell_type": "markdown",
   "metadata": {
    "slideshow": {
     "slide_type": "slide"
    }
   },
   "source": [
    "<h2 align='center'>Remuneration</h2>\n",
    "\n",
    "<center><img src=\"https://media1.giphy.com/media/l44QkcgKIwjdIBvs4/source.gif\" alt=\"Drawing\" style=\"width: 800px;\"/></center>\n",
    "\n",
    "\n"
   ]
  },
  {
   "cell_type": "markdown",
   "metadata": {
    "slideshow": {
     "slide_type": "subslide"
    }
   },
   "source": [
    "<h3 align='center'>What is the typical pay range?</h3>\n",
    "\n",
    "![](./images/salaries.png)\n",
    "\n",
    "Source: Neuvoo https://neuvoo.ca/salary/?job=Data%20Scientist "
   ]
  },
  {
   "cell_type": "markdown",
   "metadata": {
    "slideshow": {
     "slide_type": "slide"
    }
   },
   "source": [
    "<h2 align='center'>General Information</h2>\n",
    "\n",
    "\n",
    "<center><img src=\"https://thumbs.gfycat.com/MemorableQueasyBuck-small.gif\" alt=\"Drawing\" style=\"width: 500px;\"/></center>\n",
    "\n",
    "\n"
   ]
  },
  {
   "cell_type": "markdown",
   "metadata": {
    "slideshow": {
     "slide_type": "subslide"
    }
   },
   "source": [
    "<h3 align='center'>What is something about your career/occupation that students should know about but likely don’t know?</h3>\n",
    "\n",
    "Although technically challenging, working as a data scientist is a rewarding career. \n",
    "\n",
    "If you choose this career path, there will be opportunities to present your work with the community and to collaborate on conferences and projects at national and international levels. \n",
    "\n",
    "All of the above make this path a rewarding and exciting career path!\n"
   ]
  },
  {
   "cell_type": "markdown",
   "metadata": {
    "slideshow": {
     "slide_type": "subslide"
    }
   },
   "source": [
    "<h3 align='center'>What is something about your career/occupation that students should know about but likely don’t know?</h3>\n",
    "\n",
    "* Community of developers actively involved in improving R and Python code\n",
    "\n",
    "* There are plenty of opportunities to develop yourself, and to find mentors\n",
    "\n",
    "* Important to put yourself out there!"
   ]
  },
  {
   "cell_type": "markdown",
   "metadata": {
    "slideshow": {
     "slide_type": "slide"
    }
   },
   "source": [
    "<h2 align='center'>Top 3 Tasks</h2>\n",
    "\n",
    "<center><img src=\"https://i.makeagif.com/media/7-14-2016/f1VOdT.gif\" alt=\"Drawing\" style=\"width: 600px;\"/></center>\n",
    "\n"
   ]
  },
  {
   "cell_type": "markdown",
   "metadata": {
    "slideshow": {
     "slide_type": "subslide"
    }
   },
   "source": [
    "<h3 align='center'>Top 3 tasks</h3>\n",
    "\n",
    "1. Identify a question of interest and select a data set relevant to the question\n",
    "\n",
    "2. Clean and format the data using programming languages\n",
    "\n",
    "3. Present and communicate findings\n"
   ]
  },
  {
   "cell_type": "markdown",
   "metadata": {
    "slideshow": {
     "slide_type": "subslide"
    }
   },
   "source": [
    "<h2 align='center'>Demo</h2>\n",
    "\n",
    "<h3 align='center'>What do each of these tasks look like in practice?</h3>\n"
   ]
  },
  {
   "cell_type": "markdown",
   "metadata": {
    "slideshow": {
     "slide_type": "subslide"
    }
   },
   "source": [
    "<h3 align='center'>About Age of Empires II (get familiar with the problem)</h3>\n",
    "\n",
    "* Age of Empires II: The Age of Kings is a real-time strategy video game \n",
    "\n",
    "* Second game in the Age of Empires series\n",
    "\n",
    "* Set in the Middle Ages and contains thirteen playable civilizations\n",
    "\n",
    "* Goal: gather resources (build towns, create armies, and defeat their enemies)\n"
   ]
  },
  {
   "cell_type": "markdown",
   "metadata": {
    "slideshow": {
     "slide_type": "subslide"
    }
   },
   "source": [
    "<h3 align='center'>About Age of Empires II (get familiar with the problem)</h3>\n",
    "\n",
    "* Players conquer rival towns and empires \n",
    "\n",
    "* Advance one of 13 civilizations through four \"Ages\": the Dark Age, the Feudal Age, the Castle Age, and the Imperial Age\n",
    "\n",
    "* Advancing to a new Age unlocks new units, structures, and technologies"
   ]
  },
  {
   "cell_type": "markdown",
   "metadata": {
    "slideshow": {
     "slide_type": "subslide"
    }
   },
   "source": [
    "<h3 align='center'>Task 1: Identifying a question of interest</h3>\n",
    "\n",
    "<h5 align='center'>How expensive is it to build resources in each of the ages?</h5>\n"
   ]
  },
  {
   "cell_type": "markdown",
   "metadata": {
    "slideshow": {
     "slide_type": "subslide"
    }
   },
   "source": [
    "<h3 align='center'>Task 2:  Clean and format the data using programming languages.</h3>"
   ]
  },
  {
   "cell_type": "code",
   "execution_count": 6,
   "metadata": {
    "slideshow": {
     "slide_type": "subslide"
    }
   },
   "outputs": [],
   "source": [
    "import requests\n",
    "from requests.exceptions import HTTPError\n",
    "import json\n",
    "import pandas as pd\n",
    "import plotly.express as px"
   ]
  },
  {
   "cell_type": "code",
   "execution_count": 7,
   "metadata": {
    "slideshow": {
     "slide_type": "subslide"
    }
   },
   "outputs": [],
   "source": [
    "def query_entry_pt(url):\n",
    "    \"\"\"This function takes as input a URL entry point and returns the complete JSON response in a REST API\n",
    "    \n",
    "    Input:\n",
    "        - url(string): complete url (or entry point) pointing at server \n",
    "        \n",
    "    Output:\n",
    "        - jsonResponse(json object): JSON response associated wtih query\n",
    "    \n",
    "    \"\"\"\n",
    "    try:\n",
    "        # Using GET command \n",
    "        response = requests.get(url)\n",
    "        # Raise issues if response is different from 200\n",
    "        response.raise_for_status()\n",
    "        # access JSOn content\n",
    "        jsonResponse = response.json()\n",
    "        print(\"Success!\",response)\n",
    "        return jsonResponse\n",
    "\n",
    "    except HTTPError as http_err:\n",
    "        print(f'HTTP error occurred: {http_err}')\n",
    "    except Exception as err:\n",
    "        print(f'Other error occurred: {err}')"
   ]
  },
  {
   "cell_type": "code",
   "execution_count": 9,
   "metadata": {
    "slideshow": {
     "slide_type": "subslide"
    }
   },
   "outputs": [
    {
     "name": "stdout",
     "output_type": "stream",
     "text": [
      "Structures\n",
      "Success! <Response [200]>\n"
     ]
    },
    {
     "data": {
      "text/html": [
       "<div>\n",
       "<style scoped>\n",
       "    .dataframe tbody tr th:only-of-type {\n",
       "        vertical-align: middle;\n",
       "    }\n",
       "\n",
       "    .dataframe tbody tr th {\n",
       "        vertical-align: top;\n",
       "    }\n",
       "\n",
       "    .dataframe thead th {\n",
       "        text-align: right;\n",
       "    }\n",
       "</style>\n",
       "<table border=\"1\" class=\"dataframe\">\n",
       "  <thead>\n",
       "    <tr style=\"text-align: right;\">\n",
       "      <th></th>\n",
       "      <th>id</th>\n",
       "      <th>name</th>\n",
       "      <th>expansion</th>\n",
       "      <th>age</th>\n",
       "      <th>build_time</th>\n",
       "      <th>hit_points</th>\n",
       "      <th>line_of_sight</th>\n",
       "      <th>armor</th>\n",
       "      <th>special</th>\n",
       "      <th>cost.Wood</th>\n",
       "      <th>reload_time</th>\n",
       "      <th>range</th>\n",
       "      <th>attack</th>\n",
       "      <th>cost.Stone</th>\n",
       "      <th>cost.Gold</th>\n",
       "    </tr>\n",
       "  </thead>\n",
       "  <tbody>\n",
       "    <tr>\n",
       "      <th>0</th>\n",
       "      <td>1</td>\n",
       "      <td>Barracks</td>\n",
       "      <td>Age of Kings</td>\n",
       "      <td>Dark</td>\n",
       "      <td>50</td>\n",
       "      <td>1200</td>\n",
       "      <td>5.0</td>\n",
       "      <td>0/7</td>\n",
       "      <td>[Garrison: 10 created units]</td>\n",
       "      <td>175.0</td>\n",
       "      <td>NaN</td>\n",
       "      <td>NaN</td>\n",
       "      <td>NaN</td>\n",
       "      <td>NaN</td>\n",
       "      <td>NaN</td>\n",
       "    </tr>\n",
       "    <tr>\n",
       "      <th>1</th>\n",
       "      <td>2</td>\n",
       "      <td>Dock</td>\n",
       "      <td>Age of Kings</td>\n",
       "      <td>Dark</td>\n",
       "      <td>35</td>\n",
       "      <td>1800</td>\n",
       "      <td>5.0</td>\n",
       "      <td>0/7</td>\n",
       "      <td>[Garrison: 10 created units]</td>\n",
       "      <td>150.0</td>\n",
       "      <td>NaN</td>\n",
       "      <td>NaN</td>\n",
       "      <td>NaN</td>\n",
       "      <td>NaN</td>\n",
       "      <td>NaN</td>\n",
       "    </tr>\n",
       "    <tr>\n",
       "      <th>2</th>\n",
       "      <td>3</td>\n",
       "      <td>Farm</td>\n",
       "      <td>Age of Kings</td>\n",
       "      <td>Dark</td>\n",
       "      <td>15</td>\n",
       "      <td>480</td>\n",
       "      <td>NaN</td>\n",
       "      <td>0/0</td>\n",
       "      <td>[Standard = 175 Food, Horse Collar = 250 Food,...</td>\n",
       "      <td>60.0</td>\n",
       "      <td>NaN</td>\n",
       "      <td>NaN</td>\n",
       "      <td>NaN</td>\n",
       "      <td>NaN</td>\n",
       "      <td>NaN</td>\n",
       "    </tr>\n",
       "    <tr>\n",
       "      <th>3</th>\n",
       "      <td>4</td>\n",
       "      <td>Fish Trap</td>\n",
       "      <td>Age of Kings</td>\n",
       "      <td>Dark</td>\n",
       "      <td>53</td>\n",
       "      <td>50</td>\n",
       "      <td>1.0</td>\n",
       "      <td>0/0</td>\n",
       "      <td>[Gives 715 Food]</td>\n",
       "      <td>100.0</td>\n",
       "      <td>NaN</td>\n",
       "      <td>NaN</td>\n",
       "      <td>NaN</td>\n",
       "      <td>NaN</td>\n",
       "      <td>NaN</td>\n",
       "    </tr>\n",
       "    <tr>\n",
       "      <th>4</th>\n",
       "      <td>5</td>\n",
       "      <td>House</td>\n",
       "      <td>Age of Kings</td>\n",
       "      <td>Dark</td>\n",
       "      <td>25</td>\n",
       "      <td>900</td>\n",
       "      <td>1.0</td>\n",
       "      <td>0/7</td>\n",
       "      <td>[Supports 5 population]</td>\n",
       "      <td>30.0</td>\n",
       "      <td>NaN</td>\n",
       "      <td>NaN</td>\n",
       "      <td>NaN</td>\n",
       "      <td>NaN</td>\n",
       "      <td>NaN</td>\n",
       "    </tr>\n",
       "    <tr>\n",
       "      <th>5</th>\n",
       "      <td>6</td>\n",
       "      <td>Lumber Camp</td>\n",
       "      <td>Age of Kings</td>\n",
       "      <td>Dark</td>\n",
       "      <td>35</td>\n",
       "      <td>1000</td>\n",
       "      <td>5.0</td>\n",
       "      <td>0/7</td>\n",
       "      <td>NaN</td>\n",
       "      <td>100.0</td>\n",
       "      <td>NaN</td>\n",
       "      <td>NaN</td>\n",
       "      <td>NaN</td>\n",
       "      <td>NaN</td>\n",
       "      <td>NaN</td>\n",
       "    </tr>\n",
       "    <tr>\n",
       "      <th>6</th>\n",
       "      <td>7</td>\n",
       "      <td>Mill</td>\n",
       "      <td>Age of Kings</td>\n",
       "      <td>Dark</td>\n",
       "      <td>35</td>\n",
       "      <td>1000</td>\n",
       "      <td>5.0</td>\n",
       "      <td>0/7</td>\n",
       "      <td>[Max 40 farms queued]</td>\n",
       "      <td>100.0</td>\n",
       "      <td>NaN</td>\n",
       "      <td>NaN</td>\n",
       "      <td>NaN</td>\n",
       "      <td>NaN</td>\n",
       "      <td>NaN</td>\n",
       "    </tr>\n",
       "    <tr>\n",
       "      <th>7</th>\n",
       "      <td>8</td>\n",
       "      <td>Mining Camp</td>\n",
       "      <td>Age of Kings</td>\n",
       "      <td>Dark</td>\n",
       "      <td>35</td>\n",
       "      <td>1000</td>\n",
       "      <td>5.0</td>\n",
       "      <td>0/7</td>\n",
       "      <td>NaN</td>\n",
       "      <td>100.0</td>\n",
       "      <td>NaN</td>\n",
       "      <td>NaN</td>\n",
       "      <td>NaN</td>\n",
       "      <td>NaN</td>\n",
       "      <td>NaN</td>\n",
       "    </tr>\n",
       "    <tr>\n",
       "      <th>8</th>\n",
       "      <td>9</td>\n",
       "      <td>Town Center</td>\n",
       "      <td>Age of Kings</td>\n",
       "      <td>Dark</td>\n",
       "      <td>150</td>\n",
       "      <td>2400</td>\n",
       "      <td>7.0</td>\n",
       "      <td>3/5</td>\n",
       "      <td>[15 units (supports 5 population), max 10 arro...</td>\n",
       "      <td>275.0</td>\n",
       "      <td>2.0</td>\n",
       "      <td>6</td>\n",
       "      <td>5.0</td>\n",
       "      <td>100.0</td>\n",
       "      <td>NaN</td>\n",
       "    </tr>\n",
       "    <tr>\n",
       "      <th>9</th>\n",
       "      <td>10</td>\n",
       "      <td>Archery Range</td>\n",
       "      <td>Age of Kings</td>\n",
       "      <td>Feudal</td>\n",
       "      <td>50</td>\n",
       "      <td>1500</td>\n",
       "      <td>5.0</td>\n",
       "      <td>1/8</td>\n",
       "      <td>[Garrison: 10 created units]</td>\n",
       "      <td>175.0</td>\n",
       "      <td>NaN</td>\n",
       "      <td>NaN</td>\n",
       "      <td>NaN</td>\n",
       "      <td>NaN</td>\n",
       "      <td>NaN</td>\n",
       "    </tr>\n",
       "    <tr>\n",
       "      <th>10</th>\n",
       "      <td>11</td>\n",
       "      <td>Barracks</td>\n",
       "      <td>Age of Kings</td>\n",
       "      <td>Feudal</td>\n",
       "      <td>50</td>\n",
       "      <td>1500</td>\n",
       "      <td>5.0</td>\n",
       "      <td>1/8</td>\n",
       "      <td>[Garrison: 10 created units]</td>\n",
       "      <td>175.0</td>\n",
       "      <td>NaN</td>\n",
       "      <td>NaN</td>\n",
       "      <td>NaN</td>\n",
       "      <td>NaN</td>\n",
       "      <td>NaN</td>\n",
       "    </tr>\n",
       "    <tr>\n",
       "      <th>11</th>\n",
       "      <td>12</td>\n",
       "      <td>Blacksmith</td>\n",
       "      <td>Age of Kings</td>\n",
       "      <td>Feudal</td>\n",
       "      <td>40</td>\n",
       "      <td>2100</td>\n",
       "      <td>5.0</td>\n",
       "      <td>1/8</td>\n",
       "      <td>NaN</td>\n",
       "      <td>150.0</td>\n",
       "      <td>NaN</td>\n",
       "      <td>NaN</td>\n",
       "      <td>NaN</td>\n",
       "      <td>NaN</td>\n",
       "      <td>NaN</td>\n",
       "    </tr>\n",
       "    <tr>\n",
       "      <th>12</th>\n",
       "      <td>13</td>\n",
       "      <td>Dock</td>\n",
       "      <td>Age of Kings</td>\n",
       "      <td>Feudal</td>\n",
       "      <td>35</td>\n",
       "      <td>1800</td>\n",
       "      <td>5.0</td>\n",
       "      <td>1/8</td>\n",
       "      <td>[Garrison: 10 created units]</td>\n",
       "      <td>150.0</td>\n",
       "      <td>NaN</td>\n",
       "      <td>NaN</td>\n",
       "      <td>NaN</td>\n",
       "      <td>NaN</td>\n",
       "      <td>NaN</td>\n",
       "    </tr>\n",
       "    <tr>\n",
       "      <th>13</th>\n",
       "      <td>14</td>\n",
       "      <td>House</td>\n",
       "      <td>Age of Kings</td>\n",
       "      <td>Feudal</td>\n",
       "      <td>25</td>\n",
       "      <td>900</td>\n",
       "      <td>1.0</td>\n",
       "      <td>1/8</td>\n",
       "      <td>[Supports 5 population]</td>\n",
       "      <td>30.0</td>\n",
       "      <td>NaN</td>\n",
       "      <td>NaN</td>\n",
       "      <td>NaN</td>\n",
       "      <td>NaN</td>\n",
       "      <td>NaN</td>\n",
       "    </tr>\n",
       "    <tr>\n",
       "      <th>14</th>\n",
       "      <td>15</td>\n",
       "      <td>Lumber Camp</td>\n",
       "      <td>Age of Kings</td>\n",
       "      <td>Feudal</td>\n",
       "      <td>35</td>\n",
       "      <td>1000</td>\n",
       "      <td>5.0</td>\n",
       "      <td>1/8</td>\n",
       "      <td>NaN</td>\n",
       "      <td>100.0</td>\n",
       "      <td>NaN</td>\n",
       "      <td>NaN</td>\n",
       "      <td>NaN</td>\n",
       "      <td>NaN</td>\n",
       "      <td>NaN</td>\n",
       "    </tr>\n",
       "    <tr>\n",
       "      <th>15</th>\n",
       "      <td>16</td>\n",
       "      <td>Market</td>\n",
       "      <td>Age of Kings</td>\n",
       "      <td>Feudal</td>\n",
       "      <td>60</td>\n",
       "      <td>2100</td>\n",
       "      <td>4.0</td>\n",
       "      <td>1/8</td>\n",
       "      <td>NaN</td>\n",
       "      <td>175.0</td>\n",
       "      <td>NaN</td>\n",
       "      <td>NaN</td>\n",
       "      <td>NaN</td>\n",
       "      <td>NaN</td>\n",
       "      <td>NaN</td>\n",
       "    </tr>\n",
       "    <tr>\n",
       "      <th>16</th>\n",
       "      <td>17</td>\n",
       "      <td>Mill</td>\n",
       "      <td>Age of Kings</td>\n",
       "      <td>Feudal</td>\n",
       "      <td>35</td>\n",
       "      <td>1000</td>\n",
       "      <td>5.0</td>\n",
       "      <td>1/8</td>\n",
       "      <td>[Max 40 farms queued]</td>\n",
       "      <td>100.0</td>\n",
       "      <td>NaN</td>\n",
       "      <td>NaN</td>\n",
       "      <td>NaN</td>\n",
       "      <td>NaN</td>\n",
       "      <td>NaN</td>\n",
       "    </tr>\n",
       "    <tr>\n",
       "      <th>17</th>\n",
       "      <td>18</td>\n",
       "      <td>Mining Camp</td>\n",
       "      <td>Age of Kings</td>\n",
       "      <td>Feudal</td>\n",
       "      <td>35</td>\n",
       "      <td>1000</td>\n",
       "      <td>5.0</td>\n",
       "      <td>1/8</td>\n",
       "      <td>NaN</td>\n",
       "      <td>100.0</td>\n",
       "      <td>NaN</td>\n",
       "      <td>NaN</td>\n",
       "      <td>NaN</td>\n",
       "      <td>NaN</td>\n",
       "      <td>NaN</td>\n",
       "    </tr>\n",
       "    <tr>\n",
       "      <th>18</th>\n",
       "      <td>19</td>\n",
       "      <td>Stable</td>\n",
       "      <td>Age of Kings</td>\n",
       "      <td>Feudal</td>\n",
       "      <td>50</td>\n",
       "      <td>1500</td>\n",
       "      <td>5.0</td>\n",
       "      <td>1/8</td>\n",
       "      <td>[Garrison: 10 created units]</td>\n",
       "      <td>175.0</td>\n",
       "      <td>NaN</td>\n",
       "      <td>NaN</td>\n",
       "      <td>NaN</td>\n",
       "      <td>NaN</td>\n",
       "      <td>NaN</td>\n",
       "    </tr>\n",
       "    <tr>\n",
       "      <th>19</th>\n",
       "      <td>20</td>\n",
       "      <td>Town Center</td>\n",
       "      <td>Age of Kings</td>\n",
       "      <td>Feudal</td>\n",
       "      <td>150</td>\n",
       "      <td>2400</td>\n",
       "      <td>7.0</td>\n",
       "      <td>4/6</td>\n",
       "      <td>[15 units (supports 5 population), max 10 arro...</td>\n",
       "      <td>275.0</td>\n",
       "      <td>2.0</td>\n",
       "      <td>6</td>\n",
       "      <td>5.0</td>\n",
       "      <td>100.0</td>\n",
       "      <td>NaN</td>\n",
       "    </tr>\n",
       "    <tr>\n",
       "      <th>20</th>\n",
       "      <td>21</td>\n",
       "      <td>Archery Range</td>\n",
       "      <td>Age of Kings</td>\n",
       "      <td>Castle</td>\n",
       "      <td>50</td>\n",
       "      <td>1800</td>\n",
       "      <td>5.0</td>\n",
       "      <td>2/9</td>\n",
       "      <td>[Garrison: 10 created units]</td>\n",
       "      <td>175.0</td>\n",
       "      <td>NaN</td>\n",
       "      <td>NaN</td>\n",
       "      <td>NaN</td>\n",
       "      <td>NaN</td>\n",
       "      <td>NaN</td>\n",
       "    </tr>\n",
       "    <tr>\n",
       "      <th>21</th>\n",
       "      <td>22</td>\n",
       "      <td>Barracks</td>\n",
       "      <td>Age of Kings</td>\n",
       "      <td>Castle</td>\n",
       "      <td>50</td>\n",
       "      <td>1800</td>\n",
       "      <td>5.0</td>\n",
       "      <td>2/9</td>\n",
       "      <td>[Garrison: 10 created units]</td>\n",
       "      <td>175.0</td>\n",
       "      <td>NaN</td>\n",
       "      <td>NaN</td>\n",
       "      <td>NaN</td>\n",
       "      <td>NaN</td>\n",
       "      <td>NaN</td>\n",
       "    </tr>\n",
       "    <tr>\n",
       "      <th>22</th>\n",
       "      <td>23</td>\n",
       "      <td>Blacksmith</td>\n",
       "      <td>Age of Kings</td>\n",
       "      <td>Castle</td>\n",
       "      <td>40</td>\n",
       "      <td>2100</td>\n",
       "      <td>5.0</td>\n",
       "      <td>2/9</td>\n",
       "      <td>NaN</td>\n",
       "      <td>150.0</td>\n",
       "      <td>NaN</td>\n",
       "      <td>NaN</td>\n",
       "      <td>NaN</td>\n",
       "      <td>NaN</td>\n",
       "      <td>NaN</td>\n",
       "    </tr>\n",
       "    <tr>\n",
       "      <th>23</th>\n",
       "      <td>24</td>\n",
       "      <td>Castle</td>\n",
       "      <td>Age of Kings</td>\n",
       "      <td>Castle</td>\n",
       "      <td>200</td>\n",
       "      <td>4800</td>\n",
       "      <td>10.0</td>\n",
       "      <td>8/11</td>\n",
       "      <td>[20 units (support 20 population), max 21 arro...</td>\n",
       "      <td>NaN</td>\n",
       "      <td>2.0</td>\n",
       "      <td>1-8</td>\n",
       "      <td>11.0</td>\n",
       "      <td>650.0</td>\n",
       "      <td>NaN</td>\n",
       "    </tr>\n",
       "    <tr>\n",
       "      <th>24</th>\n",
       "      <td>25</td>\n",
       "      <td>Dock</td>\n",
       "      <td>Age of Kings</td>\n",
       "      <td>Castle</td>\n",
       "      <td>35</td>\n",
       "      <td>1800</td>\n",
       "      <td>5.0</td>\n",
       "      <td>2/9</td>\n",
       "      <td>[Garrison: 10 created units]</td>\n",
       "      <td>150.0</td>\n",
       "      <td>NaN</td>\n",
       "      <td>NaN</td>\n",
       "      <td>NaN</td>\n",
       "      <td>NaN</td>\n",
       "      <td>NaN</td>\n",
       "    </tr>\n",
       "    <tr>\n",
       "      <th>25</th>\n",
       "      <td>26</td>\n",
       "      <td>House</td>\n",
       "      <td>Age of Kings</td>\n",
       "      <td>Castle</td>\n",
       "      <td>25</td>\n",
       "      <td>900</td>\n",
       "      <td>1.0</td>\n",
       "      <td>2/9</td>\n",
       "      <td>[Supports 5 population]</td>\n",
       "      <td>30.0</td>\n",
       "      <td>NaN</td>\n",
       "      <td>NaN</td>\n",
       "      <td>NaN</td>\n",
       "      <td>NaN</td>\n",
       "      <td>NaN</td>\n",
       "    </tr>\n",
       "    <tr>\n",
       "      <th>26</th>\n",
       "      <td>27</td>\n",
       "      <td>Lumber Camp</td>\n",
       "      <td>Age of Kings</td>\n",
       "      <td>Castle</td>\n",
       "      <td>35</td>\n",
       "      <td>1000</td>\n",
       "      <td>5.0</td>\n",
       "      <td>2/9</td>\n",
       "      <td>NaN</td>\n",
       "      <td>100.0</td>\n",
       "      <td>NaN</td>\n",
       "      <td>NaN</td>\n",
       "      <td>NaN</td>\n",
       "      <td>NaN</td>\n",
       "      <td>NaN</td>\n",
       "    </tr>\n",
       "    <tr>\n",
       "      <th>27</th>\n",
       "      <td>28</td>\n",
       "      <td>Market</td>\n",
       "      <td>Age of Kings</td>\n",
       "      <td>Castle</td>\n",
       "      <td>60</td>\n",
       "      <td>2100</td>\n",
       "      <td>4.0</td>\n",
       "      <td>2/9</td>\n",
       "      <td>NaN</td>\n",
       "      <td>175.0</td>\n",
       "      <td>NaN</td>\n",
       "      <td>NaN</td>\n",
       "      <td>NaN</td>\n",
       "      <td>NaN</td>\n",
       "      <td>NaN</td>\n",
       "    </tr>\n",
       "    <tr>\n",
       "      <th>28</th>\n",
       "      <td>29</td>\n",
       "      <td>Mill</td>\n",
       "      <td>Age of Kings</td>\n",
       "      <td>Castle</td>\n",
       "      <td>35</td>\n",
       "      <td>1000</td>\n",
       "      <td>5.0</td>\n",
       "      <td>2/9</td>\n",
       "      <td>[Max 40 farms queued]</td>\n",
       "      <td>100.0</td>\n",
       "      <td>NaN</td>\n",
       "      <td>NaN</td>\n",
       "      <td>NaN</td>\n",
       "      <td>NaN</td>\n",
       "      <td>NaN</td>\n",
       "    </tr>\n",
       "    <tr>\n",
       "      <th>29</th>\n",
       "      <td>30</td>\n",
       "      <td>Mining Camp</td>\n",
       "      <td>Age of Kings</td>\n",
       "      <td>Castle</td>\n",
       "      <td>35</td>\n",
       "      <td>1000</td>\n",
       "      <td>5.0</td>\n",
       "      <td>2/9</td>\n",
       "      <td>NaN</td>\n",
       "      <td>100.0</td>\n",
       "      <td>NaN</td>\n",
       "      <td>NaN</td>\n",
       "      <td>NaN</td>\n",
       "      <td>NaN</td>\n",
       "      <td>NaN</td>\n",
       "    </tr>\n",
       "    <tr>\n",
       "      <th>30</th>\n",
       "      <td>31</td>\n",
       "      <td>Monastery</td>\n",
       "      <td>Age of Kings</td>\n",
       "      <td>Castle</td>\n",
       "      <td>40</td>\n",
       "      <td>2100</td>\n",
       "      <td>5.0</td>\n",
       "      <td>2/9</td>\n",
       "      <td>[Garrison: 10 created units]</td>\n",
       "      <td>175.0</td>\n",
       "      <td>NaN</td>\n",
       "      <td>NaN</td>\n",
       "      <td>NaN</td>\n",
       "      <td>NaN</td>\n",
       "      <td>NaN</td>\n",
       "    </tr>\n",
       "    <tr>\n",
       "      <th>31</th>\n",
       "      <td>32</td>\n",
       "      <td>Siege Workshop</td>\n",
       "      <td>Age of Kings</td>\n",
       "      <td>Castle</td>\n",
       "      <td>40</td>\n",
       "      <td>2100</td>\n",
       "      <td>4.0</td>\n",
       "      <td>2/9</td>\n",
       "      <td>[Garrison: 10 created units]</td>\n",
       "      <td>200.0</td>\n",
       "      <td>NaN</td>\n",
       "      <td>NaN</td>\n",
       "      <td>NaN</td>\n",
       "      <td>NaN</td>\n",
       "      <td>NaN</td>\n",
       "    </tr>\n",
       "    <tr>\n",
       "      <th>32</th>\n",
       "      <td>33</td>\n",
       "      <td>Stable</td>\n",
       "      <td>Age of Kings</td>\n",
       "      <td>Castle</td>\n",
       "      <td>50</td>\n",
       "      <td>1800</td>\n",
       "      <td>5.0</td>\n",
       "      <td>2/9</td>\n",
       "      <td>[Garrison: 10 created units]</td>\n",
       "      <td>175.0</td>\n",
       "      <td>NaN</td>\n",
       "      <td>NaN</td>\n",
       "      <td>NaN</td>\n",
       "      <td>NaN</td>\n",
       "      <td>NaN</td>\n",
       "    </tr>\n",
       "    <tr>\n",
       "      <th>33</th>\n",
       "      <td>34</td>\n",
       "      <td>Town Center</td>\n",
       "      <td>Age of Kings</td>\n",
       "      <td>Castle</td>\n",
       "      <td>150</td>\n",
       "      <td>2400</td>\n",
       "      <td>7.0</td>\n",
       "      <td>5/7</td>\n",
       "      <td>[15 units (supports 5 population), max 10 arro...</td>\n",
       "      <td>275.0</td>\n",
       "      <td>2.0</td>\n",
       "      <td>6</td>\n",
       "      <td>5.0</td>\n",
       "      <td>100.0</td>\n",
       "      <td>NaN</td>\n",
       "    </tr>\n",
       "    <tr>\n",
       "      <th>34</th>\n",
       "      <td>35</td>\n",
       "      <td>University</td>\n",
       "      <td>Age of Kings</td>\n",
       "      <td>Castle</td>\n",
       "      <td>60</td>\n",
       "      <td>2100</td>\n",
       "      <td>4.0</td>\n",
       "      <td>2/9</td>\n",
       "      <td>NaN</td>\n",
       "      <td>200.0</td>\n",
       "      <td>NaN</td>\n",
       "      <td>NaN</td>\n",
       "      <td>NaN</td>\n",
       "      <td>NaN</td>\n",
       "      <td>NaN</td>\n",
       "    </tr>\n",
       "    <tr>\n",
       "      <th>35</th>\n",
       "      <td>36</td>\n",
       "      <td>Archery Range</td>\n",
       "      <td>Age of Kings</td>\n",
       "      <td>Imperial</td>\n",
       "      <td>50</td>\n",
       "      <td>2100</td>\n",
       "      <td>5.0</td>\n",
       "      <td>3/10</td>\n",
       "      <td>[Garrison: 10 created units]</td>\n",
       "      <td>175.0</td>\n",
       "      <td>NaN</td>\n",
       "      <td>NaN</td>\n",
       "      <td>NaN</td>\n",
       "      <td>NaN</td>\n",
       "      <td>NaN</td>\n",
       "    </tr>\n",
       "    <tr>\n",
       "      <th>36</th>\n",
       "      <td>37</td>\n",
       "      <td>Barracks</td>\n",
       "      <td>Age of Kings</td>\n",
       "      <td>Imperial</td>\n",
       "      <td>50</td>\n",
       "      <td>2100</td>\n",
       "      <td>5.0</td>\n",
       "      <td>3/10</td>\n",
       "      <td>[Garrison: 10 created units]</td>\n",
       "      <td>175.0</td>\n",
       "      <td>NaN</td>\n",
       "      <td>NaN</td>\n",
       "      <td>NaN</td>\n",
       "      <td>NaN</td>\n",
       "      <td>NaN</td>\n",
       "    </tr>\n",
       "    <tr>\n",
       "      <th>37</th>\n",
       "      <td>38</td>\n",
       "      <td>Blacksmith</td>\n",
       "      <td>Age of Kings</td>\n",
       "      <td>Imperial</td>\n",
       "      <td>40</td>\n",
       "      <td>2100</td>\n",
       "      <td>5.0</td>\n",
       "      <td>3/10</td>\n",
       "      <td>NaN</td>\n",
       "      <td>150.0</td>\n",
       "      <td>NaN</td>\n",
       "      <td>NaN</td>\n",
       "      <td>NaN</td>\n",
       "      <td>NaN</td>\n",
       "      <td>NaN</td>\n",
       "    </tr>\n",
       "    <tr>\n",
       "      <th>38</th>\n",
       "      <td>39</td>\n",
       "      <td>Dock</td>\n",
       "      <td>Age of Kings</td>\n",
       "      <td>Imperial</td>\n",
       "      <td>35</td>\n",
       "      <td>1800</td>\n",
       "      <td>5.0</td>\n",
       "      <td>3/10</td>\n",
       "      <td>[Garrison: 10 created units]</td>\n",
       "      <td>150.0</td>\n",
       "      <td>NaN</td>\n",
       "      <td>NaN</td>\n",
       "      <td>NaN</td>\n",
       "      <td>NaN</td>\n",
       "      <td>NaN</td>\n",
       "    </tr>\n",
       "    <tr>\n",
       "      <th>39</th>\n",
       "      <td>40</td>\n",
       "      <td>House</td>\n",
       "      <td>Age of Kings</td>\n",
       "      <td>Imperial</td>\n",
       "      <td>25</td>\n",
       "      <td>900</td>\n",
       "      <td>1.0</td>\n",
       "      <td>3/10</td>\n",
       "      <td>[Supports 5 population]</td>\n",
       "      <td>30.0</td>\n",
       "      <td>NaN</td>\n",
       "      <td>NaN</td>\n",
       "      <td>NaN</td>\n",
       "      <td>NaN</td>\n",
       "      <td>NaN</td>\n",
       "    </tr>\n",
       "    <tr>\n",
       "      <th>40</th>\n",
       "      <td>41</td>\n",
       "      <td>Lumber Camp</td>\n",
       "      <td>Age of Kings</td>\n",
       "      <td>Imperial</td>\n",
       "      <td>35</td>\n",
       "      <td>1000</td>\n",
       "      <td>5.0</td>\n",
       "      <td>3/10</td>\n",
       "      <td>NaN</td>\n",
       "      <td>100.0</td>\n",
       "      <td>NaN</td>\n",
       "      <td>NaN</td>\n",
       "      <td>NaN</td>\n",
       "      <td>NaN</td>\n",
       "      <td>NaN</td>\n",
       "    </tr>\n",
       "    <tr>\n",
       "      <th>41</th>\n",
       "      <td>42</td>\n",
       "      <td>Market</td>\n",
       "      <td>Age of Kings</td>\n",
       "      <td>Imperial</td>\n",
       "      <td>60</td>\n",
       "      <td>2100</td>\n",
       "      <td>4.0</td>\n",
       "      <td>3/10</td>\n",
       "      <td>NaN</td>\n",
       "      <td>175.0</td>\n",
       "      <td>NaN</td>\n",
       "      <td>NaN</td>\n",
       "      <td>NaN</td>\n",
       "      <td>NaN</td>\n",
       "      <td>NaN</td>\n",
       "    </tr>\n",
       "    <tr>\n",
       "      <th>42</th>\n",
       "      <td>43</td>\n",
       "      <td>Mill</td>\n",
       "      <td>Age of Kings</td>\n",
       "      <td>Imperial</td>\n",
       "      <td>35</td>\n",
       "      <td>1000</td>\n",
       "      <td>5.0</td>\n",
       "      <td>3/10</td>\n",
       "      <td>[Max 40 farms queued]</td>\n",
       "      <td>100.0</td>\n",
       "      <td>NaN</td>\n",
       "      <td>NaN</td>\n",
       "      <td>NaN</td>\n",
       "      <td>NaN</td>\n",
       "      <td>NaN</td>\n",
       "    </tr>\n",
       "    <tr>\n",
       "      <th>43</th>\n",
       "      <td>44</td>\n",
       "      <td>Mining Camp</td>\n",
       "      <td>Age of Kings</td>\n",
       "      <td>Imperial</td>\n",
       "      <td>35</td>\n",
       "      <td>1000</td>\n",
       "      <td>5.0</td>\n",
       "      <td>3/10</td>\n",
       "      <td>NaN</td>\n",
       "      <td>100.0</td>\n",
       "      <td>NaN</td>\n",
       "      <td>NaN</td>\n",
       "      <td>NaN</td>\n",
       "      <td>NaN</td>\n",
       "      <td>NaN</td>\n",
       "    </tr>\n",
       "    <tr>\n",
       "      <th>44</th>\n",
       "      <td>45</td>\n",
       "      <td>Monastery</td>\n",
       "      <td>Age of Kings</td>\n",
       "      <td>Imperial</td>\n",
       "      <td>40</td>\n",
       "      <td>2100</td>\n",
       "      <td>5.0</td>\n",
       "      <td>3/10</td>\n",
       "      <td>[Garrison: 10 created units]</td>\n",
       "      <td>175.0</td>\n",
       "      <td>NaN</td>\n",
       "      <td>NaN</td>\n",
       "      <td>NaN</td>\n",
       "      <td>NaN</td>\n",
       "      <td>NaN</td>\n",
       "    </tr>\n",
       "    <tr>\n",
       "      <th>45</th>\n",
       "      <td>46</td>\n",
       "      <td>Siege Workshop</td>\n",
       "      <td>Age of Kings</td>\n",
       "      <td>Imperial</td>\n",
       "      <td>40</td>\n",
       "      <td>2100</td>\n",
       "      <td>4.0</td>\n",
       "      <td>3/10</td>\n",
       "      <td>[Garrison: 10 created units]</td>\n",
       "      <td>200.0</td>\n",
       "      <td>NaN</td>\n",
       "      <td>NaN</td>\n",
       "      <td>NaN</td>\n",
       "      <td>NaN</td>\n",
       "      <td>NaN</td>\n",
       "    </tr>\n",
       "    <tr>\n",
       "      <th>46</th>\n",
       "      <td>47</td>\n",
       "      <td>Stable</td>\n",
       "      <td>Age of Kings</td>\n",
       "      <td>Imperial</td>\n",
       "      <td>50</td>\n",
       "      <td>2100</td>\n",
       "      <td>5.0</td>\n",
       "      <td>3/10</td>\n",
       "      <td>[Garrison: 10 created units]</td>\n",
       "      <td>175.0</td>\n",
       "      <td>NaN</td>\n",
       "      <td>NaN</td>\n",
       "      <td>NaN</td>\n",
       "      <td>NaN</td>\n",
       "      <td>NaN</td>\n",
       "    </tr>\n",
       "    <tr>\n",
       "      <th>47</th>\n",
       "      <td>48</td>\n",
       "      <td>Town Center</td>\n",
       "      <td>Age of Kings</td>\n",
       "      <td>Imperial</td>\n",
       "      <td>150</td>\n",
       "      <td>2400</td>\n",
       "      <td>7.0</td>\n",
       "      <td>6/8</td>\n",
       "      <td>[15 units (supports 5 population), Max 10 arro...</td>\n",
       "      <td>275.0</td>\n",
       "      <td>2.0</td>\n",
       "      <td>6</td>\n",
       "      <td>5.0</td>\n",
       "      <td>100.0</td>\n",
       "      <td>NaN</td>\n",
       "    </tr>\n",
       "    <tr>\n",
       "      <th>48</th>\n",
       "      <td>49</td>\n",
       "      <td>University</td>\n",
       "      <td>Age of Kings</td>\n",
       "      <td>Imperial</td>\n",
       "      <td>60</td>\n",
       "      <td>2100</td>\n",
       "      <td>4.0</td>\n",
       "      <td>3/10</td>\n",
       "      <td>NaN</td>\n",
       "      <td>200.0</td>\n",
       "      <td>NaN</td>\n",
       "      <td>NaN</td>\n",
       "      <td>NaN</td>\n",
       "      <td>NaN</td>\n",
       "      <td>NaN</td>\n",
       "    </tr>\n",
       "    <tr>\n",
       "      <th>49</th>\n",
       "      <td>50</td>\n",
       "      <td>Wonder</td>\n",
       "      <td>Age of Kings</td>\n",
       "      <td>Imperial</td>\n",
       "      <td>3503</td>\n",
       "      <td>4800</td>\n",
       "      <td>6.0</td>\n",
       "      <td>3/10</td>\n",
       "      <td>NaN</td>\n",
       "      <td>1000.0</td>\n",
       "      <td>NaN</td>\n",
       "      <td>NaN</td>\n",
       "      <td>NaN</td>\n",
       "      <td>1000.0</td>\n",
       "      <td>1000.0</td>\n",
       "    </tr>\n",
       "    <tr>\n",
       "      <th>50</th>\n",
       "      <td>51</td>\n",
       "      <td>Outpost</td>\n",
       "      <td>Age of Kings</td>\n",
       "      <td>Dark</td>\n",
       "      <td>15</td>\n",
       "      <td>500</td>\n",
       "      <td>6.0</td>\n",
       "      <td>0/0</td>\n",
       "      <td>[+2 Line of sight per age]</td>\n",
       "      <td>25.0</td>\n",
       "      <td>NaN</td>\n",
       "      <td>NaN</td>\n",
       "      <td>NaN</td>\n",
       "      <td>10.0</td>\n",
       "      <td>NaN</td>\n",
       "    </tr>\n",
       "    <tr>\n",
       "      <th>51</th>\n",
       "      <td>52</td>\n",
       "      <td>Palisade Wall</td>\n",
       "      <td>Age of Kings</td>\n",
       "      <td>Dark</td>\n",
       "      <td>5</td>\n",
       "      <td>250</td>\n",
       "      <td>2.0</td>\n",
       "      <td>2/5</td>\n",
       "      <td>NaN</td>\n",
       "      <td>2.0</td>\n",
       "      <td>NaN</td>\n",
       "      <td>NaN</td>\n",
       "      <td>NaN</td>\n",
       "      <td>NaN</td>\n",
       "      <td>NaN</td>\n",
       "    </tr>\n",
       "    <tr>\n",
       "      <th>52</th>\n",
       "      <td>53</td>\n",
       "      <td>Gate</td>\n",
       "      <td>Age of Kings</td>\n",
       "      <td>Feudal</td>\n",
       "      <td>70</td>\n",
       "      <td>2750</td>\n",
       "      <td>6.0</td>\n",
       "      <td>6/6</td>\n",
       "      <td>[+1250 HP with Fortified Wall (Gates parallel ...</td>\n",
       "      <td>NaN</td>\n",
       "      <td>NaN</td>\n",
       "      <td>NaN</td>\n",
       "      <td>NaN</td>\n",
       "      <td>30.0</td>\n",
       "      <td>NaN</td>\n",
       "    </tr>\n",
       "    <tr>\n",
       "      <th>53</th>\n",
       "      <td>54</td>\n",
       "      <td>Stone Wall</td>\n",
       "      <td>Age of Kings</td>\n",
       "      <td>Feudal</td>\n",
       "      <td>8</td>\n",
       "      <td>1800</td>\n",
       "      <td>2.0</td>\n",
       "      <td>8/10</td>\n",
       "      <td>NaN</td>\n",
       "      <td>NaN</td>\n",
       "      <td>NaN</td>\n",
       "      <td>NaN</td>\n",
       "      <td>NaN</td>\n",
       "      <td>5.0</td>\n",
       "      <td>NaN</td>\n",
       "    </tr>\n",
       "    <tr>\n",
       "      <th>54</th>\n",
       "      <td>55</td>\n",
       "      <td>Watch Tower</td>\n",
       "      <td>Age of Kings</td>\n",
       "      <td>Feudal</td>\n",
       "      <td>80</td>\n",
       "      <td>1020</td>\n",
       "      <td>10.0</td>\n",
       "      <td>1/7</td>\n",
       "      <td>[Garrison 5 units, +2 vs spearmen line, +7 dam...</td>\n",
       "      <td>25.0</td>\n",
       "      <td>2.0</td>\n",
       "      <td>1-8</td>\n",
       "      <td>5.0</td>\n",
       "      <td>125.0</td>\n",
       "      <td>NaN</td>\n",
       "    </tr>\n",
       "    <tr>\n",
       "      <th>55</th>\n",
       "      <td>56</td>\n",
       "      <td>Fortified Wall</td>\n",
       "      <td>Age of Kings</td>\n",
       "      <td>Castle</td>\n",
       "      <td>8</td>\n",
       "      <td>3000</td>\n",
       "      <td>2.0</td>\n",
       "      <td>12/12</td>\n",
       "      <td>NaN</td>\n",
       "      <td>NaN</td>\n",
       "      <td>NaN</td>\n",
       "      <td>NaN</td>\n",
       "      <td>NaN</td>\n",
       "      <td>5.0</td>\n",
       "      <td>NaN</td>\n",
       "    </tr>\n",
       "    <tr>\n",
       "      <th>56</th>\n",
       "      <td>57</td>\n",
       "      <td>Guard Tower</td>\n",
       "      <td>Age of Kings</td>\n",
       "      <td>Castle</td>\n",
       "      <td>80</td>\n",
       "      <td>1500</td>\n",
       "      <td>10.0</td>\n",
       "      <td>2/8</td>\n",
       "      <td>[Garrison 5 units, +2 vs spearmen line, +9 dam...</td>\n",
       "      <td>25.0</td>\n",
       "      <td>2.0</td>\n",
       "      <td>1-8</td>\n",
       "      <td>6.0</td>\n",
       "      <td>125.0</td>\n",
       "      <td>NaN</td>\n",
       "    </tr>\n",
       "    <tr>\n",
       "      <th>57</th>\n",
       "      <td>58</td>\n",
       "      <td>Bombard Tower</td>\n",
       "      <td>Age of Kings</td>\n",
       "      <td>Imperial</td>\n",
       "      <td>80</td>\n",
       "      <td>2220</td>\n",
       "      <td>10.0</td>\n",
       "      <td>3/9</td>\n",
       "      <td>[Garrison 5 units, +40 damage vs ships/camels,...</td>\n",
       "      <td>25.0</td>\n",
       "      <td>6.0</td>\n",
       "      <td>1-8</td>\n",
       "      <td>120.0</td>\n",
       "      <td>125.0</td>\n",
       "      <td>NaN</td>\n",
       "    </tr>\n",
       "    <tr>\n",
       "      <th>58</th>\n",
       "      <td>59</td>\n",
       "      <td>Keep</td>\n",
       "      <td>Age of Kings</td>\n",
       "      <td>Imperial</td>\n",
       "      <td>80</td>\n",
       "      <td>2250</td>\n",
       "      <td>10.0</td>\n",
       "      <td>3/9</td>\n",
       "      <td>[Garrison 5 units, +2 vs spearmen line, +10 da...</td>\n",
       "      <td>25.0</td>\n",
       "      <td>2.0</td>\n",
       "      <td>1-8</td>\n",
       "      <td>7.0</td>\n",
       "      <td>125.0</td>\n",
       "      <td>NaN</td>\n",
       "    </tr>\n",
       "  </tbody>\n",
       "</table>\n",
       "</div>"
      ],
      "text/plain": [
       "    id            name     expansion       age  build_time  hit_points  \\\n",
       "0    1        Barracks  Age of Kings      Dark          50        1200   \n",
       "1    2            Dock  Age of Kings      Dark          35        1800   \n",
       "2    3            Farm  Age of Kings      Dark          15         480   \n",
       "3    4       Fish Trap  Age of Kings      Dark          53          50   \n",
       "4    5           House  Age of Kings      Dark          25         900   \n",
       "5    6     Lumber Camp  Age of Kings      Dark          35        1000   \n",
       "6    7            Mill  Age of Kings      Dark          35        1000   \n",
       "7    8     Mining Camp  Age of Kings      Dark          35        1000   \n",
       "8    9     Town Center  Age of Kings      Dark         150        2400   \n",
       "9   10   Archery Range  Age of Kings    Feudal          50        1500   \n",
       "10  11        Barracks  Age of Kings    Feudal          50        1500   \n",
       "11  12      Blacksmith  Age of Kings    Feudal          40        2100   \n",
       "12  13            Dock  Age of Kings    Feudal          35        1800   \n",
       "13  14           House  Age of Kings    Feudal          25         900   \n",
       "14  15     Lumber Camp  Age of Kings    Feudal          35        1000   \n",
       "15  16          Market  Age of Kings    Feudal          60        2100   \n",
       "16  17            Mill  Age of Kings    Feudal          35        1000   \n",
       "17  18     Mining Camp  Age of Kings    Feudal          35        1000   \n",
       "18  19          Stable  Age of Kings    Feudal          50        1500   \n",
       "19  20     Town Center  Age of Kings    Feudal         150        2400   \n",
       "20  21   Archery Range  Age of Kings    Castle          50        1800   \n",
       "21  22        Barracks  Age of Kings    Castle          50        1800   \n",
       "22  23      Blacksmith  Age of Kings    Castle          40        2100   \n",
       "23  24          Castle  Age of Kings    Castle         200        4800   \n",
       "24  25            Dock  Age of Kings    Castle          35        1800   \n",
       "25  26           House  Age of Kings    Castle          25         900   \n",
       "26  27     Lumber Camp  Age of Kings    Castle          35        1000   \n",
       "27  28          Market  Age of Kings    Castle          60        2100   \n",
       "28  29            Mill  Age of Kings    Castle          35        1000   \n",
       "29  30     Mining Camp  Age of Kings    Castle          35        1000   \n",
       "30  31       Monastery  Age of Kings    Castle          40        2100   \n",
       "31  32  Siege Workshop  Age of Kings    Castle          40        2100   \n",
       "32  33          Stable  Age of Kings    Castle          50        1800   \n",
       "33  34     Town Center  Age of Kings    Castle         150        2400   \n",
       "34  35      University  Age of Kings    Castle          60        2100   \n",
       "35  36   Archery Range  Age of Kings  Imperial          50        2100   \n",
       "36  37        Barracks  Age of Kings  Imperial          50        2100   \n",
       "37  38      Blacksmith  Age of Kings  Imperial          40        2100   \n",
       "38  39            Dock  Age of Kings  Imperial          35        1800   \n",
       "39  40           House  Age of Kings  Imperial          25         900   \n",
       "40  41     Lumber Camp  Age of Kings  Imperial          35        1000   \n",
       "41  42          Market  Age of Kings  Imperial          60        2100   \n",
       "42  43            Mill  Age of Kings  Imperial          35        1000   \n",
       "43  44     Mining Camp  Age of Kings  Imperial          35        1000   \n",
       "44  45       Monastery  Age of Kings  Imperial          40        2100   \n",
       "45  46  Siege Workshop  Age of Kings  Imperial          40        2100   \n",
       "46  47          Stable  Age of Kings  Imperial          50        2100   \n",
       "47  48     Town Center  Age of Kings  Imperial         150        2400   \n",
       "48  49      University  Age of Kings  Imperial          60        2100   \n",
       "49  50          Wonder  Age of Kings  Imperial        3503        4800   \n",
       "50  51         Outpost  Age of Kings      Dark          15         500   \n",
       "51  52   Palisade Wall  Age of Kings      Dark           5         250   \n",
       "52  53            Gate  Age of Kings    Feudal          70        2750   \n",
       "53  54      Stone Wall  Age of Kings    Feudal           8        1800   \n",
       "54  55     Watch Tower  Age of Kings    Feudal          80        1020   \n",
       "55  56  Fortified Wall  Age of Kings    Castle           8        3000   \n",
       "56  57     Guard Tower  Age of Kings    Castle          80        1500   \n",
       "57  58   Bombard Tower  Age of Kings  Imperial          80        2220   \n",
       "58  59            Keep  Age of Kings  Imperial          80        2250   \n",
       "\n",
       "    line_of_sight  armor                                            special  \\\n",
       "0             5.0    0/7                       [Garrison: 10 created units]   \n",
       "1             5.0    0/7                       [Garrison: 10 created units]   \n",
       "2             NaN    0/0  [Standard = 175 Food, Horse Collar = 250 Food,...   \n",
       "3             1.0    0/0                                   [Gives 715 Food]   \n",
       "4             1.0    0/7                            [Supports 5 population]   \n",
       "5             5.0    0/7                                                NaN   \n",
       "6             5.0    0/7                              [Max 40 farms queued]   \n",
       "7             5.0    0/7                                                NaN   \n",
       "8             7.0    3/5  [15 units (supports 5 population), max 10 arro...   \n",
       "9             5.0    1/8                       [Garrison: 10 created units]   \n",
       "10            5.0    1/8                       [Garrison: 10 created units]   \n",
       "11            5.0    1/8                                                NaN   \n",
       "12            5.0    1/8                       [Garrison: 10 created units]   \n",
       "13            1.0    1/8                            [Supports 5 population]   \n",
       "14            5.0    1/8                                                NaN   \n",
       "15            4.0    1/8                                                NaN   \n",
       "16            5.0    1/8                              [Max 40 farms queued]   \n",
       "17            5.0    1/8                                                NaN   \n",
       "18            5.0    1/8                       [Garrison: 10 created units]   \n",
       "19            7.0    4/6  [15 units (supports 5 population), max 10 arro...   \n",
       "20            5.0    2/9                       [Garrison: 10 created units]   \n",
       "21            5.0    2/9                       [Garrison: 10 created units]   \n",
       "22            5.0    2/9                                                NaN   \n",
       "23           10.0   8/11  [20 units (support 20 population), max 21 arro...   \n",
       "24            5.0    2/9                       [Garrison: 10 created units]   \n",
       "25            1.0    2/9                            [Supports 5 population]   \n",
       "26            5.0    2/9                                                NaN   \n",
       "27            4.0    2/9                                                NaN   \n",
       "28            5.0    2/9                              [Max 40 farms queued]   \n",
       "29            5.0    2/9                                                NaN   \n",
       "30            5.0    2/9                       [Garrison: 10 created units]   \n",
       "31            4.0    2/9                       [Garrison: 10 created units]   \n",
       "32            5.0    2/9                       [Garrison: 10 created units]   \n",
       "33            7.0    5/7  [15 units (supports 5 population), max 10 arro...   \n",
       "34            4.0    2/9                                                NaN   \n",
       "35            5.0   3/10                       [Garrison: 10 created units]   \n",
       "36            5.0   3/10                       [Garrison: 10 created units]   \n",
       "37            5.0   3/10                                                NaN   \n",
       "38            5.0   3/10                       [Garrison: 10 created units]   \n",
       "39            1.0   3/10                            [Supports 5 population]   \n",
       "40            5.0   3/10                                                NaN   \n",
       "41            4.0   3/10                                                NaN   \n",
       "42            5.0   3/10                              [Max 40 farms queued]   \n",
       "43            5.0   3/10                                                NaN   \n",
       "44            5.0   3/10                       [Garrison: 10 created units]   \n",
       "45            4.0   3/10                       [Garrison: 10 created units]   \n",
       "46            5.0   3/10                       [Garrison: 10 created units]   \n",
       "47            7.0    6/8  [15 units (supports 5 population), Max 10 arro...   \n",
       "48            4.0   3/10                                                NaN   \n",
       "49            6.0   3/10                                                NaN   \n",
       "50            6.0    0/0                         [+2 Line of sight per age]   \n",
       "51            2.0    2/5                                                NaN   \n",
       "52            6.0    6/6  [+1250 HP with Fortified Wall (Gates parallel ...   \n",
       "53            2.0   8/10                                                NaN   \n",
       "54           10.0    1/7  [Garrison 5 units, +2 vs spearmen line, +7 dam...   \n",
       "55            2.0  12/12                                                NaN   \n",
       "56           10.0    2/8  [Garrison 5 units, +2 vs spearmen line, +9 dam...   \n",
       "57           10.0    3/9  [Garrison 5 units, +40 damage vs ships/camels,...   \n",
       "58           10.0    3/9  [Garrison 5 units, +2 vs spearmen line, +10 da...   \n",
       "\n",
       "    cost.Wood  reload_time range  attack  cost.Stone  cost.Gold  \n",
       "0       175.0          NaN   NaN     NaN         NaN        NaN  \n",
       "1       150.0          NaN   NaN     NaN         NaN        NaN  \n",
       "2        60.0          NaN   NaN     NaN         NaN        NaN  \n",
       "3       100.0          NaN   NaN     NaN         NaN        NaN  \n",
       "4        30.0          NaN   NaN     NaN         NaN        NaN  \n",
       "5       100.0          NaN   NaN     NaN         NaN        NaN  \n",
       "6       100.0          NaN   NaN     NaN         NaN        NaN  \n",
       "7       100.0          NaN   NaN     NaN         NaN        NaN  \n",
       "8       275.0          2.0     6     5.0       100.0        NaN  \n",
       "9       175.0          NaN   NaN     NaN         NaN        NaN  \n",
       "10      175.0          NaN   NaN     NaN         NaN        NaN  \n",
       "11      150.0          NaN   NaN     NaN         NaN        NaN  \n",
       "12      150.0          NaN   NaN     NaN         NaN        NaN  \n",
       "13       30.0          NaN   NaN     NaN         NaN        NaN  \n",
       "14      100.0          NaN   NaN     NaN         NaN        NaN  \n",
       "15      175.0          NaN   NaN     NaN         NaN        NaN  \n",
       "16      100.0          NaN   NaN     NaN         NaN        NaN  \n",
       "17      100.0          NaN   NaN     NaN         NaN        NaN  \n",
       "18      175.0          NaN   NaN     NaN         NaN        NaN  \n",
       "19      275.0          2.0     6     5.0       100.0        NaN  \n",
       "20      175.0          NaN   NaN     NaN         NaN        NaN  \n",
       "21      175.0          NaN   NaN     NaN         NaN        NaN  \n",
       "22      150.0          NaN   NaN     NaN         NaN        NaN  \n",
       "23        NaN          2.0   1-8    11.0       650.0        NaN  \n",
       "24      150.0          NaN   NaN     NaN         NaN        NaN  \n",
       "25       30.0          NaN   NaN     NaN         NaN        NaN  \n",
       "26      100.0          NaN   NaN     NaN         NaN        NaN  \n",
       "27      175.0          NaN   NaN     NaN         NaN        NaN  \n",
       "28      100.0          NaN   NaN     NaN         NaN        NaN  \n",
       "29      100.0          NaN   NaN     NaN         NaN        NaN  \n",
       "30      175.0          NaN   NaN     NaN         NaN        NaN  \n",
       "31      200.0          NaN   NaN     NaN         NaN        NaN  \n",
       "32      175.0          NaN   NaN     NaN         NaN        NaN  \n",
       "33      275.0          2.0     6     5.0       100.0        NaN  \n",
       "34      200.0          NaN   NaN     NaN         NaN        NaN  \n",
       "35      175.0          NaN   NaN     NaN         NaN        NaN  \n",
       "36      175.0          NaN   NaN     NaN         NaN        NaN  \n",
       "37      150.0          NaN   NaN     NaN         NaN        NaN  \n",
       "38      150.0          NaN   NaN     NaN         NaN        NaN  \n",
       "39       30.0          NaN   NaN     NaN         NaN        NaN  \n",
       "40      100.0          NaN   NaN     NaN         NaN        NaN  \n",
       "41      175.0          NaN   NaN     NaN         NaN        NaN  \n",
       "42      100.0          NaN   NaN     NaN         NaN        NaN  \n",
       "43      100.0          NaN   NaN     NaN         NaN        NaN  \n",
       "44      175.0          NaN   NaN     NaN         NaN        NaN  \n",
       "45      200.0          NaN   NaN     NaN         NaN        NaN  \n",
       "46      175.0          NaN   NaN     NaN         NaN        NaN  \n",
       "47      275.0          2.0     6     5.0       100.0        NaN  \n",
       "48      200.0          NaN   NaN     NaN         NaN        NaN  \n",
       "49     1000.0          NaN   NaN     NaN      1000.0     1000.0  \n",
       "50       25.0          NaN   NaN     NaN        10.0        NaN  \n",
       "51        2.0          NaN   NaN     NaN         NaN        NaN  \n",
       "52        NaN          NaN   NaN     NaN        30.0        NaN  \n",
       "53        NaN          NaN   NaN     NaN         5.0        NaN  \n",
       "54       25.0          2.0   1-8     5.0       125.0        NaN  \n",
       "55        NaN          NaN   NaN     NaN         5.0        NaN  \n",
       "56       25.0          2.0   1-8     6.0       125.0        NaN  \n",
       "57       25.0          6.0   1-8   120.0       125.0        NaN  \n",
       "58       25.0          2.0   1-8     7.0       125.0        NaN  "
      ]
     },
     "metadata": {},
     "output_type": "display_data"
    }
   ],
   "source": [
    "# Age of Empires entry points\n",
    "entry_point = 'https://age-of-empires-2-api.herokuapp.com/api/v1/'\n",
    "\n",
    "print(\"Structures\")\n",
    "# Perform query\n",
    "aoe_stru = entry_point + 'structures'\n",
    "jsonResponse_stru=query_entry_pt(aoe_stru)\n",
    "# Normalize \n",
    "flattened_stru = pd.json_normalize(jsonResponse_stru,record_path='structures')\n",
    "display(flattened_stru)"
   ]
  },
  {
   "cell_type": "markdown",
   "metadata": {
    "slideshow": {
     "slide_type": "subslide"
    }
   },
   "source": [
    "<h3 align='center'>Task 3:  Present and communicate findings</h3>"
   ]
  },
  {
   "cell_type": "code",
   "execution_count": 13,
   "metadata": {
    "slideshow": {
     "slide_type": "subslide"
    }
   },
   "outputs": [
    {
     "data": {
      "application/vnd.plotly.v1+json": {
       "config": {
        "plotlyServerURL": "https://plot.ly"
       },
       "data": [
        {
         "alignmentgroup": "True",
         "hovertemplate": "name=%{x}<br>total build time=%{y}<extra></extra>",
         "legendgroup": "",
         "marker": {
          "color": "#636efa"
         },
         "name": "",
         "offsetgroup": "",
         "orientation": "v",
         "showlegend": false,
         "textposition": "auto",
         "type": "bar",
         "x": [
          "Archery Range",
          "Barracks",
          "Blacksmith",
          "Dock",
          "House",
          "Lumber Camp",
          "Market",
          "Mill",
          "Mining Camp",
          "Monastery",
          "Siege Workshop",
          "Stable",
          "Town Center",
          "University",
          "Wonder",
          "Bombard Tower",
          "Keep"
         ],
         "xaxis": "x",
         "y": [
          50,
          50,
          40,
          35,
          25,
          35,
          60,
          35,
          35,
          40,
          40,
          50,
          150,
          60,
          3503,
          80,
          80
         ],
         "yaxis": "y"
        }
       ],
       "layout": {
        "barmode": "relative",
        "legend": {
         "tracegroupgap": 0
        },
        "template": {
         "data": {
          "bar": [
           {
            "error_x": {
             "color": "#2a3f5f"
            },
            "error_y": {
             "color": "#2a3f5f"
            },
            "marker": {
             "line": {
              "color": "#E5ECF6",
              "width": 0.5
             }
            },
            "type": "bar"
           }
          ],
          "barpolar": [
           {
            "marker": {
             "line": {
              "color": "#E5ECF6",
              "width": 0.5
             }
            },
            "type": "barpolar"
           }
          ],
          "carpet": [
           {
            "aaxis": {
             "endlinecolor": "#2a3f5f",
             "gridcolor": "white",
             "linecolor": "white",
             "minorgridcolor": "white",
             "startlinecolor": "#2a3f5f"
            },
            "baxis": {
             "endlinecolor": "#2a3f5f",
             "gridcolor": "white",
             "linecolor": "white",
             "minorgridcolor": "white",
             "startlinecolor": "#2a3f5f"
            },
            "type": "carpet"
           }
          ],
          "choropleth": [
           {
            "colorbar": {
             "outlinewidth": 0,
             "ticks": ""
            },
            "type": "choropleth"
           }
          ],
          "contour": [
           {
            "colorbar": {
             "outlinewidth": 0,
             "ticks": ""
            },
            "colorscale": [
             [
              0,
              "#0d0887"
             ],
             [
              0.1111111111111111,
              "#46039f"
             ],
             [
              0.2222222222222222,
              "#7201a8"
             ],
             [
              0.3333333333333333,
              "#9c179e"
             ],
             [
              0.4444444444444444,
              "#bd3786"
             ],
             [
              0.5555555555555556,
              "#d8576b"
             ],
             [
              0.6666666666666666,
              "#ed7953"
             ],
             [
              0.7777777777777778,
              "#fb9f3a"
             ],
             [
              0.8888888888888888,
              "#fdca26"
             ],
             [
              1,
              "#f0f921"
             ]
            ],
            "type": "contour"
           }
          ],
          "contourcarpet": [
           {
            "colorbar": {
             "outlinewidth": 0,
             "ticks": ""
            },
            "type": "contourcarpet"
           }
          ],
          "heatmap": [
           {
            "colorbar": {
             "outlinewidth": 0,
             "ticks": ""
            },
            "colorscale": [
             [
              0,
              "#0d0887"
             ],
             [
              0.1111111111111111,
              "#46039f"
             ],
             [
              0.2222222222222222,
              "#7201a8"
             ],
             [
              0.3333333333333333,
              "#9c179e"
             ],
             [
              0.4444444444444444,
              "#bd3786"
             ],
             [
              0.5555555555555556,
              "#d8576b"
             ],
             [
              0.6666666666666666,
              "#ed7953"
             ],
             [
              0.7777777777777778,
              "#fb9f3a"
             ],
             [
              0.8888888888888888,
              "#fdca26"
             ],
             [
              1,
              "#f0f921"
             ]
            ],
            "type": "heatmap"
           }
          ],
          "heatmapgl": [
           {
            "colorbar": {
             "outlinewidth": 0,
             "ticks": ""
            },
            "colorscale": [
             [
              0,
              "#0d0887"
             ],
             [
              0.1111111111111111,
              "#46039f"
             ],
             [
              0.2222222222222222,
              "#7201a8"
             ],
             [
              0.3333333333333333,
              "#9c179e"
             ],
             [
              0.4444444444444444,
              "#bd3786"
             ],
             [
              0.5555555555555556,
              "#d8576b"
             ],
             [
              0.6666666666666666,
              "#ed7953"
             ],
             [
              0.7777777777777778,
              "#fb9f3a"
             ],
             [
              0.8888888888888888,
              "#fdca26"
             ],
             [
              1,
              "#f0f921"
             ]
            ],
            "type": "heatmapgl"
           }
          ],
          "histogram": [
           {
            "marker": {
             "colorbar": {
              "outlinewidth": 0,
              "ticks": ""
             }
            },
            "type": "histogram"
           }
          ],
          "histogram2d": [
           {
            "colorbar": {
             "outlinewidth": 0,
             "ticks": ""
            },
            "colorscale": [
             [
              0,
              "#0d0887"
             ],
             [
              0.1111111111111111,
              "#46039f"
             ],
             [
              0.2222222222222222,
              "#7201a8"
             ],
             [
              0.3333333333333333,
              "#9c179e"
             ],
             [
              0.4444444444444444,
              "#bd3786"
             ],
             [
              0.5555555555555556,
              "#d8576b"
             ],
             [
              0.6666666666666666,
              "#ed7953"
             ],
             [
              0.7777777777777778,
              "#fb9f3a"
             ],
             [
              0.8888888888888888,
              "#fdca26"
             ],
             [
              1,
              "#f0f921"
             ]
            ],
            "type": "histogram2d"
           }
          ],
          "histogram2dcontour": [
           {
            "colorbar": {
             "outlinewidth": 0,
             "ticks": ""
            },
            "colorscale": [
             [
              0,
              "#0d0887"
             ],
             [
              0.1111111111111111,
              "#46039f"
             ],
             [
              0.2222222222222222,
              "#7201a8"
             ],
             [
              0.3333333333333333,
              "#9c179e"
             ],
             [
              0.4444444444444444,
              "#bd3786"
             ],
             [
              0.5555555555555556,
              "#d8576b"
             ],
             [
              0.6666666666666666,
              "#ed7953"
             ],
             [
              0.7777777777777778,
              "#fb9f3a"
             ],
             [
              0.8888888888888888,
              "#fdca26"
             ],
             [
              1,
              "#f0f921"
             ]
            ],
            "type": "histogram2dcontour"
           }
          ],
          "mesh3d": [
           {
            "colorbar": {
             "outlinewidth": 0,
             "ticks": ""
            },
            "type": "mesh3d"
           }
          ],
          "parcoords": [
           {
            "line": {
             "colorbar": {
              "outlinewidth": 0,
              "ticks": ""
             }
            },
            "type": "parcoords"
           }
          ],
          "pie": [
           {
            "automargin": true,
            "type": "pie"
           }
          ],
          "scatter": [
           {
            "marker": {
             "colorbar": {
              "outlinewidth": 0,
              "ticks": ""
             }
            },
            "type": "scatter"
           }
          ],
          "scatter3d": [
           {
            "line": {
             "colorbar": {
              "outlinewidth": 0,
              "ticks": ""
             }
            },
            "marker": {
             "colorbar": {
              "outlinewidth": 0,
              "ticks": ""
             }
            },
            "type": "scatter3d"
           }
          ],
          "scattercarpet": [
           {
            "marker": {
             "colorbar": {
              "outlinewidth": 0,
              "ticks": ""
             }
            },
            "type": "scattercarpet"
           }
          ],
          "scattergeo": [
           {
            "marker": {
             "colorbar": {
              "outlinewidth": 0,
              "ticks": ""
             }
            },
            "type": "scattergeo"
           }
          ],
          "scattergl": [
           {
            "marker": {
             "colorbar": {
              "outlinewidth": 0,
              "ticks": ""
             }
            },
            "type": "scattergl"
           }
          ],
          "scattermapbox": [
           {
            "marker": {
             "colorbar": {
              "outlinewidth": 0,
              "ticks": ""
             }
            },
            "type": "scattermapbox"
           }
          ],
          "scatterpolar": [
           {
            "marker": {
             "colorbar": {
              "outlinewidth": 0,
              "ticks": ""
             }
            },
            "type": "scatterpolar"
           }
          ],
          "scatterpolargl": [
           {
            "marker": {
             "colorbar": {
              "outlinewidth": 0,
              "ticks": ""
             }
            },
            "type": "scatterpolargl"
           }
          ],
          "scatterternary": [
           {
            "marker": {
             "colorbar": {
              "outlinewidth": 0,
              "ticks": ""
             }
            },
            "type": "scatterternary"
           }
          ],
          "surface": [
           {
            "colorbar": {
             "outlinewidth": 0,
             "ticks": ""
            },
            "colorscale": [
             [
              0,
              "#0d0887"
             ],
             [
              0.1111111111111111,
              "#46039f"
             ],
             [
              0.2222222222222222,
              "#7201a8"
             ],
             [
              0.3333333333333333,
              "#9c179e"
             ],
             [
              0.4444444444444444,
              "#bd3786"
             ],
             [
              0.5555555555555556,
              "#d8576b"
             ],
             [
              0.6666666666666666,
              "#ed7953"
             ],
             [
              0.7777777777777778,
              "#fb9f3a"
             ],
             [
              0.8888888888888888,
              "#fdca26"
             ],
             [
              1,
              "#f0f921"
             ]
            ],
            "type": "surface"
           }
          ],
          "table": [
           {
            "cells": {
             "fill": {
              "color": "#EBF0F8"
             },
             "line": {
              "color": "white"
             }
            },
            "header": {
             "fill": {
              "color": "#C8D4E3"
             },
             "line": {
              "color": "white"
             }
            },
            "type": "table"
           }
          ]
         },
         "layout": {
          "annotationdefaults": {
           "arrowcolor": "#2a3f5f",
           "arrowhead": 0,
           "arrowwidth": 1
          },
          "coloraxis": {
           "colorbar": {
            "outlinewidth": 0,
            "ticks": ""
           }
          },
          "colorscale": {
           "diverging": [
            [
             0,
             "#8e0152"
            ],
            [
             0.1,
             "#c51b7d"
            ],
            [
             0.2,
             "#de77ae"
            ],
            [
             0.3,
             "#f1b6da"
            ],
            [
             0.4,
             "#fde0ef"
            ],
            [
             0.5,
             "#f7f7f7"
            ],
            [
             0.6,
             "#e6f5d0"
            ],
            [
             0.7,
             "#b8e186"
            ],
            [
             0.8,
             "#7fbc41"
            ],
            [
             0.9,
             "#4d9221"
            ],
            [
             1,
             "#276419"
            ]
           ],
           "sequential": [
            [
             0,
             "#0d0887"
            ],
            [
             0.1111111111111111,
             "#46039f"
            ],
            [
             0.2222222222222222,
             "#7201a8"
            ],
            [
             0.3333333333333333,
             "#9c179e"
            ],
            [
             0.4444444444444444,
             "#bd3786"
            ],
            [
             0.5555555555555556,
             "#d8576b"
            ],
            [
             0.6666666666666666,
             "#ed7953"
            ],
            [
             0.7777777777777778,
             "#fb9f3a"
            ],
            [
             0.8888888888888888,
             "#fdca26"
            ],
            [
             1,
             "#f0f921"
            ]
           ],
           "sequentialminus": [
            [
             0,
             "#0d0887"
            ],
            [
             0.1111111111111111,
             "#46039f"
            ],
            [
             0.2222222222222222,
             "#7201a8"
            ],
            [
             0.3333333333333333,
             "#9c179e"
            ],
            [
             0.4444444444444444,
             "#bd3786"
            ],
            [
             0.5555555555555556,
             "#d8576b"
            ],
            [
             0.6666666666666666,
             "#ed7953"
            ],
            [
             0.7777777777777778,
             "#fb9f3a"
            ],
            [
             0.8888888888888888,
             "#fdca26"
            ],
            [
             1,
             "#f0f921"
            ]
           ]
          },
          "colorway": [
           "#636efa",
           "#EF553B",
           "#00cc96",
           "#ab63fa",
           "#FFA15A",
           "#19d3f3",
           "#FF6692",
           "#B6E880",
           "#FF97FF",
           "#FECB52"
          ],
          "font": {
           "color": "#2a3f5f"
          },
          "geo": {
           "bgcolor": "white",
           "lakecolor": "white",
           "landcolor": "#E5ECF6",
           "showlakes": true,
           "showland": true,
           "subunitcolor": "white"
          },
          "hoverlabel": {
           "align": "left"
          },
          "hovermode": "closest",
          "mapbox": {
           "style": "light"
          },
          "paper_bgcolor": "white",
          "plot_bgcolor": "#E5ECF6",
          "polar": {
           "angularaxis": {
            "gridcolor": "white",
            "linecolor": "white",
            "ticks": ""
           },
           "bgcolor": "#E5ECF6",
           "radialaxis": {
            "gridcolor": "white",
            "linecolor": "white",
            "ticks": ""
           }
          },
          "scene": {
           "xaxis": {
            "backgroundcolor": "#E5ECF6",
            "gridcolor": "white",
            "gridwidth": 2,
            "linecolor": "white",
            "showbackground": true,
            "ticks": "",
            "zerolinecolor": "white"
           },
           "yaxis": {
            "backgroundcolor": "#E5ECF6",
            "gridcolor": "white",
            "gridwidth": 2,
            "linecolor": "white",
            "showbackground": true,
            "ticks": "",
            "zerolinecolor": "white"
           },
           "zaxis": {
            "backgroundcolor": "#E5ECF6",
            "gridcolor": "white",
            "gridwidth": 2,
            "linecolor": "white",
            "showbackground": true,
            "ticks": "",
            "zerolinecolor": "white"
           }
          },
          "shapedefaults": {
           "line": {
            "color": "#2a3f5f"
           }
          },
          "ternary": {
           "aaxis": {
            "gridcolor": "white",
            "linecolor": "white",
            "ticks": ""
           },
           "baxis": {
            "gridcolor": "white",
            "linecolor": "white",
            "ticks": ""
           },
           "bgcolor": "#E5ECF6",
           "caxis": {
            "gridcolor": "white",
            "linecolor": "white",
            "ticks": ""
           }
          },
          "title": {
           "x": 0.05
          },
          "xaxis": {
           "automargin": true,
           "gridcolor": "white",
           "linecolor": "white",
           "ticks": "",
           "title": {
            "standoff": 15
           },
           "zerolinecolor": "white",
           "zerolinewidth": 2
          },
          "yaxis": {
           "automargin": true,
           "gridcolor": "white",
           "linecolor": "white",
           "ticks": "",
           "title": {
            "standoff": 15
           },
           "zerolinecolor": "white",
           "zerolinewidth": 2
          }
         }
        },
        "title": {
         "text": "Build time per age"
        },
        "xaxis": {
         "anchor": "y",
         "categoryorder": "total descending",
         "domain": [
          0,
          1
         ],
         "title": {
          "text": "name"
         }
        },
        "yaxis": {
         "anchor": "x",
         "domain": [
          0,
          1
         ],
         "title": {
          "text": "total build time"
         }
        }
       }
      },
      "text/html": [
       "<div>                            <div id=\"8f53044f-2062-4849-b8aa-a1fd4c2eee97\" class=\"plotly-graph-div\" style=\"height:525px; width:100%;\"></div>            <script type=\"text/javascript\">                require([\"plotly\"], function(Plotly) {                    window.PLOTLYENV=window.PLOTLYENV || {};                                    if (document.getElementById(\"8f53044f-2062-4849-b8aa-a1fd4c2eee97\")) {                    Plotly.newPlot(                        \"8f53044f-2062-4849-b8aa-a1fd4c2eee97\",                        [{\"alignmentgroup\": \"True\", \"hovertemplate\": \"name=%{x}<br>total build time=%{y}<extra></extra>\", \"legendgroup\": \"\", \"marker\": {\"color\": \"#636efa\"}, \"name\": \"\", \"offsetgroup\": \"\", \"orientation\": \"v\", \"showlegend\": false, \"textposition\": \"auto\", \"type\": \"bar\", \"x\": [\"Archery Range\", \"Barracks\", \"Blacksmith\", \"Dock\", \"House\", \"Lumber Camp\", \"Market\", \"Mill\", \"Mining Camp\", \"Monastery\", \"Siege Workshop\", \"Stable\", \"Town Center\", \"University\", \"Wonder\", \"Bombard Tower\", \"Keep\"], \"xaxis\": \"x\", \"y\": [50, 50, 40, 35, 25, 35, 60, 35, 35, 40, 40, 50, 150, 60, 3503, 80, 80], \"yaxis\": \"y\"}],                        {\"barmode\": \"relative\", \"legend\": {\"tracegroupgap\": 0}, \"template\": {\"data\": {\"bar\": [{\"error_x\": {\"color\": \"#2a3f5f\"}, \"error_y\": {\"color\": \"#2a3f5f\"}, \"marker\": {\"line\": {\"color\": \"#E5ECF6\", \"width\": 0.5}}, \"type\": \"bar\"}], \"barpolar\": [{\"marker\": {\"line\": {\"color\": \"#E5ECF6\", \"width\": 0.5}}, \"type\": \"barpolar\"}], \"carpet\": [{\"aaxis\": {\"endlinecolor\": \"#2a3f5f\", \"gridcolor\": \"white\", \"linecolor\": \"white\", \"minorgridcolor\": \"white\", \"startlinecolor\": \"#2a3f5f\"}, \"baxis\": {\"endlinecolor\": \"#2a3f5f\", \"gridcolor\": \"white\", \"linecolor\": \"white\", \"minorgridcolor\": \"white\", \"startlinecolor\": \"#2a3f5f\"}, \"type\": \"carpet\"}], \"choropleth\": [{\"colorbar\": {\"outlinewidth\": 0, \"ticks\": \"\"}, \"type\": \"choropleth\"}], \"contour\": [{\"colorbar\": {\"outlinewidth\": 0, \"ticks\": \"\"}, \"colorscale\": [[0.0, \"#0d0887\"], [0.1111111111111111, \"#46039f\"], [0.2222222222222222, \"#7201a8\"], [0.3333333333333333, \"#9c179e\"], [0.4444444444444444, \"#bd3786\"], [0.5555555555555556, \"#d8576b\"], [0.6666666666666666, \"#ed7953\"], [0.7777777777777778, \"#fb9f3a\"], [0.8888888888888888, \"#fdca26\"], [1.0, \"#f0f921\"]], \"type\": \"contour\"}], \"contourcarpet\": [{\"colorbar\": {\"outlinewidth\": 0, \"ticks\": \"\"}, \"type\": \"contourcarpet\"}], \"heatmap\": [{\"colorbar\": {\"outlinewidth\": 0, \"ticks\": \"\"}, \"colorscale\": [[0.0, \"#0d0887\"], [0.1111111111111111, \"#46039f\"], [0.2222222222222222, \"#7201a8\"], [0.3333333333333333, \"#9c179e\"], [0.4444444444444444, \"#bd3786\"], [0.5555555555555556, \"#d8576b\"], [0.6666666666666666, \"#ed7953\"], [0.7777777777777778, \"#fb9f3a\"], [0.8888888888888888, \"#fdca26\"], [1.0, \"#f0f921\"]], \"type\": \"heatmap\"}], \"heatmapgl\": [{\"colorbar\": {\"outlinewidth\": 0, \"ticks\": \"\"}, \"colorscale\": [[0.0, \"#0d0887\"], [0.1111111111111111, \"#46039f\"], [0.2222222222222222, \"#7201a8\"], [0.3333333333333333, \"#9c179e\"], [0.4444444444444444, \"#bd3786\"], [0.5555555555555556, \"#d8576b\"], [0.6666666666666666, \"#ed7953\"], [0.7777777777777778, \"#fb9f3a\"], [0.8888888888888888, \"#fdca26\"], [1.0, \"#f0f921\"]], \"type\": \"heatmapgl\"}], \"histogram\": [{\"marker\": {\"colorbar\": {\"outlinewidth\": 0, \"ticks\": \"\"}}, \"type\": \"histogram\"}], \"histogram2d\": [{\"colorbar\": {\"outlinewidth\": 0, \"ticks\": \"\"}, \"colorscale\": [[0.0, \"#0d0887\"], [0.1111111111111111, \"#46039f\"], [0.2222222222222222, \"#7201a8\"], [0.3333333333333333, \"#9c179e\"], [0.4444444444444444, \"#bd3786\"], [0.5555555555555556, \"#d8576b\"], [0.6666666666666666, \"#ed7953\"], [0.7777777777777778, \"#fb9f3a\"], [0.8888888888888888, \"#fdca26\"], [1.0, \"#f0f921\"]], \"type\": \"histogram2d\"}], \"histogram2dcontour\": [{\"colorbar\": {\"outlinewidth\": 0, \"ticks\": \"\"}, \"colorscale\": [[0.0, \"#0d0887\"], [0.1111111111111111, \"#46039f\"], [0.2222222222222222, \"#7201a8\"], [0.3333333333333333, \"#9c179e\"], [0.4444444444444444, \"#bd3786\"], [0.5555555555555556, \"#d8576b\"], [0.6666666666666666, \"#ed7953\"], [0.7777777777777778, \"#fb9f3a\"], [0.8888888888888888, \"#fdca26\"], [1.0, \"#f0f921\"]], \"type\": \"histogram2dcontour\"}], \"mesh3d\": [{\"colorbar\": {\"outlinewidth\": 0, \"ticks\": \"\"}, \"type\": \"mesh3d\"}], \"parcoords\": [{\"line\": {\"colorbar\": {\"outlinewidth\": 0, \"ticks\": \"\"}}, \"type\": \"parcoords\"}], \"pie\": [{\"automargin\": true, \"type\": \"pie\"}], \"scatter\": [{\"marker\": {\"colorbar\": {\"outlinewidth\": 0, \"ticks\": \"\"}}, \"type\": \"scatter\"}], \"scatter3d\": [{\"line\": {\"colorbar\": {\"outlinewidth\": 0, \"ticks\": \"\"}}, \"marker\": {\"colorbar\": {\"outlinewidth\": 0, \"ticks\": \"\"}}, \"type\": \"scatter3d\"}], \"scattercarpet\": [{\"marker\": {\"colorbar\": {\"outlinewidth\": 0, \"ticks\": \"\"}}, \"type\": \"scattercarpet\"}], \"scattergeo\": [{\"marker\": {\"colorbar\": {\"outlinewidth\": 0, \"ticks\": \"\"}}, \"type\": \"scattergeo\"}], \"scattergl\": [{\"marker\": {\"colorbar\": {\"outlinewidth\": 0, \"ticks\": \"\"}}, \"type\": \"scattergl\"}], \"scattermapbox\": [{\"marker\": {\"colorbar\": {\"outlinewidth\": 0, \"ticks\": \"\"}}, \"type\": \"scattermapbox\"}], \"scatterpolar\": [{\"marker\": {\"colorbar\": {\"outlinewidth\": 0, \"ticks\": \"\"}}, \"type\": \"scatterpolar\"}], \"scatterpolargl\": [{\"marker\": {\"colorbar\": {\"outlinewidth\": 0, \"ticks\": \"\"}}, \"type\": \"scatterpolargl\"}], \"scatterternary\": [{\"marker\": {\"colorbar\": {\"outlinewidth\": 0, \"ticks\": \"\"}}, \"type\": \"scatterternary\"}], \"surface\": [{\"colorbar\": {\"outlinewidth\": 0, \"ticks\": \"\"}, \"colorscale\": [[0.0, \"#0d0887\"], [0.1111111111111111, \"#46039f\"], [0.2222222222222222, \"#7201a8\"], [0.3333333333333333, \"#9c179e\"], [0.4444444444444444, \"#bd3786\"], [0.5555555555555556, \"#d8576b\"], [0.6666666666666666, \"#ed7953\"], [0.7777777777777778, \"#fb9f3a\"], [0.8888888888888888, \"#fdca26\"], [1.0, \"#f0f921\"]], \"type\": \"surface\"}], \"table\": [{\"cells\": {\"fill\": {\"color\": \"#EBF0F8\"}, \"line\": {\"color\": \"white\"}}, \"header\": {\"fill\": {\"color\": \"#C8D4E3\"}, \"line\": {\"color\": \"white\"}}, \"type\": \"table\"}]}, \"layout\": {\"annotationdefaults\": {\"arrowcolor\": \"#2a3f5f\", \"arrowhead\": 0, \"arrowwidth\": 1}, \"coloraxis\": {\"colorbar\": {\"outlinewidth\": 0, \"ticks\": \"\"}}, \"colorscale\": {\"diverging\": [[0, \"#8e0152\"], [0.1, \"#c51b7d\"], [0.2, \"#de77ae\"], [0.3, \"#f1b6da\"], [0.4, \"#fde0ef\"], [0.5, \"#f7f7f7\"], [0.6, \"#e6f5d0\"], [0.7, \"#b8e186\"], [0.8, \"#7fbc41\"], [0.9, \"#4d9221\"], [1, \"#276419\"]], \"sequential\": [[0.0, \"#0d0887\"], [0.1111111111111111, \"#46039f\"], [0.2222222222222222, \"#7201a8\"], [0.3333333333333333, \"#9c179e\"], [0.4444444444444444, \"#bd3786\"], [0.5555555555555556, \"#d8576b\"], [0.6666666666666666, \"#ed7953\"], [0.7777777777777778, \"#fb9f3a\"], [0.8888888888888888, \"#fdca26\"], [1.0, \"#f0f921\"]], \"sequentialminus\": [[0.0, \"#0d0887\"], [0.1111111111111111, \"#46039f\"], [0.2222222222222222, \"#7201a8\"], [0.3333333333333333, \"#9c179e\"], [0.4444444444444444, \"#bd3786\"], [0.5555555555555556, \"#d8576b\"], [0.6666666666666666, \"#ed7953\"], [0.7777777777777778, \"#fb9f3a\"], [0.8888888888888888, \"#fdca26\"], [1.0, \"#f0f921\"]]}, \"colorway\": [\"#636efa\", \"#EF553B\", \"#00cc96\", \"#ab63fa\", \"#FFA15A\", \"#19d3f3\", \"#FF6692\", \"#B6E880\", \"#FF97FF\", \"#FECB52\"], \"font\": {\"color\": \"#2a3f5f\"}, \"geo\": {\"bgcolor\": \"white\", \"lakecolor\": \"white\", \"landcolor\": \"#E5ECF6\", \"showlakes\": true, \"showland\": true, \"subunitcolor\": \"white\"}, \"hoverlabel\": {\"align\": \"left\"}, \"hovermode\": \"closest\", \"mapbox\": {\"style\": \"light\"}, \"paper_bgcolor\": \"white\", \"plot_bgcolor\": \"#E5ECF6\", \"polar\": {\"angularaxis\": {\"gridcolor\": \"white\", \"linecolor\": \"white\", \"ticks\": \"\"}, \"bgcolor\": \"#E5ECF6\", \"radialaxis\": {\"gridcolor\": \"white\", \"linecolor\": \"white\", \"ticks\": \"\"}}, \"scene\": {\"xaxis\": {\"backgroundcolor\": \"#E5ECF6\", \"gridcolor\": \"white\", \"gridwidth\": 2, \"linecolor\": \"white\", \"showbackground\": true, \"ticks\": \"\", \"zerolinecolor\": \"white\"}, \"yaxis\": {\"backgroundcolor\": \"#E5ECF6\", \"gridcolor\": \"white\", \"gridwidth\": 2, \"linecolor\": \"white\", \"showbackground\": true, \"ticks\": \"\", \"zerolinecolor\": \"white\"}, \"zaxis\": {\"backgroundcolor\": \"#E5ECF6\", \"gridcolor\": \"white\", \"gridwidth\": 2, \"linecolor\": \"white\", \"showbackground\": true, \"ticks\": \"\", \"zerolinecolor\": \"white\"}}, \"shapedefaults\": {\"line\": {\"color\": \"#2a3f5f\"}}, \"ternary\": {\"aaxis\": {\"gridcolor\": \"white\", \"linecolor\": \"white\", \"ticks\": \"\"}, \"baxis\": {\"gridcolor\": \"white\", \"linecolor\": \"white\", \"ticks\": \"\"}, \"bgcolor\": \"#E5ECF6\", \"caxis\": {\"gridcolor\": \"white\", \"linecolor\": \"white\", \"ticks\": \"\"}}, \"title\": {\"x\": 0.05}, \"xaxis\": {\"automargin\": true, \"gridcolor\": \"white\", \"linecolor\": \"white\", \"ticks\": \"\", \"title\": {\"standoff\": 15}, \"zerolinecolor\": \"white\", \"zerolinewidth\": 2}, \"yaxis\": {\"automargin\": true, \"gridcolor\": \"white\", \"linecolor\": \"white\", \"ticks\": \"\", \"title\": {\"standoff\": 15}, \"zerolinecolor\": \"white\", \"zerolinewidth\": 2}}}, \"title\": {\"text\": \"Build time per age\"}, \"xaxis\": {\"anchor\": \"y\", \"categoryorder\": \"total descending\", \"domain\": [0.0, 1.0], \"title\": {\"text\": \"name\"}}, \"yaxis\": {\"anchor\": \"x\", \"domain\": [0.0, 1.0], \"title\": {\"text\": \"total build time\"}}},                        {\"responsive\": true}                    ).then(function(){\n",
       "                            \n",
       "var gd = document.getElementById('8f53044f-2062-4849-b8aa-a1fd4c2eee97');\n",
       "var x = new MutationObserver(function (mutations, observer) {{\n",
       "        var display = window.getComputedStyle(gd).display;\n",
       "        if (!display || display === 'none') {{\n",
       "            console.log([gd, 'removed!']);\n",
       "            Plotly.purge(gd);\n",
       "            observer.disconnect();\n",
       "        }}\n",
       "}});\n",
       "\n",
       "// Listen for the removal of the full notebook cells\n",
       "var notebookContainer = gd.closest('#notebook-container');\n",
       "if (notebookContainer) {{\n",
       "    x.observe(notebookContainer, {childList: true});\n",
       "}}\n",
       "\n",
       "// Listen for the clearing of the current output cell\n",
       "var outputEl = gd.closest('.output');\n",
       "if (outputEl) {{\n",
       "    x.observe(outputEl, {childList: true});\n",
       "}}\n",
       "\n",
       "                        })                };                });            </script>        </div>"
      ]
     },
     "metadata": {},
     "output_type": "display_data"
    }
   ],
   "source": [
    "# array(['Dark', 'Feudal', 'Castle', 'Imperial'], dtype=object)\n",
    "subset_dat = flattened_stru[flattened_stru['age']=='Imperial']\n",
    "px.bar(data_frame=subset_dat,y='build_time',x='name',\n",
    "            title='Build time per age',\n",
    "       labels={\"age\":\"Age\",\"build_time\":\"total build time\"}).update_xaxes(categoryorder='total descending')"
   ]
  },
  {
   "cell_type": "code",
   "execution_count": 18,
   "metadata": {
    "slideshow": {
     "slide_type": "subslide"
    }
   },
   "outputs": [
    {
     "data": {
      "application/vnd.plotly.v1+json": {
       "config": {
        "plotlyServerURL": "https://plot.ly"
       },
       "data": [
        {
         "alignmentgroup": "True",
         "boxpoints": "all",
         "hovertemplate": "<b>%{hovertext}</b><br><br>Age=%{x}<br>Wood cost=%{y}<extra></extra>",
         "hovertext": [
          "Barracks",
          "Dock",
          "Farm",
          "Fish Trap",
          "House",
          "Lumber Camp",
          "Mill",
          "Mining Camp",
          "Town Center",
          "Archery Range",
          "Barracks",
          "Blacksmith",
          "Dock",
          "House",
          "Lumber Camp",
          "Market",
          "Mill",
          "Mining Camp",
          "Stable",
          "Town Center",
          "Archery Range",
          "Barracks",
          "Blacksmith",
          "Castle",
          "Dock",
          "House",
          "Lumber Camp",
          "Market",
          "Mill",
          "Mining Camp",
          "Monastery",
          "Siege Workshop",
          "Stable",
          "Town Center",
          "University",
          "Archery Range",
          "Barracks",
          "Blacksmith",
          "Dock",
          "House",
          "Lumber Camp",
          "Market",
          "Mill",
          "Mining Camp",
          "Monastery",
          "Siege Workshop",
          "Stable",
          "Town Center",
          "University",
          "Wonder",
          "Outpost",
          "Palisade Wall",
          "Gate",
          "Stone Wall",
          "Watch Tower",
          "Fortified Wall",
          "Guard Tower",
          "Bombard Tower",
          "Keep"
         ],
         "legendgroup": "",
         "marker": {
          "color": "#636efa"
         },
         "name": "",
         "notched": false,
         "offsetgroup": "",
         "orientation": "v",
         "showlegend": false,
         "type": "box",
         "x": [
          "Dark",
          "Dark",
          "Dark",
          "Dark",
          "Dark",
          "Dark",
          "Dark",
          "Dark",
          "Dark",
          "Feudal",
          "Feudal",
          "Feudal",
          "Feudal",
          "Feudal",
          "Feudal",
          "Feudal",
          "Feudal",
          "Feudal",
          "Feudal",
          "Feudal",
          "Castle",
          "Castle",
          "Castle",
          "Castle",
          "Castle",
          "Castle",
          "Castle",
          "Castle",
          "Castle",
          "Castle",
          "Castle",
          "Castle",
          "Castle",
          "Castle",
          "Castle",
          "Imperial",
          "Imperial",
          "Imperial",
          "Imperial",
          "Imperial",
          "Imperial",
          "Imperial",
          "Imperial",
          "Imperial",
          "Imperial",
          "Imperial",
          "Imperial",
          "Imperial",
          "Imperial",
          "Imperial",
          "Dark",
          "Dark",
          "Feudal",
          "Feudal",
          "Feudal",
          "Castle",
          "Castle",
          "Imperial",
          "Imperial"
         ],
         "x0": " ",
         "xaxis": "x",
         "y": [
          175,
          150,
          60,
          100,
          30,
          100,
          100,
          100,
          275,
          175,
          175,
          150,
          150,
          30,
          100,
          175,
          100,
          100,
          175,
          275,
          175,
          175,
          150,
          null,
          150,
          30,
          100,
          175,
          100,
          100,
          175,
          200,
          175,
          275,
          200,
          175,
          175,
          150,
          150,
          30,
          100,
          175,
          100,
          100,
          175,
          200,
          175,
          275,
          200,
          1000,
          25,
          2,
          null,
          null,
          25,
          null,
          25,
          25,
          25
         ],
         "y0": " ",
         "yaxis": "y"
        }
       ],
       "layout": {
        "boxmode": "group",
        "legend": {
         "tracegroupgap": 0
        },
        "template": {
         "data": {
          "bar": [
           {
            "error_x": {
             "color": "#2a3f5f"
            },
            "error_y": {
             "color": "#2a3f5f"
            },
            "marker": {
             "line": {
              "color": "#E5ECF6",
              "width": 0.5
             }
            },
            "type": "bar"
           }
          ],
          "barpolar": [
           {
            "marker": {
             "line": {
              "color": "#E5ECF6",
              "width": 0.5
             }
            },
            "type": "barpolar"
           }
          ],
          "carpet": [
           {
            "aaxis": {
             "endlinecolor": "#2a3f5f",
             "gridcolor": "white",
             "linecolor": "white",
             "minorgridcolor": "white",
             "startlinecolor": "#2a3f5f"
            },
            "baxis": {
             "endlinecolor": "#2a3f5f",
             "gridcolor": "white",
             "linecolor": "white",
             "minorgridcolor": "white",
             "startlinecolor": "#2a3f5f"
            },
            "type": "carpet"
           }
          ],
          "choropleth": [
           {
            "colorbar": {
             "outlinewidth": 0,
             "ticks": ""
            },
            "type": "choropleth"
           }
          ],
          "contour": [
           {
            "colorbar": {
             "outlinewidth": 0,
             "ticks": ""
            },
            "colorscale": [
             [
              0,
              "#0d0887"
             ],
             [
              0.1111111111111111,
              "#46039f"
             ],
             [
              0.2222222222222222,
              "#7201a8"
             ],
             [
              0.3333333333333333,
              "#9c179e"
             ],
             [
              0.4444444444444444,
              "#bd3786"
             ],
             [
              0.5555555555555556,
              "#d8576b"
             ],
             [
              0.6666666666666666,
              "#ed7953"
             ],
             [
              0.7777777777777778,
              "#fb9f3a"
             ],
             [
              0.8888888888888888,
              "#fdca26"
             ],
             [
              1,
              "#f0f921"
             ]
            ],
            "type": "contour"
           }
          ],
          "contourcarpet": [
           {
            "colorbar": {
             "outlinewidth": 0,
             "ticks": ""
            },
            "type": "contourcarpet"
           }
          ],
          "heatmap": [
           {
            "colorbar": {
             "outlinewidth": 0,
             "ticks": ""
            },
            "colorscale": [
             [
              0,
              "#0d0887"
             ],
             [
              0.1111111111111111,
              "#46039f"
             ],
             [
              0.2222222222222222,
              "#7201a8"
             ],
             [
              0.3333333333333333,
              "#9c179e"
             ],
             [
              0.4444444444444444,
              "#bd3786"
             ],
             [
              0.5555555555555556,
              "#d8576b"
             ],
             [
              0.6666666666666666,
              "#ed7953"
             ],
             [
              0.7777777777777778,
              "#fb9f3a"
             ],
             [
              0.8888888888888888,
              "#fdca26"
             ],
             [
              1,
              "#f0f921"
             ]
            ],
            "type": "heatmap"
           }
          ],
          "heatmapgl": [
           {
            "colorbar": {
             "outlinewidth": 0,
             "ticks": ""
            },
            "colorscale": [
             [
              0,
              "#0d0887"
             ],
             [
              0.1111111111111111,
              "#46039f"
             ],
             [
              0.2222222222222222,
              "#7201a8"
             ],
             [
              0.3333333333333333,
              "#9c179e"
             ],
             [
              0.4444444444444444,
              "#bd3786"
             ],
             [
              0.5555555555555556,
              "#d8576b"
             ],
             [
              0.6666666666666666,
              "#ed7953"
             ],
             [
              0.7777777777777778,
              "#fb9f3a"
             ],
             [
              0.8888888888888888,
              "#fdca26"
             ],
             [
              1,
              "#f0f921"
             ]
            ],
            "type": "heatmapgl"
           }
          ],
          "histogram": [
           {
            "marker": {
             "colorbar": {
              "outlinewidth": 0,
              "ticks": ""
             }
            },
            "type": "histogram"
           }
          ],
          "histogram2d": [
           {
            "colorbar": {
             "outlinewidth": 0,
             "ticks": ""
            },
            "colorscale": [
             [
              0,
              "#0d0887"
             ],
             [
              0.1111111111111111,
              "#46039f"
             ],
             [
              0.2222222222222222,
              "#7201a8"
             ],
             [
              0.3333333333333333,
              "#9c179e"
             ],
             [
              0.4444444444444444,
              "#bd3786"
             ],
             [
              0.5555555555555556,
              "#d8576b"
             ],
             [
              0.6666666666666666,
              "#ed7953"
             ],
             [
              0.7777777777777778,
              "#fb9f3a"
             ],
             [
              0.8888888888888888,
              "#fdca26"
             ],
             [
              1,
              "#f0f921"
             ]
            ],
            "type": "histogram2d"
           }
          ],
          "histogram2dcontour": [
           {
            "colorbar": {
             "outlinewidth": 0,
             "ticks": ""
            },
            "colorscale": [
             [
              0,
              "#0d0887"
             ],
             [
              0.1111111111111111,
              "#46039f"
             ],
             [
              0.2222222222222222,
              "#7201a8"
             ],
             [
              0.3333333333333333,
              "#9c179e"
             ],
             [
              0.4444444444444444,
              "#bd3786"
             ],
             [
              0.5555555555555556,
              "#d8576b"
             ],
             [
              0.6666666666666666,
              "#ed7953"
             ],
             [
              0.7777777777777778,
              "#fb9f3a"
             ],
             [
              0.8888888888888888,
              "#fdca26"
             ],
             [
              1,
              "#f0f921"
             ]
            ],
            "type": "histogram2dcontour"
           }
          ],
          "mesh3d": [
           {
            "colorbar": {
             "outlinewidth": 0,
             "ticks": ""
            },
            "type": "mesh3d"
           }
          ],
          "parcoords": [
           {
            "line": {
             "colorbar": {
              "outlinewidth": 0,
              "ticks": ""
             }
            },
            "type": "parcoords"
           }
          ],
          "pie": [
           {
            "automargin": true,
            "type": "pie"
           }
          ],
          "scatter": [
           {
            "marker": {
             "colorbar": {
              "outlinewidth": 0,
              "ticks": ""
             }
            },
            "type": "scatter"
           }
          ],
          "scatter3d": [
           {
            "line": {
             "colorbar": {
              "outlinewidth": 0,
              "ticks": ""
             }
            },
            "marker": {
             "colorbar": {
              "outlinewidth": 0,
              "ticks": ""
             }
            },
            "type": "scatter3d"
           }
          ],
          "scattercarpet": [
           {
            "marker": {
             "colorbar": {
              "outlinewidth": 0,
              "ticks": ""
             }
            },
            "type": "scattercarpet"
           }
          ],
          "scattergeo": [
           {
            "marker": {
             "colorbar": {
              "outlinewidth": 0,
              "ticks": ""
             }
            },
            "type": "scattergeo"
           }
          ],
          "scattergl": [
           {
            "marker": {
             "colorbar": {
              "outlinewidth": 0,
              "ticks": ""
             }
            },
            "type": "scattergl"
           }
          ],
          "scattermapbox": [
           {
            "marker": {
             "colorbar": {
              "outlinewidth": 0,
              "ticks": ""
             }
            },
            "type": "scattermapbox"
           }
          ],
          "scatterpolar": [
           {
            "marker": {
             "colorbar": {
              "outlinewidth": 0,
              "ticks": ""
             }
            },
            "type": "scatterpolar"
           }
          ],
          "scatterpolargl": [
           {
            "marker": {
             "colorbar": {
              "outlinewidth": 0,
              "ticks": ""
             }
            },
            "type": "scatterpolargl"
           }
          ],
          "scatterternary": [
           {
            "marker": {
             "colorbar": {
              "outlinewidth": 0,
              "ticks": ""
             }
            },
            "type": "scatterternary"
           }
          ],
          "surface": [
           {
            "colorbar": {
             "outlinewidth": 0,
             "ticks": ""
            },
            "colorscale": [
             [
              0,
              "#0d0887"
             ],
             [
              0.1111111111111111,
              "#46039f"
             ],
             [
              0.2222222222222222,
              "#7201a8"
             ],
             [
              0.3333333333333333,
              "#9c179e"
             ],
             [
              0.4444444444444444,
              "#bd3786"
             ],
             [
              0.5555555555555556,
              "#d8576b"
             ],
             [
              0.6666666666666666,
              "#ed7953"
             ],
             [
              0.7777777777777778,
              "#fb9f3a"
             ],
             [
              0.8888888888888888,
              "#fdca26"
             ],
             [
              1,
              "#f0f921"
             ]
            ],
            "type": "surface"
           }
          ],
          "table": [
           {
            "cells": {
             "fill": {
              "color": "#EBF0F8"
             },
             "line": {
              "color": "white"
             }
            },
            "header": {
             "fill": {
              "color": "#C8D4E3"
             },
             "line": {
              "color": "white"
             }
            },
            "type": "table"
           }
          ]
         },
         "layout": {
          "annotationdefaults": {
           "arrowcolor": "#2a3f5f",
           "arrowhead": 0,
           "arrowwidth": 1
          },
          "coloraxis": {
           "colorbar": {
            "outlinewidth": 0,
            "ticks": ""
           }
          },
          "colorscale": {
           "diverging": [
            [
             0,
             "#8e0152"
            ],
            [
             0.1,
             "#c51b7d"
            ],
            [
             0.2,
             "#de77ae"
            ],
            [
             0.3,
             "#f1b6da"
            ],
            [
             0.4,
             "#fde0ef"
            ],
            [
             0.5,
             "#f7f7f7"
            ],
            [
             0.6,
             "#e6f5d0"
            ],
            [
             0.7,
             "#b8e186"
            ],
            [
             0.8,
             "#7fbc41"
            ],
            [
             0.9,
             "#4d9221"
            ],
            [
             1,
             "#276419"
            ]
           ],
           "sequential": [
            [
             0,
             "#0d0887"
            ],
            [
             0.1111111111111111,
             "#46039f"
            ],
            [
             0.2222222222222222,
             "#7201a8"
            ],
            [
             0.3333333333333333,
             "#9c179e"
            ],
            [
             0.4444444444444444,
             "#bd3786"
            ],
            [
             0.5555555555555556,
             "#d8576b"
            ],
            [
             0.6666666666666666,
             "#ed7953"
            ],
            [
             0.7777777777777778,
             "#fb9f3a"
            ],
            [
             0.8888888888888888,
             "#fdca26"
            ],
            [
             1,
             "#f0f921"
            ]
           ],
           "sequentialminus": [
            [
             0,
             "#0d0887"
            ],
            [
             0.1111111111111111,
             "#46039f"
            ],
            [
             0.2222222222222222,
             "#7201a8"
            ],
            [
             0.3333333333333333,
             "#9c179e"
            ],
            [
             0.4444444444444444,
             "#bd3786"
            ],
            [
             0.5555555555555556,
             "#d8576b"
            ],
            [
             0.6666666666666666,
             "#ed7953"
            ],
            [
             0.7777777777777778,
             "#fb9f3a"
            ],
            [
             0.8888888888888888,
             "#fdca26"
            ],
            [
             1,
             "#f0f921"
            ]
           ]
          },
          "colorway": [
           "#636efa",
           "#EF553B",
           "#00cc96",
           "#ab63fa",
           "#FFA15A",
           "#19d3f3",
           "#FF6692",
           "#B6E880",
           "#FF97FF",
           "#FECB52"
          ],
          "font": {
           "color": "#2a3f5f"
          },
          "geo": {
           "bgcolor": "white",
           "lakecolor": "white",
           "landcolor": "#E5ECF6",
           "showlakes": true,
           "showland": true,
           "subunitcolor": "white"
          },
          "hoverlabel": {
           "align": "left"
          },
          "hovermode": "closest",
          "mapbox": {
           "style": "light"
          },
          "paper_bgcolor": "white",
          "plot_bgcolor": "#E5ECF6",
          "polar": {
           "angularaxis": {
            "gridcolor": "white",
            "linecolor": "white",
            "ticks": ""
           },
           "bgcolor": "#E5ECF6",
           "radialaxis": {
            "gridcolor": "white",
            "linecolor": "white",
            "ticks": ""
           }
          },
          "scene": {
           "xaxis": {
            "backgroundcolor": "#E5ECF6",
            "gridcolor": "white",
            "gridwidth": 2,
            "linecolor": "white",
            "showbackground": true,
            "ticks": "",
            "zerolinecolor": "white"
           },
           "yaxis": {
            "backgroundcolor": "#E5ECF6",
            "gridcolor": "white",
            "gridwidth": 2,
            "linecolor": "white",
            "showbackground": true,
            "ticks": "",
            "zerolinecolor": "white"
           },
           "zaxis": {
            "backgroundcolor": "#E5ECF6",
            "gridcolor": "white",
            "gridwidth": 2,
            "linecolor": "white",
            "showbackground": true,
            "ticks": "",
            "zerolinecolor": "white"
           }
          },
          "shapedefaults": {
           "line": {
            "color": "#2a3f5f"
           }
          },
          "ternary": {
           "aaxis": {
            "gridcolor": "white",
            "linecolor": "white",
            "ticks": ""
           },
           "baxis": {
            "gridcolor": "white",
            "linecolor": "white",
            "ticks": ""
           },
           "bgcolor": "#E5ECF6",
           "caxis": {
            "gridcolor": "white",
            "linecolor": "white",
            "ticks": ""
           }
          },
          "title": {
           "x": 0.05
          },
          "xaxis": {
           "automargin": true,
           "gridcolor": "white",
           "linecolor": "white",
           "ticks": "",
           "title": {
            "standoff": 15
           },
           "zerolinecolor": "white",
           "zerolinewidth": 2
          },
          "yaxis": {
           "automargin": true,
           "gridcolor": "white",
           "linecolor": "white",
           "ticks": "",
           "title": {
            "standoff": 15
           },
           "zerolinecolor": "white",
           "zerolinewidth": 2
          }
         }
        },
        "title": {
         "text": "Cost per age"
        },
        "xaxis": {
         "anchor": "y",
         "domain": [
          0,
          1
         ],
         "title": {
          "text": "Age"
         }
        },
        "yaxis": {
         "anchor": "x",
         "domain": [
          0,
          1
         ],
         "title": {
          "text": "Wood cost"
         }
        }
       }
      },
      "text/html": [
       "<div>                            <div id=\"08c58f7c-7614-4c69-bbce-64c8ef389dad\" class=\"plotly-graph-div\" style=\"height:525px; width:100%;\"></div>            <script type=\"text/javascript\">                require([\"plotly\"], function(Plotly) {                    window.PLOTLYENV=window.PLOTLYENV || {};                                    if (document.getElementById(\"08c58f7c-7614-4c69-bbce-64c8ef389dad\")) {                    Plotly.newPlot(                        \"08c58f7c-7614-4c69-bbce-64c8ef389dad\",                        [{\"alignmentgroup\": \"True\", \"boxpoints\": \"all\", \"hovertemplate\": \"<b>%{hovertext}</b><br><br>Age=%{x}<br>Wood cost=%{y}<extra></extra>\", \"hovertext\": [\"Barracks\", \"Dock\", \"Farm\", \"Fish Trap\", \"House\", \"Lumber Camp\", \"Mill\", \"Mining Camp\", \"Town Center\", \"Archery Range\", \"Barracks\", \"Blacksmith\", \"Dock\", \"House\", \"Lumber Camp\", \"Market\", \"Mill\", \"Mining Camp\", \"Stable\", \"Town Center\", \"Archery Range\", \"Barracks\", \"Blacksmith\", \"Castle\", \"Dock\", \"House\", \"Lumber Camp\", \"Market\", \"Mill\", \"Mining Camp\", \"Monastery\", \"Siege Workshop\", \"Stable\", \"Town Center\", \"University\", \"Archery Range\", \"Barracks\", \"Blacksmith\", \"Dock\", \"House\", \"Lumber Camp\", \"Market\", \"Mill\", \"Mining Camp\", \"Monastery\", \"Siege Workshop\", \"Stable\", \"Town Center\", \"University\", \"Wonder\", \"Outpost\", \"Palisade Wall\", \"Gate\", \"Stone Wall\", \"Watch Tower\", \"Fortified Wall\", \"Guard Tower\", \"Bombard Tower\", \"Keep\"], \"legendgroup\": \"\", \"marker\": {\"color\": \"#636efa\"}, \"name\": \"\", \"notched\": false, \"offsetgroup\": \"\", \"orientation\": \"v\", \"showlegend\": false, \"type\": \"box\", \"x\": [\"Dark\", \"Dark\", \"Dark\", \"Dark\", \"Dark\", \"Dark\", \"Dark\", \"Dark\", \"Dark\", \"Feudal\", \"Feudal\", \"Feudal\", \"Feudal\", \"Feudal\", \"Feudal\", \"Feudal\", \"Feudal\", \"Feudal\", \"Feudal\", \"Feudal\", \"Castle\", \"Castle\", \"Castle\", \"Castle\", \"Castle\", \"Castle\", \"Castle\", \"Castle\", \"Castle\", \"Castle\", \"Castle\", \"Castle\", \"Castle\", \"Castle\", \"Castle\", \"Imperial\", \"Imperial\", \"Imperial\", \"Imperial\", \"Imperial\", \"Imperial\", \"Imperial\", \"Imperial\", \"Imperial\", \"Imperial\", \"Imperial\", \"Imperial\", \"Imperial\", \"Imperial\", \"Imperial\", \"Dark\", \"Dark\", \"Feudal\", \"Feudal\", \"Feudal\", \"Castle\", \"Castle\", \"Imperial\", \"Imperial\"], \"x0\": \" \", \"xaxis\": \"x\", \"y\": [175.0, 150.0, 60.0, 100.0, 30.0, 100.0, 100.0, 100.0, 275.0, 175.0, 175.0, 150.0, 150.0, 30.0, 100.0, 175.0, 100.0, 100.0, 175.0, 275.0, 175.0, 175.0, 150.0, null, 150.0, 30.0, 100.0, 175.0, 100.0, 100.0, 175.0, 200.0, 175.0, 275.0, 200.0, 175.0, 175.0, 150.0, 150.0, 30.0, 100.0, 175.0, 100.0, 100.0, 175.0, 200.0, 175.0, 275.0, 200.0, 1000.0, 25.0, 2.0, null, null, 25.0, null, 25.0, 25.0, 25.0], \"y0\": \" \", \"yaxis\": \"y\"}],                        {\"boxmode\": \"group\", \"legend\": {\"tracegroupgap\": 0}, \"template\": {\"data\": {\"bar\": [{\"error_x\": {\"color\": \"#2a3f5f\"}, \"error_y\": {\"color\": \"#2a3f5f\"}, \"marker\": {\"line\": {\"color\": \"#E5ECF6\", \"width\": 0.5}}, \"type\": \"bar\"}], \"barpolar\": [{\"marker\": {\"line\": {\"color\": \"#E5ECF6\", \"width\": 0.5}}, \"type\": \"barpolar\"}], \"carpet\": [{\"aaxis\": {\"endlinecolor\": \"#2a3f5f\", \"gridcolor\": \"white\", \"linecolor\": \"white\", \"minorgridcolor\": \"white\", \"startlinecolor\": \"#2a3f5f\"}, \"baxis\": {\"endlinecolor\": \"#2a3f5f\", \"gridcolor\": \"white\", \"linecolor\": \"white\", \"minorgridcolor\": \"white\", \"startlinecolor\": \"#2a3f5f\"}, \"type\": \"carpet\"}], \"choropleth\": [{\"colorbar\": {\"outlinewidth\": 0, \"ticks\": \"\"}, \"type\": \"choropleth\"}], \"contour\": [{\"colorbar\": {\"outlinewidth\": 0, \"ticks\": \"\"}, \"colorscale\": [[0.0, \"#0d0887\"], [0.1111111111111111, \"#46039f\"], [0.2222222222222222, \"#7201a8\"], [0.3333333333333333, \"#9c179e\"], [0.4444444444444444, \"#bd3786\"], [0.5555555555555556, \"#d8576b\"], [0.6666666666666666, \"#ed7953\"], [0.7777777777777778, \"#fb9f3a\"], [0.8888888888888888, \"#fdca26\"], [1.0, \"#f0f921\"]], \"type\": \"contour\"}], \"contourcarpet\": [{\"colorbar\": {\"outlinewidth\": 0, \"ticks\": \"\"}, \"type\": \"contourcarpet\"}], \"heatmap\": [{\"colorbar\": {\"outlinewidth\": 0, \"ticks\": \"\"}, \"colorscale\": [[0.0, \"#0d0887\"], [0.1111111111111111, \"#46039f\"], [0.2222222222222222, \"#7201a8\"], [0.3333333333333333, \"#9c179e\"], [0.4444444444444444, \"#bd3786\"], [0.5555555555555556, \"#d8576b\"], [0.6666666666666666, \"#ed7953\"], [0.7777777777777778, \"#fb9f3a\"], [0.8888888888888888, \"#fdca26\"], [1.0, \"#f0f921\"]], \"type\": \"heatmap\"}], \"heatmapgl\": [{\"colorbar\": {\"outlinewidth\": 0, \"ticks\": \"\"}, \"colorscale\": [[0.0, \"#0d0887\"], [0.1111111111111111, \"#46039f\"], [0.2222222222222222, \"#7201a8\"], [0.3333333333333333, \"#9c179e\"], [0.4444444444444444, \"#bd3786\"], [0.5555555555555556, \"#d8576b\"], [0.6666666666666666, \"#ed7953\"], [0.7777777777777778, \"#fb9f3a\"], [0.8888888888888888, \"#fdca26\"], [1.0, \"#f0f921\"]], \"type\": \"heatmapgl\"}], \"histogram\": [{\"marker\": {\"colorbar\": {\"outlinewidth\": 0, \"ticks\": \"\"}}, \"type\": \"histogram\"}], \"histogram2d\": [{\"colorbar\": {\"outlinewidth\": 0, \"ticks\": \"\"}, \"colorscale\": [[0.0, \"#0d0887\"], [0.1111111111111111, \"#46039f\"], [0.2222222222222222, \"#7201a8\"], [0.3333333333333333, \"#9c179e\"], [0.4444444444444444, \"#bd3786\"], [0.5555555555555556, \"#d8576b\"], [0.6666666666666666, \"#ed7953\"], [0.7777777777777778, \"#fb9f3a\"], [0.8888888888888888, \"#fdca26\"], [1.0, \"#f0f921\"]], \"type\": \"histogram2d\"}], \"histogram2dcontour\": [{\"colorbar\": {\"outlinewidth\": 0, \"ticks\": \"\"}, \"colorscale\": [[0.0, \"#0d0887\"], [0.1111111111111111, \"#46039f\"], [0.2222222222222222, \"#7201a8\"], [0.3333333333333333, \"#9c179e\"], [0.4444444444444444, \"#bd3786\"], [0.5555555555555556, \"#d8576b\"], [0.6666666666666666, \"#ed7953\"], [0.7777777777777778, \"#fb9f3a\"], [0.8888888888888888, \"#fdca26\"], [1.0, \"#f0f921\"]], \"type\": \"histogram2dcontour\"}], \"mesh3d\": [{\"colorbar\": {\"outlinewidth\": 0, \"ticks\": \"\"}, \"type\": \"mesh3d\"}], \"parcoords\": [{\"line\": {\"colorbar\": {\"outlinewidth\": 0, \"ticks\": \"\"}}, \"type\": \"parcoords\"}], \"pie\": [{\"automargin\": true, \"type\": \"pie\"}], \"scatter\": [{\"marker\": {\"colorbar\": {\"outlinewidth\": 0, \"ticks\": \"\"}}, \"type\": \"scatter\"}], \"scatter3d\": [{\"line\": {\"colorbar\": {\"outlinewidth\": 0, \"ticks\": \"\"}}, \"marker\": {\"colorbar\": {\"outlinewidth\": 0, \"ticks\": \"\"}}, \"type\": \"scatter3d\"}], \"scattercarpet\": [{\"marker\": {\"colorbar\": {\"outlinewidth\": 0, \"ticks\": \"\"}}, \"type\": \"scattercarpet\"}], \"scattergeo\": [{\"marker\": {\"colorbar\": {\"outlinewidth\": 0, \"ticks\": \"\"}}, \"type\": \"scattergeo\"}], \"scattergl\": [{\"marker\": {\"colorbar\": {\"outlinewidth\": 0, \"ticks\": \"\"}}, \"type\": \"scattergl\"}], \"scattermapbox\": [{\"marker\": {\"colorbar\": {\"outlinewidth\": 0, \"ticks\": \"\"}}, \"type\": \"scattermapbox\"}], \"scatterpolar\": [{\"marker\": {\"colorbar\": {\"outlinewidth\": 0, \"ticks\": \"\"}}, \"type\": \"scatterpolar\"}], \"scatterpolargl\": [{\"marker\": {\"colorbar\": {\"outlinewidth\": 0, \"ticks\": \"\"}}, \"type\": \"scatterpolargl\"}], \"scatterternary\": [{\"marker\": {\"colorbar\": {\"outlinewidth\": 0, \"ticks\": \"\"}}, \"type\": \"scatterternary\"}], \"surface\": [{\"colorbar\": {\"outlinewidth\": 0, \"ticks\": \"\"}, \"colorscale\": [[0.0, \"#0d0887\"], [0.1111111111111111, \"#46039f\"], [0.2222222222222222, \"#7201a8\"], [0.3333333333333333, \"#9c179e\"], [0.4444444444444444, \"#bd3786\"], [0.5555555555555556, \"#d8576b\"], [0.6666666666666666, \"#ed7953\"], [0.7777777777777778, \"#fb9f3a\"], [0.8888888888888888, \"#fdca26\"], [1.0, \"#f0f921\"]], \"type\": \"surface\"}], \"table\": [{\"cells\": {\"fill\": {\"color\": \"#EBF0F8\"}, \"line\": {\"color\": \"white\"}}, \"header\": {\"fill\": {\"color\": \"#C8D4E3\"}, \"line\": {\"color\": \"white\"}}, \"type\": \"table\"}]}, \"layout\": {\"annotationdefaults\": {\"arrowcolor\": \"#2a3f5f\", \"arrowhead\": 0, \"arrowwidth\": 1}, \"coloraxis\": {\"colorbar\": {\"outlinewidth\": 0, \"ticks\": \"\"}}, \"colorscale\": {\"diverging\": [[0, \"#8e0152\"], [0.1, \"#c51b7d\"], [0.2, \"#de77ae\"], [0.3, \"#f1b6da\"], [0.4, \"#fde0ef\"], [0.5, \"#f7f7f7\"], [0.6, \"#e6f5d0\"], [0.7, \"#b8e186\"], [0.8, \"#7fbc41\"], [0.9, \"#4d9221\"], [1, \"#276419\"]], \"sequential\": [[0.0, \"#0d0887\"], [0.1111111111111111, \"#46039f\"], [0.2222222222222222, \"#7201a8\"], [0.3333333333333333, \"#9c179e\"], [0.4444444444444444, \"#bd3786\"], [0.5555555555555556, \"#d8576b\"], [0.6666666666666666, \"#ed7953\"], [0.7777777777777778, \"#fb9f3a\"], [0.8888888888888888, \"#fdca26\"], [1.0, \"#f0f921\"]], \"sequentialminus\": [[0.0, \"#0d0887\"], [0.1111111111111111, \"#46039f\"], [0.2222222222222222, \"#7201a8\"], [0.3333333333333333, \"#9c179e\"], [0.4444444444444444, \"#bd3786\"], [0.5555555555555556, \"#d8576b\"], [0.6666666666666666, \"#ed7953\"], [0.7777777777777778, \"#fb9f3a\"], [0.8888888888888888, \"#fdca26\"], [1.0, \"#f0f921\"]]}, \"colorway\": [\"#636efa\", \"#EF553B\", \"#00cc96\", \"#ab63fa\", \"#FFA15A\", \"#19d3f3\", \"#FF6692\", \"#B6E880\", \"#FF97FF\", \"#FECB52\"], \"font\": {\"color\": \"#2a3f5f\"}, \"geo\": {\"bgcolor\": \"white\", \"lakecolor\": \"white\", \"landcolor\": \"#E5ECF6\", \"showlakes\": true, \"showland\": true, \"subunitcolor\": \"white\"}, \"hoverlabel\": {\"align\": \"left\"}, \"hovermode\": \"closest\", \"mapbox\": {\"style\": \"light\"}, \"paper_bgcolor\": \"white\", \"plot_bgcolor\": \"#E5ECF6\", \"polar\": {\"angularaxis\": {\"gridcolor\": \"white\", \"linecolor\": \"white\", \"ticks\": \"\"}, \"bgcolor\": \"#E5ECF6\", \"radialaxis\": {\"gridcolor\": \"white\", \"linecolor\": \"white\", \"ticks\": \"\"}}, \"scene\": {\"xaxis\": {\"backgroundcolor\": \"#E5ECF6\", \"gridcolor\": \"white\", \"gridwidth\": 2, \"linecolor\": \"white\", \"showbackground\": true, \"ticks\": \"\", \"zerolinecolor\": \"white\"}, \"yaxis\": {\"backgroundcolor\": \"#E5ECF6\", \"gridcolor\": \"white\", \"gridwidth\": 2, \"linecolor\": \"white\", \"showbackground\": true, \"ticks\": \"\", \"zerolinecolor\": \"white\"}, \"zaxis\": {\"backgroundcolor\": \"#E5ECF6\", \"gridcolor\": \"white\", \"gridwidth\": 2, \"linecolor\": \"white\", \"showbackground\": true, \"ticks\": \"\", \"zerolinecolor\": \"white\"}}, \"shapedefaults\": {\"line\": {\"color\": \"#2a3f5f\"}}, \"ternary\": {\"aaxis\": {\"gridcolor\": \"white\", \"linecolor\": \"white\", \"ticks\": \"\"}, \"baxis\": {\"gridcolor\": \"white\", \"linecolor\": \"white\", \"ticks\": \"\"}, \"bgcolor\": \"#E5ECF6\", \"caxis\": {\"gridcolor\": \"white\", \"linecolor\": \"white\", \"ticks\": \"\"}}, \"title\": {\"x\": 0.05}, \"xaxis\": {\"automargin\": true, \"gridcolor\": \"white\", \"linecolor\": \"white\", \"ticks\": \"\", \"title\": {\"standoff\": 15}, \"zerolinecolor\": \"white\", \"zerolinewidth\": 2}, \"yaxis\": {\"automargin\": true, \"gridcolor\": \"white\", \"linecolor\": \"white\", \"ticks\": \"\", \"title\": {\"standoff\": 15}, \"zerolinecolor\": \"white\", \"zerolinewidth\": 2}}}, \"title\": {\"text\": \"Cost per age\"}, \"xaxis\": {\"anchor\": \"y\", \"domain\": [0.0, 1.0], \"title\": {\"text\": \"Age\"}}, \"yaxis\": {\"anchor\": \"x\", \"domain\": [0.0, 1.0], \"title\": {\"text\": \"Wood cost\"}}},                        {\"responsive\": true}                    ).then(function(){\n",
       "                            \n",
       "var gd = document.getElementById('08c58f7c-7614-4c69-bbce-64c8ef389dad');\n",
       "var x = new MutationObserver(function (mutations, observer) {{\n",
       "        var display = window.getComputedStyle(gd).display;\n",
       "        if (!display || display === 'none') {{\n",
       "            console.log([gd, 'removed!']);\n",
       "            Plotly.purge(gd);\n",
       "            observer.disconnect();\n",
       "        }}\n",
       "}});\n",
       "\n",
       "// Listen for the removal of the full notebook cells\n",
       "var notebookContainer = gd.closest('#notebook-container');\n",
       "if (notebookContainer) {{\n",
       "    x.observe(notebookContainer, {childList: true});\n",
       "}}\n",
       "\n",
       "// Listen for the clearing of the current output cell\n",
       "var outputEl = gd.closest('.output');\n",
       "if (outputEl) {{\n",
       "    x.observe(outputEl, {childList: true});\n",
       "}}\n",
       "\n",
       "                        })                };                });            </script>        </div>"
      ]
     },
     "metadata": {},
     "output_type": "display_data"
    }
   ],
   "source": [
    "px.box(data_frame=flattened_stru,y='cost.Wood',x='age',points='all',hover_name='name',\n",
    "            title='Cost per age',labels={\"age\":\"Age\",\"cost.Wood\":\"Wood cost\"})"
   ]
  },
  {
   "cell_type": "markdown",
   "metadata": {
    "slideshow": {
     "slide_type": "slide"
    }
   },
   "source": [
    "![Callysto.ca Banner](https://github.com/callysto/curriculum-notebooks/blob/master/callysto-notebook-banner-top.jpg?raw=true)\n",
    "\n",
    "<h2 align='center'>Interested to learn more?</h2>\n",
    "\n",
    "Try our Turtles notebook to practice your Python: \n",
    "\n",
    "1. Turtle Python Programming http://tinyurl.com/tzby7za \n",
    "\n",
    "2. Turtles and Python Dictionaries http://tinyurl.com/rdpjv29\n",
    "\n",
    "3. Turtles and Python Data Science http://tinyurl.com/wxvpvqd\n",
    "\n",
    "Post workshop survey (for instructors) http://bit.ly/callysto-feedback "
   ]
  }
 ],
 "metadata": {
  "celltoolbar": "Slideshow",
  "kernelspec": {
   "display_name": "Python 3",
   "language": "python",
   "name": "python3"
  },
  "language_info": {
   "codemirror_mode": {
    "name": "ipython",
    "version": 3
   },
   "file_extension": ".py",
   "mimetype": "text/x-python",
   "name": "python",
   "nbconvert_exporter": "python",
   "pygments_lexer": "ipython3",
   "version": "3.8.6"
  },
  "rise": {
   "autolaunch": false,
   "backimage": "Bgnd0.jpg"
  }
 },
 "nbformat": 4,
 "nbformat_minor": 4
}
