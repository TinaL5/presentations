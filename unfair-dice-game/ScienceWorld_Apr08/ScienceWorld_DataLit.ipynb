{
 "cells": [
  {
   "cell_type": "code",
   "execution_count": 1,
   "metadata": {
    "slideshow": {
     "slide_type": "skip"
    }
   },
   "outputs": [
    {
     "data": {
      "text/html": [
       "<script>\n",
       "code_show=false; \n",
       "function code_toggle() {\n",
       " if (code_show){\n",
       " $('div.input').hide();\n",
       " } else {\n",
       " $('div.input').show();\n",
       " }\n",
       " code_show = !code_show\n",
       "} \n",
       "$( document ).ready(code_toggle);\n",
       "</script>\n",
       "The raw code for this IPython notebook is by default hidden for easier reading.\n",
       "To toggle on/off the raw code, click <a href=\"javascript:code_toggle()\">here</a>."
      ],
      "text/plain": [
       "<IPython.core.display.HTML object>"
      ]
     },
     "execution_count": 1,
     "metadata": {},
     "output_type": "execute_result"
    }
   ],
   "source": [
    "from IPython.display import HTML\n",
    "\n",
    "HTML('''<script>\n",
    "code_show=false; \n",
    "function code_toggle() {\n",
    " if (code_show){\n",
    " $('div.input').hide();\n",
    " } else {\n",
    " $('div.input').show();\n",
    " }\n",
    " code_show = !code_show\n",
    "} \n",
    "$( document ).ready(code_toggle);\n",
    "</script>\n",
    "The raw code for this IPython notebook is by default hidden for easier reading.\n",
    "To toggle on/off the raw code, click <a href=\"javascript:code_toggle()\">here</a>.''')\n"
   ]
  },
  {
   "cell_type": "markdown",
   "metadata": {
    "slideshow": {
     "slide_type": "slide"
    }
   },
   "source": [
    "<h2 align='center'>Data Literacy in the Classroom</h2>\n",
    "\n",
    "<h4 align='center'>Laura Gutierrez Funderburk (Cybera) </h4>\n",
    "\n",
    "<h4 align='center'>Michael Lamoureux (U. Calgary) </h4>\n",
    "\n",
    "![](https://github.com/callysto/callysto-sample-notebooks/blob/master/notebooks/images/Callysto_Notebook-Banner_Top_06.06.18.jpg?raw=true)\n",
    "\n"
   ]
  },
  {
   "cell_type": "markdown",
   "metadata": {
    "slideshow": {
     "slide_type": "slide"
    }
   },
   "source": [
    "## What will we cover in this workshop:\n",
    "\n",
    "- Introductions\n",
    "\n",
    "- Data literacy: an example using global warming data\n",
    "\n",
    "- Jupyter Notebooks and the Callysto project\n",
    "\n",
    "- Hands on activities: the Unfair Dice problem\n",
    "\n",
    "- Math behind the game\n",
    "\n",
    "- Computational thinking exercise \n",
    "\n",
    "- Final remarks\n",
    "\n",
    "- Accessing Callysto resources for your lesson plan"
   ]
  },
  {
   "cell_type": "markdown",
   "metadata": {
    "slideshow": {
     "slide_type": "slide"
    }
   },
   "source": [
    "## What is data literacy?\n",
    "\n",
    "- Using data to inform decisions\n",
    "\n",
    "- Reading, working with, analyzing, and arguing with data\n",
    "\n",
    "- How to find good data, how to extract useful information from data"
   ]
  },
  {
   "cell_type": "markdown",
   "metadata": {
    "slideshow": {
     "slide_type": "slide"
    }
   },
   "source": [
    "## Example -- Global warming?\n",
    "\n",
    "- Where do we get data? (e.g. Vancouver temp data)\n",
    "\n",
    "- How do we analyze it? (e.g. Spread sheet. Plot it)\n",
    "\n",
    "- Deeper analysis? (e.g. linear trend in temperature)\n",
    "\n",
    "- Go further (Other cities? Other sources of data?)\n",
    "\n"
   ]
  },
  {
   "cell_type": "markdown",
   "metadata": {
    "slideshow": {
     "slide_type": "slide"
    }
   },
   "source": [
    "Vancouver data source: \n",
    "- https://vancouver.weatherstats.ca/charts/temperature-wyearly.html\n",
    "- 1935-2020\n",
    "\n",
    "<img src=\"images/Temps.png\" alt=\"Drawing\" style=\"width: 900px;\"/>"
   ]
  },
  {
   "cell_type": "markdown",
   "metadata": {
    "slideshow": {
     "slide_type": "slide"
    }
   },
   "source": [
    "<img src=\"images/Slide05.png\" alt=\"Drawing\" style=\"width: 768px;\"/>"
   ]
  },
  {
   "cell_type": "markdown",
   "metadata": {
    "slideshow": {
     "slide_type": "slide"
    }
   },
   "source": [
    "<img src=\"images/Slide06.png\" alt=\"Drawing\" style=\"width: 768px;\"/>"
   ]
  },
  {
   "cell_type": "markdown",
   "metadata": {
    "slideshow": {
     "slide_type": "slide"
    }
   },
   "source": [
    "## Trend line  $y = 0.00123 x + 6.778$\n",
    "\n",
    "- x is measured in months, so temperature is rising at .00123 degrees per month\n",
    "\n",
    "- $ .00123 * 12 * 100 = 1.5 $ degrees per century.\n",
    "\n",
    "### Looks like a significant rise over a long period"
   ]
  },
  {
   "cell_type": "markdown",
   "metadata": {
    "slideshow": {
     "slide_type": "slide"
    }
   },
   "source": [
    "# Summary\n",
    "\n",
    "Data Literacy\n",
    "- We used available data to look for trends\n",
    "- We used computational tools to put a number to it\n",
    "- We can argue, with data, as to the significance of that number\n",
    "        \n",
    "Going further\n",
    "- Can we access more data? (Other cities? Satellites? etc?)\n",
    "- Do we have better tools?"
   ]
  },
  {
   "cell_type": "markdown",
   "metadata": {
    "slideshow": {
     "slide_type": "slide"
    }
   },
   "source": [
    "# Better tools\n",
    "\n",
    "Jupyter Notebooks\n",
    "\n",
    "Callysto Project\n",
    "\n",
    "Notebook Repositories\n",
    "\n",
    "Open Data Repositories\n"
   ]
  },
  {
   "cell_type": "markdown",
   "metadata": {
    "slideshow": {
     "slide_type": "slide"
    }
   },
   "source": [
    "# Jupyter notebooks\n",
    "\n",
    "This slideshow is actually a Jupyter notebook.\n",
    "\n",
    "A web browser-based document, combining text, computer code, and graphics.\n",
    "\n",
    "It is live, you can edit and use it as you present your stuff.\n"
   ]
  },
  {
   "cell_type": "code",
   "execution_count": 2,
   "metadata": {
    "slideshow": {
     "slide_type": "slide"
    }
   },
   "outputs": [
    {
     "data": {
      "image/png": "[encoded data removed]",
      "text/plain": [
       "<Figure size 432x288 with 1 Axes>"
      ]
     },
     "metadata": {
      "needs_background": "light"
     },
     "output_type": "display_data"
    }
   ],
   "source": [
    "# This is live code. You can change it!\n",
    "import matplotlib.pyplot as plt\n",
    "\n",
    "plt.plot([0,1,2,4,8,16,32]);"
   ]
  },
  {
   "cell_type": "code",
   "execution_count": 3,
   "metadata": {
    "slideshow": {
     "slide_type": "slide"
    }
   },
   "outputs": [
    {
     "data": {
      "image/png": "[encoded data removed]",
      "text/plain": [
       "<Figure size 432x288 with 1 Axes>"
      ]
     },
     "metadata": {
      "needs_background": "light"
     },
     "output_type": "display_data"
    }
   ],
   "source": [
    "# A simulation of temperatures\n",
    "import numpy as np\n",
    "x = np.linspace(0,12*10,num=12*10)\n",
    "y = 0.00123*x+6.778 + 10*np.sin(2*np.pi*x/12)\n",
    "plt.plot(x,y);"
   ]
  },
  {
   "cell_type": "markdown",
   "metadata": {
    "slideshow": {
     "slide_type": "slide"
    }
   },
   "source": [
    "# Callysto project\n",
    "\n",
    "Partnership of **Cybera Inc** (Alta) and the **Pacific Institute for the Mathematical Sciences**\n",
    "\n",
    "Funded by **CanCode** (Canadian Gov't)\n",
    "\n",
    "Resources for teachers, students to learn coding, data science, computational thinking.\n",
    "\n",
    "Web: callysto.ca\n",
    "\n"
   ]
  },
  {
   "cell_type": "markdown",
   "metadata": {
    "slideshow": {
     "slide_type": "slide"
    }
   },
   "source": [
    "## Sample notebooks at Callysto\n",
    "<img src=\"images/Slide09.png\" alt=\"Drawing\" style=\"width: 768px;\"/>"
   ]
  },
  {
   "cell_type": "markdown",
   "metadata": {
    "slideshow": {
     "slide_type": "slide"
    }
   },
   "source": [
    "<h1 align='center'>Social Justice and Computational Thinking</h1>\n",
    "\n",
    "<h4 align='center'>Laura Gutierrez Funderburk (SFU)</h4>\n",
    "\n",
    "<h4 align='center'>Richard Hoshino, (Quest)</h4>\n",
    "\n",
    "<h4 align='center'>Michael Lamoureux, (U Calgary) </h4>\n"
   ]
  },
  {
   "cell_type": "markdown",
   "metadata": {
    "slideshow": {
     "slide_type": "slide"
    }
   },
   "source": [
    "<h2 align='center'>Motivation</h2>\n",
    "\n",
    "How do small advantages, repeated over time, contribute to the success of an individual?\n",
    "\n",
    "Does this make a difference in what we see as fairness, or justice, in real life?\n",
    "\n",
    "Can we make a simulation of this, and explore any remediations?"
   ]
  },
  {
   "cell_type": "markdown",
   "metadata": {
    "slideshow": {
     "slide_type": "slide"
    }
   },
   "source": [
    "<h2 align='center'>Example: Socio-economic status</h2>\n",
    "\n",
    "Suppose Alice and Bob are both going to the same university.\n",
    "\n",
    "Alice has money, lives close to campus, has a car, doesn't need a job for support.\n",
    "\n",
    "Bob has no money, lives far from campus, takes transit, has a part-time job for tuition.\n",
    "\n",
    "Does Alice end up more successful than Bob?"
   ]
  },
  {
   "cell_type": "markdown",
   "metadata": {
    "slideshow": {
     "slide_type": "skip"
    }
   },
   "source": [
    "<h2 align='center'>Motivation</h2>\n",
    "\n",
    "How do relatively small advantages play a role with respect to the success of individuals over time? How can we create a scenario involving two or more individuals, each with differing degrees of advantage, and observe how slight advantages (or disadvantages) affect their trajectories over time? \n",
    "\n",
    "We will explore the concept of fairness as well as the concepts of expected and experimental probability via a probability game between two players in which one player possesses a fixed slight advantage over the other. We will solve the “Unfair Dice Problem” via an exploratory approach, and using Jupyter notebooks and the Python programming language, we will develop an interactive application that allows us to simulate how each player fares over time.  This work is part of the Callysto Project, a federally-funded program to bring computational thinking and mathematical problem-solving skills into Grade 5-12 classrooms.\n",
    "\n",
    "The Unfair Dice Problem has relevance and application in multiple areas of life, including but not limited to the role small advantages play in the context of employment, housing, access to education and support, mortgages and loan pre-approval, and social advancement and recognition. Although our application is based on a game involving dice, it is an illustration of the effect that seemingly small advantages can play over a long period of time in the outcome that individuals experience. \n",
    "\n",
    "<h2 align='center'>Real Life Application Example</h2>\n",
    "\n",
    "One example is the role socio-economic status play in academic success. Let's take the case of two students going into university. Student A owns a car, lives near school and does not need to take out student loans. Student B on the other hand, has taken out a loan to pay for classes, works part time to decrease the amount of money they need to borrow, and rents a room that is far from school but cheap, they use public transit every day. \n",
    "\n",
    "Over time, Student A experiences less stress and is able to devote more time to studying which results in higher marks, being able to access higher-level classes and graduate school. Because student A is a top performer, it is easy for them to get internships and valuable work experience and as a result, Student A has higher probability of getting a high-pay job. \n",
    "\n",
    "Student B on the other hand is constantly stressed over debt, cannot spend as much time on studying as they work part time and as a result does not excel in school. This decreases their opportunities to be accepted into higher-level education and graduate school, as well as getting an intership - both of which would support student B in getting a high-paying job.\n",
    "\n",
    "Through computational thinking we can model problems like the above to simulate people's outcome overtime. We can use this information to modify the conditions of the model to balance unfairness - for instance by providing scholarships based on need, by modifying entry-level requirements to include work experience in addition to grades, and to support creating affordable living options for students. Another solution might be running a survey of socio-economic status and available resources, and adjust tuition accordingly, instead of charging everyone the same amount. "
   ]
  },
  {
   "cell_type": "markdown",
   "metadata": {
    "slideshow": {
     "slide_type": "slide"
    }
   },
   "source": [
    "<h2 align='center'>Let's replace with a game of dice.</h2>\n",
    "\n",
    "<img align='center' src=\"./images/twodice6401.jpg\" alt=\"Drawing\" style=\"width: 450px;\"/>\n",
    "\n",
    "Alice and Bob each roll a die. The one with a bigger number wins. Ties go to Alice. \n",
    "\n",
    "Starting with ten dollars each, at each roll the winner takes a dollar from the loser. \n",
    "\n",
    "Let's play. Play until someone runs out of money. "
   ]
  },
  {
   "cell_type": "markdown",
   "metadata": {
    "slideshow": {
     "slide_type": "skip"
    }
   },
   "source": [
    "<h2 align='center'>Setting up the game</h2>\n",
    "\n",
    "We will use two dice in this game, and assume the dice are fair, i.e. there is the same probability of getting one of the six faces. \n",
    "\n",
    "Let's suppose two people, Alice and Bob, decide to play with this setup and start with the same amount of money, $10 each. \n",
    "\n",
    "One die will be designated as \"Alice's die\" while the other one will be designated as \"Bob's die\". Dice are rolled and the outcome obtained from Bob's outcome is subtracted from the Alice's outcome. \n",
    "\n",
    "<img src=\"./images/twodice6401.jpg\" alt=\"Drawing\" style=\"width: 450px;\"/>\n",
    "\n",
    "If Alice's outcome is greater than or equal to Bob's, Alice takes $\\$1$ from Bob. Otherwise, Bob takes $\\$1$ from Alice. "
   ]
  },
  {
   "cell_type": "markdown",
   "metadata": {
    "slideshow": {
     "slide_type": "slide"
    }
   },
   "source": [
    "<h2 align='center'>In class: Let's Play</h2>\n",
    "\n",
    "Break up the students into groups of two (Alice and Bob).\n",
    "\n",
    "Give each student ten candies, and a die. Have them roll the dice, and trade candy until someone runs out.\n",
    "\n",
    "Count up how many Alices won all the candy? How many Bobs won them all?\n",
    "\n",
    "Is this fair?"
   ]
  },
  {
   "cell_type": "markdown",
   "metadata": {
    "slideshow": {
     "slide_type": "skip"
    }
   },
   "source": [
    "<h2 align='center'>Let's Play</h2>\n",
    "\n",
    "Forming groups of two's, decide which of you plays \"Alice\" and \"Bob\". \n",
    "\n",
    "Each player will be given 10 toothpicks - each representing $\\$1$ dollar. \n",
    "\n",
    "Roll the two dice. If Alice's outcome is greater than or equal to Bob's outcome, player Alice gets one toothpick from Bob. Otherwise player Bob gets 1 toothpick from Alice. \n",
    "\n",
    "Roll 10 times and note how the number of toothpicks changes for each player. \n",
    "\n",
    "Who has more toothpicks at the end of 10 rolls? \n",
    "\n",
    "<h3>Let's Try Again....</h3>\n",
    "\n",
    "Let's repeat this game, but this time, if Bob's outcome is less than Alice's outcome, Bob gets <strong>2</strong> toothpicks instead of one. \n",
    "\n",
    "Who has more toothpicks at the end of 10 rolls? "
   ]
  },
  {
   "cell_type": "markdown",
   "metadata": {
    "slideshow": {
     "slide_type": "skip"
    }
   },
   "source": [
    "<h2 align='center'>What makes this game unfair?</h2>\n",
    "\n",
    "Below is the sample space of our game. Bob's die outcome (black column) is subtracted from Alice's die outcome (dark red row). \n",
    "\n",
    "Alice wins whenever the result is 0 or more. Bob wins whenever the result is negative. \n",
    "\n",
    "The probability Alice will win is $$P(A) = \\frac{21}{36}$$\n",
    "\n",
    "while the probability Bob will win is $$P(B) = \\frac{15}{36}$$"
   ]
  },
  {
   "cell_type": "code",
   "execution_count": 4,
   "metadata": {
    "slideshow": {
     "slide_type": "skip"
    }
   },
   "outputs": [
    {
     "data": {
      "text/html": [
       "<table style='margin: 0 auto;font-size: 25px'>\n",
       "    <tr style=\"width:100%;text-align:center;background-color:#990000;color:white\">\n",
       "    <th style=\"background-color:white;color:white\"> </th>\n",
       "        <th>1</th>\n",
       "        <th>2</th>\n",
       "        <th>3</th>\n",
       "        <th>4</th>\n",
       "        <th>5</th>\n",
       "        <th>6</th>\n",
       "    </tr>\n",
       "    <tr>\n",
       "        \n",
       "        <td style=\"background-color:black;color:white\"><strong>1</strong></td>\n",
       "        <td style=\"background-color:#ffcccc\">0</td>\n",
       "        <td style=\"background-color:#ffcccc\">1</td>\n",
       "        <td style=\"background-color:#ffcccc\">2</td>\n",
       "        <td style=\"background-color:#ffcccc\">3</td>\n",
       "        <td style=\"background-color:#ffcccc\">4</td>\n",
       "        <td style=\"background-color:#ffcccc\">5</td>\n",
       "    </tr>\n",
       "    <tr >\n",
       "        <td style=\"background-color:black;color:white\"><strong>2</strong></td>\n",
       "        <td>-1</td>\n",
       "        <td style=\"background-color:#ffcccc\">0</td>\n",
       "        <td style=\"background-color:#ffcccc\">1</td>\n",
       "        <td style=\"background-color:#ffcccc\">2</td>\n",
       "        <td style=\"background-color:#ffcccc\">3</td>\n",
       "        <td style=\"background-color:#ffcccc\">4</td>\n",
       "    </tr>\n",
       "    <tr >\n",
       "        <td style=\"background-color:black;color:white\"><strong>3</strong></td>\n",
       "        <td>-2</td>\n",
       "        <td>-1</td>\n",
       "        <td style=\"background-color:#ffcccc\">0</td>\n",
       "        <td style=\"background-color:#ffcccc\">1</td>\n",
       "        <td style=\"background-color:#ffcccc\">2</td>\n",
       "        <td style=\"background-color:#ffcccc\">3</td>\n",
       "    </tr>\n",
       "    <tr >\n",
       "        <td style=\"background-color:black;color:white\"><strong>4</strong></td>\n",
       "        <td>-3</td>\n",
       "        <td>-2</td>\n",
       "        <td>-1</td>\n",
       "        <td style=\"background-color:#ffcccc\">0</td>\n",
       "        <td style=\"background-color:#ffcccc\">1</td>\n",
       "        <td style=\"background-color:#ffcccc\">2</td>\n",
       "    </tr>\n",
       "    <tr >\n",
       "        <td style=\"background-color:black;color:white\"><strong>5</strong></td>\n",
       "        <td>-4</td>\n",
       "        <td>-3</td>\n",
       "        <td>-2</td>\n",
       "        <td>-1</td>\n",
       "        <td style=\"background-color:#ffcccc\">0</td>\n",
       "        <td style=\"background-color:#ffcccc\">1</td>\n",
       "    </tr>\n",
       "    <tr >\n",
       "        <td style=\"background-color:black;color:white\"><strong>6</strong></td>\n",
       "        <td>-5</td>\n",
       "        <td>-4</td>\n",
       "        <td>-3</td>\n",
       "        <td>-2</td>\n",
       "        <td>-1</td>\n",
       "        <td style=\"background-color:#ffcccc\">0</td>\n",
       "    </tr>\n",
       "</table>\n"
      ],
      "text/plain": [
       "<IPython.core.display.HTML object>"
      ]
     },
     "metadata": {},
     "output_type": "display_data"
    }
   ],
   "source": [
    "%%html\n",
    "<table style='margin: 0 auto;font-size: 25px'>\n",
    "    <tr style=\"width:100%;text-align:center;background-color:#990000;color:white\">\n",
    "    <th style=\"background-color:white;color:white\"> </th>\n",
    "        <th>1</th>\n",
    "        <th>2</th>\n",
    "        <th>3</th>\n",
    "        <th>4</th>\n",
    "        <th>5</th>\n",
    "        <th>6</th>\n",
    "    </tr>\n",
    "    <tr>\n",
    "        \n",
    "        <td style=\"background-color:black;color:white\"><strong>1</strong></td>\n",
    "        <td style=\"background-color:#ffcccc\">0</td>\n",
    "        <td style=\"background-color:#ffcccc\">1</td>\n",
    "        <td style=\"background-color:#ffcccc\">2</td>\n",
    "        <td style=\"background-color:#ffcccc\">3</td>\n",
    "        <td style=\"background-color:#ffcccc\">4</td>\n",
    "        <td style=\"background-color:#ffcccc\">5</td>\n",
    "    </tr>\n",
    "    <tr >\n",
    "        <td style=\"background-color:black;color:white\"><strong>2</strong></td>\n",
    "        <td>-1</td>\n",
    "        <td style=\"background-color:#ffcccc\">0</td>\n",
    "        <td style=\"background-color:#ffcccc\">1</td>\n",
    "        <td style=\"background-color:#ffcccc\">2</td>\n",
    "        <td style=\"background-color:#ffcccc\">3</td>\n",
    "        <td style=\"background-color:#ffcccc\">4</td>\n",
    "    </tr>\n",
    "    <tr >\n",
    "        <td style=\"background-color:black;color:white\"><strong>3</strong></td>\n",
    "        <td>-2</td>\n",
    "        <td>-1</td>\n",
    "        <td style=\"background-color:#ffcccc\">0</td>\n",
    "        <td style=\"background-color:#ffcccc\">1</td>\n",
    "        <td style=\"background-color:#ffcccc\">2</td>\n",
    "        <td style=\"background-color:#ffcccc\">3</td>\n",
    "    </tr>\n",
    "    <tr >\n",
    "        <td style=\"background-color:black;color:white\"><strong>4</strong></td>\n",
    "        <td>-3</td>\n",
    "        <td>-2</td>\n",
    "        <td>-1</td>\n",
    "        <td style=\"background-color:#ffcccc\">0</td>\n",
    "        <td style=\"background-color:#ffcccc\">1</td>\n",
    "        <td style=\"background-color:#ffcccc\">2</td>\n",
    "    </tr>\n",
    "    <tr >\n",
    "        <td style=\"background-color:black;color:white\"><strong>5</strong></td>\n",
    "        <td>-4</td>\n",
    "        <td>-3</td>\n",
    "        <td>-2</td>\n",
    "        <td>-1</td>\n",
    "        <td style=\"background-color:#ffcccc\">0</td>\n",
    "        <td style=\"background-color:#ffcccc\">1</td>\n",
    "    </tr>\n",
    "    <tr >\n",
    "        <td style=\"background-color:black;color:white\"><strong>6</strong></td>\n",
    "        <td>-5</td>\n",
    "        <td>-4</td>\n",
    "        <td>-3</td>\n",
    "        <td>-2</td>\n",
    "        <td>-1</td>\n",
    "        <td style=\"background-color:#ffcccc\">0</td>\n",
    "    </tr>\n",
    "</table>"
   ]
  },
  {
   "cell_type": "markdown",
   "metadata": {
    "slideshow": {
     "slide_type": "skip"
    }
   },
   "source": [
    "In the first game, the expected per-round payoff for Alice is $$\\big( \\frac{21}{36}\\big) *1 + \\big( \\frac{15}{36} \\big)*(-1) = \\frac{1}{6}.$$  \n",
    "\n",
    "So after about 60 rounds of play, Alice would be \"expected\" to have all of the toothpicks.  \n",
    "\n",
    "\n",
    "Conversely, in the second game, the expected per-round payoff for Alice is  $$\\big( \\frac{21}{36}\\big) *1 + \\big( \\frac{15}{36} \\big)*(-2) = \\frac{-1}{4}.$$  \n",
    "\n",
    "\n",
    "So after about 40 rounds of play, Bob would be \"expected\" to have all of the toothpicks."
   ]
  },
  {
   "cell_type": "markdown",
   "metadata": {
    "slideshow": {
     "slide_type": "slide"
    }
   },
   "source": [
    "<h2 align='center'>Simulating the Game</h2>\n",
    "\n",
    "Let's use some code to simulate many trials of this unfair game.\n",
    "\n",
    "Try making it more fair. Change the starting points, or the payoffs.\n"
   ]
  },
  {
   "cell_type": "code",
   "execution_count": 5,
   "metadata": {
    "slideshow": {
     "slide_type": "skip"
    }
   },
   "outputs": [],
   "source": [
    "import random\n",
    "\n",
    "import matplotlib.patches as mpatches\n",
    "from ipywidgets import interact, interact_manual, widgets, Layout, VBox, HBox, Button\n",
    "from IPython.display import display, Javascript, Markdown, HTML, clear_output\n",
    "import matplotlib.pyplot as plt\n",
    "\n",
    "\n",
    "\n",
    "#def runN_cell( b ):    \n",
    "#    display(Javascript('IPython.notebook.execute_cell_range(IPython.notebook.get_selected_index()+1,IPython.notebook.get_selected_index()+2)'))    \n",
    "\n",
    "    \n",
    "#def rerun_cell( b ):    \n",
    "#    display(Javascript('IPython.notebook.execute_cell_range(IPython.notebook.get_selected_index(),IPython.notebook.get_selected_index()+1)'))    \n"
   ]
  },
  {
   "cell_type": "code",
   "execution_count": 6,
   "metadata": {
    "slideshow": {
     "slide_type": "skip"
    }
   },
   "outputs": [],
   "source": [
    "### This cell contains code to simulate our game\n",
    "\n",
    "def roll_dice():\n",
    "    \n",
    "    \"\"\"This function simulates rolling two dice \n",
    "    and substracting the minor die outcome from the major die outcome\"\"\"\n",
    "    major_die = random.choice([1,2,3,4,5,6])\n",
    "    minor_die = random.choice([1,2,3,4,5,6])\n",
    "    \n",
    "    if major_die >= minor_die:\n",
    "        return True\n",
    "    else:\n",
    "        return False\n",
    "\n",
    "def play_game(StartValue_A, StartValue_B, p, q):\n",
    "    \n",
    "    \"\"\"This function implements two players engaging in the game\"\"\"\n",
    "        \n",
    "    # Initialize variables\n",
    "    # Set value A to starting value, resp value C\n",
    "    value_A = StartValue_A\n",
    "    value_B = StartValue_B \n",
    "    turn_number = 0\n",
    "    # Store points on each turn\n",
    "    CurrentValue_A = []\n",
    "    CurrentValue_B = []\n",
    "    # Initialize winners\n",
    "    winner_A = 0\n",
    "    winner_B = 0\n",
    "    \n",
    "    # We want to continue playing as long as both players have at least one more point\n",
    "    while value_A > 0 and value_B > 0:\n",
    "        # Increase turn\n",
    "        turn_number += 1\n",
    "        \n",
    "        # If major die >=  minor die \n",
    "        if roll_dice():\n",
    "            # Update and save current values for A and B\n",
    "            CurrentValue_A.append(value_A)\n",
    "            CurrentValue_B.append(value_B)\n",
    "            \n",
    "            # Give A one more (set of) point(s) \n",
    "            value_A = value_A + p\n",
    "            # Remove the same quantity from B \n",
    "            value_B = value_B - p\n",
    "            \n",
    "        # Otherwise, we have major die < minor die \n",
    "        else:\n",
    "            # Update and save current values for A and B\n",
    "            CurrentValue_A.append(value_A)\n",
    "            CurrentValue_B.append(value_B)\n",
    "            # Give B one more (set of) points \n",
    "            value_B = value_B + q\n",
    "            # Remove the same quantity from A\n",
    "            value_A = value_A - q\n",
    "            \n",
    "    # Get winners\n",
    "    # If A has zero or less points, B is the winner\n",
    "    if value_A <= 0: winner_B = 1\n",
    "    # Otherwise, A is the winner \n",
    "    if value_B <= 0: winner_A = 1\n",
    "    \n",
    "    return [turn_number, winner_A, winner_B,CurrentValue_A,CurrentValue_B]\n",
    "    \n",
    "    \n",
    "\n",
    "def plot_game(StartValue_A, StartValue_B, p, q):\n",
    "    \n",
    "    \"\"\"This function simulates the game for a given 1000 trials and prints \n",
    "    the average number of times A and B win\"\"\"\n",
    "    # Suppose we set 1000 trials\n",
    "    n = 1000\n",
    "   \n",
    "    # Initialize variables\n",
    "    wins_for_A = 0\n",
    "    wins_for_B = 0\n",
    "    total_moves = 0   \n",
    "    \n",
    "    # Iterate over the total number of trials, and repeat game\n",
    "    for i in range(n):  \n",
    "        [turn_number, winner_A, winner_B,CurrentValue_A,CurrentValue_B] = play_game(StartValue_A, StartValue_B, p, q)\n",
    "        # Add number of turns\n",
    "        total_moves += turn_number\n",
    "        # Add total number of times A won\n",
    "        wins_for_A += winner_A\n",
    "        # Add total number of times B won  \n",
    "        wins_for_B += winner_B\n",
    "    \n",
    "    print(\"The average number of rounds is\", total_moves/n)\n",
    "    print(\"Alice wins\", round(100*wins_for_A/n,2), \"% of the time\")\n",
    "    print(\"Bob wins\", round(100*wins_for_B/n,2), \"% of the time\")\n",
    "    \n",
    "    # Plot results\n",
    "    # Set x axis values\n",
    "    x_co = [i for i in range(len(CurrentValue_A))]\n",
    "    # Initialize figure and set x, y limits\n",
    "    fig,ax = plt.subplots(figsize=(10,5))\n",
    "    ax.set_xlim([0,len(x_co) + 1])\n",
    "    ax.set_ylim([0,StartValue_A+StartValue_B])\n",
    "    ax.grid(True) \n",
    "    # Plot points for A and B at each turn\n",
    "    ax.plot(x_co,CurrentValue_A,label=\"Alice\",c='r')\n",
    "    ax.plot(x_co,CurrentValue_B,label=\"Bob\",c='black')\n",
    "    # Add labels, title and legend to improve readability\n",
    "    ax.set_ylabel(\"Number of points\",fontsize=25)\n",
    "    ax.set_xlabel(\"Number of turns\",fontsize=25)\n",
    "    ax.set_title(\"A Typical Game\",fontsize=25)\n",
    "    plt.legend(bbox_to_anchor=(1.05, 1), loc=2, borderaxespad=1.)\n",
    "    plt.show()"
   ]
  },
  {
   "cell_type": "code",
   "execution_count": 7,
   "metadata": {
    "slideshow": {
     "slide_type": "skip"
    }
   },
   "outputs": [],
   "source": [
    "# Create interactive menu with parameters\n",
    "\n",
    "style = {'description_width': 'initial'}\n",
    "\n",
    "all_the_widgets = [widgets.BoundedIntText(\n",
    "            value=10,\n",
    "            min=1,\n",
    "            max=1000,\n",
    "            description='Alice: Initial Points:',\n",
    "            disabled=False,style =style), widgets.BoundedIntText(\n",
    "            value=10,\n",
    "            min=1,\n",
    "            max=1000,\n",
    "            description='Bob:Initial Points:',\n",
    "            disabled=False,style =style), widgets.BoundedFloatText(\n",
    "            value=1,\n",
    "            min=0,\n",
    "            max=1000,\n",
    "            step=0.1,\n",
    "            description='# points for Alice win',\n",
    "            disabled=False,\n",
    "            continuous_update=False,\n",
    "            orientation='horizontal',\n",
    "            readout=True,\n",
    "            readout_format='f',\n",
    "            style =style),widgets.BoundedFloatText(\n",
    "            value=1,\n",
    "            min=0,\n",
    "            max=1000,\n",
    "            step=0.1,\n",
    "            description='# points for Bob win',\n",
    "            disabled=False,\n",
    "            continuous_update=False,\n",
    "            orientation='horizontal',\n",
    "            readout=True,\n",
    "            readout_format='f',\n",
    "            style =style)]\n",
    "\n",
    "\n",
    "# Button widget\n",
    "CD_button = widgets.Button(\n",
    "    button_style='success',\n",
    "    description=\"Run Simulations\", \n",
    "    layout=Layout(width='15%', height='30px'),\n",
    "    style=style\n",
    ")    \n",
    "\n",
    "def draw_results(b):\n",
    "    StartValue_A = all_the_widgets[0].value\n",
    "    StartValue_B = all_the_widgets[1].value\n",
    "    p = all_the_widgets[2].value\n",
    "    q = all_the_widgets[3].value\n",
    "    clear_output()\n",
    "    display(tab)  ## Have to redraw the widgets\n",
    "    plot_game(StartValue_A, StartValue_B, p, q)\n",
    "\n",
    "# Connect widget to function - run subsequent cells\n",
    "#CD_button.on_click( runN_cell )\n",
    "CD_button.on_click( draw_results )\n",
    "\n",
    "# user menu using categories found above\n",
    "tab3 = VBox(children=[HBox(children=all_the_widgets[0:2]),HBox(children=all_the_widgets[2:4]),\n",
    "                      CD_button])\n",
    "tab = widgets.Tab(children=[tab3])\n",
    "tab.set_title(0, 'Choose Parameters')\n",
    "# display(tab)   ## We will display in the next cell. So SlideShow works. "
   ]
  },
  {
   "cell_type": "code",
   "execution_count": 8,
   "metadata": {
    "slideshow": {
     "slide_type": "slide"
    }
   },
   "outputs": [
    {
     "data": {
      "application/vnd.jupyter.widget-view+json": {
       "model_id": "e553d010e3844f11bc1ee0d8c8d724d3",
       "version_major": 2,
       "version_minor": 0
      },
      "text/plain": [
       "Tab(children=(VBox(children=(HBox(children=(BoundedIntText(value=10, description='Alice: Initial Points:', max…"
      ]
     },
     "metadata": {},
     "output_type": "display_data"
    },
    {
     "name": "stdout",
     "output_type": "stream",
     "text": [
      "The average number of rounds is 54.238\n",
      "Alice wins 97.3 % of the time\n",
      "Bob wins 2.7 % of the time\n"
     ]
    },
    {
     "data": {
      "image/png": "[encoded data removed]",
      "text/plain": [
       "<Figure size 720x360 with 1 Axes>"
      ]
     },
     "metadata": {
      "needs_background": "light"
     },
     "output_type": "display_data"
    }
   ],
   "source": [
    "display(tab)"
   ]
  },
  {
   "cell_type": "code",
   "execution_count": 9,
   "metadata": {
    "slideshow": {
     "slide_type": "skip"
    }
   },
   "outputs": [
    {
     "name": "stdout",
     "output_type": "stream",
     "text": [
      "The average number of rounds is 55.8\n",
      "Alice wins 97.3 % of the time\n",
      "Bob wins 2.7 % of the time\n"
     ]
    },
    {
     "data": {
      "image/png": "[encoded data removed]",
      "text/plain": [
       "<Figure size 720x360 with 1 Axes>"
      ]
     },
     "metadata": {
      "needs_background": "light"
     },
     "output_type": "display_data"
    }
   ],
   "source": [
    "StartValue_A = all_the_widgets[0].value\n",
    "StartValue_B = all_the_widgets[1].value\n",
    "p = all_the_widgets[2].value\n",
    "q = all_the_widgets[3].value\n",
    "plot_game(StartValue_A, StartValue_B, p, q)"
   ]
  },
  {
   "cell_type": "markdown",
   "metadata": {
    "slideshow": {
     "slide_type": "skip"
    }
   },
   "source": [
    "<h2 align='center'>What can we take away from this?</h2>\n",
    "\n",
    "In this notebook we learned about how slight advantages can significantly change the outcome of two or more people involved and that sometimes this effect is noticeable only after engaging in several iterations. \n",
    "\n",
    "If the players are unaware of the situation, the outcome is the party with greater advantage experiences a higher likelihood of \"winning\" (or experiencing some positive outome), whereas the party with less advantage experiences lower likelihood of \"winning\" and thus has a higher probability of experiencing loss. \n",
    "\n",
    "There are significant implications the \"losing party\" experiences with respect to the quality of their experience, desire to continue engaging, emotional distress, tangible loss, and desire to disengage from the activity. \n",
    "\n",
    "The \"winning\" party on the other hand, might believe that the outcome is solely due to their work ethic, talent, and might attritbute their success to themselves. The winning party may also attribute outcomes of the losing party accordingly, i.e. they may make them responsible for their loss, instead of acknowledging that the situation is designed to support one member more than the other. \n",
    "\n",
    "<h2 align='center'>What can we do?</h2>\n",
    "\n",
    "1. Acknowledge that there are many situations in life setup to increase the odds of succeeding more for some than others. Knowing the presence of advantage can be difficult to digest for both parties, however it is a constructive exercise and a wonderful opportunity for improvement. \n",
    "\n",
    "2. For parties who have higher likelihood of benefiting from the situation, acknowledge the role of advantage and be open to learning more about what can be done to balance things. \n",
    "\n",
    "3. For parties who have lower likelihood of benefiting from the situation, it can be a deeply empowering experience to see the situation as it is and ask yourself what can be done with this knowledge. \n",
    "\n",
    "4. Work together to improve the situation, either by adjusting the \"payoff\" each party receives or by adjusting the initial number of points. In this game, the \"winning strategy\" for both parties is to adjust the payoff amount each gets. \n",
    "\n",
    "<h2 align='center'>Implications in Real Life</h2>\n",
    "\n",
    "1. Think about other examples where unfairness plays a role in the outcome engaged parties experience. \n",
    "\n",
    "2. Share an example that came to mind with the class. \n",
    "3. Think about what can be done to improve the outcome engaged parties experience. "
   ]
  },
  {
   "cell_type": "markdown",
   "metadata": {
    "slideshow": {
     "slide_type": "slide"
    }
   },
   "source": [
    "<h2 align='center'>What can we take away from this?</h2>\n",
    "\n",
    "1. Notice a slight advantages can significantly change the outcome when repeated over several iterations. \n",
    "\n",
    "2. The \"losing party\" can suffers in the quality of their experience, desire to continue engaging, emotional distress, tangible loss, and desire to disengage from the activity. \n",
    "\n",
    "3. The \"winning\" party , might believe that the outcome is solely due to their work ethic, talent, and might attritbute their success to themselves. \n",
    "\n",
    "4. How does this translate to real life?"
   ]
  },
  {
   "cell_type": "markdown",
   "metadata": {
    "slideshow": {
     "slide_type": "slide"
    }
   },
   "source": [
    "<h2 align='center'>What can we do?</h2>\n",
    "\n",
    "1. Acknowledge that there are advantages/disadvantages in life. These have an impact on overall success, and it is a constructive exercise to identify and address these. \n",
    "\n",
    "2. Acknowledge the role of advantage and be open to learning more about what can be done to balance things. \n",
    "\n",
    "3. It can be a deeply empowering experience to recognize the disadvantages and ask yourself what can be done with this knowledge. \n",
    "\n",
    "4. Work together to improve the situation, by adjusting the \"parameters\" in the situation."
   ]
  },
  {
   "cell_type": "markdown",
   "metadata": {
    "slideshow": {
     "slide_type": "slide"
    }
   },
   "source": [
    "<h2 align='center'>Implications in Real Life</h2>\n",
    "\n",
    "1. Think about other examples where unfairness plays a role in the outcomes engaged experienced. \n",
    "2. Share an example that came to mind with the class. \n",
    "3. Think about what can be done to improve the outcome for the people in \"the game\". "
   ]
  },
  {
   "cell_type": "markdown",
   "metadata": {
    "slideshow": {
     "slide_type": "slide"
    }
   },
   "source": [
    "![alt text](https://github.com/callysto/callysto-sample-notebooks/blob/master/notebooks/images/Callysto_Notebook-Banners_Bottom_06.06.18.jpg?raw=true)"
   ]
  }
 ],
 "metadata": {
  "celltoolbar": "Slideshow",
  "kernelspec": {
   "display_name": "Python 3",
   "language": "python",
   "name": "python3"
  },
  "language_info": {
   "codemirror_mode": {
    "name": "ipython",
    "version": 3
   },
   "file_extension": ".py",
   "mimetype": "text/x-python",
   "name": "python",
   "nbconvert_exporter": "python",
   "pygments_lexer": "ipython3",
   "version": "3.7.4"
  },
  "rise": {
   "autolaunch": false,
   "backimage": "images/Bgnd.png"
  }
 },
 "nbformat": 4,
 "nbformat_minor": 4
}
