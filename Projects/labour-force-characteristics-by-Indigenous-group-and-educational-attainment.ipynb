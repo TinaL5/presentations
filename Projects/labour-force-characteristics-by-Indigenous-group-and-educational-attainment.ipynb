{
 "cells": [
  {
   "cell_type": "code",
   "execution_count": null,
   "metadata": {
    "hidden": false
   },
   "outputs": [],
   "source": [
    "from IPython.display import HTML\n",
    "\n",
    "HTML('''<script>\n",
    "code_show=true; \n",
    "function code_toggle() {\n",
    " if (code_show){\n",
    " $('div.input').hide();\n",
    " } else {\n",
    " $('div.input').show();\n",
    " }\n",
    " code_show = !code_show\n",
    "} \n",
    "$( document ).ready(code_toggle);\n",
    "</script>\n",
    "The raw code for this IPython notebook is by default hidden for easier reading.\n",
    "To toggle on/off the raw code, click <a href=\"javascript:code_toggle()\">here</a>.''')\n"
   ]
  },
  {
   "cell_type": "markdown",
   "metadata": {
    "hidden": false
   },
   "source": [
    "![alt text](https://github.com/callysto/callysto-sample-notebooks/blob/master/notebooks/images/Callysto_Notebook-Banner_Top_06.06.18.jpg?raw=true)  \n"
   ]
  },
  {
   "cell_type": "markdown",
   "metadata": {
    "hidden": false
   },
   "source": [
    "<h1 align='center'>Stats Can Notebook Template: Labour force characteristics by Indigenous group and educational attainment</h1>\n",
    "\n",
    "<h4 align='center'>Laura Gutierrez Funderburk $\\mid$ Stats Can Notebook</h4>\n",
    "\n",
    "<h2 align='center'>Abstract</h2>\n",
    "\n",
    "In this notebook, we explore labour force characteristics, where the population is broken down into the following categories:\n",
    "\n",
    "1. Indigenous group\n",
    "    \n",
    "        Total population\n",
    "        Indigenous population\n",
    "        First Nations\n",
    "        Métis\n",
    "        Non-Indigenous population\n",
    "\n",
    "2. Age group\n",
    "\n",
    "        15 years and over\n",
    "        25 years and over\n",
    "        25 to 54 years\n",
    "\n",
    "3. Labour force characteristics\n",
    "\n",
    "        Population\n",
    "        Labour force\n",
    "        Employment\n",
    "        Unemployment\n",
    "        Not in labour force\n",
    "        Unemployment rate\n",
    "        Participation rate\n",
    "        Employment rate\n",
    "        \n",
    "        \n",
    "4. Educational attainment\n",
    "\n",
    "        Total, all education levels\n",
    "        Less than high school\n",
    "        High school graduate or some post-secondary\n",
    "        Completed post-secondary educatio\n",
    "\n",
    "[Citation] \n",
    "Statistics Canada.  Table  14-10-0359-01   Labour force characteristics by Aboriginal group and educational attainment\n",
    "DOI:   https://doi.org/10.25318/1410035901-eng"
   ]
  },
  {
   "cell_type": "code",
   "execution_count": null,
   "metadata": {
    "hidden": false
   },
   "outputs": [],
   "source": [
    "%run -i ./StatsCan/helpers.py\n",
    "%run -i ./StatsCan/scwds.py\n",
    "%run -i ./StatsCan/sc.py\n",
    "%run -i ./widgets_libraries.py"
   ]
  },
  {
   "cell_type": "markdown",
   "metadata": {
    "hidden": false
   },
   "source": [
    "<h2 align='center'>Downloading Stats Can Data</h2>\n",
    "\n",
    "To download a full dataset, enter a product ID and press the Download Dataset button. "
   ]
  },
  {
   "cell_type": "code",
   "execution_count": null,
   "metadata": {
    "hidden": false
   },
   "outputs": [],
   "source": [
    "prod_ID = widgets.Text(\n",
    "    value=\"14-10-0359-01\",\n",
    "    placeholder='ProductID value',\n",
    "    description='productID value',\n",
    "    disabled=False,\n",
    "    style=style\n",
    ")\n",
    "\n",
    "\n",
    "DS_button = widgets.Button(\n",
    "    button_style='success',\n",
    "    description=\"Download Dataset\", \n",
    "    layout=Layout(width='15%', height='30px'),\n",
    "    style=style\n",
    ")    \n",
    "DS_button.on_click( run_4cell )\n",
    "display(prod_ID)\n",
    "display(DS_button)"
   ]
  },
  {
   "cell_type": "code",
   "execution_count": null,
   "metadata": {
    "hidden": false,
    "scrolled": false
   },
   "outputs": [],
   "source": [
    "# # Download data \n",
    "productId = prod_ID.value\n",
    "\n",
    "if \"-\" not in productId:\n",
    "    if len(productId)!=10:\n",
    "        print(\"WARNING: THIS IS LIKELY A NUMBER NOT ASSOCIATED WITH A DATA TABLE. VERIFY AND TRY AGAIN\")\n",
    "        sys.exit(1)\n",
    "\n",
    "        \n",
    "\n",
    "else: \n",
    "    if len(productId.split(\"-\")) !=4:\n",
    "        print(\"WARNING: THIS IS LIKELY A NUMBER NOT ASSOCIATED WITH A DATA TABLE. VERIFY AND TRY AGAIN\")\n",
    "        sys.exit(1)\n",
    "\n",
    "download_tables(str(productId))\n",
    "df_fullDATA = read_data_compute_df(productId)\n",
    "\n",
    "cols = list(df_fullDATA.loc[:,'REF_DATE':'UOM'])+ ['SCALAR_FACTOR'] +  ['VALUE']\n",
    "df_less = df_fullDATA[cols]\n",
    "df_less2 = df_less.drop([\"DGUID\"], axis=1)\n",
    "df_less2 = df_less2.replace({\"Aboriginal\": \"Indigenous\"},regex=True)\n",
    "\n",
    "df_less2  = df_less2.rename(columns={\"Aboriginal group\": \"Indigenous group\"})\n",
    "\n",
    "\n",
    "iteration_nr = df_less2.shape[1]\n",
    "categories = []\n",
    "for i in range(iteration_nr-1):\n",
    "    categories.append(df_less2.iloc[:,i].unique())\n",
    "\n",
    "\n",
    "all_the_widgets = []\n",
    "for i in range(len(categories)):\n",
    "    if i==0:\n",
    "        a_category = widgets.Dropdown(\n",
    "                value = categories[i][0],\n",
    "                options = categories[i], \n",
    "                description ='Start Date:', \n",
    "                style = style, \n",
    "                disabled=False\n",
    "            )\n",
    "        b_category = widgets.Dropdown(\n",
    "                value = categories[i][-1],\n",
    "                options = categories[i], \n",
    "                description ='End Date:', \n",
    "                style = style, \n",
    "                disabled=False\n",
    "            )\n",
    "        all_the_widgets.append(a_category)\n",
    "        all_the_widgets.append(b_category)\n",
    "    elif i==1:\n",
    "        a_category = widgets.Dropdown(\n",
    "                value = categories[i][0],\n",
    "                options = categories[i], \n",
    "                description ='Location:', \n",
    "                style = style, \n",
    "                disabled=False\n",
    "            )\n",
    "        all_the_widgets.append(a_category)\n",
    "    elif i==len(categories)-1:\n",
    "        a_category = widgets.Dropdown(\n",
    "                value = categories[i][0],\n",
    "                options = categories[i], \n",
    "                description ='Scalar factor:', \n",
    "                style = style, \n",
    "                disabled=False\n",
    "            )\n",
    "        all_the_widgets.append(a_category)\n",
    "\n",
    "    elif i==len(categories)-2:\n",
    "        a_category = widgets.Dropdown(\n",
    "                value = categories[i][0],\n",
    "                options = categories[i], \n",
    "                description ='Units of Measure :', \n",
    "                style = style, \n",
    "                disabled=False\n",
    "            )\n",
    "        all_the_widgets.append(a_category)\n",
    "    else:\n",
    "        a_category = widgets.Dropdown(\n",
    "                value = categories[i][0],\n",
    "                options = categories[i], \n",
    "                description ='Subcategory ' + str(i), \n",
    "                style = style, \n",
    "                disabled=False\n",
    "            )\n",
    "        all_the_widgets.append(a_category)\n",
    "df_less2.head()"
   ]
  },
  {
   "cell_type": "markdown",
   "metadata": {
    "hidden": false
   },
   "source": [
    "## <h2 align='center'>Select Data Subsets: One-Dimensional Plotting</h2>\n",
    "\n",
    "\n",
    "Use the user menu below to select a cateory within the full subset you are interested in exploring. \n",
    "\n",
    "Choose a starting and end date to plot results. \n",
    "\n",
    "If there is data available, it will appear under the headers. \n",
    "\n",
    "Be careful to select dataframes with actual data in them!. \n",
    "\n",
    "Use the Select Dataset button to help you preview the data. "
   ]
  },
  {
   "cell_type": "code",
   "execution_count": null,
   "metadata": {
    "hidden": false,
    "scrolled": true
   },
   "outputs": [],
   "source": [
    "CD_button = widgets.Button(\n",
    "    button_style='success',\n",
    "    description=\"Preview Dataset\", \n",
    "    layout=Layout(width='15%', height='30px'),\n",
    "    style=style\n",
    ")    \n",
    "CD_button.on_click( run_4cell )\n",
    "\n",
    "tab3 = VBox(children=[HBox(children=all_the_widgets[0:3]),\n",
    "                      HBox(children=all_the_widgets[3:5]),\n",
    "                      HBox(children=all_the_widgets[5:len(all_the_widgets)]),\n",
    "                      CD_button])\n",
    "tab = widgets.Tab(children=[tab3])\n",
    "tab.set_title(0, 'Load Data Subset')\n",
    "display(tab)"
   ]
  },
  {
   "cell_type": "code",
   "execution_count": null,
   "metadata": {
    "scrolled": true
   },
   "outputs": [],
   "source": [
    "df_sub = df_less2[(df_less2[\"REF_DATE\"]>=all_the_widgets[0].value) & \n",
    "                  (df_less2[\"REF_DATE\"]<=all_the_widgets[1].value) &\n",
    "                  (df_less2[\"GEO\"]==all_the_widgets[2].value) &\n",
    "                  (df_less2[\"UOM\"]==all_the_widgets[-2].value) & \n",
    "                  (df_less2[\"SCALAR_FACTOR\"]==all_the_widgets[-1].value) & \n",
    "                  (df_less2[\"Indigenous group\"]==all_the_widgets[3].value) &\n",
    "                  (df_less2[\"Labour force characteristics\"]==all_the_widgets[4].value) & \n",
    "                  (df_less2[\"Educational attainment\"]==all_the_widgets[5].value) &\n",
    "                  (df_less2[\"Age group\"]==all_the_widgets[6].value)]\n",
    "\n",
    "df_sub.head()"
   ]
  },
  {
   "cell_type": "code",
   "execution_count": null,
   "metadata": {},
   "outputs": [],
   "source": [
    "# TO HANDLE THE REST OF THE COLUMNS, SIMPLY SUBSTITUTE VALUES \n",
    "col_name = df_sub.columns[2]\n",
    "\n",
    "# weather_data = pd.read_csv(\"DATA.csv\",sep=',')\n",
    "col_name\n",
    "\n",
    "df_sub_final = df_sub[(df_sub[col_name]==all_the_widgets[3].value)]"
   ]
  },
  {
   "cell_type": "code",
   "execution_count": null,
   "metadata": {},
   "outputs": [],
   "source": [
    "import matplotlib.pyplot as plt\n",
    "from pandas.plotting import register_matplotlib_converters\n",
    "register_matplotlib_converters()\n",
    "%matplotlib inline\n",
    "\n",
    "fig1 = plt.figure(facecolor='w',figsize=(18,18))\n",
    "plt.subplot(3, 3, 1)\n",
    "plt.axis('off');\n",
    "\n",
    "\n",
    "plt.subplot(3, 3, 2)\n",
    "plt.plot(df_sub_final[\"REF_DATE\"],df_sub_final[\"VALUE\"],'b--',label='Value')\n",
    "#plt.plot(df_20_USA[\"REF_DATE\"],df_20_USA[\"VALUE\"],'r--',label='U.S. dollar, daily average')\n",
    "plt.xlabel('Year-Month', fontsize=20)\n",
    "plt.ylabel('Value',fontsize=20)\n",
    "plt.title(str(all_the_widgets[3].value) + \", \"+  str(all_the_widgets[2].value),fontsize=20)\n",
    "plt.xticks(rotation=90)\n",
    "plt.grid(True)\n",
    "\n",
    "\n",
    "plt.subplot(3, 3, 3);\n",
    "plt.axis('off');\n"
   ]
  },
  {
   "cell_type": "code",
   "execution_count": null,
   "metadata": {},
   "outputs": [],
   "source": [
    "#load \"cufflinks\" library under short name \"cf\"\n",
    "import cufflinks as cf\n",
    "\n",
    "#command to display graphics correctly in Jupyter notebook\n",
    "cf.go_offline()\n",
    "\n",
    "def enable_plotly_in_cell():\n",
    "    import IPython\n",
    "    from plotly.offline import init_notebook_mode\n",
    "    display(IPython.core.display.HTML('''<script src=\"/static/components/requirejs/require.js\"></script>'''))\n",
    "    init_notebook_mode(connected=False)\n",
    "    \n",
    "get_ipython().events.register('pre_run_cell', enable_plotly_in_cell)\n"
   ]
  },
  {
   "cell_type": "code",
   "execution_count": null,
   "metadata": {},
   "outputs": [],
   "source": [
    "df_less2.pivot_table(columns= \"Indigenous group\",index=\"Age group\",values=\"VALUE\",aggfunc=['min','max',\"mean\"])"
   ]
  },
  {
   "cell_type": "code",
   "execution_count": null,
   "metadata": {},
   "outputs": [],
   "source": [
    "df_less2.pivot_table(columns= \"Indigenous group\",\n",
    "                     index=\"Age group\",\n",
    "                     values=\"VALUE\",aggfunc=['mean']).iplot(kind='bar') #values and labels are DataFrame columns"
   ]
  },
  {
   "cell_type": "code",
   "execution_count": null,
   "metadata": {},
   "outputs": [],
   "source": [
    "df_less2.pivot_table(columns= \"Indigenous group\",\n",
    "                     index=\"Labour force characteristics\",\n",
    "                     values=\"VALUE\",aggfunc=[\"min\",'max','mean'])"
   ]
  },
  {
   "cell_type": "code",
   "execution_count": null,
   "metadata": {},
   "outputs": [],
   "source": [
    "df_less2[df_less2[\"Labour force characteristics\"]==\"Employment rate\"].\\\n",
    "pivot_table(columns=[\"Labour force characteristics\",\"REF_DATE\"], \\\n",
    "                     index=[\"Indigenous group\"]).iplot(kind='bar')"
   ]
  },
  {
   "cell_type": "code",
   "execution_count": null,
   "metadata": {},
   "outputs": [],
   "source": [
    "df_less2.pivot_table(columns= \"Indigenous group\",\n",
    "                     index=[\"Educational attainment\",\"Age group\"],\n",
    "                     values=\"VALUE\",aggfunc=[\"min\",'max','mean'])"
   ]
  },
  {
   "cell_type": "code",
   "execution_count": null,
   "metadata": {},
   "outputs": [],
   "source": [
    "df_less2[df_less2[\"Educational attainment\"]==\"Less than high school\"].\\\n",
    "pivot_table(columns=[\"Educational attainment\", \"REF_DATE\"], \n",
    "                     index=[\"Indigenous group\",\"Age group\"],aggfunc='mean').iplot(kind='bar')"
   ]
  },
  {
   "cell_type": "markdown",
   "metadata": {
    "hidden": false
   },
   "source": [
    "# ![alt text](https://github.com/callysto/callysto-sample-notebooks/blob/master/notebooks/images/Callysto_Notebook-Banners_Bottom_06.06.18.jpg?raw=true)"
   ]
  }
 ],
 "metadata": {
  "kernelspec": {
   "display_name": "Python 3",
   "language": "python",
   "name": "python3"
  },
  "language_info": {
   "codemirror_mode": {
    "name": "ipython",
    "version": 3
   },
   "file_extension": ".py",
   "mimetype": "text/x-python",
   "name": "python",
   "nbconvert_exporter": "python",
   "pygments_lexer": "ipython3",
   "version": "3.7.4"
  }
 },
 "nbformat": 4,
 "nbformat_minor": 2
}
