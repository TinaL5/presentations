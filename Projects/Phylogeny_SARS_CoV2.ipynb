{
 "cells": [
  {
   "cell_type": "markdown",
   "metadata": {},
   "source": [
    "![The Callysto Project Callyso.ca](https://github.com/callysto/curriculum-notebooks/blob/master/callysto-notebook-banner-top.jpg?raw=true)"
   ]
  },
  {
   "cell_type": "code",
   "execution_count": null,
   "metadata": {},
   "outputs": [],
   "source": [
    "# What are base pairs and how to we use them when talking about sequences. "
   ]
  },
  {
   "cell_type": "markdown",
   "metadata": {},
   "source": [
    "<h2 align='center'>COVID-19 can infect multiple animals</h2>\n",
    "\n",
    "Animals, such as bats or pangolins (see image below) have been found to host the COVID-19 virus. Sometimes the virus can \"jump\" from one animal to another when it mutates. In the exercise below, we will work with COVID-19 sequences taken from human and pangolin hosts. In particular, we will work with the region that encodes information on the \"spike protein\" - this special region allows the virus to enter a host's cells to replicate. \n",
    "\n",
    "How similar are the spike proteins of the virus found in the pangolin vs the human? \n",
    "\n",
    "Run the code below to find out!"
   ]
  },
  {
   "cell_type": "markdown",
   "metadata": {},
   "source": [
    "![](data:image/jpeg;base64,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)"
   ]
  },
  {
   "cell_type": "markdown",
   "metadata": {},
   "source": [
    "<h2 align='center'>Parsing sequence file formats</h2>\n",
    "\n",
    "We begin this section by stating the following\n",
    "\n",
    "<div class=\"alert alert-warning\">\n",
    "<font color=\"black\"><b>Definition.</b> **FASTA format** is a text-based format for representing either nucleotide sequences or peptide sequences, in which base pairs or amino acids are represented using single-letter codes.  A sequence in FASTA format begins with a single-line description, followed by lines of sequence data. The description line is distinguished from the sequence data by a greater-than (\">\") symbol in the first column. It is recommended that all lines of text be shorter than 80 characters in length. $^{[2]}$\n",
    "  </font>\n",
    "</div>\n"
   ]
  },
  {
   "cell_type": "markdown",
   "metadata": {},
   "source": [
    "<h2 align='center'>Multiple Sequence Alignment</h2>\n",
    "\n",
    "Now that we are a bit more comfortable with comparing two sequences via a sequence alignment, we can take a step further and begin comparing more than two sequences at a time. This is known as a \"multiple sequence alignment\" or MSA. \n",
    "\n",
    "In the previous exercises, we compared two sequences at a time, using ancestral DNA sequences as reference (or ground truth) and descendant DNA sequence as test alignment, with the purpose of generating different hypothesis. \n",
    "\n",
    "In reality, bioinformaticians do not have access to ancestral DNA sequences, only descendant DNA sequences. \n",
    "\n",
    "When bioinformaticians come accross a number of descendant DNA sequences from the same species, what they do is perform an MSA on the descendant DNA sequences and make hypothesis about what the ancestral DNA sequence was. The goal is to generate a hypothesis on what the common ancestors between a given number of genes are. \n",
    "\n",
    "Let's suppose we are given four gene sequences, and our job is to find common ancestors. We know the gene sequences belong to Butter clam (Saxidomus gigantea) found in B.C. and we wish to perform a MSA and generate hypothesis about what the common ancestors are. \n",
    "\n",
    "We are given the following information about the butter clam and the file 4_saxidomus_coi.fasta (you can find this file in the main page). \n",
    "\n",
    "Follow the rest of the notebook to find how we as bioinformaticians would go about generating hypothesis about common ancestors. "
   ]
  },
  {
   "cell_type": "code",
   "execution_count": null,
   "metadata": {},
   "outputs": [],
   "source": [
    "#!pip install biopython --user"
   ]
  },
  {
   "cell_type": "code",
   "execution_count": null,
   "metadata": {},
   "outputs": [],
   "source": [
    "import sys\n",
    "from ipywidgets import Button , Layout , interact,widgets\n",
    "from IPython.display import Javascript, display\n",
    "import Bio\n",
    "from Bio import SeqIO"
   ]
  },
  {
   "cell_type": "code",
   "execution_count": null,
   "metadata": {},
   "outputs": [],
   "source": [
    "CoronavirusDNA = \"./COVID19_reduced.fasta\"\n",
    "fasta = \"./fasta.fas\"\n",
    "seq_count = 0"
   ]
  },
  {
   "cell_type": "code",
   "execution_count": null,
   "metadata": {},
   "outputs": [],
   "source": [
    "from ipywidgets import Button , Layout , interact,widgets\n",
    "from IPython.display import Javascript, display\n",
    "\n",
    "# Function: executes previous cell on button widget click event and hides achievement indicators message\n",
    "\n",
    "def run_current(ev):\n",
    "    \n",
    "    display(Javascript('IPython.notebook.execute_cell_range(IPython.notebook.get_selected_index()+0,IPython.notebook.get_selected_index()+2)'))    \n",
    "\n",
    "seq_button_len = widgets.Button(button_style='info',description=\"Print Sequence Identifiers\", layout=Layout(width='25%', height='30px') )\n",
    "seq_button_len.on_click( run_current )\n"
   ]
  },
  {
   "cell_type": "code",
   "execution_count": null,
   "metadata": {
    "scrolled": true
   },
   "outputs": [],
   "source": [
    "seq_count +=1\n",
    "display(seq_button_len)\n",
    "\n",
    "if seq_count>=2:\n",
    "    record_iterator = SeqIO.parse(CoronavirusDNA, \"fasta\")\n",
    "    records = [record for record in record_iterator]\n",
    "    for item in records:\n",
    "        print(item.id)\n",
    "    #print(len(item))\n",
    "    #print(item.seq)\n",
    "        print(\"\\n\")"
   ]
  },
  {
   "cell_type": "markdown",
   "metadata": {
    "scrolled": true
   },
   "source": [
    "Just as before, we are interested in learning what the length of each sequence is. \n",
    "\n",
    "Press the following button to print the length of each sequence. This button builds on top of the button above: we will see the id's we printed above along with the lengths of the sequences. "
   ]
  },
  {
   "cell_type": "code",
   "execution_count": null,
   "metadata": {},
   "outputs": [],
   "source": [
    "th_button_len = widgets.Button(button_style='info',description=\"Print Sequence Lengths\", layout=Layout(width='25%', height='30px') )\n",
    "th_button_len.on_click( run_current )\n",
    "th_count = 0"
   ]
  },
  {
   "cell_type": "code",
   "execution_count": null,
   "metadata": {},
   "outputs": [],
   "source": [
    "th_count +=1\n",
    "display(th_button_len)\n",
    "\n",
    "if th_count>=2:\n",
    "    record_iterator = SeqIO.parse(CoronavirusDNA, \"fasta\")\n",
    "    records = [record for record in record_iterator]\n",
    "    for item in records:\n",
    "        print(item.id)\n",
    "        print(len(item))\n",
    "    #print(item.seq)\n",
    "        print(\"\\n\")"
   ]
  },
  {
   "cell_type": "markdown",
   "metadata": {},
   "source": [
    "Next we want to take a look at the sequences. As before, we will build on the two applications above: we will display id, length and sequence. "
   ]
  },
  {
   "cell_type": "code",
   "execution_count": null,
   "metadata": {},
   "outputs": [],
   "source": [
    "se_button_len = widgets.Button(button_style='info',description=\"Print Sequences\", layout=Layout(width='25%', height='30px') )\n",
    "se_button_len.on_click( run_current )\n",
    "se_count = 0"
   ]
  },
  {
   "cell_type": "code",
   "execution_count": null,
   "metadata": {},
   "outputs": [],
   "source": [
    "se_count +=1\n",
    "display(se_button_len)\n",
    "\n",
    "if se_count>=2:\n",
    "    record_iterator = SeqIO.parse(CoronavirusDNA, \"fasta\")\n",
    "    records = [record for record in record_iterator]\n",
    "    for item in records:\n",
    "        print(item.id)\n",
    "        print(len(item))\n",
    "        print(item.seq)\n",
    "        print(\"\\n\")"
   ]
  },
  {
   "cell_type": "markdown",
   "metadata": {},
   "source": [
    "These are just like the DNA sequences we worked with in the first section of this notebook, the only difference being this is real and a much longer sequence. \n",
    "\n",
    "The natural step to take next is to perform a MSA of the four sequences in this file. \n",
    "\n",
    "We can do this manually, but one of the key components of bioinformatics is the use of software design to help bioinformaticians. \n",
    "\n",
    "Keep in mind that software is not perfect and it is common for errors to be introduced in the alignments. An important step following the MSA is to verify the alignment and make editions. Although this notebook does not provide insight into alignment edition, a reference is provided at the end of this section. \n",
    "\n",
    "\n",
    "---\n",
    "\n",
    "<h3 align='center'>Performing a multiple sequence alignment (MSA) using Clustal</h3>\n",
    "\n",
    "Connect previous notebook involving 2 sequences and extending to ALL sequences from all hosts. \n",
    "\n",
    "Clustal $^{[3]}$ is a general purpose DNA or protein multiple sequence alignment program for three or more sequences. There are two ways we can can use Clustal:\n",
    "\n",
    "1) Online https://www.ebi.ac.uk/Tools/msa/clustalo/\n",
    "\n",
    "\n",
    "2) Via downloading the installation package and running from a terminal.\n",
    "\n",
    "The advantages of the first option are that, of course you do not need to install nor run the softare via a terminal, however the online server is limited when you are working with a large number of sequences. \n",
    "\n",
    "This is advantage of the latter: it can handle a large number of sequences at a time. We will try both in this assignment. \n",
    " \n",
    "\n",
    "**Assignment **\n",
    "\n",
    "The button below runs a multiple sequence alignment. Press the button found below. "
   ]
  },
  {
   "cell_type": "code",
   "execution_count": null,
   "metadata": {},
   "outputs": [],
   "source": [
    "def run_next(ev):\n",
    "    \n",
    "    display(Javascript('IPython.notebook.execute_cell_range(IPython.notebook.get_selected_index()+1,IPython.notebook.get_selected_index()+2)'))    \n",
    "\n",
    "al_button_len = widgets.Button(button_style='info',description=\"Perform MSA\", layout=Layout(width='25%', height='30px') )\n",
    "al_button_len.on_click( run_next )\n",
    "display(al_button_len)"
   ]
  },
  {
   "cell_type": "code",
   "execution_count": null,
   "metadata": {},
   "outputs": [],
   "source": [
    "from Bio import AlignIO\n",
    "align = AlignIO.read(\"./covid19.phy\", \"phylip\")\n",
    "print(align)"
   ]
  },
  {
   "cell_type": "markdown",
   "metadata": {},
   "source": [
    "<h2 align='center'>Phylogenetic Tree</h2>\n",
    "\n",
    "Looking at how closely related they are. \n",
    "\n",
    "Recall that we are interested in determining common ancestors of the genes we are working with. Our goal is to establish different hypothesis regarding the ancestors based on regions of similarity within our alignment. \n",
    "\n",
    "A phylogenetic tree allows us to establish models for such hypothesis.\n",
    "\n",
    "Although we will not explore in detail how to construct a phylogenetic tree, we will use IQTree $^{[5]}$ along with its modelfinder feature $^{[5]}$ to find the best possible model for our sequences. \n",
    "\n",
    "**Assignment **\n",
    "\n",
    "Press the button below to generate a phylogenetic tree for our butter clam DNA sequences. "
   ]
  },
  {
   "cell_type": "code",
   "execution_count": null,
   "metadata": {},
   "outputs": [],
   "source": [
    "tr_button_len = widgets.Button(button_style='info',description=\"Plot Phylogenetic Tree\", layout=Layout(width='25%', height='30px') )\n",
    "tr_button_len.on_click( run_next )\n",
    "display(tr_button_len)"
   ]
  },
  {
   "cell_type": "code",
   "execution_count": null,
   "metadata": {
    "scrolled": false
   },
   "outputs": [],
   "source": [
    "from Bio import Phylo\n",
    "\n",
    "tree1 = Phylo.read('./tree.newick', \"newick\")\n",
    "tree1.ladderize()   # Flip branches so deeper clades are displayed at top\n",
    "Phylo.draw(tree1)\n",
    "Phylo.draw_ascii(tree1)"
   ]
  },
  {
   "cell_type": "code",
   "execution_count": null,
   "metadata": {},
   "outputs": [],
   "source": [
    "hp_button_len = widgets.Button(button_style='info',description=\"Plot Haplotype Network\", layout=Layout(width='25%', height='30px') )\n",
    "hp_button_len.on_click( run_next )\n",
    "display(hp_button_len)"
   ]
  },
  {
   "cell_type": "code",
   "execution_count": null,
   "metadata": {},
   "outputs": [],
   "source": [
    "#!pip install svglib\n",
    "from svglib.svglib import svg2rlg\n",
    "from reportlab.graphics import renderPDF, renderPM\n",
    "\n",
    "drawing = svg2rlg(\"./covid19_hap_net2.svg\")\n",
    "#renderPDF.drawToFile(drawing, \"file.pdf\")\n",
    "renderPM.drawToFile(drawing, \"file.png\", fmt=\"PNG\")\n",
    "from IPython.core.display import Image, display\n",
    "display(Image(\"file.png\", width=1000,unconfined=False))"
   ]
  },
  {
   "cell_type": "markdown",
   "metadata": {},
   "source": [
    "<h2 align='center'>Conclusion</h2>\n",
    "\n",
    "In this notebook we learned what a sequence is, as well as a what a sequence alignment and multiple sequence alignments are.\n",
    "\n",
    "We performed an MSA on DNA sequences for butter clam and generated a phylogenetic tree. "
   ]
  },
  {
   "cell_type": "markdown",
   "metadata": {},
   "source": [
    "<h2 align='center'>References</h2>\n",
    "\n",
    "https://inverts.wallawalla.edu/Mollusca/Bivalvia/Veneroida/Veneridae/Saxidomus_gigantea.html\n",
    "\n",
    "[2] https://zhanglab.ccmb.med.umich.edu/FASTA/\n",
    "\n",
    "[3] https://www.ebi.ac.uk/Tools/msa/clustalw2/\n",
    "\n",
    "[4] Subha Kalyaanamoorthy, Bui Quang Minh, Thomas KF Wong, Arndt von Haeseler,\n",
    "and Lars S Jermiin (2017) ModelFinder: Fast model selection for\n",
    "accurate phylogenetic estimates. Nature Methods, 14:587–589.\n",
    "https://doi.org/10.1038/nmeth.4285\n",
    "\n",
    "\n",
    "[5] Lam-Tung Nguyen, Heiko A. Schmidt, Arndt von Haeseler, and Bui Quang Minh\n",
    "(2015) IQ-TREE: A fast and effective stochastic algorithm for estimating\n",
    "maximum likelihood phylogenies. Mol Biol Evol, 32:268-274.\n",
    "https://doi.org/10.1093/molbev/msu300\n"
   ]
  },
  {
   "cell_type": "markdown",
   "metadata": {},
   "source": [
    "[![logo](https://github.com/callysto/curriculum-notebooks/blob/master/callysto-notebook-banner-bottom.jpg?raw=true)](https://github.com/callysto/curriculum-notebooks/blob/master/LICENSE.md)"
   ]
  }
 ],
 "metadata": {
  "kernelspec": {
   "display_name": "Python 3",
   "language": "python",
   "name": "python3"
  },
  "language_info": {
   "codemirror_mode": {
    "name": "ipython",
    "version": 3
   },
   "file_extension": ".py",
   "mimetype": "text/x-python",
   "name": "python",
   "nbconvert_exporter": "python",
   "pygments_lexer": "ipython3",
   "version": "3.7.4"
  }
 },
 "nbformat": 4,
 "nbformat_minor": 2
}
