{
 "cells": [
  {
   "cell_type": "markdown",
   "metadata": {
    "slideshow": {
     "slide_type": "skip"
    }
   },
   "source": [
    "## To use this slideshow:\n",
    "- Run All, using the menu item: Kernel/Restart & Run All\n",
    "- Return to this top cell\n",
    "- click on \"Slideshow\" menu item above, that looks like this:\n",
    "![](images/SlideIcon.png)"
   ]
  },
  {
   "cell_type": "markdown",
   "metadata": {
    "slideshow": {
     "slide_type": "skip"
    }
   },
   "source": [
    "![](https://github.com/callysto/callysto-sample-notebooks/blob/master/notebooks/images/Callysto_Notebook-Banner_Top_06.06.18.jpg?raw=true)\n"
   ]
  },
  {
   "cell_type": "markdown",
   "metadata": {
    "slideshow": {
     "slide_type": "slide"
    }
   },
   "source": [
    "![](images/)\n",
    "#### <center> https://tinyurl.com/CallystoSound\n",
    "    \n",
    "![](images/titlepage.jpg)\n",
    "### June 17, 2020 with Laura G. Funderburk"
   ]
  },
  {
   "cell_type": "markdown",
   "metadata": {
    "slideshow": {
     "slide_type": "slide"
    }
   },
   "source": [
    "## Overview\n",
    "- Connect with us\n",
    "- Who we are \n",
    "- Computational Thinking and Data Science\n",
    "- Data Science Tools - Python\n",
    "- Getting started: Visualization\n",
    "- Intro to Python with Turtles\n"
   ]
  },
  {
   "cell_type": "markdown",
   "metadata": {
    "slideshow": {
     "slide_type": "slide"
    }
   },
   "source": [
    "## Connect With Us\n",
    "\n",
    "[@callysto_canada](https://twitter.com/callysto_canada?lang=en)\n",
    "\n",
    "contact@callysto.ca\n",
    "\n",
    "[callysto.ca](http://www.callysto.ca)\n",
    "\n",
    "[YouTube](https://www.youtube.com/channel/UCPdq1SYKA42EZBvUlNQUAng)\n"
   ]
  },
  {
   "cell_type": "markdown",
   "metadata": {
    "slideshow": {
     "slide_type": "slide"
    }
   },
   "source": [
    "## Who We Are\n",
    "\n",
    "\n",
    "Byron.Chu@cybera.ca\n",
    "Project Manager, Data Scientist, Ulti player/Runner\n",
    "\n",
    "David.Hay@cybera.ca | @misterhay\n",
    "Educator, Facilitator, Nerd (Normally with EIPS, One-year with Cybera)\n",
    "\n",
    "Laura.Gutierrez.Funderburk@cybera.ca \n",
    "Data Science Intern\n",
    "\n",
    "Lisa.Cao@cybera.ca\n",
    "Data Science Intern\n"
   ]
  },
  {
   "cell_type": "markdown",
   "metadata": {
    "slideshow": {
     "slide_type": "slide"
    }
   },
   "source": [
    "## Computational Thinking \n",
    "\n",
    "\n",
    "Computational thinking involves solving problems by designing questions that can be computed.\n",
    "\n",
    "* Decomposition - break down a problem\n",
    "\n",
    "* Pattern recognition - find trends in problem\n",
    "\n",
    "* Algorithm design - create a series of steps to solve problem\n",
    "\n",
    "* Abstraction - remove parts to generalize solution\n",
    "\n",
    "* Evaluate - analyze the solution\n"
   ]
  },
  {
   "cell_type": "markdown",
   "metadata": {
    "slideshow": {
     "slide_type": "slide"
    }
   },
   "source": [
    "## Data Science\n",
    "\n",
    "Data science involves obtaining and communicating information from (usually large) sets of data (observations).\n",
    "\n",
    "* collecting\n",
    "\n",
    "* cleaning\n",
    "\n",
    "* transforming\n",
    "\n",
    "* exploring\n",
    "\n",
    "* analyzing\n",
    "\n",
    "* visualizing\n",
    "\n",
    "* synthesizing\n"
   ]
  },
  {
   "cell_type": "markdown",
   "metadata": {
    "slideshow": {
     "slide_type": "slide"
    }
   },
   "source": [
    "“Without attracting the hype, Jupyter Notebooks are revolutionizing the way engineers and data scientists work together. If all important work is collaborative, the most important tools we have are tools for collaboration, tools that make working together more productive.” \n",
    "\n",
    "— Mike Loukides, O’Reilly Media\n",
    "\n",
    "\n",
    "\n",
    "UC Berkeley’s Foundations of Data Science course\n"
   ]
  },
  {
   "cell_type": "markdown",
   "metadata": {
    "slideshow": {
     "slide_type": "slide"
    }
   },
   "source": [
    "## Data science tools - Python\n",
    "\n",
    "\n",
    "* Popular, free, and open source \n",
    "\n",
    "* Active contributor community to popular data science libraries for data transformation and visualization\n",
    "\n",
    "\n",
    "![](data:image/png;base64,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)"
   ]
  },
  {
   "cell_type": "markdown",
   "metadata": {
    "slideshow": {
     "slide_type": "slide"
    }
   },
   "source": [
    "## Setup time\n",
    "\n",
    "Open a new browser tab and visit:\n",
    "\n",
    "\n",
    "[hub.callysto.ca](https://hub.callysto.ca/)\n"
   ]
  },
  {
   "cell_type": "markdown",
   "metadata": {
    "slideshow": {
     "slide_type": "slide"
    }
   },
   "source": [
    "## Getting Started with Data Visualization\n",
    "\n",
    "Once data have been collected and organized, visualizations help with analysis and storytelling.\n",
    "\n",
    "Usually includes tables and graphs\n",
    "\n",
    "In a Jupyter notebook with Python code, a graph can be as easy as:\n"
   ]
  },
  {
   "cell_type": "code",
   "execution_count": null,
   "metadata": {
    "slideshow": {
     "slide_type": "slide"
    }
   },
   "outputs": [],
   "source": [
    "import matplotlib.pyplot as plt\n",
    "%matplotlib inline\n",
    "plt.scatter(3,6)\n",
    "plt.scatter(2,7)\n",
    "plt.show()\n"
   ]
  },
  {
   "cell_type": "code",
   "execution_count": null,
   "metadata": {
    "slideshow": {
     "slide_type": "slide"
    }
   },
   "outputs": [],
   "source": [
    "import matplotlib.pyplot as plt\n",
    "%matplotlib inline\n",
    "labels = ['Cheese', 'Pepperoni', 'Ham', 'Other']\n",
    "sizes = [21, 13, 7, 11]\n",
    "plt.title('Favorite Pizza Toppings')\n",
    "plt.bar(labels, sizes)\n",
    "plt.show()\n"
   ]
  },
  {
   "cell_type": "code",
   "execution_count": null,
   "metadata": {
    "slideshow": {
     "slide_type": "slide"
    }
   },
   "outputs": [],
   "source": [
    "import matplotlib.pyplot as plt\n",
    "%matplotlib inline\n",
    "labels = ['Cheese', 'Pepperoni', 'Ham', 'Other']\n",
    "sizes = [21, 13, 7, 11]\n",
    "plt.title('Favorite Pizza Toppings')\n",
    "plt.pie(sizes, labels=labels)\n",
    "plt.axis('equal')\n",
    "plt.show()\n"
   ]
  },
  {
   "cell_type": "markdown",
   "metadata": {
    "slideshow": {
     "slide_type": "slide"
    }
   },
   "source": [
    "## Intro to Python and Data Science with Turtles\n",
    "\n",
    "\n",
    "1. Python Turtles\n",
    "   * [Student](https://hub.callysto.ca/jupyter/hub/user-redirect/git-pull?repo=https%3A%2F%2Fgithub.com%2Fcallysto%2FTMTeachingTurtles&branch=master&subPath=TMPythonTurtles/turtles-and-python-intro-student.ipynb&depth=1)\n",
    "   * [Turtles Art Contest for students!](http://callysto.ca/callysto-contest)\n",
    "\n",
    "2. Dictionary Turtles (Try it yourself)\n",
    "    * [Student](https://hub.callysto.ca/jupyter/hub/user-redirect/git-pull?repo=https%3A%2F%2Fgithub.com%2Fcallysto%2FTMTeachingTurtles&branch=master&subPath=TMDictionaryTurtles/turtles-and-dictionaries-student.ipynb&depth=1)\n",
    "    \n",
    "3. Data Turtles (Try it yourself)\n",
    "    * [Student](https://hub.callysto.ca/jupyter/hub/user-redirect/git-pull?repo=https%3A%2F%2Fgithub.com%2Fcallysto%2FTMTeachingTurtles&branch=master&subPath=TMDataTurtles/turtles-and-data-student.ipynb&depth=1)\n",
    "\n"
   ]
  },
  {
   "cell_type": "markdown",
   "metadata": {
    "slideshow": {
     "slide_type": "slide"
    }
   },
   "source": [
    "![](https://github.com/callysto/callysto-sample-notebooks/blob/master/notebooks/images/Callysto_Notebook-Banners_Bottom_06.06.18.jpg?raw=true)"
   ]
  }
 ],
 "metadata": {
  "celltoolbar": "Slideshow",
  "kernelspec": {
   "display_name": "Python 3",
   "language": "python",
   "name": "python3"
  },
  "language_info": {
   "codemirror_mode": {
    "name": "ipython",
    "version": 3
   },
   "file_extension": ".py",
   "mimetype": "text/x-python",
   "name": "python",
   "nbconvert_exporter": "python",
   "pygments_lexer": "ipython3",
   "version": "3.7.4"
  },
  "rise": {
   "autolaunch": false,
   "backimage": "Bgnd0.jpg"
  }
 },
 "nbformat": 4,
 "nbformat_minor": 4
}
