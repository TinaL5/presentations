{
 "cells": [
  {
   "cell_type": "markdown",
   "metadata": {
    "slideshow": {
     "slide_type": "slide"
    }
   },
   "source": [
    "# Part 1: An Overview of the Jupyter Ecosystem\n",
    "\n",
    "---\n",
    "\n",
    "** January 31st, 2018 **\n",
    "\n",
    "\n",
    "*Ian Allison*"
   ]
  },
  {
   "cell_type": "markdown",
   "metadata": {
    "slideshow": {
     "slide_type": "slide"
    }
   },
   "source": [
    "* # [https://ganymede-io.github.io/brochure-site](https://ganymede-io.github.io/brochure-site) <- Brochure website\n",
    "* # [https://ganymede.syzygy.ca](https://ganymede.syzygy.ca) <- temporary hub"
   ]
  },
  {
   "cell_type": "markdown",
   "metadata": {
    "slideshow": {
     "slide_type": "slide"
    }
   },
   "source": []
  },
  {
   "cell_type": "markdown",
   "metadata": {
    "slideshow": {
     "slide_type": "slide"
    }
   },
   "source": [
    "## define: Python, IPython Jupyter & JupyterHub\n",
    "\n",
    "All of these tools exist in a hierarchy:\n",
    "\n",
    "1. **Python** - High level (nice to use!) general purpose programming language (1991)\n",
    "2. **IPython** - Shell making python nice to use interactivly (frontends!) (2001)\n",
    "3. **Jupyter** - This works for other languages! (e.g. R for stats) (2014)\n",
    "4. **JupyterHub** - All this as a published web service (2015)"
   ]
  },
  {
   "cell_type": "markdown",
   "metadata": {
    "slideshow": {
     "slide_type": "subslide"
    }
   },
   "source": [
    "## synonyms: JuPyteR\n",
    "\n",
    "  * **Notebook**: The notebook takes inspiration from traditional notebooks\n",
    "    * A mixture of computation.\n",
    "    * ...back of the envelope calcuations\n",
    "    * ...notes to yourself\n",
    "    * ...interactions with APIs\n",
    "\n",
    "If you're ever feeling short of inspiration, please take a look at [A Gallery of interesting notebooks](https://github.com/jupyter/jupyter/wiki/A-gallery-of-interesting-Jupyter-Notebooks) [goo.gl/Lb7HQc].\n"
   ]
  },
  {
   "cell_type": "code",
   "execution_count": 1,
   "metadata": {
    "slideshow": {
     "slide_type": "subslide"
    }
   },
   "outputs": [
    {
     "data": {
      "text/plain": [
       "[{'definition': 'a book of plain paper in which you can write notes'}]"
      ]
     },
     "execution_count": 1,
     "metadata": {},
     "output_type": "execute_result"
    }
   ],
   "source": [
    "import requests\n",
    "\n",
    "r = requests.get(\n",
    "    'http://api.pearson.com/v2/dictionaries/entries?headword=notebook')\n",
    "r.json()['results'][1]['senses']\n"
   ]
  },
  {
   "cell_type": "markdown",
   "metadata": {
    "slideshow": {
     "slide_type": "slide"
    }
   },
   "source": [
    "# Why Jupyter?\n",
    "\n",
    "Just try it, and you'll see! The [gallery above](goo.gl/Lb7HQc) is a great place to start.\n",
    "\n",
    " * Mixed notes, code, visualization and interaction \n",
    "   - particularly suited to math/science/computing.\n",
    " * It's open and it's flexible!\n",
    "   - It works out of the box\n",
    "   - It can be twisted, shaped and extended to fit your needs\n",
    "   - It defines an ecosystem but doesn't try to tie you to it\n",
    " * There's a large **open and active community**"
   ]
  },
  {
   "cell_type": "markdown",
   "metadata": {},
   "source": [
    "## How could we use it? Services\n",
    "\n",
    " * [nbgitpuller](https://github.com/data-8/nbgitpuller)\n",
    "   - Embed links anywhere (Ebooks, blogs, email, help menus ↑)\n",
    " * [Kernel Gateway](https://github.com/jupyter/kernel_gateway)\n",
    "   - Publish notebooks as an API\n",
    "   - A path to publishing web services"
   ]
  },
  {
   "cell_type": "markdown",
   "metadata": {
    "slideshow": {
     "slide_type": "slide"
    }
   },
   "source": [
    "## How could we use it? Python Modules\n",
    "\n",
    "  * You _could_ use the requests module to talk to the twitter API\n",
    "    - You would need to figure out the authentication parameters and process for OAuth\n",
    "    - You would have to construct arguments to the endpoints manually\n",
    "    - You would have to dig through lots of irrelevant boilerplate in your results\n",
    "  * Or you could use the [tweetpy module](http://www.tweepy.org/)\n",
    "  * There tens of thousands of modules for almost any purpose (https://pypi.python.org/pypi)\n",
    "    - `!pip install --user tweetpy`\n"
   ]
  },
  {
   "cell_type": "markdown",
   "metadata": {
    "slideshow": {
     "slide_type": "subslide"
    }
   },
   "source": [
    "```\n",
    "import tweepy\n",
    "\n",
    "auth = tweepy.OAuthHandler(consumer_key, consumer_secret)\n",
    "auth.set_access_token(access_token, access_token_secret)\n",
    "\n",
    "api = tweepy.API(auth)\n",
    "\n",
    "public_tweets = api.home_timeline()\n",
    "for tweet in public_tweets:\n",
    "    print tweet.text\n",
    "```"
   ]
  },
  {
   "cell_type": "markdown",
   "metadata": {
    "slideshow": {
     "slide_type": "subslide"
    }
   },
   "source": [
    "# Python Modules - continued\n",
    "\n",
    "If you can't find a module that does what you want, you can write one!\n",
    "\n",
    "  * [A minimal Python module demo](http://python-packaging.readthedocs.io/en/latest/minimal.html)\n",
    "  * [mobilechelonian](https://github.com/takluyver/mobilechelonian)\n",
    "  * e.g. You could write a calculus module to teach students limits\n",
    "    - (or you could try the [sympy](http://docs.sympy.org/latest/tutorial/calculus.html) module"
   ]
  },
  {
   "cell_type": "markdown",
   "metadata": {
    "slideshow": {
     "slide_type": "subslide"
    }
   },
   "source": [
    "## Python Modules - example\n",
    "\n",
    "* [cs103](https://pypi.python.org/pypi/cs103) written by UBC\n",
    "```\n",
    "from cs103 import draw, circle\n",
    "draw(circle(100, 'solid', 'red'))\n",
    "```"
   ]
  },
  {
   "cell_type": "markdown",
   "metadata": {
    "slideshow": {
     "slide_type": "slide"
    }
   },
   "source": [
    "# JupyterLab\n",
    "\n",
    "This is the new shiny interface for working inside jupyter.\n",
    "\n",
    "* Improved access to all of the tools\n",
    "  - notebooks, terminals become movable tabs\n",
    "  - file browser is much easier to use\n",
    "  - integrations (e.g. git, Google drive) being developed"
   ]
  },
  {
   "cell_type": "markdown",
   "metadata": {
    "slideshow": {
     "slide_type": "slide"
    }
   },
   "source": [
    "<div style=\"display: block; margin-left:auto;\"><img src=\"./jlab-ss.png\" style=\"display: block; margin-left:auto;margin-right:auto;\" width=\"500px\" /></div>\n",
    "\n",
    "* [Try it out](https://ganymede.syzygy.ca/jupyter/user-redirect/lab)\n",
    "\n",
    "Don't worry, notebooks are still the main unit of computation, JupyterLab just makes using them easier."
   ]
  },
  {
   "cell_type": "markdown",
   "metadata": {
    "slideshow": {
     "slide_type": "slide"
    }
   },
   "source": [
    "# Part 2: Behind the Curtain\n",
    "\n",
    "The slides beyond this point describe some of the technical details of how we're intending to do this for thousands of students. They're important, but in keeping with the module/encapsulation theme, most of the people here should (figuratively) be able to say\n",
    "\n",
    "```\n",
    "import <OUR PROJECT NAME GOES HERE!>\n",
    "```\n",
    "\n",
    "and forget about it! "
   ]
  },
  {
   "cell_type": "markdown",
   "metadata": {
    "slideshow": {
     "slide_type": "slide"
    }
   },
   "source": [
    "<div style=\"text-align:center;\"><img src=\"./vm-overview.png\" width=\"800px\" /></div>"
   ]
  },
  {
   "cell_type": "markdown",
   "metadata": {
    "slideshow": {
     "slide_type": "slide"
    }
   },
   "source": [
    "# [cybera.syzygy.ca](https://cybera.syzygy.ca)\n",
    "\n",
    "cybera.syzygy.ca has seen around 700 users since it started up (~1yr). It typically sees around ~10-60 users active at any one time.\n",
    "\n",
    "  * c8m32 flavour (8 VCPU/32GB)\n",
    "  * 2 Data volumes\n",
    "    * HOME - 100GB ZFS based\n",
    "    * DOCKER - 100GB LVM2 Devicemapper based\n",
    "\n",
    "That's it. A single virtual machine running inside the [Cybera Rapid Access Cloud](https://www.cybera.ca/services/rapid-access-cloud/)."
   ]
  },
  {
   "cell_type": "markdown",
   "metadata": {
    "slideshow": {
     "slide_type": "slide"
    }
   },
   "source": [
    "# Limitations\n",
    "\n",
    "The ultimate goal is to increase the total number of **active** users. A user is considered active based on the last time the hub communicated with their web browser. After ~60mins we declare a container inactive and shut it down.\n",
    "\n",
    "Empirically, we've run into two main limitations for increasing the number of active users:\n",
    "\n",
    " * _Memory & CPU_\n",
    " * _Disk IO_\n",
    " \n",
    "Both of these are currently bound to what a single VM can satisfy. Currently we our maximum user count for a tuned VM is around 200-300 users. With local storage improvements we can reasonably expect somewhere 300-500 to be possible in a single VM. This number isn't as easy to pin down with non-local IO."
   ]
  },
  {
   "cell_type": "markdown",
   "metadata": {
    "slideshow": {
     "slide_type": "subslide"
    }
   },
   "source": [
    "## Memory and CPU - cgroups\n",
    "\n",
    "We use cgroups mechanism to manage CPU and Memory for users.\n",
    " \n",
    "  * Each new container starts with the following \n",
    "     - memlimit/memswaplimit: 2g/2g (2GB of RAM)\n",
    "     - cpuquota/cpuperiod: 100000/100000 (~1 VCPU)*\n",
    "  * This is applied to child processes in the user's session\n",
    "  * Under pressure the (VM-)kernel OOM will kill processes!\n",
    "     - This can be messy: kill hub? or the proxy?\n",
    "     - ~ tuneable (e.g. by cgroup slice or processes type)\n",
    "     \n",
    "\\* _N.B. CPU scheduling is tricky, these numbers refer to arbitraty scheduling periods and set bounds on scheduling priority under load_"
   ]
  },
  {
   "cell_type": "markdown",
   "metadata": {
    "slideshow": {
     "slide_type": "subslide"
    }
   },
   "source": [
    "## Disk IO    \n",
    "   - Home (mapped through to containers as volumes)\n",
    "     - 1GB default storage quotas are enforced by ZFS\n",
    "     - _rarely_ we are asked to increase a quota for someone\n",
    "     - IO patterns are typlical for home dir usage\n",
    "     - BUT! quirks can cause issues with load (min_arc_size)\n",
    "   - Docker (container images and ephemeral storage)\n",
    "     - IO takes a whacking at initialization\n",
    "     - Gold standard is local (SSD or NVMe)\n",
    "     - Transitioning to Overlay2"
   ]
  },
  {
   "cell_type": "markdown",
   "metadata": {
    "slideshow": {
     "slide_type": "slide"
    }
   },
   "source": [
    "# Scaling\n",
    "\n",
    "All of our current ideas for scaling boil down to horizontally scaling the containers: Sooner or later you will run out of space on a single VM. The obvious solution is to use more than one! But that means\n",
    "\n",
    "  * Distributed filesystems (e.g. gluster)\n",
    "    - _must support quotas_\n",
    "    - _must be performant_\n",
    "  * More complicated networking (e.g. Calico)\n",
    "\n",
    "Main options: **Kubernetes**, Docker Swarm, OpenStack Containers."
   ]
  },
  {
   "cell_type": "markdown",
   "metadata": {
    "slideshow": {
     "slide_type": "subslide"
    }
   },
   "source": [
    "## [Kubernetes](https://kubernetes.io)\n",
    "\n",
    "google project to automate deployment, scaling and management of containerized applications.\n",
    "\n",
    "  * Early leader - used with JupyterHub by [data-8/UC Berkeley](http://data8.org/)\n",
    "  * Containers become \"pods\" and kubernetes manages scheduling\n",
    "  * k8s cluster of docker engines (1 per) + networking glue\n",
    "  * Spawner talks to kubernetes:\n",
    "    - spawn pod somewhere inside cluster\n",
    "    - return internal address to jupyterhub\n",
    "\n",
    "Kubernetes can be complicated to set up (mostly the networking), but is \"battle tested\". Definitely the winner in terms of current mind share."
   ]
  },
  {
   "cell_type": "markdown",
   "metadata": {
    "slideshow": {
     "slide_type": "subslide"
    }
   },
   "source": [
    "<div style=\"display: block; margin-left:auto;\"><img src=\"./kubernetes_overview.png\" style=\"display: block; margin-left:auto;margin-right:auto;\" width=\"800px\" /></div>"
   ]
  },
  {
   "cell_type": "markdown",
   "metadata": {
    "slideshow": {
     "slide_type": "subslide"
    }
   },
   "source": [
    "## Kubernetes:  Our current deployment\n",
    "\n",
    "We've started experimenting already. \n",
    "\n",
    "* 3 nodes deployed on openstack via terraform\n",
    "* Kubernetes cluster (2\\*master/nodes + 1\\*nodeonly) \n",
    "* Glusterfs for backing storage\n",
    "* Calico (BGP) networking\n",
    "* [JupyterHub Helm chart](http://zero-to-jupyterhub.readthedocs.io/en/v0.5-doc/) install partially complete (service creation isn't quite working yet)"
   ]
  },
  {
   "cell_type": "markdown",
   "metadata": {
    "slideshow": {
     "slide_type": "subslide"
    }
   },
   "source": [
    "```\n",
    " kubectl get pods --all-namespaces=true\n",
    "NAMESPACE     NAME                                    READY     STATUS    RESTARTS   AGE\n",
    "j8s           hub-78fb688b89-gh96q                    1/1       Running   0          49d\n",
    "j8s           proxy-5d6cbd7b97-x6wct                  2/2       Running   0          49d\n",
    "kube-system   calico-node-7kfz4                       1/1       Running   0          54d\n",
    "kube-system   calico-node-jg48d                       1/1       Running   5          54d\n",
    "kube-system   calico-node-s7dnk                       1/1       Running   0          54d\n",
    "kube-system   kube-apiserver-master1                  1/1       Running   0          54d\n",
    "kube-system   kube-apiserver-master2                  1/1       Running   0          54d\n",
    "kube-system   kube-controller-manager-master1         1/1       Running   2          54d\n",
    "kube-system   kube-controller-manager-master2         1/1       Running   3          54d\n",
    "kube-system   kube-dns-cf9d8c47-fxx4r                 3/3       Running   0          54d\n",
    "kube-system   kube-dns-cf9d8c47-z2rph                 3/3       Running   0          54d\n",
    "kube-system   kube-proxy-master1                      1/1       Running   0          54d\n",
    "kube-system   kube-proxy-master2                      1/1       Running   0          54d\n",
    "kube-system   kube-proxy-node1                        1/1       Running   0          54d\n",
    "kube-system   kube-scheduler-master1                  1/1       Running   4          54d\n",
    "kube-system   kube-scheduler-master2                  1/1       Running   4          54d\n",
    "kube-system   kubedns-autoscaler-86c47697df-bw4nz     1/1       Running   0          54d\n",
    "kube-system   kubernetes-dashboard-85d88b455f-4llhj   1/1       Running   0          54d\n",
    "kube-system   nginx-proxy-node1                       1/1       Running   0          54d\n",
    "kube-system   tiller-deploy-546cf9696c-vslvl          1/1       Running   0          54d\n",
    "```"
   ]
  },
  {
   "cell_type": "markdown",
   "metadata": {
    "slideshow": {
     "slide_type": "subslide"
    }
   },
   "source": [
    "## Docker Swarm\n",
    "\n",
    "[Docker swarm](https://docs.docker.com/engine/swarm/) is the \"native\" docker solution\n",
    "\n",
    "  * Swarm mode is already a running mode in docker installs\n",
    "  * Used to be prohibitively complicated, but some roles (e.g. k-v nodes) have been absorbed\n",
    "  * Basically the docker engine component itself is spanning mutliple virtual machines\n",
    "  * Spawning should be simpler - it's just like the docker we're already doing!\n",
    "\n",
    "We investigated this a while back and got bogged down setting up required services. At the time there were also fewer distributed filesystem options (this seems to be changing now). **This is plan B.**"
   ]
  },
  {
   "cell_type": "markdown",
   "metadata": {
    "slideshow": {
     "slide_type": "subslide"
    }
   },
   "source": [
    "## Docker Swarm\n",
    "<div style=\"display: block; margin-left:auto;\"><img src=\"./swarm-diagram.png\" style=\"display: block; margin-left:auto;margin-right:auto;\" width=\"800px\" /></div>"
   ]
  },
  {
   "cell_type": "markdown",
   "metadata": {
    "slideshow": {
     "slide_type": "subslide"
    }
   },
   "source": [
    "## Native OpenStack Containers\n",
    "\n",
    "In principal we can run containers directly on OpenStack just like we run VMs.\n",
    "\n",
    "  * OpenStack can run containers natively via Magnum\n",
    "  * Would need us to write a new spawner to talk to the Magnum API\n",
    "  * _Has anyone actually experimented with this?_\n",
    "  \n",
    "**Caveat: This isn't something I've looked at all yet.**\n"
   ]
  },
  {
   "cell_type": "markdown",
   "metadata": {
    "slideshow": {
     "slide_type": "slide"
    }
   },
   "source": [
    "# End"
   ]
  }
 ],
 "metadata": {
  "celltoolbar": "Slideshow",
  "kernelspec": {
   "display_name": "Python 3",
   "language": "python",
   "name": "python3"
  },
  "language_info": {
   "codemirror_mode": {
    "name": "ipython",
    "version": 3
   },
   "file_extension": ".py",
   "mimetype": "text/x-python",
   "name": "python",
   "nbconvert_exporter": "python",
   "pygments_lexer": "ipython3",
   "version": "3.6.3"
  }
 },
 "nbformat": 4,
 "nbformat_minor": 2
}
