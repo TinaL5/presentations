{
 "cells": [
  {
   "cell_type": "code",
   "execution_count": null,
   "metadata": {
    "slideshow": {
     "slide_type": "skip"
    }
   },
   "outputs": [],
   "source": [
    "# load and visualize the data\n",
    "from pandas import read_csv\n",
    "from sklearn import datasets\n",
    "import pandas as pd\n",
    "import seaborn as sns\n",
    "from pandas.plotting import scatter_matrix\n",
    "# machine learning\n",
    "from sklearn.model_selection import train_test_split\n",
    "# compare algorithms\n",
    "from sklearn.svm import SVC\n",
    "# Evaluate model\n",
    "from sklearn.metrics import accuracy_score\n",
    "from sklearn.metrics import confusion_matrix\n",
    "from sklearn.metrics import classification_report\n",
    "from sklearn.metrics import plot_confusion_matrix\n",
    "from sklearn import svm, datasets\n",
    "import matplotlib.pyplot as plt"
   ]
  },
  {
   "cell_type": "code",
   "execution_count": null,
   "metadata": {
    "slideshow": {
     "slide_type": "skip"
    }
   },
   "outputs": [],
   "source": [
    "# Load dataset\n",
    "iris = datasets.load_iris()\n",
    "X = iris.data\n",
    "y = iris.target\n",
    "df = pd.DataFrame(X, columns = iris.feature_names)\n",
    "df['y'] = y\n",
    "\n",
    "df['y'].replace({0:\"Individual sport\",\n",
    "           1: \"No sport\",\n",
    "           2: \"Team sport\"},inplace=True)\n",
    "\n",
    "df.rename(columns={\"sepal length (cm)\":\"Strength\",\n",
    "                   \"sepal width (cm)\": \"Speed\",\n",
    "                   \"petal length (cm)\": \"TeamInclination\",\n",
    "                   \"petal width (cm)\": \"Height\",\n",
    "                   \"y\":\"SelectedSport\"}, inplace= True)\n",
    "\n",
    "df['Height'] -= 1.5\n",
    "df['Height'] *= 10\n",
    "df['Height'] += 180"
   ]
  },
  {
   "cell_type": "markdown",
   "metadata": {
    "slideshow": {
     "slide_type": "skip"
    }
   },
   "source": [
    "## To use this slideshow:\n",
    "- Run All, using the menu item: Kernel/Restart & Run All\n",
    "- Return to this top cell\n",
    "- click on \"Slideshow\" menu item above, that looks like this:\n",
    "![](images/SlideIcon.png)"
   ]
  },
  {
   "cell_type": "markdown",
   "metadata": {
    "slideshow": {
     "slide_type": "slide"
    }
   },
   "source": [
    "![Callysto.ca Banner](https://github.com/callysto/curriculum-notebooks/blob/master/callysto-notebook-banner-top.jpg?raw=true)\n",
    "\n",
    "<h1 align='center'>The Importance of Ethics in AI</h1>\n",
    "\n",
    "<h3 align='center'> Zachary Shand, Laura G Funderburk, Byron Chu</h3>\n",
    "\n",
    "![Callysto.ca License](https://github.com/callysto/curriculum-notebooks/blob/master/callysto-notebook-banner-bottom.jpg?raw=true)"
   ]
  },
  {
   "cell_type": "markdown",
   "metadata": {
    "slideshow": {
     "slide_type": "slide"
    }
   },
   "source": [
    "<h2 align='center'>Workshop at a glance</h2>\n",
    "\n",
    "1. Introductions. \n",
    "2. The Callysto program.\n",
    "2. What is data? What is data science? What is artificial intelligence (AI)?\n",
    "3. Motivating the importance of ethics in AI. \n",
    "4. Working example: individual sport, team sport, or no sport?\n",
    "\n",
    "    \n",
    "    "
   ]
  },
  {
   "cell_type": "markdown",
   "metadata": {
    "slideshow": {
     "slide_type": "slide"
    }
   },
   "source": [
    "<h2 align='center'> About the Callysto Program</h2>\n",
    "\n",
    "- Provide open educational infrastructure and learning resources\n",
    "- Focus on making computational thinking and data science/literacy available\n",
    "- Use Jupyter notebooks as main platform\n",
    "- Host teacher and student training workshops\n",
    "\n",
    "<h3 align='center'>Brought to you by</h3>\n",
    "\n",
    "\n",
    "| | | |\n",
    "|-|-|-|\n",
    "|<img src=\"./images/Cybera_Logo_RBG_Colour.png\" alt=\"Drawing\" width=\"400\"/>|<img src=\"./images/PIMS_Logos_Web_PIMS_Logo_Colour.png\" alt=\"Drawing\" width=\"400\"/>| <img src=\"./images/With_Funding_Canada_Wordmark-colour_BIL-EN.png\" alt=\"Drawing\" width=\"400\"/>|"
   ]
  },
  {
   "cell_type": "markdown",
   "metadata": {
    "slideshow": {
     "slide_type": "slide"
    }
   },
   "source": [
    "<h2 align='center'>What is a Jupyter notebook?</h2>\n",
    "\n",
    "A Jupyter notebook is an online document that can include both text and (Python) code in different “cells” or parts of the document.\n",
    "\n",
    "These documents run on Callysto Hub as well as Google Colab, IBM Watson Studio, and other places.\n",
    "\n",
    "\n",
    "This presentation is a Jupyter notebook!"
   ]
  },
  {
   "cell_type": "markdown",
   "metadata": {
    "slideshow": {
     "slide_type": "subslide"
    }
   },
   "source": [
    "<h2 align='center'>Example: Collecting data on people's preferred season</h2>\n"
   ]
  },
  {
   "cell_type": "code",
   "execution_count": null,
   "metadata": {
    "slideshow": {
     "slide_type": "fragment"
    }
   },
   "outputs": [],
   "source": [
    "# Collect data\n",
    "total_participants = 17\n",
    "prefer_spring = 2\n",
    "prefer_summer = 1\n",
    "prefer_fall = 10\n",
    "prefer_winter = 2\n",
    "no_answer = total_participants - (prefer_spring + prefer_summer + prefer_fall + prefer_winter)"
   ]
  },
  {
   "cell_type": "code",
   "execution_count": null,
   "metadata": {
    "slideshow": {
     "slide_type": "fragment"
    }
   },
   "outputs": [],
   "source": [
    "import pandas as pd\n",
    "answer = {\"Season\": [\"Spring\", \"Summer\", \"Fall\", \"Winter\", \"No answer\"],\n",
    "           \"Count\": [prefer_spring, prefer_summer, prefer_fall, prefer_winter, no_answer]}\n",
    "\n",
    "answer_table = pd.DataFrame(answer)\n",
    "answer_table"
   ]
  },
  {
   "cell_type": "markdown",
   "metadata": {
    "slideshow": {
     "slide_type": "subslide"
    }
   },
   "source": [
    "<h2 align='center'>Example: Visualizing data</h2>"
   ]
  },
  {
   "cell_type": "code",
   "execution_count": null,
   "metadata": {
    "slideshow": {
     "slide_type": "fragment"
    }
   },
   "outputs": [],
   "source": [
    "import seaborn as sns\n",
    "import matplotlib.pyplot as plt\n",
    "sns.barplot(x = answer_table[\"Season\"], y =  answer_table['Count'])\n",
    "plt.title(\"Frequency of season preference\")\n",
    "plt.ylabel(\"Count\")\n",
    "plt.xlabel(\"Season\")\n",
    "plt.show()"
   ]
  },
  {
   "cell_type": "markdown",
   "metadata": {
    "slideshow": {
     "slide_type": "slide"
    }
   },
   "source": [
    "<h2 align='center'>What is Data?</h2>\n",
    "\n",
    "<center><img src=\"https://img2.pngio.com/download-free-png-19-data-graph-icon-packs-vector-icon-packs-data-graph-png-600_564.png\" width=\"400\"></center>"
   ]
  },
  {
   "cell_type": "markdown",
   "metadata": {
    "slideshow": {
     "slide_type": "slide"
    }
   },
   "source": [
    "<h2 align='center'>What is Data Science?</h2>\n",
    "\n",
    "Data science involves <b>obtaining</b> and <b>communicating</b> information from (usually large) sets of observations.\n",
    "\n",
    "\n",
    "| |\n",
    "|-|\n",
    "| <img src=\"./images/what-is-data-science-workflow.jpg\" alt=\"Drawing\" width=\"800\"/> |\n",
    "\n"
   ]
  },
  {
   "cell_type": "markdown",
   "metadata": {
    "slideshow": {
     "slide_type": "slide"
    }
   },
   "source": [
    "<h2 align='center'>What is Machine Learning?</h2>\n",
    "\n",
    "\n",
    "Machine Learning (ML) algorithms are programs that improve, or “learn”, through exposure to data/experience.\n",
    "\n",
    "ML is based on the idea that machines should be able to learn and adapt through experience. "
   ]
  },
  {
   "cell_type": "markdown",
   "metadata": {
    "slideshow": {
     "slide_type": "slide"
    }
   },
   "source": [
    "<h2 align='center'>What is Artificial Intelligence?</h2>\n",
    "\n",
    "Artificial Intelligence (AI) is a blanket term describing all efforts to make computer “think”.\n",
    "\n",
    "\n",
    "AI refers to a broader idea where machines can execute tasks \"smartly.\"\n"
   ]
  },
  {
   "cell_type": "markdown",
   "metadata": {
    "slideshow": {
     "slide_type": "slide"
    }
   },
   "source": [
    "<h2 align='center'>Motivating the role of ethics in AI</h2>\n",
    "\n",
    "\n",
    "* Increase in the use of artificial intelligence in our everyday lives.\n",
    "\n",
    "    1. ML algorithms that screen resumes for job postings, to assign credit scores\n",
    "    2. Robotics (self driving cars)\n",
    "    3. YouTube algorithms to suggest content\n",
    "    \n"
   ]
  },
  {
   "cell_type": "markdown",
   "metadata": {
    "slideshow": {
     "slide_type": "subslide"
    }
   },
   "source": [
    "<h2 align='center'>Motivating the role of ethics in AI</h2>\n",
    "\n",
    "    \n",
    "* Using AI to make decisions impacting lives, or access to resources.\n",
    "\n",
    "    1. Determine who gets into university.\n",
    "    2. Determine the outcome of a criminal case.\n",
    "    3. Use online metadata to determine and predict behaviour."
   ]
  },
  {
   "cell_type": "markdown",
   "metadata": {
    "slideshow": {
     "slide_type": "slide"
    }
   },
   "source": [
    "<h2 align='center'> What are the potential impacts on education and society, and how do we talk to students about all of this? </h2>\n",
    "\n",
    "- What are the consequences of wrong assignments via a ML-based outcome?\n",
    "\n",
    "- How do we mitigate and minimize erros?\n",
    "\n",
    "- How do we measure errors and limitations? \n",
    "\n",
    "Predictions will be made based on training data that is provided.\n",
    "\n",
    "$\\Rightarrow$ bias in training data increases probability for bias in predicted outcome. \n"
   ]
  },
  {
   "cell_type": "markdown",
   "metadata": {
    "slideshow": {
     "slide_type": "slide"
    }
   },
   "source": [
    "<h2 align='center'>Real examples</h2>\n",
    "\n",
    "Amazon ditches AI recruiting tool that didn’t like women (Reuters) [link](https://www.reuters.com/article/us-amazon-com-jobs-automation-insight-idUSKCN1MK08G)\n",
    "\n",
    "\n",
    "Can Racist Algorithms Be Fixed? (The Marshall Project) [link](https://www.themarshallproject.org/2019/07/01/can-racist-algorithms-be-fixed)\n",
    "\n",
    "\n",
    "Black and Asian faces misidentified more often by facial recognition software (CBC) [link](https://www.cbc.ca/news/technology/facial-recognition-race-1.5403899)\n",
    "\n",
    "\n",
    "UK ditches exam results generated by biased algorithm after student protests (The Verge) [link](https://www.theverge.com/2020/8/17/21372045/uk-a-level-results-algorithm-biased-coronavirus-covid-19-pandemic-university-applications)"
   ]
  },
  {
   "cell_type": "markdown",
   "metadata": {
    "slideshow": {
     "slide_type": "slide"
    }
   },
   "source": [
    "<h2 align='center'>Example: individual vs team sport assignment</h2>\n",
    "\n",
    "Data has been collected from 150 students (all 18 years old) in three groups: \n",
    "\n",
    "1. 50 students excelled in team sports (football, basketball, hockey)\n",
    "\n",
    "2. 50 students excelled in individual sports (swimming, cycling, snowboarding)\n",
    "\n",
    "3. 50 students did not excel in any sports.\n",
    "\n",
    "This data set is hypothetical."
   ]
  },
  {
   "cell_type": "markdown",
   "metadata": {
    "slideshow": {
     "slide_type": "subslide"
    }
   },
   "source": [
    "The students were scored by the same coach in the same school. The following parameters were collected.\n",
    "\n",
    "1. Team work skills (coach score)\n",
    "\n",
    "2. Speed (coach score)\n",
    "\n",
    "3. Strength (coach score)\n",
    "\n",
    "4. Height (measurement)\n",
    "\n",
    "<h4 align='center'>Goal: given new data from students, use an algorithm that will recommend whether the student should pick individual sports, team sports or no sports.</h4>"
   ]
  },
  {
   "cell_type": "markdown",
   "metadata": {
    "slideshow": {
     "slide_type": "subslide"
    }
   },
   "source": [
    "<h2 align='center'>Discussion: Identifying pitfalls early</h2>\n",
    "\n",
    "What problems can you identify in this problem statement? \n"
   ]
  },
  {
   "cell_type": "markdown",
   "metadata": {
    "slideshow": {
     "slide_type": "subslide"
    }
   },
   "source": [
    "<h2 align='center'>Discussion: Identifying pitfalls early</h2>\n",
    "\n",
    "What biases in the data can you identify?\n"
   ]
  },
  {
   "cell_type": "markdown",
   "metadata": {
    "slideshow": {
     "slide_type": "subslide"
    }
   },
   "source": [
    "<h2 align='center'>Discussion: Identifying pitfalls early</h2>\n",
    "\n",
    "\n",
    "What are the consequences of those biases when the algorithm is in action? \n",
    "\n",
    "Who is left out of activities, who is included in activities?"
   ]
  },
  {
   "cell_type": "markdown",
   "metadata": {
    "slideshow": {
     "slide_type": "slide"
    }
   },
   "source": [
    "<h2 align='center'> Machine learning technique </h2>\n",
    "\n",
    "Split data set into training and testing data.\n",
    "\n",
    "We will provide random data points for the algorithm to \"learn\" (training set). \n",
    "\n",
    "We will test how well the model does by providing the testing set to the algorithm after it trains. \n"
   ]
  },
  {
   "cell_type": "markdown",
   "metadata": {
    "slideshow": {
     "slide_type": "subslide"
    }
   },
   "source": [
    "<h2 align='center'>Training the model with data</h2>\n",
    "\n",
    "* Determine the <b>independent</b> and <b>dependent</b> variables.\n",
    "\n",
    "* Split data into two sets: \n",
    "\n",
    "    1. <b>Training set.</b>\n",
    "\n",
    "    2. <b>Testing set.</b>\n",
    "\n",
    "* Compare the <b>predictions</b> against the <b>true results</b>, evaluate false positives and false negatives."
   ]
  },
  {
   "cell_type": "code",
   "execution_count": null,
   "metadata": {
    "slideshow": {
     "slide_type": "subslide"
    }
   },
   "outputs": [],
   "source": [
    "array = df.values\n",
    "# All measurements\n",
    "X = array[:,0:4]\n",
    "# All classes\n",
    "y = array[:,4]\n",
    "# Split-out validation dataset\n",
    "X_train, X_validation, Y_train, Y_validation = train_test_split(X, y,  \n",
    "                                                                test_size=0.20, \n",
    "                                                                random_state=1, \n",
    "                                                                shuffle=True)"
   ]
  },
  {
   "cell_type": "markdown",
   "metadata": {
    "slideshow": {
     "slide_type": "fragment"
    }
   },
   "source": [
    "We will use Support Vector Machines (SVM) - a type of algorithm exploring non-linear relationships."
   ]
  },
  {
   "cell_type": "code",
   "execution_count": null,
   "metadata": {
    "slideshow": {
     "slide_type": "fragment"
    }
   },
   "outputs": [],
   "source": [
    "# Make predictions on validation dataset\n",
    "model = SVC(gamma='auto') \n",
    "model.fit(X_train, Y_train)\n",
    "predictions = model.predict(X_validation)"
   ]
  },
  {
   "cell_type": "code",
   "execution_count": null,
   "metadata": {
    "slideshow": {
     "slide_type": "fragment"
    }
   },
   "outputs": [],
   "source": [
    "print(accuracy_score(Y_validation, predictions))"
   ]
  },
  {
   "cell_type": "markdown",
   "metadata": {
    "slideshow": {
     "slide_type": "fragment"
    }
   },
   "source": [
    "We can see that the accuracy is 0.966 or about 96% on the hold out dataset."
   ]
  },
  {
   "cell_type": "code",
   "execution_count": null,
   "metadata": {
    "slideshow": {
     "slide_type": "skip"
    }
   },
   "outputs": [],
   "source": [
    "print(classification_report(Y_validation, predictions))"
   ]
  },
  {
   "cell_type": "markdown",
   "metadata": {
    "slideshow": {
     "slide_type": "skip"
    }
   },
   "source": [
    "The metrics are calculated by using true and false positives, true and false negatives.\n",
    "\n"
   ]
  },
  {
   "cell_type": "markdown",
   "metadata": {
    "slideshow": {
     "slide_type": "skip"
    }
   },
   "source": [
    "Precision is the ability of a classifier not to label an instance positive that is actually negative."
   ]
  },
  {
   "cell_type": "markdown",
   "metadata": {
    "slideshow": {
     "slide_type": "skip"
    }
   },
   "source": [
    "Recall is the ability of a classifier to find all positive instances. For each class, it is the ratio of true positives to the sum of true positives and false negatives."
   ]
  },
  {
   "cell_type": "markdown",
   "metadata": {
    "slideshow": {
     "slide_type": "skip"
    }
   },
   "source": [
    "F1-score is the average of precision and recall, where each of the two measurements are given equal weight. 1.0 is the best score, 0.0 is the worst score. "
   ]
  },
  {
   "cell_type": "markdown",
   "metadata": {
    "slideshow": {
     "slide_type": "skip"
    }
   },
   "source": [
    "The support is the number of samples of the true response that lie in that class."
   ]
  },
  {
   "cell_type": "markdown",
   "metadata": {
    "slideshow": {
     "slide_type": "skip"
    }
   },
   "source": [
    " The diagonal elements represent the number of points for which the predicted label is equal to the true label, while off-diagonal elements are those that are mislabeled by the classifier. "
   ]
  },
  {
   "cell_type": "markdown",
   "metadata": {
    "slideshow": {
     "slide_type": "slide"
    }
   },
   "source": [
    "<h2 align='center'>Application Results</h2>"
   ]
  },
  {
   "cell_type": "markdown",
   "metadata": {
    "slideshow": {
     "slide_type": "subslide"
    }
   },
   "source": [
    "* Used at school, 75% of female studensts calssified as \"No Sport\"\n",
    "\n",
    "* Data has been collected from 150 **male** students (all **18 years old**) in **three sports**:\n",
    "\n",
    "* How can we address?"
   ]
  },
  {
   "cell_type": "markdown",
   "metadata": {
    "slideshow": {
     "slide_type": "slide"
    }
   },
   "source": [
    "<h2 align='center'>Process</h2>\n",
    "\n",
    "1. Get familiar with the data (table, summary statistics, plots)\n",
    "\n",
    "2. Training the model with data\n",
    "\n",
    "3. Evaluate model accuracy\n",
    "\n",
    "4. Report findings"
   ]
  },
  {
   "cell_type": "markdown",
   "metadata": {
    "slideshow": {
     "slide_type": "slide"
    }
   },
   "source": [
    "<h2 align='center'>Manage & Clean Data</h2>"
   ]
  },
  {
   "cell_type": "code",
   "execution_count": null,
   "metadata": {
    "slideshow": {
     "slide_type": "fragment"
    }
   },
   "outputs": [],
   "source": [
    "df.sample(10)"
   ]
  },
  {
   "cell_type": "code",
   "execution_count": null,
   "metadata": {
    "slideshow": {
     "slide_type": "subslide"
    }
   },
   "outputs": [],
   "source": [
    "df['SelectedSport'].unique()"
   ]
  },
  {
   "cell_type": "markdown",
   "metadata": {
    "slideshow": {
     "slide_type": "slide"
    }
   },
   "source": [
    "<h2 align='center'>Exploratory analysis</h2>"
   ]
  },
  {
   "cell_type": "markdown",
   "metadata": {
    "slideshow": {
     "slide_type": "fragment"
    }
   },
   "source": [
    "<h3 align='center'>Getting summary stats for all students</h3>"
   ]
  },
  {
   "cell_type": "code",
   "execution_count": null,
   "metadata": {
    "slideshow": {
     "slide_type": "fragment"
    }
   },
   "outputs": [],
   "source": [
    "#df\n",
    "df.describe()"
   ]
  },
  {
   "cell_type": "markdown",
   "metadata": {
    "slideshow": {
     "slide_type": "subslide"
    }
   },
   "source": [
    "<h3 align='center'> Getting summary stats for specific activities</h3>"
   ]
  },
  {
   "cell_type": "code",
   "execution_count": null,
   "metadata": {
    "slideshow": {
     "slide_type": "fragment"
    }
   },
   "outputs": [],
   "source": [
    "individual = df[df['SelectedSport']=='Individual sport']\n",
    "no_sport = df[df['SelectedSport']=='No sport']\n",
    "team_sport = df[df['SelectedSport']=='Team sport']\n",
    "\n",
    "\n",
    "team_sport.describe()"
   ]
  },
  {
   "cell_type": "markdown",
   "metadata": {
    "slideshow": {
     "slide_type": "slide"
    }
   },
   "source": [
    "<h3 align='center'>Generating visualization from summary stats</h3>"
   ]
  },
  {
   "cell_type": "code",
   "execution_count": null,
   "metadata": {
    "slideshow": {
     "slide_type": "skip"
    }
   },
   "outputs": [],
   "source": [
    "import ipywidgets as widgets\n",
    "from IPython.display import display\n",
    "dropdowna = widgets.Dropdown(\n",
    "    options=['Strength', 'Speed', 'TeamInclination','Height'],\n",
    "    value='Strength',\n",
    "    description='Item:',\n",
    "    disabled=False,\n",
    ")"
   ]
  },
  {
   "cell_type": "code",
   "execution_count": null,
   "metadata": {},
   "outputs": [],
   "source": [
    "df"
   ]
  },
  {
   "cell_type": "markdown",
   "metadata": {
    "slideshow": {
     "slide_type": "slide"
    }
   },
   "source": [
    "<h3 align='center'> Generating distribution visualization </h3>"
   ]
  },
  {
   "cell_type": "code",
   "execution_count": null,
   "metadata": {
    "slideshow": {
     "slide_type": "subslide"
    }
   },
   "outputs": [],
   "source": [
    "fig, axs = plt.subplots(1,4)\n",
    "fig.set_size_inches(18,6)\n",
    "for col, ax in zip( df.columns[0:4], axs):\n",
    "    sns.boxplot(x='SelectedSport', y=col, data=df, ax=ax)"
   ]
  },
  {
   "cell_type": "markdown",
   "metadata": {
    "slideshow": {
     "slide_type": "slide"
    }
   },
   "source": [
    "<h2 align='center'>Insights</h2>\n",
    "\n",
    "| Activity | Team affinity | Speed | Strength | Height|\n",
    "| -    | -          | -     | -        | -     |\n",
    "|Independent sport|Lowest |Highest  | Lowest | Lowest |\n",
    "|No sport|Medium|Lowest|  Medium| Medium |\n",
    "|Team sport|Highest|Medium| Highest| Highest |\n"
   ]
  },
  {
   "cell_type": "markdown",
   "metadata": {
    "slideshow": {
     "slide_type": "slide"
    }
   },
   "source": [
    "<h2 align='center'>Were These the Right Variables?</h2>\n",
    "\n",
    "Independent variables (or variables we use to predict):\n",
    "\n",
    "1. Team affinity\n",
    "2. Speed\n",
    "3. Strength\n",
    "4. Height\n",
    "\n",
    "Dependent variable (or the variable we want to predict):\n",
    "\n",
    "Type of activity"
   ]
  },
  {
   "cell_type": "markdown",
   "metadata": {
    "slideshow": {
     "slide_type": "slide"
    }
   },
   "source": [
    "<h2 align='center'> What can we do? </h2>\n",
    "\n",
    "- Work towards addressing our own biases in the classroom and daily life\n",
    "\n",
    "- Identify how our biases play a role in our decision making\n",
    "\n",
    "- Identify how our biases affect the machines we program \n",
    "\n",
    "- Collaborate with people offering diverse points of view"
   ]
  },
  {
   "cell_type": "markdown",
   "metadata": {
    "slideshow": {
     "slide_type": "slide"
    }
   },
   "source": [
    "![Callysto.ca Banner](https://github.com/callysto/curriculum-notebooks/blob/master/callysto-notebook-banner-top.jpg?raw=true)\n",
    "\n",
    "<h2 align='center'>Getting Started with Callysto</h2>\n",
    "\n",
    "- Feedback form https://tinyurl.com/y2a3uhdt\n",
    "- Online self-paced courses (courses.callysto.ca)  \n",
    "- Preview our learning modules https://callysto.github.io/curriculum-jbook/intro.html\n",
    "- Contact us for “in-class” workshops, teacher PD, virtual hackathons, and more\n",
    "\n",
    "Email: contact@callysto.ca\n",
    "\n",
    "On Twitter: @callysto_canada\n",
    "\n",
    "Site: https://www.callysto.ca\n",
    "\n",
    "YouTube https://www.youtube.com/channel/UCPdq1SYKA42EZBvUlNQUAng "
   ]
  },
  {
   "cell_type": "markdown",
   "metadata": {
    "slideshow": {
     "slide_type": "slide"
    }
   },
   "source": [
    "<h2 align='center'> Callysto notebooks ready for you to use</h2>\n",
    "\n",
    "On our website callysto.ca you will find lesson plans, courses and learning modules that support you incorporate coding into your stats lesson. \n",
    "\n",
    "#### Objective: explore how we can use Callysto to explore machine learning in the classroom\n",
    "\n",
    "\n",
    "| |\n",
    "|-|\n",
    "|<img src=\"./images/samplenotebooks.png\" width=\"600\">|\n",
    "\n"
   ]
  },
  {
   "cell_type": "markdown",
   "metadata": {
    "slideshow": {
     "slide_type": "slide"
    }
   },
   "source": [
    "<h1 align='center'>Thank You! </h1> \n",
    "   <h2 align='center'>Session Feedback </h2>\n",
    "\n",
    "<div align='center'>\n",
    "<img src=\"./images/callysto_feedback_qr_code.png\" width=\"680\">\n",
    "<a style=\"font-size:26px\" align='center' href=https://bit.ly/callysto-feedback>https://bit.ly/callysto-feedback</a>\n",
    "</div>\n",
    "    \n",
    "<h2 align='center'>\n",
    "\n",
    "</h2>"
   ]
  },
  {
   "cell_type": "markdown",
   "metadata": {
    "slideshow": {
     "slide_type": "skip"
    }
   },
   "source": [
    "[![Callysto.ca License](https://github.com/callysto/curriculum-notebooks/blob/master/callysto-notebook-banner-bottom.jpg?raw=true)](https://github.com/callysto/curriculum-notebooks/blob/master/LICENSE.md)"
   ]
  }
 ],
 "metadata": {
  "celltoolbar": "Slideshow",
  "kernelspec": {
   "display_name": "Python 3 (ipykernel)",
   "language": "python",
   "name": "python3"
  },
  "language_info": {
   "codemirror_mode": {
    "name": "ipython",
    "version": 3
   },
   "file_extension": ".py",
   "mimetype": "text/x-python",
   "name": "python",
   "nbconvert_exporter": "python",
   "pygments_lexer": "ipython3",
   "version": "3.7.12"
  },
  "rise": {
   "autolaunch": false,
   "backimage": "Bgnd0.jpg"
  }
 },
 "nbformat": 4,
 "nbformat_minor": 4
}
